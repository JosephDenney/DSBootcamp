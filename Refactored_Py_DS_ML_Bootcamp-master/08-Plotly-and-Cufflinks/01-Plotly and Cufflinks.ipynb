{
 "cells": [
  {
   "cell_type": "markdown",
   "metadata": {},
   "source": [
    "___\n",
    "\n",
    "<a href='http://www.pieriandata.com'> <img src='../Pierian_Data_Logo.png' /></a>\n",
    "___\n",
    "# Plotly and Cufflinks"
   ]
  },
  {
   "cell_type": "markdown",
   "metadata": {},
   "source": [
    "Plotly is a library that allows you to create interactive plots that you can use in dashboards or websites (you can save them as html files or static images).\n",
    "\n",
    "## Installation\n",
    "\n",
    "In order for this all to work, you'll need to install plotly and cufflinks to call plots directly off of a pandas dataframe. These libraries are not currently available through **conda** but are available through **pip**. Install the libraries at your command line/terminal using:\n",
    "\n",
    "    pip install plotly\n",
    "    pip install cufflinks\n",
    "\n",
    "** NOTE: Make sure you only have one installation of Python on your computer when you do this, otherwise the installation may not work. **\n",
    "\n",
    "## Imports and Set-up"
   ]
  },
  {
   "cell_type": "code",
   "execution_count": 1,
   "metadata": {},
   "outputs": [],
   "source": [
    "import pandas as pd\n",
    "import numpy as np\n",
    "%matplotlib inline"
   ]
  },
  {
   "cell_type": "code",
   "execution_count": 2,
   "metadata": {},
   "outputs": [
    {
     "name": "stdout",
     "output_type": "stream",
     "text": [
      "4.11.0\n"
     ]
    }
   ],
   "source": [
    "from plotly import __version__\n",
    "from plotly.offline import download_plotlyjs, init_notebook_mode, plot, iplot\n",
    "\n",
    "print(__version__) # requires version >= 1.9.0"
   ]
  },
  {
   "cell_type": "code",
   "execution_count": 3,
   "metadata": {},
   "outputs": [],
   "source": [
    "import cufflinks as cf"
   ]
  },
  {
   "cell_type": "code",
   "execution_count": 4,
   "metadata": {},
   "outputs": [
    {
     "data": {
      "text/html": [
       "        <script type=\"text/javascript\">\n",
       "        window.PlotlyConfig = {MathJaxConfig: 'local'};\n",
       "        if (window.MathJax) {MathJax.Hub.Config({SVG: {font: \"STIX-Web\"}});}\n",
       "        if (typeof require !== 'undefined') {\n",
       "        require.undef(\"plotly\");\n",
       "        requirejs.config({\n",
       "            paths: {\n",
       "                'plotly': ['https://cdn.plot.ly/plotly-latest.min']\n",
       "            }\n",
       "        });\n",
       "        require(['plotly'], function(Plotly) {\n",
       "            window._Plotly = Plotly;\n",
       "        });\n",
       "        }\n",
       "        </script>\n",
       "        "
      ]
     },
     "metadata": {},
     "output_type": "display_data"
    }
   ],
   "source": [
    "# For Notebooks\n",
    "init_notebook_mode(connected=True)"
   ]
  },
  {
   "cell_type": "code",
   "execution_count": 5,
   "metadata": {},
   "outputs": [
    {
     "data": {
      "text/html": [
       "        <script type=\"text/javascript\">\n",
       "        window.PlotlyConfig = {MathJaxConfig: 'local'};\n",
       "        if (window.MathJax) {MathJax.Hub.Config({SVG: {font: \"STIX-Web\"}});}\n",
       "        if (typeof require !== 'undefined') {\n",
       "        require.undef(\"plotly\");\n",
       "        requirejs.config({\n",
       "            paths: {\n",
       "                'plotly': ['https://cdn.plot.ly/plotly-latest.min']\n",
       "            }\n",
       "        });\n",
       "        require(['plotly'], function(Plotly) {\n",
       "            window._Plotly = Plotly;\n",
       "        });\n",
       "        }\n",
       "        </script>\n",
       "        "
      ]
     },
     "metadata": {},
     "output_type": "display_data"
    }
   ],
   "source": [
    "# For offline use\n",
    "cf.go_offline()"
   ]
  },
  {
   "cell_type": "markdown",
   "metadata": {},
   "source": [
    "### Fake Data"
   ]
  },
  {
   "cell_type": "code",
   "execution_count": 6,
   "metadata": {},
   "outputs": [],
   "source": [
    "df = pd.DataFrame(np.random.randn(100,4),columns='A B C D'.split())"
   ]
  },
  {
   "cell_type": "code",
   "execution_count": 7,
   "metadata": {},
   "outputs": [
    {
     "data": {
      "text/html": [
       "<div>\n",
       "<style scoped>\n",
       "    .dataframe tbody tr th:only-of-type {\n",
       "        vertical-align: middle;\n",
       "    }\n",
       "\n",
       "    .dataframe tbody tr th {\n",
       "        vertical-align: top;\n",
       "    }\n",
       "\n",
       "    .dataframe thead th {\n",
       "        text-align: right;\n",
       "    }\n",
       "</style>\n",
       "<table border=\"1\" class=\"dataframe\">\n",
       "  <thead>\n",
       "    <tr style=\"text-align: right;\">\n",
       "      <th></th>\n",
       "      <th>A</th>\n",
       "      <th>B</th>\n",
       "      <th>C</th>\n",
       "      <th>D</th>\n",
       "    </tr>\n",
       "  </thead>\n",
       "  <tbody>\n",
       "    <tr>\n",
       "      <th>0</th>\n",
       "      <td>0.406123</td>\n",
       "      <td>-0.362595</td>\n",
       "      <td>0.730100</td>\n",
       "      <td>-1.391715</td>\n",
       "    </tr>\n",
       "    <tr>\n",
       "      <th>1</th>\n",
       "      <td>-0.478783</td>\n",
       "      <td>-1.267871</td>\n",
       "      <td>0.935951</td>\n",
       "      <td>-1.321397</td>\n",
       "    </tr>\n",
       "    <tr>\n",
       "      <th>2</th>\n",
       "      <td>-0.544718</td>\n",
       "      <td>-1.009146</td>\n",
       "      <td>-0.467729</td>\n",
       "      <td>-1.027181</td>\n",
       "    </tr>\n",
       "    <tr>\n",
       "      <th>3</th>\n",
       "      <td>-0.204847</td>\n",
       "      <td>-1.011059</td>\n",
       "      <td>0.165622</td>\n",
       "      <td>0.996223</td>\n",
       "    </tr>\n",
       "    <tr>\n",
       "      <th>4</th>\n",
       "      <td>-0.777211</td>\n",
       "      <td>2.076251</td>\n",
       "      <td>0.974906</td>\n",
       "      <td>1.222640</td>\n",
       "    </tr>\n",
       "  </tbody>\n",
       "</table>\n",
       "</div>"
      ],
      "text/plain": [
       "          A         B         C         D\n",
       "0  0.406123 -0.362595  0.730100 -1.391715\n",
       "1 -0.478783 -1.267871  0.935951 -1.321397\n",
       "2 -0.544718 -1.009146 -0.467729 -1.027181\n",
       "3 -0.204847 -1.011059  0.165622  0.996223\n",
       "4 -0.777211  2.076251  0.974906  1.222640"
      ]
     },
     "execution_count": 7,
     "metadata": {},
     "output_type": "execute_result"
    }
   ],
   "source": [
    "df.head()"
   ]
  },
  {
   "cell_type": "code",
   "execution_count": 8,
   "metadata": {},
   "outputs": [],
   "source": [
    "df2 = pd.DataFrame({'Category':['A','B','C'],'Values':[32,43,50]})"
   ]
  },
  {
   "cell_type": "code",
   "execution_count": 9,
   "metadata": {},
   "outputs": [
    {
     "data": {
      "text/html": [
       "<div>\n",
       "<style scoped>\n",
       "    .dataframe tbody tr th:only-of-type {\n",
       "        vertical-align: middle;\n",
       "    }\n",
       "\n",
       "    .dataframe tbody tr th {\n",
       "        vertical-align: top;\n",
       "    }\n",
       "\n",
       "    .dataframe thead th {\n",
       "        text-align: right;\n",
       "    }\n",
       "</style>\n",
       "<table border=\"1\" class=\"dataframe\">\n",
       "  <thead>\n",
       "    <tr style=\"text-align: right;\">\n",
       "      <th></th>\n",
       "      <th>Category</th>\n",
       "      <th>Values</th>\n",
       "    </tr>\n",
       "  </thead>\n",
       "  <tbody>\n",
       "    <tr>\n",
       "      <th>0</th>\n",
       "      <td>A</td>\n",
       "      <td>32</td>\n",
       "    </tr>\n",
       "    <tr>\n",
       "      <th>1</th>\n",
       "      <td>B</td>\n",
       "      <td>43</td>\n",
       "    </tr>\n",
       "    <tr>\n",
       "      <th>2</th>\n",
       "      <td>C</td>\n",
       "      <td>50</td>\n",
       "    </tr>\n",
       "  </tbody>\n",
       "</table>\n",
       "</div>"
      ],
      "text/plain": [
       "  Category  Values\n",
       "0        A      32\n",
       "1        B      43\n",
       "2        C      50"
      ]
     },
     "execution_count": 9,
     "metadata": {},
     "output_type": "execute_result"
    }
   ],
   "source": [
    "df2.head()"
   ]
  },
  {
   "cell_type": "markdown",
   "metadata": {},
   "source": [
    "## Using Cufflinks and iplot()\n",
    "\n",
    "* scatter\n",
    "* bar\n",
    "* box\n",
    "* spread\n",
    "* ratio\n",
    "* heatmap\n",
    "* surface\n",
    "* histogram\n",
    "* bubble"
   ]
  },
  {
   "cell_type": "markdown",
   "metadata": {},
   "source": [
    "## Scatter"
   ]
  },
  {
   "cell_type": "code",
   "execution_count": 10,
   "metadata": {},
   "outputs": [
    {
     "data": {
      "application/vnd.plotly.v1+json": {
       "config": {
        "linkText": "Export to plot.ly",
        "plotlyServerURL": "https://plot.ly",
        "showLink": true
       },
       "data": [
        {
         "line": {
          "color": "rgba(255, 153, 51, 1.0)",
          "dash": "solid",
          "shape": "linear",
          "width": 1.3
         },
         "marker": {
          "size": 10,
          "symbol": "circle"
         },
         "mode": "markers",
         "name": "B",
         "text": "",
         "type": "scatter",
         "x": [
          0.40612300580052474,
          -0.4787833960912556,
          -0.5447183158159912,
          -0.20484654382912085,
          -0.7772111801679075,
          0.7717397677804158,
          1.223436162464635,
          0.06772192697459302,
          0.25456332871080894,
          0.4048565702822834,
          -1.8148879337440906,
          -0.4388441296971543,
          -1.3924436354070289,
          0.6956369095551673,
          -0.8667450625264915,
          -0.6310161646563152,
          1.3003534836796835,
          0.2083137339127651,
          -0.8988700584540924,
          -0.7232670196258586,
          0.31903378409831123,
          -0.20316081187997037,
          1.5874187069817816,
          0.1923467175146929,
          1.1187010598163798,
          -0.7252616193055038,
          0.1801496551521485,
          -1.5140514229709021,
          -1.288260457541485,
          -1.3610877459759907,
          1.7869981630955272,
          0.05692588153120884,
          0.07490690988116719,
          1.3928879350198191,
          -0.09806224795777757,
          1.3917376836181254,
          0.3685419969405524,
          -0.49312306302326253,
          1.4974261447856545,
          -0.3689397108877411,
          -0.9540378493340411,
          0.059716412783843244,
          -0.772836360066239,
          -0.5305614528169932,
          -0.17876090805211597,
          0.263152168058798,
          0.215210090246341,
          1.4589104195751386,
          -0.8539813979762173,
          -0.520159892769052,
          -0.20281248626718093,
          -0.8255111198294761,
          -0.2448982097759442,
          0.1411939476815836,
          0.2020771740684055,
          -1.0559833258091613,
          -1.379739410950068,
          -0.5006662209682377,
          -0.9316129498404765,
          -2.5090916216195764,
          -1.6150447193491557,
          0.21338471972146297,
          0.059999029120805035,
          -0.5109257729777709,
          -0.2268722852054298,
          0.9983442362068591,
          1.1897280575947924,
          0.08124989687103532,
          1.5414292850954545,
          2.25475973576895,
          -1.111730112114252,
          -1.1144069288786815,
          1.114299604592313,
          -0.8158645068290735,
          0.10198790485908782,
          -1.7754246108252718,
          -1.3188149745985318,
          1.4249768136759138,
          0.5502074996929022,
          -0.2767388889975246,
          0.27891988080565244,
          -1.2686878066632947,
          -0.7842613084336968,
          0.6238673940138396,
          1.9328429554944817,
          -0.17767907887367818,
          -2.127060962381966,
          -2.433293326123087,
          -1.304045908210188,
          -0.21858974062276904,
          -1.562354340089511,
          -1.1897706253336464,
          -0.03282994484540824,
          -0.1315262283778394,
          0.8219686893831281,
          -0.6900875321833959,
          0.9314720974852225,
          -0.12183184191563845,
          2.2719105496178975,
          0.5242306179214224
         ],
         "y": [
          -0.36259548072853875,
          -1.267870868137753,
          -1.0091462104932183,
          -1.0110585705993747,
          2.0762507530042895,
          1.4881995414855038,
          -0.26646024128323953,
          0.11686341059463608,
          2.21425720893623,
          -0.5021126738974973,
          -0.5257142342177114,
          -0.8571176187528038,
          -0.6092482759913191,
          -0.08686320715520057,
          0.36105712954854563,
          0.857438327524079,
          0.21106363592610627,
          0.11927464514128387,
          1.9107081723052977,
          0.11726142499280247,
          0.15562165513999635,
          0.17984294181999808,
          0.42853832330408864,
          1.4815379150422912,
          0.9806138358460342,
          -0.8138989560324716,
          0.45988968024795274,
          0.40153056231663187,
          0.3858907016348598,
          0.29131595025742535,
          0.0995816061413352,
          -0.44331204085049064,
          -2.001837597279621,
          -0.26869125348082745,
          -1.2968267576274637,
          0.23345037240733127,
          -0.4671918976965135,
          -1.3841503189198816,
          -0.44954618641312155,
          2.1093747200978687,
          0.7018818255134294,
          -0.6782062082975912,
          0.28486767051026746,
          -0.4252864697271743,
          -0.04075062367543577,
          -0.12190918216816145,
          0.40667369197181796,
          1.3213925954510657,
          -0.2122494509573179,
          0.5281694741678093,
          2.229210068526433,
          1.9412193570376737,
          2.036390856146347,
          -0.6758525191223714,
          1.3283170028978404,
          0.230437983084068,
          0.6291741142455162,
          -1.0178739201970899,
          -0.8511990469438749,
          -0.1136179868905994,
          -0.44956504785723433,
          -1.4236153338809452,
          -2.5579823199668876,
          -0.313401670583427,
          0.23394667100442418,
          -0.6917842239920057,
          1.1369538575013078,
          0.741038314372609,
          0.3626852950666634,
          0.9124505835466721,
          -1.2065960914879164,
          -0.5605693444006637,
          1.32927682001344,
          1.1453456267611448,
          -0.5839163862401376,
          1.0888454997300678,
          0.34451912392908945,
          -2.0268651130316186,
          -1.8916866438700928,
          0.45964397046328515,
          2.1584681393854055,
          -0.074148304304722,
          -0.6384037506621307,
          -0.17356245521649813,
          -1.0843504488078473,
          0.6019912533839158,
          -0.0864499869337545,
          -0.6426495556702666,
          -0.9469150759863427,
          1.1266066812979123,
          -1.0874503292056883,
          0.6224487504191203,
          -0.21084575656209098,
          2.1368173265227526,
          0.4709018271403978,
          -2.1699468729069555,
          -0.9401270264259753,
          -0.3052356128961729,
          1.006669632826666,
          0.5873935540844651
         ]
        }
       ],
       "layout": {
        "legend": {
         "bgcolor": "#F5F6F9",
         "font": {
          "color": "#4D5663"
         }
        },
        "paper_bgcolor": "#F5F6F9",
        "plot_bgcolor": "#F5F6F9",
        "template": {
         "data": {
          "bar": [
           {
            "error_x": {
             "color": "#2a3f5f"
            },
            "error_y": {
             "color": "#2a3f5f"
            },
            "marker": {
             "line": {
              "color": "#E5ECF6",
              "width": 0.5
             }
            },
            "type": "bar"
           }
          ],
          "barpolar": [
           {
            "marker": {
             "line": {
              "color": "#E5ECF6",
              "width": 0.5
             }
            },
            "type": "barpolar"
           }
          ],
          "carpet": [
           {
            "aaxis": {
             "endlinecolor": "#2a3f5f",
             "gridcolor": "white",
             "linecolor": "white",
             "minorgridcolor": "white",
             "startlinecolor": "#2a3f5f"
            },
            "baxis": {
             "endlinecolor": "#2a3f5f",
             "gridcolor": "white",
             "linecolor": "white",
             "minorgridcolor": "white",
             "startlinecolor": "#2a3f5f"
            },
            "type": "carpet"
           }
          ],
          "choropleth": [
           {
            "colorbar": {
             "outlinewidth": 0,
             "ticks": ""
            },
            "type": "choropleth"
           }
          ],
          "contour": [
           {
            "colorbar": {
             "outlinewidth": 0,
             "ticks": ""
            },
            "colorscale": [
             [
              0,
              "#0d0887"
             ],
             [
              0.1111111111111111,
              "#46039f"
             ],
             [
              0.2222222222222222,
              "#7201a8"
             ],
             [
              0.3333333333333333,
              "#9c179e"
             ],
             [
              0.4444444444444444,
              "#bd3786"
             ],
             [
              0.5555555555555556,
              "#d8576b"
             ],
             [
              0.6666666666666666,
              "#ed7953"
             ],
             [
              0.7777777777777778,
              "#fb9f3a"
             ],
             [
              0.8888888888888888,
              "#fdca26"
             ],
             [
              1,
              "#f0f921"
             ]
            ],
            "type": "contour"
           }
          ],
          "contourcarpet": [
           {
            "colorbar": {
             "outlinewidth": 0,
             "ticks": ""
            },
            "type": "contourcarpet"
           }
          ],
          "heatmap": [
           {
            "colorbar": {
             "outlinewidth": 0,
             "ticks": ""
            },
            "colorscale": [
             [
              0,
              "#0d0887"
             ],
             [
              0.1111111111111111,
              "#46039f"
             ],
             [
              0.2222222222222222,
              "#7201a8"
             ],
             [
              0.3333333333333333,
              "#9c179e"
             ],
             [
              0.4444444444444444,
              "#bd3786"
             ],
             [
              0.5555555555555556,
              "#d8576b"
             ],
             [
              0.6666666666666666,
              "#ed7953"
             ],
             [
              0.7777777777777778,
              "#fb9f3a"
             ],
             [
              0.8888888888888888,
              "#fdca26"
             ],
             [
              1,
              "#f0f921"
             ]
            ],
            "type": "heatmap"
           }
          ],
          "heatmapgl": [
           {
            "colorbar": {
             "outlinewidth": 0,
             "ticks": ""
            },
            "colorscale": [
             [
              0,
              "#0d0887"
             ],
             [
              0.1111111111111111,
              "#46039f"
             ],
             [
              0.2222222222222222,
              "#7201a8"
             ],
             [
              0.3333333333333333,
              "#9c179e"
             ],
             [
              0.4444444444444444,
              "#bd3786"
             ],
             [
              0.5555555555555556,
              "#d8576b"
             ],
             [
              0.6666666666666666,
              "#ed7953"
             ],
             [
              0.7777777777777778,
              "#fb9f3a"
             ],
             [
              0.8888888888888888,
              "#fdca26"
             ],
             [
              1,
              "#f0f921"
             ]
            ],
            "type": "heatmapgl"
           }
          ],
          "histogram": [
           {
            "marker": {
             "colorbar": {
              "outlinewidth": 0,
              "ticks": ""
             }
            },
            "type": "histogram"
           }
          ],
          "histogram2d": [
           {
            "colorbar": {
             "outlinewidth": 0,
             "ticks": ""
            },
            "colorscale": [
             [
              0,
              "#0d0887"
             ],
             [
              0.1111111111111111,
              "#46039f"
             ],
             [
              0.2222222222222222,
              "#7201a8"
             ],
             [
              0.3333333333333333,
              "#9c179e"
             ],
             [
              0.4444444444444444,
              "#bd3786"
             ],
             [
              0.5555555555555556,
              "#d8576b"
             ],
             [
              0.6666666666666666,
              "#ed7953"
             ],
             [
              0.7777777777777778,
              "#fb9f3a"
             ],
             [
              0.8888888888888888,
              "#fdca26"
             ],
             [
              1,
              "#f0f921"
             ]
            ],
            "type": "histogram2d"
           }
          ],
          "histogram2dcontour": [
           {
            "colorbar": {
             "outlinewidth": 0,
             "ticks": ""
            },
            "colorscale": [
             [
              0,
              "#0d0887"
             ],
             [
              0.1111111111111111,
              "#46039f"
             ],
             [
              0.2222222222222222,
              "#7201a8"
             ],
             [
              0.3333333333333333,
              "#9c179e"
             ],
             [
              0.4444444444444444,
              "#bd3786"
             ],
             [
              0.5555555555555556,
              "#d8576b"
             ],
             [
              0.6666666666666666,
              "#ed7953"
             ],
             [
              0.7777777777777778,
              "#fb9f3a"
             ],
             [
              0.8888888888888888,
              "#fdca26"
             ],
             [
              1,
              "#f0f921"
             ]
            ],
            "type": "histogram2dcontour"
           }
          ],
          "mesh3d": [
           {
            "colorbar": {
             "outlinewidth": 0,
             "ticks": ""
            },
            "type": "mesh3d"
           }
          ],
          "parcoords": [
           {
            "line": {
             "colorbar": {
              "outlinewidth": 0,
              "ticks": ""
             }
            },
            "type": "parcoords"
           }
          ],
          "pie": [
           {
            "automargin": true,
            "type": "pie"
           }
          ],
          "scatter": [
           {
            "marker": {
             "colorbar": {
              "outlinewidth": 0,
              "ticks": ""
             }
            },
            "type": "scatter"
           }
          ],
          "scatter3d": [
           {
            "line": {
             "colorbar": {
              "outlinewidth": 0,
              "ticks": ""
             }
            },
            "marker": {
             "colorbar": {
              "outlinewidth": 0,
              "ticks": ""
             }
            },
            "type": "scatter3d"
           }
          ],
          "scattercarpet": [
           {
            "marker": {
             "colorbar": {
              "outlinewidth": 0,
              "ticks": ""
             }
            },
            "type": "scattercarpet"
           }
          ],
          "scattergeo": [
           {
            "marker": {
             "colorbar": {
              "outlinewidth": 0,
              "ticks": ""
             }
            },
            "type": "scattergeo"
           }
          ],
          "scattergl": [
           {
            "marker": {
             "colorbar": {
              "outlinewidth": 0,
              "ticks": ""
             }
            },
            "type": "scattergl"
           }
          ],
          "scattermapbox": [
           {
            "marker": {
             "colorbar": {
              "outlinewidth": 0,
              "ticks": ""
             }
            },
            "type": "scattermapbox"
           }
          ],
          "scatterpolar": [
           {
            "marker": {
             "colorbar": {
              "outlinewidth": 0,
              "ticks": ""
             }
            },
            "type": "scatterpolar"
           }
          ],
          "scatterpolargl": [
           {
            "marker": {
             "colorbar": {
              "outlinewidth": 0,
              "ticks": ""
             }
            },
            "type": "scatterpolargl"
           }
          ],
          "scatterternary": [
           {
            "marker": {
             "colorbar": {
              "outlinewidth": 0,
              "ticks": ""
             }
            },
            "type": "scatterternary"
           }
          ],
          "surface": [
           {
            "colorbar": {
             "outlinewidth": 0,
             "ticks": ""
            },
            "colorscale": [
             [
              0,
              "#0d0887"
             ],
             [
              0.1111111111111111,
              "#46039f"
             ],
             [
              0.2222222222222222,
              "#7201a8"
             ],
             [
              0.3333333333333333,
              "#9c179e"
             ],
             [
              0.4444444444444444,
              "#bd3786"
             ],
             [
              0.5555555555555556,
              "#d8576b"
             ],
             [
              0.6666666666666666,
              "#ed7953"
             ],
             [
              0.7777777777777778,
              "#fb9f3a"
             ],
             [
              0.8888888888888888,
              "#fdca26"
             ],
             [
              1,
              "#f0f921"
             ]
            ],
            "type": "surface"
           }
          ],
          "table": [
           {
            "cells": {
             "fill": {
              "color": "#EBF0F8"
             },
             "line": {
              "color": "white"
             }
            },
            "header": {
             "fill": {
              "color": "#C8D4E3"
             },
             "line": {
              "color": "white"
             }
            },
            "type": "table"
           }
          ]
         },
         "layout": {
          "annotationdefaults": {
           "arrowcolor": "#2a3f5f",
           "arrowhead": 0,
           "arrowwidth": 1
          },
          "coloraxis": {
           "colorbar": {
            "outlinewidth": 0,
            "ticks": ""
           }
          },
          "colorscale": {
           "diverging": [
            [
             0,
             "#8e0152"
            ],
            [
             0.1,
             "#c51b7d"
            ],
            [
             0.2,
             "#de77ae"
            ],
            [
             0.3,
             "#f1b6da"
            ],
            [
             0.4,
             "#fde0ef"
            ],
            [
             0.5,
             "#f7f7f7"
            ],
            [
             0.6,
             "#e6f5d0"
            ],
            [
             0.7,
             "#b8e186"
            ],
            [
             0.8,
             "#7fbc41"
            ],
            [
             0.9,
             "#4d9221"
            ],
            [
             1,
             "#276419"
            ]
           ],
           "sequential": [
            [
             0,
             "#0d0887"
            ],
            [
             0.1111111111111111,
             "#46039f"
            ],
            [
             0.2222222222222222,
             "#7201a8"
            ],
            [
             0.3333333333333333,
             "#9c179e"
            ],
            [
             0.4444444444444444,
             "#bd3786"
            ],
            [
             0.5555555555555556,
             "#d8576b"
            ],
            [
             0.6666666666666666,
             "#ed7953"
            ],
            [
             0.7777777777777778,
             "#fb9f3a"
            ],
            [
             0.8888888888888888,
             "#fdca26"
            ],
            [
             1,
             "#f0f921"
            ]
           ],
           "sequentialminus": [
            [
             0,
             "#0d0887"
            ],
            [
             0.1111111111111111,
             "#46039f"
            ],
            [
             0.2222222222222222,
             "#7201a8"
            ],
            [
             0.3333333333333333,
             "#9c179e"
            ],
            [
             0.4444444444444444,
             "#bd3786"
            ],
            [
             0.5555555555555556,
             "#d8576b"
            ],
            [
             0.6666666666666666,
             "#ed7953"
            ],
            [
             0.7777777777777778,
             "#fb9f3a"
            ],
            [
             0.8888888888888888,
             "#fdca26"
            ],
            [
             1,
             "#f0f921"
            ]
           ]
          },
          "colorway": [
           "#636efa",
           "#EF553B",
           "#00cc96",
           "#ab63fa",
           "#FFA15A",
           "#19d3f3",
           "#FF6692",
           "#B6E880",
           "#FF97FF",
           "#FECB52"
          ],
          "font": {
           "color": "#2a3f5f"
          },
          "geo": {
           "bgcolor": "white",
           "lakecolor": "white",
           "landcolor": "#E5ECF6",
           "showlakes": true,
           "showland": true,
           "subunitcolor": "white"
          },
          "hoverlabel": {
           "align": "left"
          },
          "hovermode": "closest",
          "mapbox": {
           "style": "light"
          },
          "paper_bgcolor": "white",
          "plot_bgcolor": "#E5ECF6",
          "polar": {
           "angularaxis": {
            "gridcolor": "white",
            "linecolor": "white",
            "ticks": ""
           },
           "bgcolor": "#E5ECF6",
           "radialaxis": {
            "gridcolor": "white",
            "linecolor": "white",
            "ticks": ""
           }
          },
          "scene": {
           "xaxis": {
            "backgroundcolor": "#E5ECF6",
            "gridcolor": "white",
            "gridwidth": 2,
            "linecolor": "white",
            "showbackground": true,
            "ticks": "",
            "zerolinecolor": "white"
           },
           "yaxis": {
            "backgroundcolor": "#E5ECF6",
            "gridcolor": "white",
            "gridwidth": 2,
            "linecolor": "white",
            "showbackground": true,
            "ticks": "",
            "zerolinecolor": "white"
           },
           "zaxis": {
            "backgroundcolor": "#E5ECF6",
            "gridcolor": "white",
            "gridwidth": 2,
            "linecolor": "white",
            "showbackground": true,
            "ticks": "",
            "zerolinecolor": "white"
           }
          },
          "shapedefaults": {
           "line": {
            "color": "#2a3f5f"
           }
          },
          "ternary": {
           "aaxis": {
            "gridcolor": "white",
            "linecolor": "white",
            "ticks": ""
           },
           "baxis": {
            "gridcolor": "white",
            "linecolor": "white",
            "ticks": ""
           },
           "bgcolor": "#E5ECF6",
           "caxis": {
            "gridcolor": "white",
            "linecolor": "white",
            "ticks": ""
           }
          },
          "title": {
           "x": 0.05
          },
          "xaxis": {
           "automargin": true,
           "gridcolor": "white",
           "linecolor": "white",
           "ticks": "",
           "title": {
            "standoff": 15
           },
           "zerolinecolor": "white",
           "zerolinewidth": 2
          },
          "yaxis": {
           "automargin": true,
           "gridcolor": "white",
           "linecolor": "white",
           "ticks": "",
           "title": {
            "standoff": 15
           },
           "zerolinecolor": "white",
           "zerolinewidth": 2
          }
         }
        },
        "title": {
         "font": {
          "color": "#4D5663"
         }
        },
        "xaxis": {
         "gridcolor": "#E1E5ED",
         "showgrid": true,
         "tickfont": {
          "color": "#4D5663"
         },
         "title": {
          "font": {
           "color": "#4D5663"
          },
          "text": ""
         },
         "zerolinecolor": "#E1E5ED"
        },
        "yaxis": {
         "gridcolor": "#E1E5ED",
         "showgrid": true,
         "tickfont": {
          "color": "#4D5663"
         },
         "title": {
          "font": {
           "color": "#4D5663"
          },
          "text": ""
         },
         "zerolinecolor": "#E1E5ED"
        }
       }
      },
      "text/html": [
       "<div>                            <div id=\"852c2991-0649-4707-8888-c6140b180dd4\" class=\"plotly-graph-div\" style=\"height:525px; width:100%;\"></div>            <script type=\"text/javascript\">                require([\"plotly\"], function(Plotly) {                    window.PLOTLYENV=window.PLOTLYENV || {};\n",
       "                    window.PLOTLYENV.BASE_URL='https://plot.ly';                                    if (document.getElementById(\"852c2991-0649-4707-8888-c6140b180dd4\")) {                    Plotly.newPlot(                        \"852c2991-0649-4707-8888-c6140b180dd4\",                        [{\"line\": {\"color\": \"rgba(255, 153, 51, 1.0)\", \"dash\": \"solid\", \"shape\": \"linear\", \"width\": 1.3}, \"marker\": {\"size\": 10, \"symbol\": \"circle\"}, \"mode\": \"markers\", \"name\": \"B\", \"text\": \"\", \"type\": \"scatter\", \"x\": [0.40612300580052474, -0.4787833960912556, -0.5447183158159912, -0.20484654382912085, -0.7772111801679075, 0.7717397677804158, 1.223436162464635, 0.06772192697459302, 0.25456332871080894, 0.4048565702822834, -1.8148879337440906, -0.4388441296971543, -1.3924436354070289, 0.6956369095551673, -0.8667450625264915, -0.6310161646563152, 1.3003534836796835, 0.2083137339127651, -0.8988700584540924, -0.7232670196258586, 0.31903378409831123, -0.20316081187997037, 1.5874187069817816, 0.1923467175146929, 1.1187010598163798, -0.7252616193055038, 0.1801496551521485, -1.5140514229709021, -1.288260457541485, -1.3610877459759907, 1.7869981630955272, 0.05692588153120884, 0.07490690988116719, 1.3928879350198191, -0.09806224795777757, 1.3917376836181254, 0.3685419969405524, -0.49312306302326253, 1.4974261447856545, -0.3689397108877411, -0.9540378493340411, 0.059716412783843244, -0.772836360066239, -0.5305614528169932, -0.17876090805211597, 0.263152168058798, 0.215210090246341, 1.4589104195751386, -0.8539813979762173, -0.520159892769052, -0.20281248626718093, -0.8255111198294761, -0.2448982097759442, 0.1411939476815836, 0.2020771740684055, -1.0559833258091613, -1.379739410950068, -0.5006662209682377, -0.9316129498404765, -2.5090916216195764, -1.6150447193491557, 0.21338471972146297, 0.059999029120805035, -0.5109257729777709, -0.2268722852054298, 0.9983442362068591, 1.1897280575947924, 0.08124989687103532, 1.5414292850954545, 2.25475973576895, -1.111730112114252, -1.1144069288786815, 1.114299604592313, -0.8158645068290735, 0.10198790485908782, -1.7754246108252718, -1.3188149745985318, 1.4249768136759138, 0.5502074996929022, -0.2767388889975246, 0.27891988080565244, -1.2686878066632947, -0.7842613084336968, 0.6238673940138396, 1.9328429554944817, -0.17767907887367818, -2.127060962381966, -2.433293326123087, -1.304045908210188, -0.21858974062276904, -1.562354340089511, -1.1897706253336464, -0.03282994484540824, -0.1315262283778394, 0.8219686893831281, -0.6900875321833959, 0.9314720974852225, -0.12183184191563845, 2.2719105496178975, 0.5242306179214224], \"y\": [-0.36259548072853875, -1.267870868137753, -1.0091462104932183, -1.0110585705993747, 2.0762507530042895, 1.4881995414855038, -0.26646024128323953, 0.11686341059463608, 2.21425720893623, -0.5021126738974973, -0.5257142342177114, -0.8571176187528038, -0.6092482759913191, -0.08686320715520057, 0.36105712954854563, 0.857438327524079, 0.21106363592610627, 0.11927464514128387, 1.9107081723052977, 0.11726142499280247, 0.15562165513999635, 0.17984294181999808, 0.42853832330408864, 1.4815379150422912, 0.9806138358460342, -0.8138989560324716, 0.45988968024795274, 0.40153056231663187, 0.3858907016348598, 0.29131595025742535, 0.0995816061413352, -0.44331204085049064, -2.001837597279621, -0.26869125348082745, -1.2968267576274637, 0.23345037240733127, -0.4671918976965135, -1.3841503189198816, -0.44954618641312155, 2.1093747200978687, 0.7018818255134294, -0.6782062082975912, 0.28486767051026746, -0.4252864697271743, -0.04075062367543577, -0.12190918216816145, 0.40667369197181796, 1.3213925954510657, -0.2122494509573179, 0.5281694741678093, 2.229210068526433, 1.9412193570376737, 2.036390856146347, -0.6758525191223714, 1.3283170028978404, 0.230437983084068, 0.6291741142455162, -1.0178739201970899, -0.8511990469438749, -0.1136179868905994, -0.44956504785723433, -1.4236153338809452, -2.5579823199668876, -0.313401670583427, 0.23394667100442418, -0.6917842239920057, 1.1369538575013078, 0.741038314372609, 0.3626852950666634, 0.9124505835466721, -1.2065960914879164, -0.5605693444006637, 1.32927682001344, 1.1453456267611448, -0.5839163862401376, 1.0888454997300678, 0.34451912392908945, -2.0268651130316186, -1.8916866438700928, 0.45964397046328515, 2.1584681393854055, -0.074148304304722, -0.6384037506621307, -0.17356245521649813, -1.0843504488078473, 0.6019912533839158, -0.0864499869337545, -0.6426495556702666, -0.9469150759863427, 1.1266066812979123, -1.0874503292056883, 0.6224487504191203, -0.21084575656209098, 2.1368173265227526, 0.4709018271403978, -2.1699468729069555, -0.9401270264259753, -0.3052356128961729, 1.006669632826666, 0.5873935540844651]}],                        {\"legend\": {\"bgcolor\": \"#F5F6F9\", \"font\": {\"color\": \"#4D5663\"}}, \"paper_bgcolor\": \"#F5F6F9\", \"plot_bgcolor\": \"#F5F6F9\", \"template\": {\"data\": {\"bar\": [{\"error_x\": {\"color\": \"#2a3f5f\"}, \"error_y\": {\"color\": \"#2a3f5f\"}, \"marker\": {\"line\": {\"color\": \"#E5ECF6\", \"width\": 0.5}}, \"type\": \"bar\"}], \"barpolar\": [{\"marker\": {\"line\": {\"color\": \"#E5ECF6\", \"width\": 0.5}}, \"type\": \"barpolar\"}], \"carpet\": [{\"aaxis\": {\"endlinecolor\": \"#2a3f5f\", \"gridcolor\": \"white\", \"linecolor\": \"white\", \"minorgridcolor\": \"white\", \"startlinecolor\": \"#2a3f5f\"}, \"baxis\": {\"endlinecolor\": \"#2a3f5f\", \"gridcolor\": \"white\", \"linecolor\": \"white\", \"minorgridcolor\": \"white\", \"startlinecolor\": \"#2a3f5f\"}, \"type\": \"carpet\"}], \"choropleth\": [{\"colorbar\": {\"outlinewidth\": 0, \"ticks\": \"\"}, \"type\": \"choropleth\"}], \"contour\": [{\"colorbar\": {\"outlinewidth\": 0, \"ticks\": \"\"}, \"colorscale\": [[0.0, \"#0d0887\"], [0.1111111111111111, \"#46039f\"], [0.2222222222222222, \"#7201a8\"], [0.3333333333333333, \"#9c179e\"], [0.4444444444444444, \"#bd3786\"], [0.5555555555555556, \"#d8576b\"], [0.6666666666666666, \"#ed7953\"], [0.7777777777777778, \"#fb9f3a\"], [0.8888888888888888, \"#fdca26\"], [1.0, \"#f0f921\"]], \"type\": \"contour\"}], \"contourcarpet\": [{\"colorbar\": {\"outlinewidth\": 0, \"ticks\": \"\"}, \"type\": \"contourcarpet\"}], \"heatmap\": [{\"colorbar\": {\"outlinewidth\": 0, \"ticks\": \"\"}, \"colorscale\": [[0.0, \"#0d0887\"], [0.1111111111111111, \"#46039f\"], [0.2222222222222222, \"#7201a8\"], [0.3333333333333333, \"#9c179e\"], [0.4444444444444444, \"#bd3786\"], [0.5555555555555556, \"#d8576b\"], [0.6666666666666666, \"#ed7953\"], [0.7777777777777778, \"#fb9f3a\"], [0.8888888888888888, \"#fdca26\"], [1.0, \"#f0f921\"]], \"type\": \"heatmap\"}], \"heatmapgl\": [{\"colorbar\": {\"outlinewidth\": 0, \"ticks\": \"\"}, \"colorscale\": [[0.0, \"#0d0887\"], [0.1111111111111111, \"#46039f\"], [0.2222222222222222, \"#7201a8\"], [0.3333333333333333, \"#9c179e\"], [0.4444444444444444, \"#bd3786\"], [0.5555555555555556, \"#d8576b\"], [0.6666666666666666, \"#ed7953\"], [0.7777777777777778, \"#fb9f3a\"], [0.8888888888888888, \"#fdca26\"], [1.0, \"#f0f921\"]], \"type\": \"heatmapgl\"}], \"histogram\": [{\"marker\": {\"colorbar\": {\"outlinewidth\": 0, \"ticks\": \"\"}}, \"type\": \"histogram\"}], \"histogram2d\": [{\"colorbar\": {\"outlinewidth\": 0, \"ticks\": \"\"}, \"colorscale\": [[0.0, \"#0d0887\"], [0.1111111111111111, \"#46039f\"], [0.2222222222222222, \"#7201a8\"], [0.3333333333333333, \"#9c179e\"], [0.4444444444444444, \"#bd3786\"], [0.5555555555555556, \"#d8576b\"], [0.6666666666666666, \"#ed7953\"], [0.7777777777777778, \"#fb9f3a\"], [0.8888888888888888, \"#fdca26\"], [1.0, \"#f0f921\"]], \"type\": \"histogram2d\"}], \"histogram2dcontour\": [{\"colorbar\": {\"outlinewidth\": 0, \"ticks\": \"\"}, \"colorscale\": [[0.0, \"#0d0887\"], [0.1111111111111111, \"#46039f\"], [0.2222222222222222, \"#7201a8\"], [0.3333333333333333, \"#9c179e\"], [0.4444444444444444, \"#bd3786\"], [0.5555555555555556, \"#d8576b\"], [0.6666666666666666, \"#ed7953\"], [0.7777777777777778, \"#fb9f3a\"], [0.8888888888888888, \"#fdca26\"], [1.0, \"#f0f921\"]], \"type\": \"histogram2dcontour\"}], \"mesh3d\": [{\"colorbar\": {\"outlinewidth\": 0, \"ticks\": \"\"}, \"type\": \"mesh3d\"}], \"parcoords\": [{\"line\": {\"colorbar\": {\"outlinewidth\": 0, \"ticks\": \"\"}}, \"type\": \"parcoords\"}], \"pie\": [{\"automargin\": true, \"type\": \"pie\"}], \"scatter\": [{\"marker\": {\"colorbar\": {\"outlinewidth\": 0, \"ticks\": \"\"}}, \"type\": \"scatter\"}], \"scatter3d\": [{\"line\": {\"colorbar\": {\"outlinewidth\": 0, \"ticks\": \"\"}}, \"marker\": {\"colorbar\": {\"outlinewidth\": 0, \"ticks\": \"\"}}, \"type\": \"scatter3d\"}], \"scattercarpet\": [{\"marker\": {\"colorbar\": {\"outlinewidth\": 0, \"ticks\": \"\"}}, \"type\": \"scattercarpet\"}], \"scattergeo\": [{\"marker\": {\"colorbar\": {\"outlinewidth\": 0, \"ticks\": \"\"}}, \"type\": \"scattergeo\"}], \"scattergl\": [{\"marker\": {\"colorbar\": {\"outlinewidth\": 0, \"ticks\": \"\"}}, \"type\": \"scattergl\"}], \"scattermapbox\": [{\"marker\": {\"colorbar\": {\"outlinewidth\": 0, \"ticks\": \"\"}}, \"type\": \"scattermapbox\"}], \"scatterpolar\": [{\"marker\": {\"colorbar\": {\"outlinewidth\": 0, \"ticks\": \"\"}}, \"type\": \"scatterpolar\"}], \"scatterpolargl\": [{\"marker\": {\"colorbar\": {\"outlinewidth\": 0, \"ticks\": \"\"}}, \"type\": \"scatterpolargl\"}], \"scatterternary\": [{\"marker\": {\"colorbar\": {\"outlinewidth\": 0, \"ticks\": \"\"}}, \"type\": \"scatterternary\"}], \"surface\": [{\"colorbar\": {\"outlinewidth\": 0, \"ticks\": \"\"}, \"colorscale\": [[0.0, \"#0d0887\"], [0.1111111111111111, \"#46039f\"], [0.2222222222222222, \"#7201a8\"], [0.3333333333333333, \"#9c179e\"], [0.4444444444444444, \"#bd3786\"], [0.5555555555555556, \"#d8576b\"], [0.6666666666666666, \"#ed7953\"], [0.7777777777777778, \"#fb9f3a\"], [0.8888888888888888, \"#fdca26\"], [1.0, \"#f0f921\"]], \"type\": \"surface\"}], \"table\": [{\"cells\": {\"fill\": {\"color\": \"#EBF0F8\"}, \"line\": {\"color\": \"white\"}}, \"header\": {\"fill\": {\"color\": \"#C8D4E3\"}, \"line\": {\"color\": \"white\"}}, \"type\": \"table\"}]}, \"layout\": {\"annotationdefaults\": {\"arrowcolor\": \"#2a3f5f\", \"arrowhead\": 0, \"arrowwidth\": 1}, \"coloraxis\": {\"colorbar\": {\"outlinewidth\": 0, \"ticks\": \"\"}}, \"colorscale\": {\"diverging\": [[0, \"#8e0152\"], [0.1, \"#c51b7d\"], [0.2, \"#de77ae\"], [0.3, \"#f1b6da\"], [0.4, \"#fde0ef\"], [0.5, \"#f7f7f7\"], [0.6, \"#e6f5d0\"], [0.7, \"#b8e186\"], [0.8, \"#7fbc41\"], [0.9, \"#4d9221\"], [1, \"#276419\"]], \"sequential\": [[0.0, \"#0d0887\"], [0.1111111111111111, \"#46039f\"], [0.2222222222222222, \"#7201a8\"], [0.3333333333333333, \"#9c179e\"], [0.4444444444444444, \"#bd3786\"], [0.5555555555555556, \"#d8576b\"], [0.6666666666666666, \"#ed7953\"], [0.7777777777777778, \"#fb9f3a\"], [0.8888888888888888, \"#fdca26\"], [1.0, \"#f0f921\"]], \"sequentialminus\": [[0.0, \"#0d0887\"], [0.1111111111111111, \"#46039f\"], [0.2222222222222222, \"#7201a8\"], [0.3333333333333333, \"#9c179e\"], [0.4444444444444444, \"#bd3786\"], [0.5555555555555556, \"#d8576b\"], [0.6666666666666666, \"#ed7953\"], [0.7777777777777778, \"#fb9f3a\"], [0.8888888888888888, \"#fdca26\"], [1.0, \"#f0f921\"]]}, \"colorway\": [\"#636efa\", \"#EF553B\", \"#00cc96\", \"#ab63fa\", \"#FFA15A\", \"#19d3f3\", \"#FF6692\", \"#B6E880\", \"#FF97FF\", \"#FECB52\"], \"font\": {\"color\": \"#2a3f5f\"}, \"geo\": {\"bgcolor\": \"white\", \"lakecolor\": \"white\", \"landcolor\": \"#E5ECF6\", \"showlakes\": true, \"showland\": true, \"subunitcolor\": \"white\"}, \"hoverlabel\": {\"align\": \"left\"}, \"hovermode\": \"closest\", \"mapbox\": {\"style\": \"light\"}, \"paper_bgcolor\": \"white\", \"plot_bgcolor\": \"#E5ECF6\", \"polar\": {\"angularaxis\": {\"gridcolor\": \"white\", \"linecolor\": \"white\", \"ticks\": \"\"}, \"bgcolor\": \"#E5ECF6\", \"radialaxis\": {\"gridcolor\": \"white\", \"linecolor\": \"white\", \"ticks\": \"\"}}, \"scene\": {\"xaxis\": {\"backgroundcolor\": \"#E5ECF6\", \"gridcolor\": \"white\", \"gridwidth\": 2, \"linecolor\": \"white\", \"showbackground\": true, \"ticks\": \"\", \"zerolinecolor\": \"white\"}, \"yaxis\": {\"backgroundcolor\": \"#E5ECF6\", \"gridcolor\": \"white\", \"gridwidth\": 2, \"linecolor\": \"white\", \"showbackground\": true, \"ticks\": \"\", \"zerolinecolor\": \"white\"}, \"zaxis\": {\"backgroundcolor\": \"#E5ECF6\", \"gridcolor\": \"white\", \"gridwidth\": 2, \"linecolor\": \"white\", \"showbackground\": true, \"ticks\": \"\", \"zerolinecolor\": \"white\"}}, \"shapedefaults\": {\"line\": {\"color\": \"#2a3f5f\"}}, \"ternary\": {\"aaxis\": {\"gridcolor\": \"white\", \"linecolor\": \"white\", \"ticks\": \"\"}, \"baxis\": {\"gridcolor\": \"white\", \"linecolor\": \"white\", \"ticks\": \"\"}, \"bgcolor\": \"#E5ECF6\", \"caxis\": {\"gridcolor\": \"white\", \"linecolor\": \"white\", \"ticks\": \"\"}}, \"title\": {\"x\": 0.05}, \"xaxis\": {\"automargin\": true, \"gridcolor\": \"white\", \"linecolor\": \"white\", \"ticks\": \"\", \"title\": {\"standoff\": 15}, \"zerolinecolor\": \"white\", \"zerolinewidth\": 2}, \"yaxis\": {\"automargin\": true, \"gridcolor\": \"white\", \"linecolor\": \"white\", \"ticks\": \"\", \"title\": {\"standoff\": 15}, \"zerolinecolor\": \"white\", \"zerolinewidth\": 2}}}, \"title\": {\"font\": {\"color\": \"#4D5663\"}}, \"xaxis\": {\"gridcolor\": \"#E1E5ED\", \"showgrid\": true, \"tickfont\": {\"color\": \"#4D5663\"}, \"title\": {\"font\": {\"color\": \"#4D5663\"}, \"text\": \"\"}, \"zerolinecolor\": \"#E1E5ED\"}, \"yaxis\": {\"gridcolor\": \"#E1E5ED\", \"showgrid\": true, \"tickfont\": {\"color\": \"#4D5663\"}, \"title\": {\"font\": {\"color\": \"#4D5663\"}, \"text\": \"\"}, \"zerolinecolor\": \"#E1E5ED\"}},                        {\"showLink\": true, \"linkText\": \"Export to plot.ly\", \"plotlyServerURL\": \"https://plot.ly\", \"responsive\": true}                    ).then(function(){\n",
       "                            \n",
       "var gd = document.getElementById('852c2991-0649-4707-8888-c6140b180dd4');\n",
       "var x = new MutationObserver(function (mutations, observer) {{\n",
       "        var display = window.getComputedStyle(gd).display;\n",
       "        if (!display || display === 'none') {{\n",
       "            console.log([gd, 'removed!']);\n",
       "            Plotly.purge(gd);\n",
       "            observer.disconnect();\n",
       "        }}\n",
       "}});\n",
       "\n",
       "// Listen for the removal of the full notebook cells\n",
       "var notebookContainer = gd.closest('#notebook-container');\n",
       "if (notebookContainer) {{\n",
       "    x.observe(notebookContainer, {childList: true});\n",
       "}}\n",
       "\n",
       "// Listen for the clearing of the current output cell\n",
       "var outputEl = gd.closest('.output');\n",
       "if (outputEl) {{\n",
       "    x.observe(outputEl, {childList: true});\n",
       "}}\n",
       "\n",
       "                        })                };                });            </script>        </div>"
      ]
     },
     "metadata": {},
     "output_type": "display_data"
    }
   ],
   "source": [
    "df.iplot(kind='scatter',x='A',y='B',mode='markers',size=10)"
   ]
  },
  {
   "cell_type": "markdown",
   "metadata": {},
   "source": [
    "## Bar Plots"
   ]
  },
  {
   "cell_type": "code",
   "execution_count": 11,
   "metadata": {},
   "outputs": [
    {
     "data": {
      "application/vnd.plotly.v1+json": {
       "config": {
        "linkText": "Export to plot.ly",
        "plotlyServerURL": "https://plot.ly",
        "showLink": true
       },
       "data": [
        {
         "marker": {
          "color": "rgba(255, 153, 51, 0.6)",
          "line": {
           "color": "rgba(255, 153, 51, 1.0)",
           "width": 1
          }
         },
         "name": "Values",
         "orientation": "v",
         "text": "",
         "type": "bar",
         "x": [
          "A",
          "B",
          "C"
         ],
         "y": [
          32,
          43,
          50
         ]
        }
       ],
       "layout": {
        "legend": {
         "bgcolor": "#F5F6F9",
         "font": {
          "color": "#4D5663"
         }
        },
        "paper_bgcolor": "#F5F6F9",
        "plot_bgcolor": "#F5F6F9",
        "template": {
         "data": {
          "bar": [
           {
            "error_x": {
             "color": "#2a3f5f"
            },
            "error_y": {
             "color": "#2a3f5f"
            },
            "marker": {
             "line": {
              "color": "#E5ECF6",
              "width": 0.5
             }
            },
            "type": "bar"
           }
          ],
          "barpolar": [
           {
            "marker": {
             "line": {
              "color": "#E5ECF6",
              "width": 0.5
             }
            },
            "type": "barpolar"
           }
          ],
          "carpet": [
           {
            "aaxis": {
             "endlinecolor": "#2a3f5f",
             "gridcolor": "white",
             "linecolor": "white",
             "minorgridcolor": "white",
             "startlinecolor": "#2a3f5f"
            },
            "baxis": {
             "endlinecolor": "#2a3f5f",
             "gridcolor": "white",
             "linecolor": "white",
             "minorgridcolor": "white",
             "startlinecolor": "#2a3f5f"
            },
            "type": "carpet"
           }
          ],
          "choropleth": [
           {
            "colorbar": {
             "outlinewidth": 0,
             "ticks": ""
            },
            "type": "choropleth"
           }
          ],
          "contour": [
           {
            "colorbar": {
             "outlinewidth": 0,
             "ticks": ""
            },
            "colorscale": [
             [
              0,
              "#0d0887"
             ],
             [
              0.1111111111111111,
              "#46039f"
             ],
             [
              0.2222222222222222,
              "#7201a8"
             ],
             [
              0.3333333333333333,
              "#9c179e"
             ],
             [
              0.4444444444444444,
              "#bd3786"
             ],
             [
              0.5555555555555556,
              "#d8576b"
             ],
             [
              0.6666666666666666,
              "#ed7953"
             ],
             [
              0.7777777777777778,
              "#fb9f3a"
             ],
             [
              0.8888888888888888,
              "#fdca26"
             ],
             [
              1,
              "#f0f921"
             ]
            ],
            "type": "contour"
           }
          ],
          "contourcarpet": [
           {
            "colorbar": {
             "outlinewidth": 0,
             "ticks": ""
            },
            "type": "contourcarpet"
           }
          ],
          "heatmap": [
           {
            "colorbar": {
             "outlinewidth": 0,
             "ticks": ""
            },
            "colorscale": [
             [
              0,
              "#0d0887"
             ],
             [
              0.1111111111111111,
              "#46039f"
             ],
             [
              0.2222222222222222,
              "#7201a8"
             ],
             [
              0.3333333333333333,
              "#9c179e"
             ],
             [
              0.4444444444444444,
              "#bd3786"
             ],
             [
              0.5555555555555556,
              "#d8576b"
             ],
             [
              0.6666666666666666,
              "#ed7953"
             ],
             [
              0.7777777777777778,
              "#fb9f3a"
             ],
             [
              0.8888888888888888,
              "#fdca26"
             ],
             [
              1,
              "#f0f921"
             ]
            ],
            "type": "heatmap"
           }
          ],
          "heatmapgl": [
           {
            "colorbar": {
             "outlinewidth": 0,
             "ticks": ""
            },
            "colorscale": [
             [
              0,
              "#0d0887"
             ],
             [
              0.1111111111111111,
              "#46039f"
             ],
             [
              0.2222222222222222,
              "#7201a8"
             ],
             [
              0.3333333333333333,
              "#9c179e"
             ],
             [
              0.4444444444444444,
              "#bd3786"
             ],
             [
              0.5555555555555556,
              "#d8576b"
             ],
             [
              0.6666666666666666,
              "#ed7953"
             ],
             [
              0.7777777777777778,
              "#fb9f3a"
             ],
             [
              0.8888888888888888,
              "#fdca26"
             ],
             [
              1,
              "#f0f921"
             ]
            ],
            "type": "heatmapgl"
           }
          ],
          "histogram": [
           {
            "marker": {
             "colorbar": {
              "outlinewidth": 0,
              "ticks": ""
             }
            },
            "type": "histogram"
           }
          ],
          "histogram2d": [
           {
            "colorbar": {
             "outlinewidth": 0,
             "ticks": ""
            },
            "colorscale": [
             [
              0,
              "#0d0887"
             ],
             [
              0.1111111111111111,
              "#46039f"
             ],
             [
              0.2222222222222222,
              "#7201a8"
             ],
             [
              0.3333333333333333,
              "#9c179e"
             ],
             [
              0.4444444444444444,
              "#bd3786"
             ],
             [
              0.5555555555555556,
              "#d8576b"
             ],
             [
              0.6666666666666666,
              "#ed7953"
             ],
             [
              0.7777777777777778,
              "#fb9f3a"
             ],
             [
              0.8888888888888888,
              "#fdca26"
             ],
             [
              1,
              "#f0f921"
             ]
            ],
            "type": "histogram2d"
           }
          ],
          "histogram2dcontour": [
           {
            "colorbar": {
             "outlinewidth": 0,
             "ticks": ""
            },
            "colorscale": [
             [
              0,
              "#0d0887"
             ],
             [
              0.1111111111111111,
              "#46039f"
             ],
             [
              0.2222222222222222,
              "#7201a8"
             ],
             [
              0.3333333333333333,
              "#9c179e"
             ],
             [
              0.4444444444444444,
              "#bd3786"
             ],
             [
              0.5555555555555556,
              "#d8576b"
             ],
             [
              0.6666666666666666,
              "#ed7953"
             ],
             [
              0.7777777777777778,
              "#fb9f3a"
             ],
             [
              0.8888888888888888,
              "#fdca26"
             ],
             [
              1,
              "#f0f921"
             ]
            ],
            "type": "histogram2dcontour"
           }
          ],
          "mesh3d": [
           {
            "colorbar": {
             "outlinewidth": 0,
             "ticks": ""
            },
            "type": "mesh3d"
           }
          ],
          "parcoords": [
           {
            "line": {
             "colorbar": {
              "outlinewidth": 0,
              "ticks": ""
             }
            },
            "type": "parcoords"
           }
          ],
          "pie": [
           {
            "automargin": true,
            "type": "pie"
           }
          ],
          "scatter": [
           {
            "marker": {
             "colorbar": {
              "outlinewidth": 0,
              "ticks": ""
             }
            },
            "type": "scatter"
           }
          ],
          "scatter3d": [
           {
            "line": {
             "colorbar": {
              "outlinewidth": 0,
              "ticks": ""
             }
            },
            "marker": {
             "colorbar": {
              "outlinewidth": 0,
              "ticks": ""
             }
            },
            "type": "scatter3d"
           }
          ],
          "scattercarpet": [
           {
            "marker": {
             "colorbar": {
              "outlinewidth": 0,
              "ticks": ""
             }
            },
            "type": "scattercarpet"
           }
          ],
          "scattergeo": [
           {
            "marker": {
             "colorbar": {
              "outlinewidth": 0,
              "ticks": ""
             }
            },
            "type": "scattergeo"
           }
          ],
          "scattergl": [
           {
            "marker": {
             "colorbar": {
              "outlinewidth": 0,
              "ticks": ""
             }
            },
            "type": "scattergl"
           }
          ],
          "scattermapbox": [
           {
            "marker": {
             "colorbar": {
              "outlinewidth": 0,
              "ticks": ""
             }
            },
            "type": "scattermapbox"
           }
          ],
          "scatterpolar": [
           {
            "marker": {
             "colorbar": {
              "outlinewidth": 0,
              "ticks": ""
             }
            },
            "type": "scatterpolar"
           }
          ],
          "scatterpolargl": [
           {
            "marker": {
             "colorbar": {
              "outlinewidth": 0,
              "ticks": ""
             }
            },
            "type": "scatterpolargl"
           }
          ],
          "scatterternary": [
           {
            "marker": {
             "colorbar": {
              "outlinewidth": 0,
              "ticks": ""
             }
            },
            "type": "scatterternary"
           }
          ],
          "surface": [
           {
            "colorbar": {
             "outlinewidth": 0,
             "ticks": ""
            },
            "colorscale": [
             [
              0,
              "#0d0887"
             ],
             [
              0.1111111111111111,
              "#46039f"
             ],
             [
              0.2222222222222222,
              "#7201a8"
             ],
             [
              0.3333333333333333,
              "#9c179e"
             ],
             [
              0.4444444444444444,
              "#bd3786"
             ],
             [
              0.5555555555555556,
              "#d8576b"
             ],
             [
              0.6666666666666666,
              "#ed7953"
             ],
             [
              0.7777777777777778,
              "#fb9f3a"
             ],
             [
              0.8888888888888888,
              "#fdca26"
             ],
             [
              1,
              "#f0f921"
             ]
            ],
            "type": "surface"
           }
          ],
          "table": [
           {
            "cells": {
             "fill": {
              "color": "#EBF0F8"
             },
             "line": {
              "color": "white"
             }
            },
            "header": {
             "fill": {
              "color": "#C8D4E3"
             },
             "line": {
              "color": "white"
             }
            },
            "type": "table"
           }
          ]
         },
         "layout": {
          "annotationdefaults": {
           "arrowcolor": "#2a3f5f",
           "arrowhead": 0,
           "arrowwidth": 1
          },
          "coloraxis": {
           "colorbar": {
            "outlinewidth": 0,
            "ticks": ""
           }
          },
          "colorscale": {
           "diverging": [
            [
             0,
             "#8e0152"
            ],
            [
             0.1,
             "#c51b7d"
            ],
            [
             0.2,
             "#de77ae"
            ],
            [
             0.3,
             "#f1b6da"
            ],
            [
             0.4,
             "#fde0ef"
            ],
            [
             0.5,
             "#f7f7f7"
            ],
            [
             0.6,
             "#e6f5d0"
            ],
            [
             0.7,
             "#b8e186"
            ],
            [
             0.8,
             "#7fbc41"
            ],
            [
             0.9,
             "#4d9221"
            ],
            [
             1,
             "#276419"
            ]
           ],
           "sequential": [
            [
             0,
             "#0d0887"
            ],
            [
             0.1111111111111111,
             "#46039f"
            ],
            [
             0.2222222222222222,
             "#7201a8"
            ],
            [
             0.3333333333333333,
             "#9c179e"
            ],
            [
             0.4444444444444444,
             "#bd3786"
            ],
            [
             0.5555555555555556,
             "#d8576b"
            ],
            [
             0.6666666666666666,
             "#ed7953"
            ],
            [
             0.7777777777777778,
             "#fb9f3a"
            ],
            [
             0.8888888888888888,
             "#fdca26"
            ],
            [
             1,
             "#f0f921"
            ]
           ],
           "sequentialminus": [
            [
             0,
             "#0d0887"
            ],
            [
             0.1111111111111111,
             "#46039f"
            ],
            [
             0.2222222222222222,
             "#7201a8"
            ],
            [
             0.3333333333333333,
             "#9c179e"
            ],
            [
             0.4444444444444444,
             "#bd3786"
            ],
            [
             0.5555555555555556,
             "#d8576b"
            ],
            [
             0.6666666666666666,
             "#ed7953"
            ],
            [
             0.7777777777777778,
             "#fb9f3a"
            ],
            [
             0.8888888888888888,
             "#fdca26"
            ],
            [
             1,
             "#f0f921"
            ]
           ]
          },
          "colorway": [
           "#636efa",
           "#EF553B",
           "#00cc96",
           "#ab63fa",
           "#FFA15A",
           "#19d3f3",
           "#FF6692",
           "#B6E880",
           "#FF97FF",
           "#FECB52"
          ],
          "font": {
           "color": "#2a3f5f"
          },
          "geo": {
           "bgcolor": "white",
           "lakecolor": "white",
           "landcolor": "#E5ECF6",
           "showlakes": true,
           "showland": true,
           "subunitcolor": "white"
          },
          "hoverlabel": {
           "align": "left"
          },
          "hovermode": "closest",
          "mapbox": {
           "style": "light"
          },
          "paper_bgcolor": "white",
          "plot_bgcolor": "#E5ECF6",
          "polar": {
           "angularaxis": {
            "gridcolor": "white",
            "linecolor": "white",
            "ticks": ""
           },
           "bgcolor": "#E5ECF6",
           "radialaxis": {
            "gridcolor": "white",
            "linecolor": "white",
            "ticks": ""
           }
          },
          "scene": {
           "xaxis": {
            "backgroundcolor": "#E5ECF6",
            "gridcolor": "white",
            "gridwidth": 2,
            "linecolor": "white",
            "showbackground": true,
            "ticks": "",
            "zerolinecolor": "white"
           },
           "yaxis": {
            "backgroundcolor": "#E5ECF6",
            "gridcolor": "white",
            "gridwidth": 2,
            "linecolor": "white",
            "showbackground": true,
            "ticks": "",
            "zerolinecolor": "white"
           },
           "zaxis": {
            "backgroundcolor": "#E5ECF6",
            "gridcolor": "white",
            "gridwidth": 2,
            "linecolor": "white",
            "showbackground": true,
            "ticks": "",
            "zerolinecolor": "white"
           }
          },
          "shapedefaults": {
           "line": {
            "color": "#2a3f5f"
           }
          },
          "ternary": {
           "aaxis": {
            "gridcolor": "white",
            "linecolor": "white",
            "ticks": ""
           },
           "baxis": {
            "gridcolor": "white",
            "linecolor": "white",
            "ticks": ""
           },
           "bgcolor": "#E5ECF6",
           "caxis": {
            "gridcolor": "white",
            "linecolor": "white",
            "ticks": ""
           }
          },
          "title": {
           "x": 0.05
          },
          "xaxis": {
           "automargin": true,
           "gridcolor": "white",
           "linecolor": "white",
           "ticks": "",
           "title": {
            "standoff": 15
           },
           "zerolinecolor": "white",
           "zerolinewidth": 2
          },
          "yaxis": {
           "automargin": true,
           "gridcolor": "white",
           "linecolor": "white",
           "ticks": "",
           "title": {
            "standoff": 15
           },
           "zerolinecolor": "white",
           "zerolinewidth": 2
          }
         }
        },
        "title": {
         "font": {
          "color": "#4D5663"
         }
        },
        "xaxis": {
         "gridcolor": "#E1E5ED",
         "showgrid": true,
         "tickfont": {
          "color": "#4D5663"
         },
         "title": {
          "font": {
           "color": "#4D5663"
          },
          "text": ""
         },
         "zerolinecolor": "#E1E5ED"
        },
        "yaxis": {
         "gridcolor": "#E1E5ED",
         "showgrid": true,
         "tickfont": {
          "color": "#4D5663"
         },
         "title": {
          "font": {
           "color": "#4D5663"
          },
          "text": ""
         },
         "zerolinecolor": "#E1E5ED"
        }
       }
      },
      "text/html": [
       "<div>                            <div id=\"c18b1504-c39d-4077-a8d3-bbcc4d87c65e\" class=\"plotly-graph-div\" style=\"height:525px; width:100%;\"></div>            <script type=\"text/javascript\">                require([\"plotly\"], function(Plotly) {                    window.PLOTLYENV=window.PLOTLYENV || {};\n",
       "                    window.PLOTLYENV.BASE_URL='https://plot.ly';                                    if (document.getElementById(\"c18b1504-c39d-4077-a8d3-bbcc4d87c65e\")) {                    Plotly.newPlot(                        \"c18b1504-c39d-4077-a8d3-bbcc4d87c65e\",                        [{\"marker\": {\"color\": \"rgba(255, 153, 51, 0.6)\", \"line\": {\"color\": \"rgba(255, 153, 51, 1.0)\", \"width\": 1}}, \"name\": \"Values\", \"orientation\": \"v\", \"text\": \"\", \"type\": \"bar\", \"x\": [\"A\", \"B\", \"C\"], \"y\": [32, 43, 50]}],                        {\"legend\": {\"bgcolor\": \"#F5F6F9\", \"font\": {\"color\": \"#4D5663\"}}, \"paper_bgcolor\": \"#F5F6F9\", \"plot_bgcolor\": \"#F5F6F9\", \"template\": {\"data\": {\"bar\": [{\"error_x\": {\"color\": \"#2a3f5f\"}, \"error_y\": {\"color\": \"#2a3f5f\"}, \"marker\": {\"line\": {\"color\": \"#E5ECF6\", \"width\": 0.5}}, \"type\": \"bar\"}], \"barpolar\": [{\"marker\": {\"line\": {\"color\": \"#E5ECF6\", \"width\": 0.5}}, \"type\": \"barpolar\"}], \"carpet\": [{\"aaxis\": {\"endlinecolor\": \"#2a3f5f\", \"gridcolor\": \"white\", \"linecolor\": \"white\", \"minorgridcolor\": \"white\", \"startlinecolor\": \"#2a3f5f\"}, \"baxis\": {\"endlinecolor\": \"#2a3f5f\", \"gridcolor\": \"white\", \"linecolor\": \"white\", \"minorgridcolor\": \"white\", \"startlinecolor\": \"#2a3f5f\"}, \"type\": \"carpet\"}], \"choropleth\": [{\"colorbar\": {\"outlinewidth\": 0, \"ticks\": \"\"}, \"type\": \"choropleth\"}], \"contour\": [{\"colorbar\": {\"outlinewidth\": 0, \"ticks\": \"\"}, \"colorscale\": [[0.0, \"#0d0887\"], [0.1111111111111111, \"#46039f\"], [0.2222222222222222, \"#7201a8\"], [0.3333333333333333, \"#9c179e\"], [0.4444444444444444, \"#bd3786\"], [0.5555555555555556, \"#d8576b\"], [0.6666666666666666, \"#ed7953\"], [0.7777777777777778, \"#fb9f3a\"], [0.8888888888888888, \"#fdca26\"], [1.0, \"#f0f921\"]], \"type\": \"contour\"}], \"contourcarpet\": [{\"colorbar\": {\"outlinewidth\": 0, \"ticks\": \"\"}, \"type\": \"contourcarpet\"}], \"heatmap\": [{\"colorbar\": {\"outlinewidth\": 0, \"ticks\": \"\"}, \"colorscale\": [[0.0, \"#0d0887\"], [0.1111111111111111, \"#46039f\"], [0.2222222222222222, \"#7201a8\"], [0.3333333333333333, \"#9c179e\"], [0.4444444444444444, \"#bd3786\"], [0.5555555555555556, \"#d8576b\"], [0.6666666666666666, \"#ed7953\"], [0.7777777777777778, \"#fb9f3a\"], [0.8888888888888888, \"#fdca26\"], [1.0, \"#f0f921\"]], \"type\": \"heatmap\"}], \"heatmapgl\": [{\"colorbar\": {\"outlinewidth\": 0, \"ticks\": \"\"}, \"colorscale\": [[0.0, \"#0d0887\"], [0.1111111111111111, \"#46039f\"], [0.2222222222222222, \"#7201a8\"], [0.3333333333333333, \"#9c179e\"], [0.4444444444444444, \"#bd3786\"], [0.5555555555555556, \"#d8576b\"], [0.6666666666666666, \"#ed7953\"], [0.7777777777777778, \"#fb9f3a\"], [0.8888888888888888, \"#fdca26\"], [1.0, \"#f0f921\"]], \"type\": \"heatmapgl\"}], \"histogram\": [{\"marker\": {\"colorbar\": {\"outlinewidth\": 0, \"ticks\": \"\"}}, \"type\": \"histogram\"}], \"histogram2d\": [{\"colorbar\": {\"outlinewidth\": 0, \"ticks\": \"\"}, \"colorscale\": [[0.0, \"#0d0887\"], [0.1111111111111111, \"#46039f\"], [0.2222222222222222, \"#7201a8\"], [0.3333333333333333, \"#9c179e\"], [0.4444444444444444, \"#bd3786\"], [0.5555555555555556, \"#d8576b\"], [0.6666666666666666, \"#ed7953\"], [0.7777777777777778, \"#fb9f3a\"], [0.8888888888888888, \"#fdca26\"], [1.0, \"#f0f921\"]], \"type\": \"histogram2d\"}], \"histogram2dcontour\": [{\"colorbar\": {\"outlinewidth\": 0, \"ticks\": \"\"}, \"colorscale\": [[0.0, \"#0d0887\"], [0.1111111111111111, \"#46039f\"], [0.2222222222222222, \"#7201a8\"], [0.3333333333333333, \"#9c179e\"], [0.4444444444444444, \"#bd3786\"], [0.5555555555555556, \"#d8576b\"], [0.6666666666666666, \"#ed7953\"], [0.7777777777777778, \"#fb9f3a\"], [0.8888888888888888, \"#fdca26\"], [1.0, \"#f0f921\"]], \"type\": \"histogram2dcontour\"}], \"mesh3d\": [{\"colorbar\": {\"outlinewidth\": 0, \"ticks\": \"\"}, \"type\": \"mesh3d\"}], \"parcoords\": [{\"line\": {\"colorbar\": {\"outlinewidth\": 0, \"ticks\": \"\"}}, \"type\": \"parcoords\"}], \"pie\": [{\"automargin\": true, \"type\": \"pie\"}], \"scatter\": [{\"marker\": {\"colorbar\": {\"outlinewidth\": 0, \"ticks\": \"\"}}, \"type\": \"scatter\"}], \"scatter3d\": [{\"line\": {\"colorbar\": {\"outlinewidth\": 0, \"ticks\": \"\"}}, \"marker\": {\"colorbar\": {\"outlinewidth\": 0, \"ticks\": \"\"}}, \"type\": \"scatter3d\"}], \"scattercarpet\": [{\"marker\": {\"colorbar\": {\"outlinewidth\": 0, \"ticks\": \"\"}}, \"type\": \"scattercarpet\"}], \"scattergeo\": [{\"marker\": {\"colorbar\": {\"outlinewidth\": 0, \"ticks\": \"\"}}, \"type\": \"scattergeo\"}], \"scattergl\": [{\"marker\": {\"colorbar\": {\"outlinewidth\": 0, \"ticks\": \"\"}}, \"type\": \"scattergl\"}], \"scattermapbox\": [{\"marker\": {\"colorbar\": {\"outlinewidth\": 0, \"ticks\": \"\"}}, \"type\": \"scattermapbox\"}], \"scatterpolar\": [{\"marker\": {\"colorbar\": {\"outlinewidth\": 0, \"ticks\": \"\"}}, \"type\": \"scatterpolar\"}], \"scatterpolargl\": [{\"marker\": {\"colorbar\": {\"outlinewidth\": 0, \"ticks\": \"\"}}, \"type\": \"scatterpolargl\"}], \"scatterternary\": [{\"marker\": {\"colorbar\": {\"outlinewidth\": 0, \"ticks\": \"\"}}, \"type\": \"scatterternary\"}], \"surface\": [{\"colorbar\": {\"outlinewidth\": 0, \"ticks\": \"\"}, \"colorscale\": [[0.0, \"#0d0887\"], [0.1111111111111111, \"#46039f\"], [0.2222222222222222, \"#7201a8\"], [0.3333333333333333, \"#9c179e\"], [0.4444444444444444, \"#bd3786\"], [0.5555555555555556, \"#d8576b\"], [0.6666666666666666, \"#ed7953\"], [0.7777777777777778, \"#fb9f3a\"], [0.8888888888888888, \"#fdca26\"], [1.0, \"#f0f921\"]], \"type\": \"surface\"}], \"table\": [{\"cells\": {\"fill\": {\"color\": \"#EBF0F8\"}, \"line\": {\"color\": \"white\"}}, \"header\": {\"fill\": {\"color\": \"#C8D4E3\"}, \"line\": {\"color\": \"white\"}}, \"type\": \"table\"}]}, \"layout\": {\"annotationdefaults\": {\"arrowcolor\": \"#2a3f5f\", \"arrowhead\": 0, \"arrowwidth\": 1}, \"coloraxis\": {\"colorbar\": {\"outlinewidth\": 0, \"ticks\": \"\"}}, \"colorscale\": {\"diverging\": [[0, \"#8e0152\"], [0.1, \"#c51b7d\"], [0.2, \"#de77ae\"], [0.3, \"#f1b6da\"], [0.4, \"#fde0ef\"], [0.5, \"#f7f7f7\"], [0.6, \"#e6f5d0\"], [0.7, \"#b8e186\"], [0.8, \"#7fbc41\"], [0.9, \"#4d9221\"], [1, \"#276419\"]], \"sequential\": [[0.0, \"#0d0887\"], [0.1111111111111111, \"#46039f\"], [0.2222222222222222, \"#7201a8\"], [0.3333333333333333, \"#9c179e\"], [0.4444444444444444, \"#bd3786\"], [0.5555555555555556, \"#d8576b\"], [0.6666666666666666, \"#ed7953\"], [0.7777777777777778, \"#fb9f3a\"], [0.8888888888888888, \"#fdca26\"], [1.0, \"#f0f921\"]], \"sequentialminus\": [[0.0, \"#0d0887\"], [0.1111111111111111, \"#46039f\"], [0.2222222222222222, \"#7201a8\"], [0.3333333333333333, \"#9c179e\"], [0.4444444444444444, \"#bd3786\"], [0.5555555555555556, \"#d8576b\"], [0.6666666666666666, \"#ed7953\"], [0.7777777777777778, \"#fb9f3a\"], [0.8888888888888888, \"#fdca26\"], [1.0, \"#f0f921\"]]}, \"colorway\": [\"#636efa\", \"#EF553B\", \"#00cc96\", \"#ab63fa\", \"#FFA15A\", \"#19d3f3\", \"#FF6692\", \"#B6E880\", \"#FF97FF\", \"#FECB52\"], \"font\": {\"color\": \"#2a3f5f\"}, \"geo\": {\"bgcolor\": \"white\", \"lakecolor\": \"white\", \"landcolor\": \"#E5ECF6\", \"showlakes\": true, \"showland\": true, \"subunitcolor\": \"white\"}, \"hoverlabel\": {\"align\": \"left\"}, \"hovermode\": \"closest\", \"mapbox\": {\"style\": \"light\"}, \"paper_bgcolor\": \"white\", \"plot_bgcolor\": \"#E5ECF6\", \"polar\": {\"angularaxis\": {\"gridcolor\": \"white\", \"linecolor\": \"white\", \"ticks\": \"\"}, \"bgcolor\": \"#E5ECF6\", \"radialaxis\": {\"gridcolor\": \"white\", \"linecolor\": \"white\", \"ticks\": \"\"}}, \"scene\": {\"xaxis\": {\"backgroundcolor\": \"#E5ECF6\", \"gridcolor\": \"white\", \"gridwidth\": 2, \"linecolor\": \"white\", \"showbackground\": true, \"ticks\": \"\", \"zerolinecolor\": \"white\"}, \"yaxis\": {\"backgroundcolor\": \"#E5ECF6\", \"gridcolor\": \"white\", \"gridwidth\": 2, \"linecolor\": \"white\", \"showbackground\": true, \"ticks\": \"\", \"zerolinecolor\": \"white\"}, \"zaxis\": {\"backgroundcolor\": \"#E5ECF6\", \"gridcolor\": \"white\", \"gridwidth\": 2, \"linecolor\": \"white\", \"showbackground\": true, \"ticks\": \"\", \"zerolinecolor\": \"white\"}}, \"shapedefaults\": {\"line\": {\"color\": \"#2a3f5f\"}}, \"ternary\": {\"aaxis\": {\"gridcolor\": \"white\", \"linecolor\": \"white\", \"ticks\": \"\"}, \"baxis\": {\"gridcolor\": \"white\", \"linecolor\": \"white\", \"ticks\": \"\"}, \"bgcolor\": \"#E5ECF6\", \"caxis\": {\"gridcolor\": \"white\", \"linecolor\": \"white\", \"ticks\": \"\"}}, \"title\": {\"x\": 0.05}, \"xaxis\": {\"automargin\": true, \"gridcolor\": \"white\", \"linecolor\": \"white\", \"ticks\": \"\", \"title\": {\"standoff\": 15}, \"zerolinecolor\": \"white\", \"zerolinewidth\": 2}, \"yaxis\": {\"automargin\": true, \"gridcolor\": \"white\", \"linecolor\": \"white\", \"ticks\": \"\", \"title\": {\"standoff\": 15}, \"zerolinecolor\": \"white\", \"zerolinewidth\": 2}}}, \"title\": {\"font\": {\"color\": \"#4D5663\"}}, \"xaxis\": {\"gridcolor\": \"#E1E5ED\", \"showgrid\": true, \"tickfont\": {\"color\": \"#4D5663\"}, \"title\": {\"font\": {\"color\": \"#4D5663\"}, \"text\": \"\"}, \"zerolinecolor\": \"#E1E5ED\"}, \"yaxis\": {\"gridcolor\": \"#E1E5ED\", \"showgrid\": true, \"tickfont\": {\"color\": \"#4D5663\"}, \"title\": {\"font\": {\"color\": \"#4D5663\"}, \"text\": \"\"}, \"zerolinecolor\": \"#E1E5ED\"}},                        {\"showLink\": true, \"linkText\": \"Export to plot.ly\", \"plotlyServerURL\": \"https://plot.ly\", \"responsive\": true}                    ).then(function(){\n",
       "                            \n",
       "var gd = document.getElementById('c18b1504-c39d-4077-a8d3-bbcc4d87c65e');\n",
       "var x = new MutationObserver(function (mutations, observer) {{\n",
       "        var display = window.getComputedStyle(gd).display;\n",
       "        if (!display || display === 'none') {{\n",
       "            console.log([gd, 'removed!']);\n",
       "            Plotly.purge(gd);\n",
       "            observer.disconnect();\n",
       "        }}\n",
       "}});\n",
       "\n",
       "// Listen for the removal of the full notebook cells\n",
       "var notebookContainer = gd.closest('#notebook-container');\n",
       "if (notebookContainer) {{\n",
       "    x.observe(notebookContainer, {childList: true});\n",
       "}}\n",
       "\n",
       "// Listen for the clearing of the current output cell\n",
       "var outputEl = gd.closest('.output');\n",
       "if (outputEl) {{\n",
       "    x.observe(outputEl, {childList: true});\n",
       "}}\n",
       "\n",
       "                        })                };                });            </script>        </div>"
      ]
     },
     "metadata": {},
     "output_type": "display_data"
    }
   ],
   "source": [
    "df2.iplot(kind='bar',x='Category',y='Values')"
   ]
  },
  {
   "cell_type": "code",
   "execution_count": 12,
   "metadata": {},
   "outputs": [
    {
     "data": {
      "application/vnd.plotly.v1+json": {
       "config": {
        "linkText": "Export to plot.ly",
        "plotlyServerURL": "https://plot.ly",
        "showLink": true
       },
       "data": [
        {
         "marker": {
          "color": "rgba(255, 153, 51, 0.6)",
          "line": {
           "color": "rgba(255, 153, 51, 1.0)",
           "width": 1
          }
         },
         "name": "None",
         "orientation": "v",
         "text": "",
         "type": "bar",
         "x": [
          "A",
          "B",
          "C",
          "D"
         ],
         "y": [
          100,
          100,
          100,
          100
         ]
        }
       ],
       "layout": {
        "legend": {
         "bgcolor": "#F5F6F9",
         "font": {
          "color": "#4D5663"
         }
        },
        "paper_bgcolor": "#F5F6F9",
        "plot_bgcolor": "#F5F6F9",
        "template": {
         "data": {
          "bar": [
           {
            "error_x": {
             "color": "#2a3f5f"
            },
            "error_y": {
             "color": "#2a3f5f"
            },
            "marker": {
             "line": {
              "color": "#E5ECF6",
              "width": 0.5
             }
            },
            "type": "bar"
           }
          ],
          "barpolar": [
           {
            "marker": {
             "line": {
              "color": "#E5ECF6",
              "width": 0.5
             }
            },
            "type": "barpolar"
           }
          ],
          "carpet": [
           {
            "aaxis": {
             "endlinecolor": "#2a3f5f",
             "gridcolor": "white",
             "linecolor": "white",
             "minorgridcolor": "white",
             "startlinecolor": "#2a3f5f"
            },
            "baxis": {
             "endlinecolor": "#2a3f5f",
             "gridcolor": "white",
             "linecolor": "white",
             "minorgridcolor": "white",
             "startlinecolor": "#2a3f5f"
            },
            "type": "carpet"
           }
          ],
          "choropleth": [
           {
            "colorbar": {
             "outlinewidth": 0,
             "ticks": ""
            },
            "type": "choropleth"
           }
          ],
          "contour": [
           {
            "colorbar": {
             "outlinewidth": 0,
             "ticks": ""
            },
            "colorscale": [
             [
              0,
              "#0d0887"
             ],
             [
              0.1111111111111111,
              "#46039f"
             ],
             [
              0.2222222222222222,
              "#7201a8"
             ],
             [
              0.3333333333333333,
              "#9c179e"
             ],
             [
              0.4444444444444444,
              "#bd3786"
             ],
             [
              0.5555555555555556,
              "#d8576b"
             ],
             [
              0.6666666666666666,
              "#ed7953"
             ],
             [
              0.7777777777777778,
              "#fb9f3a"
             ],
             [
              0.8888888888888888,
              "#fdca26"
             ],
             [
              1,
              "#f0f921"
             ]
            ],
            "type": "contour"
           }
          ],
          "contourcarpet": [
           {
            "colorbar": {
             "outlinewidth": 0,
             "ticks": ""
            },
            "type": "contourcarpet"
           }
          ],
          "heatmap": [
           {
            "colorbar": {
             "outlinewidth": 0,
             "ticks": ""
            },
            "colorscale": [
             [
              0,
              "#0d0887"
             ],
             [
              0.1111111111111111,
              "#46039f"
             ],
             [
              0.2222222222222222,
              "#7201a8"
             ],
             [
              0.3333333333333333,
              "#9c179e"
             ],
             [
              0.4444444444444444,
              "#bd3786"
             ],
             [
              0.5555555555555556,
              "#d8576b"
             ],
             [
              0.6666666666666666,
              "#ed7953"
             ],
             [
              0.7777777777777778,
              "#fb9f3a"
             ],
             [
              0.8888888888888888,
              "#fdca26"
             ],
             [
              1,
              "#f0f921"
             ]
            ],
            "type": "heatmap"
           }
          ],
          "heatmapgl": [
           {
            "colorbar": {
             "outlinewidth": 0,
             "ticks": ""
            },
            "colorscale": [
             [
              0,
              "#0d0887"
             ],
             [
              0.1111111111111111,
              "#46039f"
             ],
             [
              0.2222222222222222,
              "#7201a8"
             ],
             [
              0.3333333333333333,
              "#9c179e"
             ],
             [
              0.4444444444444444,
              "#bd3786"
             ],
             [
              0.5555555555555556,
              "#d8576b"
             ],
             [
              0.6666666666666666,
              "#ed7953"
             ],
             [
              0.7777777777777778,
              "#fb9f3a"
             ],
             [
              0.8888888888888888,
              "#fdca26"
             ],
             [
              1,
              "#f0f921"
             ]
            ],
            "type": "heatmapgl"
           }
          ],
          "histogram": [
           {
            "marker": {
             "colorbar": {
              "outlinewidth": 0,
              "ticks": ""
             }
            },
            "type": "histogram"
           }
          ],
          "histogram2d": [
           {
            "colorbar": {
             "outlinewidth": 0,
             "ticks": ""
            },
            "colorscale": [
             [
              0,
              "#0d0887"
             ],
             [
              0.1111111111111111,
              "#46039f"
             ],
             [
              0.2222222222222222,
              "#7201a8"
             ],
             [
              0.3333333333333333,
              "#9c179e"
             ],
             [
              0.4444444444444444,
              "#bd3786"
             ],
             [
              0.5555555555555556,
              "#d8576b"
             ],
             [
              0.6666666666666666,
              "#ed7953"
             ],
             [
              0.7777777777777778,
              "#fb9f3a"
             ],
             [
              0.8888888888888888,
              "#fdca26"
             ],
             [
              1,
              "#f0f921"
             ]
            ],
            "type": "histogram2d"
           }
          ],
          "histogram2dcontour": [
           {
            "colorbar": {
             "outlinewidth": 0,
             "ticks": ""
            },
            "colorscale": [
             [
              0,
              "#0d0887"
             ],
             [
              0.1111111111111111,
              "#46039f"
             ],
             [
              0.2222222222222222,
              "#7201a8"
             ],
             [
              0.3333333333333333,
              "#9c179e"
             ],
             [
              0.4444444444444444,
              "#bd3786"
             ],
             [
              0.5555555555555556,
              "#d8576b"
             ],
             [
              0.6666666666666666,
              "#ed7953"
             ],
             [
              0.7777777777777778,
              "#fb9f3a"
             ],
             [
              0.8888888888888888,
              "#fdca26"
             ],
             [
              1,
              "#f0f921"
             ]
            ],
            "type": "histogram2dcontour"
           }
          ],
          "mesh3d": [
           {
            "colorbar": {
             "outlinewidth": 0,
             "ticks": ""
            },
            "type": "mesh3d"
           }
          ],
          "parcoords": [
           {
            "line": {
             "colorbar": {
              "outlinewidth": 0,
              "ticks": ""
             }
            },
            "type": "parcoords"
           }
          ],
          "pie": [
           {
            "automargin": true,
            "type": "pie"
           }
          ],
          "scatter": [
           {
            "marker": {
             "colorbar": {
              "outlinewidth": 0,
              "ticks": ""
             }
            },
            "type": "scatter"
           }
          ],
          "scatter3d": [
           {
            "line": {
             "colorbar": {
              "outlinewidth": 0,
              "ticks": ""
             }
            },
            "marker": {
             "colorbar": {
              "outlinewidth": 0,
              "ticks": ""
             }
            },
            "type": "scatter3d"
           }
          ],
          "scattercarpet": [
           {
            "marker": {
             "colorbar": {
              "outlinewidth": 0,
              "ticks": ""
             }
            },
            "type": "scattercarpet"
           }
          ],
          "scattergeo": [
           {
            "marker": {
             "colorbar": {
              "outlinewidth": 0,
              "ticks": ""
             }
            },
            "type": "scattergeo"
           }
          ],
          "scattergl": [
           {
            "marker": {
             "colorbar": {
              "outlinewidth": 0,
              "ticks": ""
             }
            },
            "type": "scattergl"
           }
          ],
          "scattermapbox": [
           {
            "marker": {
             "colorbar": {
              "outlinewidth": 0,
              "ticks": ""
             }
            },
            "type": "scattermapbox"
           }
          ],
          "scatterpolar": [
           {
            "marker": {
             "colorbar": {
              "outlinewidth": 0,
              "ticks": ""
             }
            },
            "type": "scatterpolar"
           }
          ],
          "scatterpolargl": [
           {
            "marker": {
             "colorbar": {
              "outlinewidth": 0,
              "ticks": ""
             }
            },
            "type": "scatterpolargl"
           }
          ],
          "scatterternary": [
           {
            "marker": {
             "colorbar": {
              "outlinewidth": 0,
              "ticks": ""
             }
            },
            "type": "scatterternary"
           }
          ],
          "surface": [
           {
            "colorbar": {
             "outlinewidth": 0,
             "ticks": ""
            },
            "colorscale": [
             [
              0,
              "#0d0887"
             ],
             [
              0.1111111111111111,
              "#46039f"
             ],
             [
              0.2222222222222222,
              "#7201a8"
             ],
             [
              0.3333333333333333,
              "#9c179e"
             ],
             [
              0.4444444444444444,
              "#bd3786"
             ],
             [
              0.5555555555555556,
              "#d8576b"
             ],
             [
              0.6666666666666666,
              "#ed7953"
             ],
             [
              0.7777777777777778,
              "#fb9f3a"
             ],
             [
              0.8888888888888888,
              "#fdca26"
             ],
             [
              1,
              "#f0f921"
             ]
            ],
            "type": "surface"
           }
          ],
          "table": [
           {
            "cells": {
             "fill": {
              "color": "#EBF0F8"
             },
             "line": {
              "color": "white"
             }
            },
            "header": {
             "fill": {
              "color": "#C8D4E3"
             },
             "line": {
              "color": "white"
             }
            },
            "type": "table"
           }
          ]
         },
         "layout": {
          "annotationdefaults": {
           "arrowcolor": "#2a3f5f",
           "arrowhead": 0,
           "arrowwidth": 1
          },
          "coloraxis": {
           "colorbar": {
            "outlinewidth": 0,
            "ticks": ""
           }
          },
          "colorscale": {
           "diverging": [
            [
             0,
             "#8e0152"
            ],
            [
             0.1,
             "#c51b7d"
            ],
            [
             0.2,
             "#de77ae"
            ],
            [
             0.3,
             "#f1b6da"
            ],
            [
             0.4,
             "#fde0ef"
            ],
            [
             0.5,
             "#f7f7f7"
            ],
            [
             0.6,
             "#e6f5d0"
            ],
            [
             0.7,
             "#b8e186"
            ],
            [
             0.8,
             "#7fbc41"
            ],
            [
             0.9,
             "#4d9221"
            ],
            [
             1,
             "#276419"
            ]
           ],
           "sequential": [
            [
             0,
             "#0d0887"
            ],
            [
             0.1111111111111111,
             "#46039f"
            ],
            [
             0.2222222222222222,
             "#7201a8"
            ],
            [
             0.3333333333333333,
             "#9c179e"
            ],
            [
             0.4444444444444444,
             "#bd3786"
            ],
            [
             0.5555555555555556,
             "#d8576b"
            ],
            [
             0.6666666666666666,
             "#ed7953"
            ],
            [
             0.7777777777777778,
             "#fb9f3a"
            ],
            [
             0.8888888888888888,
             "#fdca26"
            ],
            [
             1,
             "#f0f921"
            ]
           ],
           "sequentialminus": [
            [
             0,
             "#0d0887"
            ],
            [
             0.1111111111111111,
             "#46039f"
            ],
            [
             0.2222222222222222,
             "#7201a8"
            ],
            [
             0.3333333333333333,
             "#9c179e"
            ],
            [
             0.4444444444444444,
             "#bd3786"
            ],
            [
             0.5555555555555556,
             "#d8576b"
            ],
            [
             0.6666666666666666,
             "#ed7953"
            ],
            [
             0.7777777777777778,
             "#fb9f3a"
            ],
            [
             0.8888888888888888,
             "#fdca26"
            ],
            [
             1,
             "#f0f921"
            ]
           ]
          },
          "colorway": [
           "#636efa",
           "#EF553B",
           "#00cc96",
           "#ab63fa",
           "#FFA15A",
           "#19d3f3",
           "#FF6692",
           "#B6E880",
           "#FF97FF",
           "#FECB52"
          ],
          "font": {
           "color": "#2a3f5f"
          },
          "geo": {
           "bgcolor": "white",
           "lakecolor": "white",
           "landcolor": "#E5ECF6",
           "showlakes": true,
           "showland": true,
           "subunitcolor": "white"
          },
          "hoverlabel": {
           "align": "left"
          },
          "hovermode": "closest",
          "mapbox": {
           "style": "light"
          },
          "paper_bgcolor": "white",
          "plot_bgcolor": "#E5ECF6",
          "polar": {
           "angularaxis": {
            "gridcolor": "white",
            "linecolor": "white",
            "ticks": ""
           },
           "bgcolor": "#E5ECF6",
           "radialaxis": {
            "gridcolor": "white",
            "linecolor": "white",
            "ticks": ""
           }
          },
          "scene": {
           "xaxis": {
            "backgroundcolor": "#E5ECF6",
            "gridcolor": "white",
            "gridwidth": 2,
            "linecolor": "white",
            "showbackground": true,
            "ticks": "",
            "zerolinecolor": "white"
           },
           "yaxis": {
            "backgroundcolor": "#E5ECF6",
            "gridcolor": "white",
            "gridwidth": 2,
            "linecolor": "white",
            "showbackground": true,
            "ticks": "",
            "zerolinecolor": "white"
           },
           "zaxis": {
            "backgroundcolor": "#E5ECF6",
            "gridcolor": "white",
            "gridwidth": 2,
            "linecolor": "white",
            "showbackground": true,
            "ticks": "",
            "zerolinecolor": "white"
           }
          },
          "shapedefaults": {
           "line": {
            "color": "#2a3f5f"
           }
          },
          "ternary": {
           "aaxis": {
            "gridcolor": "white",
            "linecolor": "white",
            "ticks": ""
           },
           "baxis": {
            "gridcolor": "white",
            "linecolor": "white",
            "ticks": ""
           },
           "bgcolor": "#E5ECF6",
           "caxis": {
            "gridcolor": "white",
            "linecolor": "white",
            "ticks": ""
           }
          },
          "title": {
           "x": 0.05
          },
          "xaxis": {
           "automargin": true,
           "gridcolor": "white",
           "linecolor": "white",
           "ticks": "",
           "title": {
            "standoff": 15
           },
           "zerolinecolor": "white",
           "zerolinewidth": 2
          },
          "yaxis": {
           "automargin": true,
           "gridcolor": "white",
           "linecolor": "white",
           "ticks": "",
           "title": {
            "standoff": 15
           },
           "zerolinecolor": "white",
           "zerolinewidth": 2
          }
         }
        },
        "title": {
         "font": {
          "color": "#4D5663"
         }
        },
        "xaxis": {
         "gridcolor": "#E1E5ED",
         "showgrid": true,
         "tickfont": {
          "color": "#4D5663"
         },
         "title": {
          "font": {
           "color": "#4D5663"
          },
          "text": ""
         },
         "zerolinecolor": "#E1E5ED"
        },
        "yaxis": {
         "gridcolor": "#E1E5ED",
         "showgrid": true,
         "tickfont": {
          "color": "#4D5663"
         },
         "title": {
          "font": {
           "color": "#4D5663"
          },
          "text": ""
         },
         "zerolinecolor": "#E1E5ED"
        }
       }
      },
      "text/html": [
       "<div>                            <div id=\"1b4c14be-7fda-4dd3-b6b3-67da6a120063\" class=\"plotly-graph-div\" style=\"height:525px; width:100%;\"></div>            <script type=\"text/javascript\">                require([\"plotly\"], function(Plotly) {                    window.PLOTLYENV=window.PLOTLYENV || {};\n",
       "                    window.PLOTLYENV.BASE_URL='https://plot.ly';                                    if (document.getElementById(\"1b4c14be-7fda-4dd3-b6b3-67da6a120063\")) {                    Plotly.newPlot(                        \"1b4c14be-7fda-4dd3-b6b3-67da6a120063\",                        [{\"marker\": {\"color\": \"rgba(255, 153, 51, 0.6)\", \"line\": {\"color\": \"rgba(255, 153, 51, 1.0)\", \"width\": 1}}, \"name\": \"None\", \"orientation\": \"v\", \"text\": \"\", \"type\": \"bar\", \"x\": [\"A\", \"B\", \"C\", \"D\"], \"y\": [100, 100, 100, 100]}],                        {\"legend\": {\"bgcolor\": \"#F5F6F9\", \"font\": {\"color\": \"#4D5663\"}}, \"paper_bgcolor\": \"#F5F6F9\", \"plot_bgcolor\": \"#F5F6F9\", \"template\": {\"data\": {\"bar\": [{\"error_x\": {\"color\": \"#2a3f5f\"}, \"error_y\": {\"color\": \"#2a3f5f\"}, \"marker\": {\"line\": {\"color\": \"#E5ECF6\", \"width\": 0.5}}, \"type\": \"bar\"}], \"barpolar\": [{\"marker\": {\"line\": {\"color\": \"#E5ECF6\", \"width\": 0.5}}, \"type\": \"barpolar\"}], \"carpet\": [{\"aaxis\": {\"endlinecolor\": \"#2a3f5f\", \"gridcolor\": \"white\", \"linecolor\": \"white\", \"minorgridcolor\": \"white\", \"startlinecolor\": \"#2a3f5f\"}, \"baxis\": {\"endlinecolor\": \"#2a3f5f\", \"gridcolor\": \"white\", \"linecolor\": \"white\", \"minorgridcolor\": \"white\", \"startlinecolor\": \"#2a3f5f\"}, \"type\": \"carpet\"}], \"choropleth\": [{\"colorbar\": {\"outlinewidth\": 0, \"ticks\": \"\"}, \"type\": \"choropleth\"}], \"contour\": [{\"colorbar\": {\"outlinewidth\": 0, \"ticks\": \"\"}, \"colorscale\": [[0.0, \"#0d0887\"], [0.1111111111111111, \"#46039f\"], [0.2222222222222222, \"#7201a8\"], [0.3333333333333333, \"#9c179e\"], [0.4444444444444444, \"#bd3786\"], [0.5555555555555556, \"#d8576b\"], [0.6666666666666666, \"#ed7953\"], [0.7777777777777778, \"#fb9f3a\"], [0.8888888888888888, \"#fdca26\"], [1.0, \"#f0f921\"]], \"type\": \"contour\"}], \"contourcarpet\": [{\"colorbar\": {\"outlinewidth\": 0, \"ticks\": \"\"}, \"type\": \"contourcarpet\"}], \"heatmap\": [{\"colorbar\": {\"outlinewidth\": 0, \"ticks\": \"\"}, \"colorscale\": [[0.0, \"#0d0887\"], [0.1111111111111111, \"#46039f\"], [0.2222222222222222, \"#7201a8\"], [0.3333333333333333, \"#9c179e\"], [0.4444444444444444, \"#bd3786\"], [0.5555555555555556, \"#d8576b\"], [0.6666666666666666, \"#ed7953\"], [0.7777777777777778, \"#fb9f3a\"], [0.8888888888888888, \"#fdca26\"], [1.0, \"#f0f921\"]], \"type\": \"heatmap\"}], \"heatmapgl\": [{\"colorbar\": {\"outlinewidth\": 0, \"ticks\": \"\"}, \"colorscale\": [[0.0, \"#0d0887\"], [0.1111111111111111, \"#46039f\"], [0.2222222222222222, \"#7201a8\"], [0.3333333333333333, \"#9c179e\"], [0.4444444444444444, \"#bd3786\"], [0.5555555555555556, \"#d8576b\"], [0.6666666666666666, \"#ed7953\"], [0.7777777777777778, \"#fb9f3a\"], [0.8888888888888888, \"#fdca26\"], [1.0, \"#f0f921\"]], \"type\": \"heatmapgl\"}], \"histogram\": [{\"marker\": {\"colorbar\": {\"outlinewidth\": 0, \"ticks\": \"\"}}, \"type\": \"histogram\"}], \"histogram2d\": [{\"colorbar\": {\"outlinewidth\": 0, \"ticks\": \"\"}, \"colorscale\": [[0.0, \"#0d0887\"], [0.1111111111111111, \"#46039f\"], [0.2222222222222222, \"#7201a8\"], [0.3333333333333333, \"#9c179e\"], [0.4444444444444444, \"#bd3786\"], [0.5555555555555556, \"#d8576b\"], [0.6666666666666666, \"#ed7953\"], [0.7777777777777778, \"#fb9f3a\"], [0.8888888888888888, \"#fdca26\"], [1.0, \"#f0f921\"]], \"type\": \"histogram2d\"}], \"histogram2dcontour\": [{\"colorbar\": {\"outlinewidth\": 0, \"ticks\": \"\"}, \"colorscale\": [[0.0, \"#0d0887\"], [0.1111111111111111, \"#46039f\"], [0.2222222222222222, \"#7201a8\"], [0.3333333333333333, \"#9c179e\"], [0.4444444444444444, \"#bd3786\"], [0.5555555555555556, \"#d8576b\"], [0.6666666666666666, \"#ed7953\"], [0.7777777777777778, \"#fb9f3a\"], [0.8888888888888888, \"#fdca26\"], [1.0, \"#f0f921\"]], \"type\": \"histogram2dcontour\"}], \"mesh3d\": [{\"colorbar\": {\"outlinewidth\": 0, \"ticks\": \"\"}, \"type\": \"mesh3d\"}], \"parcoords\": [{\"line\": {\"colorbar\": {\"outlinewidth\": 0, \"ticks\": \"\"}}, \"type\": \"parcoords\"}], \"pie\": [{\"automargin\": true, \"type\": \"pie\"}], \"scatter\": [{\"marker\": {\"colorbar\": {\"outlinewidth\": 0, \"ticks\": \"\"}}, \"type\": \"scatter\"}], \"scatter3d\": [{\"line\": {\"colorbar\": {\"outlinewidth\": 0, \"ticks\": \"\"}}, \"marker\": {\"colorbar\": {\"outlinewidth\": 0, \"ticks\": \"\"}}, \"type\": \"scatter3d\"}], \"scattercarpet\": [{\"marker\": {\"colorbar\": {\"outlinewidth\": 0, \"ticks\": \"\"}}, \"type\": \"scattercarpet\"}], \"scattergeo\": [{\"marker\": {\"colorbar\": {\"outlinewidth\": 0, \"ticks\": \"\"}}, \"type\": \"scattergeo\"}], \"scattergl\": [{\"marker\": {\"colorbar\": {\"outlinewidth\": 0, \"ticks\": \"\"}}, \"type\": \"scattergl\"}], \"scattermapbox\": [{\"marker\": {\"colorbar\": {\"outlinewidth\": 0, \"ticks\": \"\"}}, \"type\": \"scattermapbox\"}], \"scatterpolar\": [{\"marker\": {\"colorbar\": {\"outlinewidth\": 0, \"ticks\": \"\"}}, \"type\": \"scatterpolar\"}], \"scatterpolargl\": [{\"marker\": {\"colorbar\": {\"outlinewidth\": 0, \"ticks\": \"\"}}, \"type\": \"scatterpolargl\"}], \"scatterternary\": [{\"marker\": {\"colorbar\": {\"outlinewidth\": 0, \"ticks\": \"\"}}, \"type\": \"scatterternary\"}], \"surface\": [{\"colorbar\": {\"outlinewidth\": 0, \"ticks\": \"\"}, \"colorscale\": [[0.0, \"#0d0887\"], [0.1111111111111111, \"#46039f\"], [0.2222222222222222, \"#7201a8\"], [0.3333333333333333, \"#9c179e\"], [0.4444444444444444, \"#bd3786\"], [0.5555555555555556, \"#d8576b\"], [0.6666666666666666, \"#ed7953\"], [0.7777777777777778, \"#fb9f3a\"], [0.8888888888888888, \"#fdca26\"], [1.0, \"#f0f921\"]], \"type\": \"surface\"}], \"table\": [{\"cells\": {\"fill\": {\"color\": \"#EBF0F8\"}, \"line\": {\"color\": \"white\"}}, \"header\": {\"fill\": {\"color\": \"#C8D4E3\"}, \"line\": {\"color\": \"white\"}}, \"type\": \"table\"}]}, \"layout\": {\"annotationdefaults\": {\"arrowcolor\": \"#2a3f5f\", \"arrowhead\": 0, \"arrowwidth\": 1}, \"coloraxis\": {\"colorbar\": {\"outlinewidth\": 0, \"ticks\": \"\"}}, \"colorscale\": {\"diverging\": [[0, \"#8e0152\"], [0.1, \"#c51b7d\"], [0.2, \"#de77ae\"], [0.3, \"#f1b6da\"], [0.4, \"#fde0ef\"], [0.5, \"#f7f7f7\"], [0.6, \"#e6f5d0\"], [0.7, \"#b8e186\"], [0.8, \"#7fbc41\"], [0.9, \"#4d9221\"], [1, \"#276419\"]], \"sequential\": [[0.0, \"#0d0887\"], [0.1111111111111111, \"#46039f\"], [0.2222222222222222, \"#7201a8\"], [0.3333333333333333, \"#9c179e\"], [0.4444444444444444, \"#bd3786\"], [0.5555555555555556, \"#d8576b\"], [0.6666666666666666, \"#ed7953\"], [0.7777777777777778, \"#fb9f3a\"], [0.8888888888888888, \"#fdca26\"], [1.0, \"#f0f921\"]], \"sequentialminus\": [[0.0, \"#0d0887\"], [0.1111111111111111, \"#46039f\"], [0.2222222222222222, \"#7201a8\"], [0.3333333333333333, \"#9c179e\"], [0.4444444444444444, \"#bd3786\"], [0.5555555555555556, \"#d8576b\"], [0.6666666666666666, \"#ed7953\"], [0.7777777777777778, \"#fb9f3a\"], [0.8888888888888888, \"#fdca26\"], [1.0, \"#f0f921\"]]}, \"colorway\": [\"#636efa\", \"#EF553B\", \"#00cc96\", \"#ab63fa\", \"#FFA15A\", \"#19d3f3\", \"#FF6692\", \"#B6E880\", \"#FF97FF\", \"#FECB52\"], \"font\": {\"color\": \"#2a3f5f\"}, \"geo\": {\"bgcolor\": \"white\", \"lakecolor\": \"white\", \"landcolor\": \"#E5ECF6\", \"showlakes\": true, \"showland\": true, \"subunitcolor\": \"white\"}, \"hoverlabel\": {\"align\": \"left\"}, \"hovermode\": \"closest\", \"mapbox\": {\"style\": \"light\"}, \"paper_bgcolor\": \"white\", \"plot_bgcolor\": \"#E5ECF6\", \"polar\": {\"angularaxis\": {\"gridcolor\": \"white\", \"linecolor\": \"white\", \"ticks\": \"\"}, \"bgcolor\": \"#E5ECF6\", \"radialaxis\": {\"gridcolor\": \"white\", \"linecolor\": \"white\", \"ticks\": \"\"}}, \"scene\": {\"xaxis\": {\"backgroundcolor\": \"#E5ECF6\", \"gridcolor\": \"white\", \"gridwidth\": 2, \"linecolor\": \"white\", \"showbackground\": true, \"ticks\": \"\", \"zerolinecolor\": \"white\"}, \"yaxis\": {\"backgroundcolor\": \"#E5ECF6\", \"gridcolor\": \"white\", \"gridwidth\": 2, \"linecolor\": \"white\", \"showbackground\": true, \"ticks\": \"\", \"zerolinecolor\": \"white\"}, \"zaxis\": {\"backgroundcolor\": \"#E5ECF6\", \"gridcolor\": \"white\", \"gridwidth\": 2, \"linecolor\": \"white\", \"showbackground\": true, \"ticks\": \"\", \"zerolinecolor\": \"white\"}}, \"shapedefaults\": {\"line\": {\"color\": \"#2a3f5f\"}}, \"ternary\": {\"aaxis\": {\"gridcolor\": \"white\", \"linecolor\": \"white\", \"ticks\": \"\"}, \"baxis\": {\"gridcolor\": \"white\", \"linecolor\": \"white\", \"ticks\": \"\"}, \"bgcolor\": \"#E5ECF6\", \"caxis\": {\"gridcolor\": \"white\", \"linecolor\": \"white\", \"ticks\": \"\"}}, \"title\": {\"x\": 0.05}, \"xaxis\": {\"automargin\": true, \"gridcolor\": \"white\", \"linecolor\": \"white\", \"ticks\": \"\", \"title\": {\"standoff\": 15}, \"zerolinecolor\": \"white\", \"zerolinewidth\": 2}, \"yaxis\": {\"automargin\": true, \"gridcolor\": \"white\", \"linecolor\": \"white\", \"ticks\": \"\", \"title\": {\"standoff\": 15}, \"zerolinecolor\": \"white\", \"zerolinewidth\": 2}}}, \"title\": {\"font\": {\"color\": \"#4D5663\"}}, \"xaxis\": {\"gridcolor\": \"#E1E5ED\", \"showgrid\": true, \"tickfont\": {\"color\": \"#4D5663\"}, \"title\": {\"font\": {\"color\": \"#4D5663\"}, \"text\": \"\"}, \"zerolinecolor\": \"#E1E5ED\"}, \"yaxis\": {\"gridcolor\": \"#E1E5ED\", \"showgrid\": true, \"tickfont\": {\"color\": \"#4D5663\"}, \"title\": {\"font\": {\"color\": \"#4D5663\"}, \"text\": \"\"}, \"zerolinecolor\": \"#E1E5ED\"}},                        {\"showLink\": true, \"linkText\": \"Export to plot.ly\", \"plotlyServerURL\": \"https://plot.ly\", \"responsive\": true}                    ).then(function(){\n",
       "                            \n",
       "var gd = document.getElementById('1b4c14be-7fda-4dd3-b6b3-67da6a120063');\n",
       "var x = new MutationObserver(function (mutations, observer) {{\n",
       "        var display = window.getComputedStyle(gd).display;\n",
       "        if (!display || display === 'none') {{\n",
       "            console.log([gd, 'removed!']);\n",
       "            Plotly.purge(gd);\n",
       "            observer.disconnect();\n",
       "        }}\n",
       "}});\n",
       "\n",
       "// Listen for the removal of the full notebook cells\n",
       "var notebookContainer = gd.closest('#notebook-container');\n",
       "if (notebookContainer) {{\n",
       "    x.observe(notebookContainer, {childList: true});\n",
       "}}\n",
       "\n",
       "// Listen for the clearing of the current output cell\n",
       "var outputEl = gd.closest('.output');\n",
       "if (outputEl) {{\n",
       "    x.observe(outputEl, {childList: true});\n",
       "}}\n",
       "\n",
       "                        })                };                });            </script>        </div>"
      ]
     },
     "metadata": {},
     "output_type": "display_data"
    }
   ],
   "source": [
    "df.count().iplot(kind='bar')"
   ]
  },
  {
   "cell_type": "markdown",
   "metadata": {},
   "source": [
    "## Boxplots"
   ]
  },
  {
   "cell_type": "code",
   "execution_count": 13,
   "metadata": {},
   "outputs": [
    {
     "data": {
      "application/vnd.plotly.v1+json": {
       "config": {
        "linkText": "Export to plot.ly",
        "plotlyServerURL": "https://plot.ly",
        "showLink": true
       },
       "data": [
        {
         "boxpoints": false,
         "line": {
          "width": 1.3
         },
         "marker": {
          "color": "rgba(255, 153, 51, 1.0)"
         },
         "name": "A",
         "orientation": "v",
         "type": "box",
         "y": [
          0.40612300580052474,
          -0.4787833960912556,
          -0.5447183158159912,
          -0.20484654382912085,
          -0.7772111801679075,
          0.7717397677804158,
          1.223436162464635,
          0.06772192697459302,
          0.25456332871080894,
          0.4048565702822834,
          -1.8148879337440906,
          -0.4388441296971543,
          -1.3924436354070289,
          0.6956369095551673,
          -0.8667450625264915,
          -0.6310161646563152,
          1.3003534836796835,
          0.2083137339127651,
          -0.8988700584540924,
          -0.7232670196258586,
          0.31903378409831123,
          -0.20316081187997037,
          1.5874187069817816,
          0.1923467175146929,
          1.1187010598163798,
          -0.7252616193055038,
          0.1801496551521485,
          -1.5140514229709021,
          -1.288260457541485,
          -1.3610877459759907,
          1.7869981630955272,
          0.05692588153120884,
          0.07490690988116719,
          1.3928879350198191,
          -0.09806224795777757,
          1.3917376836181254,
          0.3685419969405524,
          -0.49312306302326253,
          1.4974261447856545,
          -0.3689397108877411,
          -0.9540378493340411,
          0.059716412783843244,
          -0.772836360066239,
          -0.5305614528169932,
          -0.17876090805211597,
          0.263152168058798,
          0.215210090246341,
          1.4589104195751386,
          -0.8539813979762173,
          -0.520159892769052,
          -0.20281248626718093,
          -0.8255111198294761,
          -0.2448982097759442,
          0.1411939476815836,
          0.2020771740684055,
          -1.0559833258091613,
          -1.379739410950068,
          -0.5006662209682377,
          -0.9316129498404765,
          -2.5090916216195764,
          -1.6150447193491557,
          0.21338471972146297,
          0.059999029120805035,
          -0.5109257729777709,
          -0.2268722852054298,
          0.9983442362068591,
          1.1897280575947924,
          0.08124989687103532,
          1.5414292850954545,
          2.25475973576895,
          -1.111730112114252,
          -1.1144069288786815,
          1.114299604592313,
          -0.8158645068290735,
          0.10198790485908782,
          -1.7754246108252718,
          -1.3188149745985318,
          1.4249768136759138,
          0.5502074996929022,
          -0.2767388889975246,
          0.27891988080565244,
          -1.2686878066632947,
          -0.7842613084336968,
          0.6238673940138396,
          1.9328429554944817,
          -0.17767907887367818,
          -2.127060962381966,
          -2.433293326123087,
          -1.304045908210188,
          -0.21858974062276904,
          -1.562354340089511,
          -1.1897706253336464,
          -0.03282994484540824,
          -0.1315262283778394,
          0.8219686893831281,
          -0.6900875321833959,
          0.9314720974852225,
          -0.12183184191563845,
          2.2719105496178975,
          0.5242306179214224
         ]
        },
        {
         "boxpoints": false,
         "line": {
          "width": 1.3
         },
         "marker": {
          "color": "rgba(55, 128, 191, 1.0)"
         },
         "name": "B",
         "orientation": "v",
         "type": "box",
         "y": [
          -0.36259548072853875,
          -1.267870868137753,
          -1.0091462104932183,
          -1.0110585705993747,
          2.0762507530042895,
          1.4881995414855038,
          -0.26646024128323953,
          0.11686341059463608,
          2.21425720893623,
          -0.5021126738974973,
          -0.5257142342177114,
          -0.8571176187528038,
          -0.6092482759913191,
          -0.08686320715520057,
          0.36105712954854563,
          0.857438327524079,
          0.21106363592610627,
          0.11927464514128387,
          1.9107081723052977,
          0.11726142499280247,
          0.15562165513999635,
          0.17984294181999808,
          0.42853832330408864,
          1.4815379150422912,
          0.9806138358460342,
          -0.8138989560324716,
          0.45988968024795274,
          0.40153056231663187,
          0.3858907016348598,
          0.29131595025742535,
          0.0995816061413352,
          -0.44331204085049064,
          -2.001837597279621,
          -0.26869125348082745,
          -1.2968267576274637,
          0.23345037240733127,
          -0.4671918976965135,
          -1.3841503189198816,
          -0.44954618641312155,
          2.1093747200978687,
          0.7018818255134294,
          -0.6782062082975912,
          0.28486767051026746,
          -0.4252864697271743,
          -0.04075062367543577,
          -0.12190918216816145,
          0.40667369197181796,
          1.3213925954510657,
          -0.2122494509573179,
          0.5281694741678093,
          2.229210068526433,
          1.9412193570376737,
          2.036390856146347,
          -0.6758525191223714,
          1.3283170028978404,
          0.230437983084068,
          0.6291741142455162,
          -1.0178739201970899,
          -0.8511990469438749,
          -0.1136179868905994,
          -0.44956504785723433,
          -1.4236153338809452,
          -2.5579823199668876,
          -0.313401670583427,
          0.23394667100442418,
          -0.6917842239920057,
          1.1369538575013078,
          0.741038314372609,
          0.3626852950666634,
          0.9124505835466721,
          -1.2065960914879164,
          -0.5605693444006637,
          1.32927682001344,
          1.1453456267611448,
          -0.5839163862401376,
          1.0888454997300678,
          0.34451912392908945,
          -2.0268651130316186,
          -1.8916866438700928,
          0.45964397046328515,
          2.1584681393854055,
          -0.074148304304722,
          -0.6384037506621307,
          -0.17356245521649813,
          -1.0843504488078473,
          0.6019912533839158,
          -0.0864499869337545,
          -0.6426495556702666,
          -0.9469150759863427,
          1.1266066812979123,
          -1.0874503292056883,
          0.6224487504191203,
          -0.21084575656209098,
          2.1368173265227526,
          0.4709018271403978,
          -2.1699468729069555,
          -0.9401270264259753,
          -0.3052356128961729,
          1.006669632826666,
          0.5873935540844651
         ]
        },
        {
         "boxpoints": false,
         "line": {
          "width": 1.3
         },
         "marker": {
          "color": "rgba(50, 171, 96, 1.0)"
         },
         "name": "C",
         "orientation": "v",
         "type": "box",
         "y": [
          0.7300999175680266,
          0.9359512920652354,
          -0.46772878327023787,
          0.1656215541316715,
          0.9749059887235069,
          -0.6489966317203343,
          -0.4529938481673228,
          2.457862691403099,
          1.1500951419328709,
          -0.3961888626713159,
          1.0320959236004006,
          -0.64804598418807,
          1.4199355897959525,
          0.31001717805344414,
          -1.1563896696168525,
          -0.37681566605169214,
          -0.041437465530773314,
          1.1557619578669158,
          0.12571611878884073,
          0.1652122595506704,
          -0.636218601062783,
          0.1500785174473584,
          1.4145088404802788,
          -0.1925130409596141,
          0.8778952612402464,
          -1.7415330965465772,
          -0.520524509281832,
          1.0656521689412484,
          0.21090134998581206,
          0.06042914559657147,
          1.8045345020877315,
          0.3516215045020242,
          -0.7955694173030421,
          0.5017330286337357,
          -0.3744622282424553,
          -0.08793779877707011,
          0.9768924208169164,
          1.3903896999832768,
          -0.2896771281573561,
          -1.570775817214485,
          -0.47071662220943644,
          0.652294892191082,
          0.45877268717023156,
          -0.9588887995588409,
          1.3841487332315288,
          1.0909082999527209,
          0.21879189531072746,
          0.6133897809744157,
          0.8341847537277423,
          -1.2140180709886772,
          0.2599685724388422,
          1.2211687242528722,
          -0.9632472350552475,
          0.5786800057745015,
          -1.0333760135002024,
          3.0749027191828917,
          -0.4369437620171544,
          0.4892783343764829,
          0.19851273240257877,
          -1.0883959321328498,
          -0.2901029419889698,
          -0.11280797172915796,
          -0.21230189742014346,
          0.34923059083591856,
          -0.2652379250139706,
          0.1642795863151399,
          -2.034270442332297,
          1.838864888237644,
          -0.5522879528266724,
          0.45421264729395944,
          0.4604265026794926,
          1.7073774379388704,
          0.4690264488716998,
          1.117451602046788,
          -0.6019251619409158,
          -0.6074946211011368,
          -0.4877452061110409,
          -1.010759073987423,
          -1.6882387751844077,
          -0.6192199912377896,
          1.397768042732685,
          -2.252389072675059,
          0.1456954440636028,
          1.9630312799831615,
          -0.645599318436487,
          0.1514309872762784,
          -0.6091694402556801,
          -0.43940515041138384,
          0.7084113578944723,
          -0.7558410910128958,
          1.2050351786504445,
          0.1648852821669212,
          0.23931400278991122,
          0.5404755161546214,
          -0.7616204026896706,
          -1.2712321463523877,
          1.1921933964056537,
          0.08286316086141651,
          -0.21122252044048428,
          -0.2228272088441778
         ]
        },
        {
         "boxpoints": false,
         "line": {
          "width": 1.3
         },
         "marker": {
          "color": "rgba(128, 0, 128, 1.0)"
         },
         "name": "D",
         "orientation": "v",
         "type": "box",
         "y": [
          -1.391714870652499,
          -1.3213972657278188,
          -1.0271811952353889,
          0.9962234991310107,
          1.2226397567161182,
          -0.8575377773299411,
          -0.30816228166520865,
          0.1689329310912175,
          0.015619846900224655,
          -0.6079788226247328,
          0.2267230348814204,
          0.37738756189305434,
          0.5422727281889766,
          -0.4581361110535218,
          -0.9912642222559744,
          -0.39382604797004483,
          -0.7772906585003634,
          0.04360371765437144,
          -0.9366631305697488,
          1.215160883960563,
          0.2805175133715498,
          -0.10352642616390643,
          -0.8370185658573583,
          -0.9776969405446144,
          0.37902925007926175,
          0.9520178386551742,
          -1.1174258856771637,
          -0.23437327734446223,
          0.6256778491573876,
          0.702691000579248,
          -1.35175457704018,
          -0.24970282560289528,
          0.5099588492730112,
          0.20292825131545483,
          -1.0545718162153166,
          -0.4451161798596223,
          -0.7240781254060488,
          1.1018313795303531,
          1.286538140555478,
          -1.7964720822677995,
          0.06999744508310896,
          -0.09399988117214235,
          -1.324986856556876,
          -0.6011689610233697,
          -0.2178263922127269,
          -0.369357529356511,
          -2.09361973829419,
          -1.8556562850361287,
          0.9673376235807268,
          0.9324350813607561,
          1.1789174080712659,
          -0.9053472149956552,
          -1.7561822398843974,
          -0.5819439646822652,
          -0.7242174506600142,
          0.06950853321165076,
          0.1164100011339079,
          0.9918425731024703,
          -3.194015438643409,
          0.5661954446322105,
          -1.73866974183632,
          -1.1557899433927266,
          0.5891302018733651,
          2.0273163252737847,
          -1.1282958500612157,
          0.6336793733624113,
          -0.8568664555674879,
          -0.18339916081354923,
          -0.32372658311166286,
          0.15659676849251153,
          0.5313764768383269,
          -1.7645581551702592,
          -0.1943429703255851,
          -0.09112992548499607,
          -0.5225241201325945,
          -0.6525910552681894,
          -0.6221431146860016,
          -1.3648065781438927,
          0.9079587489874479,
          0.6069304589878313,
          -0.4183165445387682,
          -0.5732128542919855,
          -0.5406009293093037,
          -0.8972224037382185,
          0.7715751366997439,
          0.4502496948551281,
          -1.9035987691691223,
          -0.07378497247938647,
          -0.5700156135647453,
          -0.8601354011299753,
          -0.9649325204165909,
          -0.20467917818589496,
          1.0405949629047302,
          0.6528409838036306,
          -1.3357279796330868,
          -1.5045825200601821,
          -1.3508377921496526,
          0.38427399183063565,
          0.6155110792018796,
          0.392099316732869
         ]
        }
       ],
       "layout": {
        "legend": {
         "bgcolor": "#F5F6F9",
         "font": {
          "color": "#4D5663"
         }
        },
        "paper_bgcolor": "#F5F6F9",
        "plot_bgcolor": "#F5F6F9",
        "template": {
         "data": {
          "bar": [
           {
            "error_x": {
             "color": "#2a3f5f"
            },
            "error_y": {
             "color": "#2a3f5f"
            },
            "marker": {
             "line": {
              "color": "#E5ECF6",
              "width": 0.5
             }
            },
            "type": "bar"
           }
          ],
          "barpolar": [
           {
            "marker": {
             "line": {
              "color": "#E5ECF6",
              "width": 0.5
             }
            },
            "type": "barpolar"
           }
          ],
          "carpet": [
           {
            "aaxis": {
             "endlinecolor": "#2a3f5f",
             "gridcolor": "white",
             "linecolor": "white",
             "minorgridcolor": "white",
             "startlinecolor": "#2a3f5f"
            },
            "baxis": {
             "endlinecolor": "#2a3f5f",
             "gridcolor": "white",
             "linecolor": "white",
             "minorgridcolor": "white",
             "startlinecolor": "#2a3f5f"
            },
            "type": "carpet"
           }
          ],
          "choropleth": [
           {
            "colorbar": {
             "outlinewidth": 0,
             "ticks": ""
            },
            "type": "choropleth"
           }
          ],
          "contour": [
           {
            "colorbar": {
             "outlinewidth": 0,
             "ticks": ""
            },
            "colorscale": [
             [
              0,
              "#0d0887"
             ],
             [
              0.1111111111111111,
              "#46039f"
             ],
             [
              0.2222222222222222,
              "#7201a8"
             ],
             [
              0.3333333333333333,
              "#9c179e"
             ],
             [
              0.4444444444444444,
              "#bd3786"
             ],
             [
              0.5555555555555556,
              "#d8576b"
             ],
             [
              0.6666666666666666,
              "#ed7953"
             ],
             [
              0.7777777777777778,
              "#fb9f3a"
             ],
             [
              0.8888888888888888,
              "#fdca26"
             ],
             [
              1,
              "#f0f921"
             ]
            ],
            "type": "contour"
           }
          ],
          "contourcarpet": [
           {
            "colorbar": {
             "outlinewidth": 0,
             "ticks": ""
            },
            "type": "contourcarpet"
           }
          ],
          "heatmap": [
           {
            "colorbar": {
             "outlinewidth": 0,
             "ticks": ""
            },
            "colorscale": [
             [
              0,
              "#0d0887"
             ],
             [
              0.1111111111111111,
              "#46039f"
             ],
             [
              0.2222222222222222,
              "#7201a8"
             ],
             [
              0.3333333333333333,
              "#9c179e"
             ],
             [
              0.4444444444444444,
              "#bd3786"
             ],
             [
              0.5555555555555556,
              "#d8576b"
             ],
             [
              0.6666666666666666,
              "#ed7953"
             ],
             [
              0.7777777777777778,
              "#fb9f3a"
             ],
             [
              0.8888888888888888,
              "#fdca26"
             ],
             [
              1,
              "#f0f921"
             ]
            ],
            "type": "heatmap"
           }
          ],
          "heatmapgl": [
           {
            "colorbar": {
             "outlinewidth": 0,
             "ticks": ""
            },
            "colorscale": [
             [
              0,
              "#0d0887"
             ],
             [
              0.1111111111111111,
              "#46039f"
             ],
             [
              0.2222222222222222,
              "#7201a8"
             ],
             [
              0.3333333333333333,
              "#9c179e"
             ],
             [
              0.4444444444444444,
              "#bd3786"
             ],
             [
              0.5555555555555556,
              "#d8576b"
             ],
             [
              0.6666666666666666,
              "#ed7953"
             ],
             [
              0.7777777777777778,
              "#fb9f3a"
             ],
             [
              0.8888888888888888,
              "#fdca26"
             ],
             [
              1,
              "#f0f921"
             ]
            ],
            "type": "heatmapgl"
           }
          ],
          "histogram": [
           {
            "marker": {
             "colorbar": {
              "outlinewidth": 0,
              "ticks": ""
             }
            },
            "type": "histogram"
           }
          ],
          "histogram2d": [
           {
            "colorbar": {
             "outlinewidth": 0,
             "ticks": ""
            },
            "colorscale": [
             [
              0,
              "#0d0887"
             ],
             [
              0.1111111111111111,
              "#46039f"
             ],
             [
              0.2222222222222222,
              "#7201a8"
             ],
             [
              0.3333333333333333,
              "#9c179e"
             ],
             [
              0.4444444444444444,
              "#bd3786"
             ],
             [
              0.5555555555555556,
              "#d8576b"
             ],
             [
              0.6666666666666666,
              "#ed7953"
             ],
             [
              0.7777777777777778,
              "#fb9f3a"
             ],
             [
              0.8888888888888888,
              "#fdca26"
             ],
             [
              1,
              "#f0f921"
             ]
            ],
            "type": "histogram2d"
           }
          ],
          "histogram2dcontour": [
           {
            "colorbar": {
             "outlinewidth": 0,
             "ticks": ""
            },
            "colorscale": [
             [
              0,
              "#0d0887"
             ],
             [
              0.1111111111111111,
              "#46039f"
             ],
             [
              0.2222222222222222,
              "#7201a8"
             ],
             [
              0.3333333333333333,
              "#9c179e"
             ],
             [
              0.4444444444444444,
              "#bd3786"
             ],
             [
              0.5555555555555556,
              "#d8576b"
             ],
             [
              0.6666666666666666,
              "#ed7953"
             ],
             [
              0.7777777777777778,
              "#fb9f3a"
             ],
             [
              0.8888888888888888,
              "#fdca26"
             ],
             [
              1,
              "#f0f921"
             ]
            ],
            "type": "histogram2dcontour"
           }
          ],
          "mesh3d": [
           {
            "colorbar": {
             "outlinewidth": 0,
             "ticks": ""
            },
            "type": "mesh3d"
           }
          ],
          "parcoords": [
           {
            "line": {
             "colorbar": {
              "outlinewidth": 0,
              "ticks": ""
             }
            },
            "type": "parcoords"
           }
          ],
          "pie": [
           {
            "automargin": true,
            "type": "pie"
           }
          ],
          "scatter": [
           {
            "marker": {
             "colorbar": {
              "outlinewidth": 0,
              "ticks": ""
             }
            },
            "type": "scatter"
           }
          ],
          "scatter3d": [
           {
            "line": {
             "colorbar": {
              "outlinewidth": 0,
              "ticks": ""
             }
            },
            "marker": {
             "colorbar": {
              "outlinewidth": 0,
              "ticks": ""
             }
            },
            "type": "scatter3d"
           }
          ],
          "scattercarpet": [
           {
            "marker": {
             "colorbar": {
              "outlinewidth": 0,
              "ticks": ""
             }
            },
            "type": "scattercarpet"
           }
          ],
          "scattergeo": [
           {
            "marker": {
             "colorbar": {
              "outlinewidth": 0,
              "ticks": ""
             }
            },
            "type": "scattergeo"
           }
          ],
          "scattergl": [
           {
            "marker": {
             "colorbar": {
              "outlinewidth": 0,
              "ticks": ""
             }
            },
            "type": "scattergl"
           }
          ],
          "scattermapbox": [
           {
            "marker": {
             "colorbar": {
              "outlinewidth": 0,
              "ticks": ""
             }
            },
            "type": "scattermapbox"
           }
          ],
          "scatterpolar": [
           {
            "marker": {
             "colorbar": {
              "outlinewidth": 0,
              "ticks": ""
             }
            },
            "type": "scatterpolar"
           }
          ],
          "scatterpolargl": [
           {
            "marker": {
             "colorbar": {
              "outlinewidth": 0,
              "ticks": ""
             }
            },
            "type": "scatterpolargl"
           }
          ],
          "scatterternary": [
           {
            "marker": {
             "colorbar": {
              "outlinewidth": 0,
              "ticks": ""
             }
            },
            "type": "scatterternary"
           }
          ],
          "surface": [
           {
            "colorbar": {
             "outlinewidth": 0,
             "ticks": ""
            },
            "colorscale": [
             [
              0,
              "#0d0887"
             ],
             [
              0.1111111111111111,
              "#46039f"
             ],
             [
              0.2222222222222222,
              "#7201a8"
             ],
             [
              0.3333333333333333,
              "#9c179e"
             ],
             [
              0.4444444444444444,
              "#bd3786"
             ],
             [
              0.5555555555555556,
              "#d8576b"
             ],
             [
              0.6666666666666666,
              "#ed7953"
             ],
             [
              0.7777777777777778,
              "#fb9f3a"
             ],
             [
              0.8888888888888888,
              "#fdca26"
             ],
             [
              1,
              "#f0f921"
             ]
            ],
            "type": "surface"
           }
          ],
          "table": [
           {
            "cells": {
             "fill": {
              "color": "#EBF0F8"
             },
             "line": {
              "color": "white"
             }
            },
            "header": {
             "fill": {
              "color": "#C8D4E3"
             },
             "line": {
              "color": "white"
             }
            },
            "type": "table"
           }
          ]
         },
         "layout": {
          "annotationdefaults": {
           "arrowcolor": "#2a3f5f",
           "arrowhead": 0,
           "arrowwidth": 1
          },
          "coloraxis": {
           "colorbar": {
            "outlinewidth": 0,
            "ticks": ""
           }
          },
          "colorscale": {
           "diverging": [
            [
             0,
             "#8e0152"
            ],
            [
             0.1,
             "#c51b7d"
            ],
            [
             0.2,
             "#de77ae"
            ],
            [
             0.3,
             "#f1b6da"
            ],
            [
             0.4,
             "#fde0ef"
            ],
            [
             0.5,
             "#f7f7f7"
            ],
            [
             0.6,
             "#e6f5d0"
            ],
            [
             0.7,
             "#b8e186"
            ],
            [
             0.8,
             "#7fbc41"
            ],
            [
             0.9,
             "#4d9221"
            ],
            [
             1,
             "#276419"
            ]
           ],
           "sequential": [
            [
             0,
             "#0d0887"
            ],
            [
             0.1111111111111111,
             "#46039f"
            ],
            [
             0.2222222222222222,
             "#7201a8"
            ],
            [
             0.3333333333333333,
             "#9c179e"
            ],
            [
             0.4444444444444444,
             "#bd3786"
            ],
            [
             0.5555555555555556,
             "#d8576b"
            ],
            [
             0.6666666666666666,
             "#ed7953"
            ],
            [
             0.7777777777777778,
             "#fb9f3a"
            ],
            [
             0.8888888888888888,
             "#fdca26"
            ],
            [
             1,
             "#f0f921"
            ]
           ],
           "sequentialminus": [
            [
             0,
             "#0d0887"
            ],
            [
             0.1111111111111111,
             "#46039f"
            ],
            [
             0.2222222222222222,
             "#7201a8"
            ],
            [
             0.3333333333333333,
             "#9c179e"
            ],
            [
             0.4444444444444444,
             "#bd3786"
            ],
            [
             0.5555555555555556,
             "#d8576b"
            ],
            [
             0.6666666666666666,
             "#ed7953"
            ],
            [
             0.7777777777777778,
             "#fb9f3a"
            ],
            [
             0.8888888888888888,
             "#fdca26"
            ],
            [
             1,
             "#f0f921"
            ]
           ]
          },
          "colorway": [
           "#636efa",
           "#EF553B",
           "#00cc96",
           "#ab63fa",
           "#FFA15A",
           "#19d3f3",
           "#FF6692",
           "#B6E880",
           "#FF97FF",
           "#FECB52"
          ],
          "font": {
           "color": "#2a3f5f"
          },
          "geo": {
           "bgcolor": "white",
           "lakecolor": "white",
           "landcolor": "#E5ECF6",
           "showlakes": true,
           "showland": true,
           "subunitcolor": "white"
          },
          "hoverlabel": {
           "align": "left"
          },
          "hovermode": "closest",
          "mapbox": {
           "style": "light"
          },
          "paper_bgcolor": "white",
          "plot_bgcolor": "#E5ECF6",
          "polar": {
           "angularaxis": {
            "gridcolor": "white",
            "linecolor": "white",
            "ticks": ""
           },
           "bgcolor": "#E5ECF6",
           "radialaxis": {
            "gridcolor": "white",
            "linecolor": "white",
            "ticks": ""
           }
          },
          "scene": {
           "xaxis": {
            "backgroundcolor": "#E5ECF6",
            "gridcolor": "white",
            "gridwidth": 2,
            "linecolor": "white",
            "showbackground": true,
            "ticks": "",
            "zerolinecolor": "white"
           },
           "yaxis": {
            "backgroundcolor": "#E5ECF6",
            "gridcolor": "white",
            "gridwidth": 2,
            "linecolor": "white",
            "showbackground": true,
            "ticks": "",
            "zerolinecolor": "white"
           },
           "zaxis": {
            "backgroundcolor": "#E5ECF6",
            "gridcolor": "white",
            "gridwidth": 2,
            "linecolor": "white",
            "showbackground": true,
            "ticks": "",
            "zerolinecolor": "white"
           }
          },
          "shapedefaults": {
           "line": {
            "color": "#2a3f5f"
           }
          },
          "ternary": {
           "aaxis": {
            "gridcolor": "white",
            "linecolor": "white",
            "ticks": ""
           },
           "baxis": {
            "gridcolor": "white",
            "linecolor": "white",
            "ticks": ""
           },
           "bgcolor": "#E5ECF6",
           "caxis": {
            "gridcolor": "white",
            "linecolor": "white",
            "ticks": ""
           }
          },
          "title": {
           "x": 0.05
          },
          "xaxis": {
           "automargin": true,
           "gridcolor": "white",
           "linecolor": "white",
           "ticks": "",
           "title": {
            "standoff": 15
           },
           "zerolinecolor": "white",
           "zerolinewidth": 2
          },
          "yaxis": {
           "automargin": true,
           "gridcolor": "white",
           "linecolor": "white",
           "ticks": "",
           "title": {
            "standoff": 15
           },
           "zerolinecolor": "white",
           "zerolinewidth": 2
          }
         }
        },
        "title": {
         "font": {
          "color": "#4D5663"
         }
        },
        "xaxis": {
         "gridcolor": "#E1E5ED",
         "showgrid": true,
         "tickfont": {
          "color": "#4D5663"
         },
         "title": {
          "font": {
           "color": "#4D5663"
          },
          "text": ""
         },
         "zerolinecolor": "#E1E5ED"
        },
        "yaxis": {
         "gridcolor": "#E1E5ED",
         "showgrid": true,
         "tickfont": {
          "color": "#4D5663"
         },
         "title": {
          "font": {
           "color": "#4D5663"
          },
          "text": ""
         },
         "zerolinecolor": "#E1E5ED"
        }
       }
      },
      "text/html": [
       "<div>                            <div id=\"cb21f44b-51be-42d8-a87d-9ec40b68aa8b\" class=\"plotly-graph-div\" style=\"height:525px; width:100%;\"></div>            <script type=\"text/javascript\">                require([\"plotly\"], function(Plotly) {                    window.PLOTLYENV=window.PLOTLYENV || {};\n",
       "                    window.PLOTLYENV.BASE_URL='https://plot.ly';                                    if (document.getElementById(\"cb21f44b-51be-42d8-a87d-9ec40b68aa8b\")) {                    Plotly.newPlot(                        \"cb21f44b-51be-42d8-a87d-9ec40b68aa8b\",                        [{\"boxpoints\": false, \"line\": {\"width\": 1.3}, \"marker\": {\"color\": \"rgba(255, 153, 51, 1.0)\"}, \"name\": \"A\", \"orientation\": \"v\", \"type\": \"box\", \"y\": [0.40612300580052474, -0.4787833960912556, -0.5447183158159912, -0.20484654382912085, -0.7772111801679075, 0.7717397677804158, 1.223436162464635, 0.06772192697459302, 0.25456332871080894, 0.4048565702822834, -1.8148879337440906, -0.4388441296971543, -1.3924436354070289, 0.6956369095551673, -0.8667450625264915, -0.6310161646563152, 1.3003534836796835, 0.2083137339127651, -0.8988700584540924, -0.7232670196258586, 0.31903378409831123, -0.20316081187997037, 1.5874187069817816, 0.1923467175146929, 1.1187010598163798, -0.7252616193055038, 0.1801496551521485, -1.5140514229709021, -1.288260457541485, -1.3610877459759907, 1.7869981630955272, 0.05692588153120884, 0.07490690988116719, 1.3928879350198191, -0.09806224795777757, 1.3917376836181254, 0.3685419969405524, -0.49312306302326253, 1.4974261447856545, -0.3689397108877411, -0.9540378493340411, 0.059716412783843244, -0.772836360066239, -0.5305614528169932, -0.17876090805211597, 0.263152168058798, 0.215210090246341, 1.4589104195751386, -0.8539813979762173, -0.520159892769052, -0.20281248626718093, -0.8255111198294761, -0.2448982097759442, 0.1411939476815836, 0.2020771740684055, -1.0559833258091613, -1.379739410950068, -0.5006662209682377, -0.9316129498404765, -2.5090916216195764, -1.6150447193491557, 0.21338471972146297, 0.059999029120805035, -0.5109257729777709, -0.2268722852054298, 0.9983442362068591, 1.1897280575947924, 0.08124989687103532, 1.5414292850954545, 2.25475973576895, -1.111730112114252, -1.1144069288786815, 1.114299604592313, -0.8158645068290735, 0.10198790485908782, -1.7754246108252718, -1.3188149745985318, 1.4249768136759138, 0.5502074996929022, -0.2767388889975246, 0.27891988080565244, -1.2686878066632947, -0.7842613084336968, 0.6238673940138396, 1.9328429554944817, -0.17767907887367818, -2.127060962381966, -2.433293326123087, -1.304045908210188, -0.21858974062276904, -1.562354340089511, -1.1897706253336464, -0.03282994484540824, -0.1315262283778394, 0.8219686893831281, -0.6900875321833959, 0.9314720974852225, -0.12183184191563845, 2.2719105496178975, 0.5242306179214224]}, {\"boxpoints\": false, \"line\": {\"width\": 1.3}, \"marker\": {\"color\": \"rgba(55, 128, 191, 1.0)\"}, \"name\": \"B\", \"orientation\": \"v\", \"type\": \"box\", \"y\": [-0.36259548072853875, -1.267870868137753, -1.0091462104932183, -1.0110585705993747, 2.0762507530042895, 1.4881995414855038, -0.26646024128323953, 0.11686341059463608, 2.21425720893623, -0.5021126738974973, -0.5257142342177114, -0.8571176187528038, -0.6092482759913191, -0.08686320715520057, 0.36105712954854563, 0.857438327524079, 0.21106363592610627, 0.11927464514128387, 1.9107081723052977, 0.11726142499280247, 0.15562165513999635, 0.17984294181999808, 0.42853832330408864, 1.4815379150422912, 0.9806138358460342, -0.8138989560324716, 0.45988968024795274, 0.40153056231663187, 0.3858907016348598, 0.29131595025742535, 0.0995816061413352, -0.44331204085049064, -2.001837597279621, -0.26869125348082745, -1.2968267576274637, 0.23345037240733127, -0.4671918976965135, -1.3841503189198816, -0.44954618641312155, 2.1093747200978687, 0.7018818255134294, -0.6782062082975912, 0.28486767051026746, -0.4252864697271743, -0.04075062367543577, -0.12190918216816145, 0.40667369197181796, 1.3213925954510657, -0.2122494509573179, 0.5281694741678093, 2.229210068526433, 1.9412193570376737, 2.036390856146347, -0.6758525191223714, 1.3283170028978404, 0.230437983084068, 0.6291741142455162, -1.0178739201970899, -0.8511990469438749, -0.1136179868905994, -0.44956504785723433, -1.4236153338809452, -2.5579823199668876, -0.313401670583427, 0.23394667100442418, -0.6917842239920057, 1.1369538575013078, 0.741038314372609, 0.3626852950666634, 0.9124505835466721, -1.2065960914879164, -0.5605693444006637, 1.32927682001344, 1.1453456267611448, -0.5839163862401376, 1.0888454997300678, 0.34451912392908945, -2.0268651130316186, -1.8916866438700928, 0.45964397046328515, 2.1584681393854055, -0.074148304304722, -0.6384037506621307, -0.17356245521649813, -1.0843504488078473, 0.6019912533839158, -0.0864499869337545, -0.6426495556702666, -0.9469150759863427, 1.1266066812979123, -1.0874503292056883, 0.6224487504191203, -0.21084575656209098, 2.1368173265227526, 0.4709018271403978, -2.1699468729069555, -0.9401270264259753, -0.3052356128961729, 1.006669632826666, 0.5873935540844651]}, {\"boxpoints\": false, \"line\": {\"width\": 1.3}, \"marker\": {\"color\": \"rgba(50, 171, 96, 1.0)\"}, \"name\": \"C\", \"orientation\": \"v\", \"type\": \"box\", \"y\": [0.7300999175680266, 0.9359512920652354, -0.46772878327023787, 0.1656215541316715, 0.9749059887235069, -0.6489966317203343, -0.4529938481673228, 2.457862691403099, 1.1500951419328709, -0.3961888626713159, 1.0320959236004006, -0.64804598418807, 1.4199355897959525, 0.31001717805344414, -1.1563896696168525, -0.37681566605169214, -0.041437465530773314, 1.1557619578669158, 0.12571611878884073, 0.1652122595506704, -0.636218601062783, 0.1500785174473584, 1.4145088404802788, -0.1925130409596141, 0.8778952612402464, -1.7415330965465772, -0.520524509281832, 1.0656521689412484, 0.21090134998581206, 0.06042914559657147, 1.8045345020877315, 0.3516215045020242, -0.7955694173030421, 0.5017330286337357, -0.3744622282424553, -0.08793779877707011, 0.9768924208169164, 1.3903896999832768, -0.2896771281573561, -1.570775817214485, -0.47071662220943644, 0.652294892191082, 0.45877268717023156, -0.9588887995588409, 1.3841487332315288, 1.0909082999527209, 0.21879189531072746, 0.6133897809744157, 0.8341847537277423, -1.2140180709886772, 0.2599685724388422, 1.2211687242528722, -0.9632472350552475, 0.5786800057745015, -1.0333760135002024, 3.0749027191828917, -0.4369437620171544, 0.4892783343764829, 0.19851273240257877, -1.0883959321328498, -0.2901029419889698, -0.11280797172915796, -0.21230189742014346, 0.34923059083591856, -0.2652379250139706, 0.1642795863151399, -2.034270442332297, 1.838864888237644, -0.5522879528266724, 0.45421264729395944, 0.4604265026794926, 1.7073774379388704, 0.4690264488716998, 1.117451602046788, -0.6019251619409158, -0.6074946211011368, -0.4877452061110409, -1.010759073987423, -1.6882387751844077, -0.6192199912377896, 1.397768042732685, -2.252389072675059, 0.1456954440636028, 1.9630312799831615, -0.645599318436487, 0.1514309872762784, -0.6091694402556801, -0.43940515041138384, 0.7084113578944723, -0.7558410910128958, 1.2050351786504445, 0.1648852821669212, 0.23931400278991122, 0.5404755161546214, -0.7616204026896706, -1.2712321463523877, 1.1921933964056537, 0.08286316086141651, -0.21122252044048428, -0.2228272088441778]}, {\"boxpoints\": false, \"line\": {\"width\": 1.3}, \"marker\": {\"color\": \"rgba(128, 0, 128, 1.0)\"}, \"name\": \"D\", \"orientation\": \"v\", \"type\": \"box\", \"y\": [-1.391714870652499, -1.3213972657278188, -1.0271811952353889, 0.9962234991310107, 1.2226397567161182, -0.8575377773299411, -0.30816228166520865, 0.1689329310912175, 0.015619846900224655, -0.6079788226247328, 0.2267230348814204, 0.37738756189305434, 0.5422727281889766, -0.4581361110535218, -0.9912642222559744, -0.39382604797004483, -0.7772906585003634, 0.04360371765437144, -0.9366631305697488, 1.215160883960563, 0.2805175133715498, -0.10352642616390643, -0.8370185658573583, -0.9776969405446144, 0.37902925007926175, 0.9520178386551742, -1.1174258856771637, -0.23437327734446223, 0.6256778491573876, 0.702691000579248, -1.35175457704018, -0.24970282560289528, 0.5099588492730112, 0.20292825131545483, -1.0545718162153166, -0.4451161798596223, -0.7240781254060488, 1.1018313795303531, 1.286538140555478, -1.7964720822677995, 0.06999744508310896, -0.09399988117214235, -1.324986856556876, -0.6011689610233697, -0.2178263922127269, -0.369357529356511, -2.09361973829419, -1.8556562850361287, 0.9673376235807268, 0.9324350813607561, 1.1789174080712659, -0.9053472149956552, -1.7561822398843974, -0.5819439646822652, -0.7242174506600142, 0.06950853321165076, 0.1164100011339079, 0.9918425731024703, -3.194015438643409, 0.5661954446322105, -1.73866974183632, -1.1557899433927266, 0.5891302018733651, 2.0273163252737847, -1.1282958500612157, 0.6336793733624113, -0.8568664555674879, -0.18339916081354923, -0.32372658311166286, 0.15659676849251153, 0.5313764768383269, -1.7645581551702592, -0.1943429703255851, -0.09112992548499607, -0.5225241201325945, -0.6525910552681894, -0.6221431146860016, -1.3648065781438927, 0.9079587489874479, 0.6069304589878313, -0.4183165445387682, -0.5732128542919855, -0.5406009293093037, -0.8972224037382185, 0.7715751366997439, 0.4502496948551281, -1.9035987691691223, -0.07378497247938647, -0.5700156135647453, -0.8601354011299753, -0.9649325204165909, -0.20467917818589496, 1.0405949629047302, 0.6528409838036306, -1.3357279796330868, -1.5045825200601821, -1.3508377921496526, 0.38427399183063565, 0.6155110792018796, 0.392099316732869]}],                        {\"legend\": {\"bgcolor\": \"#F5F6F9\", \"font\": {\"color\": \"#4D5663\"}}, \"paper_bgcolor\": \"#F5F6F9\", \"plot_bgcolor\": \"#F5F6F9\", \"template\": {\"data\": {\"bar\": [{\"error_x\": {\"color\": \"#2a3f5f\"}, \"error_y\": {\"color\": \"#2a3f5f\"}, \"marker\": {\"line\": {\"color\": \"#E5ECF6\", \"width\": 0.5}}, \"type\": \"bar\"}], \"barpolar\": [{\"marker\": {\"line\": {\"color\": \"#E5ECF6\", \"width\": 0.5}}, \"type\": \"barpolar\"}], \"carpet\": [{\"aaxis\": {\"endlinecolor\": \"#2a3f5f\", \"gridcolor\": \"white\", \"linecolor\": \"white\", \"minorgridcolor\": \"white\", \"startlinecolor\": \"#2a3f5f\"}, \"baxis\": {\"endlinecolor\": \"#2a3f5f\", \"gridcolor\": \"white\", \"linecolor\": \"white\", \"minorgridcolor\": \"white\", \"startlinecolor\": \"#2a3f5f\"}, \"type\": \"carpet\"}], \"choropleth\": [{\"colorbar\": {\"outlinewidth\": 0, \"ticks\": \"\"}, \"type\": \"choropleth\"}], \"contour\": [{\"colorbar\": {\"outlinewidth\": 0, \"ticks\": \"\"}, \"colorscale\": [[0.0, \"#0d0887\"], [0.1111111111111111, \"#46039f\"], [0.2222222222222222, \"#7201a8\"], [0.3333333333333333, \"#9c179e\"], [0.4444444444444444, \"#bd3786\"], [0.5555555555555556, \"#d8576b\"], [0.6666666666666666, \"#ed7953\"], [0.7777777777777778, \"#fb9f3a\"], [0.8888888888888888, \"#fdca26\"], [1.0, \"#f0f921\"]], \"type\": \"contour\"}], \"contourcarpet\": [{\"colorbar\": {\"outlinewidth\": 0, \"ticks\": \"\"}, \"type\": \"contourcarpet\"}], \"heatmap\": [{\"colorbar\": {\"outlinewidth\": 0, \"ticks\": \"\"}, \"colorscale\": [[0.0, \"#0d0887\"], [0.1111111111111111, \"#46039f\"], [0.2222222222222222, \"#7201a8\"], [0.3333333333333333, \"#9c179e\"], [0.4444444444444444, \"#bd3786\"], [0.5555555555555556, \"#d8576b\"], [0.6666666666666666, \"#ed7953\"], [0.7777777777777778, \"#fb9f3a\"], [0.8888888888888888, \"#fdca26\"], [1.0, \"#f0f921\"]], \"type\": \"heatmap\"}], \"heatmapgl\": [{\"colorbar\": {\"outlinewidth\": 0, \"ticks\": \"\"}, \"colorscale\": [[0.0, \"#0d0887\"], [0.1111111111111111, \"#46039f\"], [0.2222222222222222, \"#7201a8\"], [0.3333333333333333, \"#9c179e\"], [0.4444444444444444, \"#bd3786\"], [0.5555555555555556, \"#d8576b\"], [0.6666666666666666, \"#ed7953\"], [0.7777777777777778, \"#fb9f3a\"], [0.8888888888888888, \"#fdca26\"], [1.0, \"#f0f921\"]], \"type\": \"heatmapgl\"}], \"histogram\": [{\"marker\": {\"colorbar\": {\"outlinewidth\": 0, \"ticks\": \"\"}}, \"type\": \"histogram\"}], \"histogram2d\": [{\"colorbar\": {\"outlinewidth\": 0, \"ticks\": \"\"}, \"colorscale\": [[0.0, \"#0d0887\"], [0.1111111111111111, \"#46039f\"], [0.2222222222222222, \"#7201a8\"], [0.3333333333333333, \"#9c179e\"], [0.4444444444444444, \"#bd3786\"], [0.5555555555555556, \"#d8576b\"], [0.6666666666666666, \"#ed7953\"], [0.7777777777777778, \"#fb9f3a\"], [0.8888888888888888, \"#fdca26\"], [1.0, \"#f0f921\"]], \"type\": \"histogram2d\"}], \"histogram2dcontour\": [{\"colorbar\": {\"outlinewidth\": 0, \"ticks\": \"\"}, \"colorscale\": [[0.0, \"#0d0887\"], [0.1111111111111111, \"#46039f\"], [0.2222222222222222, \"#7201a8\"], [0.3333333333333333, \"#9c179e\"], [0.4444444444444444, \"#bd3786\"], [0.5555555555555556, \"#d8576b\"], [0.6666666666666666, \"#ed7953\"], [0.7777777777777778, \"#fb9f3a\"], [0.8888888888888888, \"#fdca26\"], [1.0, \"#f0f921\"]], \"type\": \"histogram2dcontour\"}], \"mesh3d\": [{\"colorbar\": {\"outlinewidth\": 0, \"ticks\": \"\"}, \"type\": \"mesh3d\"}], \"parcoords\": [{\"line\": {\"colorbar\": {\"outlinewidth\": 0, \"ticks\": \"\"}}, \"type\": \"parcoords\"}], \"pie\": [{\"automargin\": true, \"type\": \"pie\"}], \"scatter\": [{\"marker\": {\"colorbar\": {\"outlinewidth\": 0, \"ticks\": \"\"}}, \"type\": \"scatter\"}], \"scatter3d\": [{\"line\": {\"colorbar\": {\"outlinewidth\": 0, \"ticks\": \"\"}}, \"marker\": {\"colorbar\": {\"outlinewidth\": 0, \"ticks\": \"\"}}, \"type\": \"scatter3d\"}], \"scattercarpet\": [{\"marker\": {\"colorbar\": {\"outlinewidth\": 0, \"ticks\": \"\"}}, \"type\": \"scattercarpet\"}], \"scattergeo\": [{\"marker\": {\"colorbar\": {\"outlinewidth\": 0, \"ticks\": \"\"}}, \"type\": \"scattergeo\"}], \"scattergl\": [{\"marker\": {\"colorbar\": {\"outlinewidth\": 0, \"ticks\": \"\"}}, \"type\": \"scattergl\"}], \"scattermapbox\": [{\"marker\": {\"colorbar\": {\"outlinewidth\": 0, \"ticks\": \"\"}}, \"type\": \"scattermapbox\"}], \"scatterpolar\": [{\"marker\": {\"colorbar\": {\"outlinewidth\": 0, \"ticks\": \"\"}}, \"type\": \"scatterpolar\"}], \"scatterpolargl\": [{\"marker\": {\"colorbar\": {\"outlinewidth\": 0, \"ticks\": \"\"}}, \"type\": \"scatterpolargl\"}], \"scatterternary\": [{\"marker\": {\"colorbar\": {\"outlinewidth\": 0, \"ticks\": \"\"}}, \"type\": \"scatterternary\"}], \"surface\": [{\"colorbar\": {\"outlinewidth\": 0, \"ticks\": \"\"}, \"colorscale\": [[0.0, \"#0d0887\"], [0.1111111111111111, \"#46039f\"], [0.2222222222222222, \"#7201a8\"], [0.3333333333333333, \"#9c179e\"], [0.4444444444444444, \"#bd3786\"], [0.5555555555555556, \"#d8576b\"], [0.6666666666666666, \"#ed7953\"], [0.7777777777777778, \"#fb9f3a\"], [0.8888888888888888, \"#fdca26\"], [1.0, \"#f0f921\"]], \"type\": \"surface\"}], \"table\": [{\"cells\": {\"fill\": {\"color\": \"#EBF0F8\"}, \"line\": {\"color\": \"white\"}}, \"header\": {\"fill\": {\"color\": \"#C8D4E3\"}, \"line\": {\"color\": \"white\"}}, \"type\": \"table\"}]}, \"layout\": {\"annotationdefaults\": {\"arrowcolor\": \"#2a3f5f\", \"arrowhead\": 0, \"arrowwidth\": 1}, \"coloraxis\": {\"colorbar\": {\"outlinewidth\": 0, \"ticks\": \"\"}}, \"colorscale\": {\"diverging\": [[0, \"#8e0152\"], [0.1, \"#c51b7d\"], [0.2, \"#de77ae\"], [0.3, \"#f1b6da\"], [0.4, \"#fde0ef\"], [0.5, \"#f7f7f7\"], [0.6, \"#e6f5d0\"], [0.7, \"#b8e186\"], [0.8, \"#7fbc41\"], [0.9, \"#4d9221\"], [1, \"#276419\"]], \"sequential\": [[0.0, \"#0d0887\"], [0.1111111111111111, \"#46039f\"], [0.2222222222222222, \"#7201a8\"], [0.3333333333333333, \"#9c179e\"], [0.4444444444444444, \"#bd3786\"], [0.5555555555555556, \"#d8576b\"], [0.6666666666666666, \"#ed7953\"], [0.7777777777777778, \"#fb9f3a\"], [0.8888888888888888, \"#fdca26\"], [1.0, \"#f0f921\"]], \"sequentialminus\": [[0.0, \"#0d0887\"], [0.1111111111111111, \"#46039f\"], [0.2222222222222222, \"#7201a8\"], [0.3333333333333333, \"#9c179e\"], [0.4444444444444444, \"#bd3786\"], [0.5555555555555556, \"#d8576b\"], [0.6666666666666666, \"#ed7953\"], [0.7777777777777778, \"#fb9f3a\"], [0.8888888888888888, \"#fdca26\"], [1.0, \"#f0f921\"]]}, \"colorway\": [\"#636efa\", \"#EF553B\", \"#00cc96\", \"#ab63fa\", \"#FFA15A\", \"#19d3f3\", \"#FF6692\", \"#B6E880\", \"#FF97FF\", \"#FECB52\"], \"font\": {\"color\": \"#2a3f5f\"}, \"geo\": {\"bgcolor\": \"white\", \"lakecolor\": \"white\", \"landcolor\": \"#E5ECF6\", \"showlakes\": true, \"showland\": true, \"subunitcolor\": \"white\"}, \"hoverlabel\": {\"align\": \"left\"}, \"hovermode\": \"closest\", \"mapbox\": {\"style\": \"light\"}, \"paper_bgcolor\": \"white\", \"plot_bgcolor\": \"#E5ECF6\", \"polar\": {\"angularaxis\": {\"gridcolor\": \"white\", \"linecolor\": \"white\", \"ticks\": \"\"}, \"bgcolor\": \"#E5ECF6\", \"radialaxis\": {\"gridcolor\": \"white\", \"linecolor\": \"white\", \"ticks\": \"\"}}, \"scene\": {\"xaxis\": {\"backgroundcolor\": \"#E5ECF6\", \"gridcolor\": \"white\", \"gridwidth\": 2, \"linecolor\": \"white\", \"showbackground\": true, \"ticks\": \"\", \"zerolinecolor\": \"white\"}, \"yaxis\": {\"backgroundcolor\": \"#E5ECF6\", \"gridcolor\": \"white\", \"gridwidth\": 2, \"linecolor\": \"white\", \"showbackground\": true, \"ticks\": \"\", \"zerolinecolor\": \"white\"}, \"zaxis\": {\"backgroundcolor\": \"#E5ECF6\", \"gridcolor\": \"white\", \"gridwidth\": 2, \"linecolor\": \"white\", \"showbackground\": true, \"ticks\": \"\", \"zerolinecolor\": \"white\"}}, \"shapedefaults\": {\"line\": {\"color\": \"#2a3f5f\"}}, \"ternary\": {\"aaxis\": {\"gridcolor\": \"white\", \"linecolor\": \"white\", \"ticks\": \"\"}, \"baxis\": {\"gridcolor\": \"white\", \"linecolor\": \"white\", \"ticks\": \"\"}, \"bgcolor\": \"#E5ECF6\", \"caxis\": {\"gridcolor\": \"white\", \"linecolor\": \"white\", \"ticks\": \"\"}}, \"title\": {\"x\": 0.05}, \"xaxis\": {\"automargin\": true, \"gridcolor\": \"white\", \"linecolor\": \"white\", \"ticks\": \"\", \"title\": {\"standoff\": 15}, \"zerolinecolor\": \"white\", \"zerolinewidth\": 2}, \"yaxis\": {\"automargin\": true, \"gridcolor\": \"white\", \"linecolor\": \"white\", \"ticks\": \"\", \"title\": {\"standoff\": 15}, \"zerolinecolor\": \"white\", \"zerolinewidth\": 2}}}, \"title\": {\"font\": {\"color\": \"#4D5663\"}}, \"xaxis\": {\"gridcolor\": \"#E1E5ED\", \"showgrid\": true, \"tickfont\": {\"color\": \"#4D5663\"}, \"title\": {\"font\": {\"color\": \"#4D5663\"}, \"text\": \"\"}, \"zerolinecolor\": \"#E1E5ED\"}, \"yaxis\": {\"gridcolor\": \"#E1E5ED\", \"showgrid\": true, \"tickfont\": {\"color\": \"#4D5663\"}, \"title\": {\"font\": {\"color\": \"#4D5663\"}, \"text\": \"\"}, \"zerolinecolor\": \"#E1E5ED\"}},                        {\"showLink\": true, \"linkText\": \"Export to plot.ly\", \"plotlyServerURL\": \"https://plot.ly\", \"responsive\": true}                    ).then(function(){\n",
       "                            \n",
       "var gd = document.getElementById('cb21f44b-51be-42d8-a87d-9ec40b68aa8b');\n",
       "var x = new MutationObserver(function (mutations, observer) {{\n",
       "        var display = window.getComputedStyle(gd).display;\n",
       "        if (!display || display === 'none') {{\n",
       "            console.log([gd, 'removed!']);\n",
       "            Plotly.purge(gd);\n",
       "            observer.disconnect();\n",
       "        }}\n",
       "}});\n",
       "\n",
       "// Listen for the removal of the full notebook cells\n",
       "var notebookContainer = gd.closest('#notebook-container');\n",
       "if (notebookContainer) {{\n",
       "    x.observe(notebookContainer, {childList: true});\n",
       "}}\n",
       "\n",
       "// Listen for the clearing of the current output cell\n",
       "var outputEl = gd.closest('.output');\n",
       "if (outputEl) {{\n",
       "    x.observe(outputEl, {childList: true});\n",
       "}}\n",
       "\n",
       "                        })                };                });            </script>        </div>"
      ]
     },
     "metadata": {},
     "output_type": "display_data"
    }
   ],
   "source": [
    "df.iplot(kind='box')"
   ]
  },
  {
   "cell_type": "markdown",
   "metadata": {},
   "source": [
    "## 3d Surface"
   ]
  },
  {
   "cell_type": "code",
   "execution_count": 14,
   "metadata": {},
   "outputs": [
    {
     "data": {
      "application/vnd.plotly.v1+json": {
       "config": {
        "linkText": "Export to plot.ly",
        "plotlyServerURL": "https://plot.ly",
        "showLink": true
       },
       "data": [
        {
         "colorscale": [
          [
           0,
           "rgb(165,0,38)"
          ],
          [
           0.1,
           "rgb(215,48,39)"
          ],
          [
           0.2,
           "rgb(244,109,67)"
          ],
          [
           0.3,
           "rgb(253,174,97)"
          ],
          [
           0.4,
           "rgb(254,224,144)"
          ],
          [
           0.5,
           "rgb(255,255,191)"
          ],
          [
           0.6,
           "rgb(224,243,248)"
          ],
          [
           0.7,
           "rgb(171,217,233)"
          ],
          [
           0.8,
           "rgb(116,173,209)"
          ],
          [
           0.9,
           "rgb(69,117,180)"
          ],
          [
           1,
           "rgb(49,54,149)"
          ]
         ],
         "type": "surface",
         "x": [
          0,
          1,
          2,
          3,
          4
         ],
         "y": [
          "x",
          "y",
          "z"
         ],
         "z": [
          [
           1,
           2,
           3,
           4,
           5
          ],
          [
           10,
           20,
           30,
           20,
           10
          ],
          [
           5,
           4,
           3,
           2,
           1
          ]
         ]
        }
       ],
       "layout": {
        "legend": {
         "bgcolor": "#F5F6F9",
         "font": {
          "color": "#4D5663"
         }
        },
        "paper_bgcolor": "#F5F6F9",
        "plot_bgcolor": "#F5F6F9",
        "template": {
         "data": {
          "bar": [
           {
            "error_x": {
             "color": "#2a3f5f"
            },
            "error_y": {
             "color": "#2a3f5f"
            },
            "marker": {
             "line": {
              "color": "#E5ECF6",
              "width": 0.5
             }
            },
            "type": "bar"
           }
          ],
          "barpolar": [
           {
            "marker": {
             "line": {
              "color": "#E5ECF6",
              "width": 0.5
             }
            },
            "type": "barpolar"
           }
          ],
          "carpet": [
           {
            "aaxis": {
             "endlinecolor": "#2a3f5f",
             "gridcolor": "white",
             "linecolor": "white",
             "minorgridcolor": "white",
             "startlinecolor": "#2a3f5f"
            },
            "baxis": {
             "endlinecolor": "#2a3f5f",
             "gridcolor": "white",
             "linecolor": "white",
             "minorgridcolor": "white",
             "startlinecolor": "#2a3f5f"
            },
            "type": "carpet"
           }
          ],
          "choropleth": [
           {
            "colorbar": {
             "outlinewidth": 0,
             "ticks": ""
            },
            "type": "choropleth"
           }
          ],
          "contour": [
           {
            "colorbar": {
             "outlinewidth": 0,
             "ticks": ""
            },
            "colorscale": [
             [
              0,
              "#0d0887"
             ],
             [
              0.1111111111111111,
              "#46039f"
             ],
             [
              0.2222222222222222,
              "#7201a8"
             ],
             [
              0.3333333333333333,
              "#9c179e"
             ],
             [
              0.4444444444444444,
              "#bd3786"
             ],
             [
              0.5555555555555556,
              "#d8576b"
             ],
             [
              0.6666666666666666,
              "#ed7953"
             ],
             [
              0.7777777777777778,
              "#fb9f3a"
             ],
             [
              0.8888888888888888,
              "#fdca26"
             ],
             [
              1,
              "#f0f921"
             ]
            ],
            "type": "contour"
           }
          ],
          "contourcarpet": [
           {
            "colorbar": {
             "outlinewidth": 0,
             "ticks": ""
            },
            "type": "contourcarpet"
           }
          ],
          "heatmap": [
           {
            "colorbar": {
             "outlinewidth": 0,
             "ticks": ""
            },
            "colorscale": [
             [
              0,
              "#0d0887"
             ],
             [
              0.1111111111111111,
              "#46039f"
             ],
             [
              0.2222222222222222,
              "#7201a8"
             ],
             [
              0.3333333333333333,
              "#9c179e"
             ],
             [
              0.4444444444444444,
              "#bd3786"
             ],
             [
              0.5555555555555556,
              "#d8576b"
             ],
             [
              0.6666666666666666,
              "#ed7953"
             ],
             [
              0.7777777777777778,
              "#fb9f3a"
             ],
             [
              0.8888888888888888,
              "#fdca26"
             ],
             [
              1,
              "#f0f921"
             ]
            ],
            "type": "heatmap"
           }
          ],
          "heatmapgl": [
           {
            "colorbar": {
             "outlinewidth": 0,
             "ticks": ""
            },
            "colorscale": [
             [
              0,
              "#0d0887"
             ],
             [
              0.1111111111111111,
              "#46039f"
             ],
             [
              0.2222222222222222,
              "#7201a8"
             ],
             [
              0.3333333333333333,
              "#9c179e"
             ],
             [
              0.4444444444444444,
              "#bd3786"
             ],
             [
              0.5555555555555556,
              "#d8576b"
             ],
             [
              0.6666666666666666,
              "#ed7953"
             ],
             [
              0.7777777777777778,
              "#fb9f3a"
             ],
             [
              0.8888888888888888,
              "#fdca26"
             ],
             [
              1,
              "#f0f921"
             ]
            ],
            "type": "heatmapgl"
           }
          ],
          "histogram": [
           {
            "marker": {
             "colorbar": {
              "outlinewidth": 0,
              "ticks": ""
             }
            },
            "type": "histogram"
           }
          ],
          "histogram2d": [
           {
            "colorbar": {
             "outlinewidth": 0,
             "ticks": ""
            },
            "colorscale": [
             [
              0,
              "#0d0887"
             ],
             [
              0.1111111111111111,
              "#46039f"
             ],
             [
              0.2222222222222222,
              "#7201a8"
             ],
             [
              0.3333333333333333,
              "#9c179e"
             ],
             [
              0.4444444444444444,
              "#bd3786"
             ],
             [
              0.5555555555555556,
              "#d8576b"
             ],
             [
              0.6666666666666666,
              "#ed7953"
             ],
             [
              0.7777777777777778,
              "#fb9f3a"
             ],
             [
              0.8888888888888888,
              "#fdca26"
             ],
             [
              1,
              "#f0f921"
             ]
            ],
            "type": "histogram2d"
           }
          ],
          "histogram2dcontour": [
           {
            "colorbar": {
             "outlinewidth": 0,
             "ticks": ""
            },
            "colorscale": [
             [
              0,
              "#0d0887"
             ],
             [
              0.1111111111111111,
              "#46039f"
             ],
             [
              0.2222222222222222,
              "#7201a8"
             ],
             [
              0.3333333333333333,
              "#9c179e"
             ],
             [
              0.4444444444444444,
              "#bd3786"
             ],
             [
              0.5555555555555556,
              "#d8576b"
             ],
             [
              0.6666666666666666,
              "#ed7953"
             ],
             [
              0.7777777777777778,
              "#fb9f3a"
             ],
             [
              0.8888888888888888,
              "#fdca26"
             ],
             [
              1,
              "#f0f921"
             ]
            ],
            "type": "histogram2dcontour"
           }
          ],
          "mesh3d": [
           {
            "colorbar": {
             "outlinewidth": 0,
             "ticks": ""
            },
            "type": "mesh3d"
           }
          ],
          "parcoords": [
           {
            "line": {
             "colorbar": {
              "outlinewidth": 0,
              "ticks": ""
             }
            },
            "type": "parcoords"
           }
          ],
          "pie": [
           {
            "automargin": true,
            "type": "pie"
           }
          ],
          "scatter": [
           {
            "marker": {
             "colorbar": {
              "outlinewidth": 0,
              "ticks": ""
             }
            },
            "type": "scatter"
           }
          ],
          "scatter3d": [
           {
            "line": {
             "colorbar": {
              "outlinewidth": 0,
              "ticks": ""
             }
            },
            "marker": {
             "colorbar": {
              "outlinewidth": 0,
              "ticks": ""
             }
            },
            "type": "scatter3d"
           }
          ],
          "scattercarpet": [
           {
            "marker": {
             "colorbar": {
              "outlinewidth": 0,
              "ticks": ""
             }
            },
            "type": "scattercarpet"
           }
          ],
          "scattergeo": [
           {
            "marker": {
             "colorbar": {
              "outlinewidth": 0,
              "ticks": ""
             }
            },
            "type": "scattergeo"
           }
          ],
          "scattergl": [
           {
            "marker": {
             "colorbar": {
              "outlinewidth": 0,
              "ticks": ""
             }
            },
            "type": "scattergl"
           }
          ],
          "scattermapbox": [
           {
            "marker": {
             "colorbar": {
              "outlinewidth": 0,
              "ticks": ""
             }
            },
            "type": "scattermapbox"
           }
          ],
          "scatterpolar": [
           {
            "marker": {
             "colorbar": {
              "outlinewidth": 0,
              "ticks": ""
             }
            },
            "type": "scatterpolar"
           }
          ],
          "scatterpolargl": [
           {
            "marker": {
             "colorbar": {
              "outlinewidth": 0,
              "ticks": ""
             }
            },
            "type": "scatterpolargl"
           }
          ],
          "scatterternary": [
           {
            "marker": {
             "colorbar": {
              "outlinewidth": 0,
              "ticks": ""
             }
            },
            "type": "scatterternary"
           }
          ],
          "surface": [
           {
            "colorbar": {
             "outlinewidth": 0,
             "ticks": ""
            },
            "colorscale": [
             [
              0,
              "#0d0887"
             ],
             [
              0.1111111111111111,
              "#46039f"
             ],
             [
              0.2222222222222222,
              "#7201a8"
             ],
             [
              0.3333333333333333,
              "#9c179e"
             ],
             [
              0.4444444444444444,
              "#bd3786"
             ],
             [
              0.5555555555555556,
              "#d8576b"
             ],
             [
              0.6666666666666666,
              "#ed7953"
             ],
             [
              0.7777777777777778,
              "#fb9f3a"
             ],
             [
              0.8888888888888888,
              "#fdca26"
             ],
             [
              1,
              "#f0f921"
             ]
            ],
            "type": "surface"
           }
          ],
          "table": [
           {
            "cells": {
             "fill": {
              "color": "#EBF0F8"
             },
             "line": {
              "color": "white"
             }
            },
            "header": {
             "fill": {
              "color": "#C8D4E3"
             },
             "line": {
              "color": "white"
             }
            },
            "type": "table"
           }
          ]
         },
         "layout": {
          "annotationdefaults": {
           "arrowcolor": "#2a3f5f",
           "arrowhead": 0,
           "arrowwidth": 1
          },
          "coloraxis": {
           "colorbar": {
            "outlinewidth": 0,
            "ticks": ""
           }
          },
          "colorscale": {
           "diverging": [
            [
             0,
             "#8e0152"
            ],
            [
             0.1,
             "#c51b7d"
            ],
            [
             0.2,
             "#de77ae"
            ],
            [
             0.3,
             "#f1b6da"
            ],
            [
             0.4,
             "#fde0ef"
            ],
            [
             0.5,
             "#f7f7f7"
            ],
            [
             0.6,
             "#e6f5d0"
            ],
            [
             0.7,
             "#b8e186"
            ],
            [
             0.8,
             "#7fbc41"
            ],
            [
             0.9,
             "#4d9221"
            ],
            [
             1,
             "#276419"
            ]
           ],
           "sequential": [
            [
             0,
             "#0d0887"
            ],
            [
             0.1111111111111111,
             "#46039f"
            ],
            [
             0.2222222222222222,
             "#7201a8"
            ],
            [
             0.3333333333333333,
             "#9c179e"
            ],
            [
             0.4444444444444444,
             "#bd3786"
            ],
            [
             0.5555555555555556,
             "#d8576b"
            ],
            [
             0.6666666666666666,
             "#ed7953"
            ],
            [
             0.7777777777777778,
             "#fb9f3a"
            ],
            [
             0.8888888888888888,
             "#fdca26"
            ],
            [
             1,
             "#f0f921"
            ]
           ],
           "sequentialminus": [
            [
             0,
             "#0d0887"
            ],
            [
             0.1111111111111111,
             "#46039f"
            ],
            [
             0.2222222222222222,
             "#7201a8"
            ],
            [
             0.3333333333333333,
             "#9c179e"
            ],
            [
             0.4444444444444444,
             "#bd3786"
            ],
            [
             0.5555555555555556,
             "#d8576b"
            ],
            [
             0.6666666666666666,
             "#ed7953"
            ],
            [
             0.7777777777777778,
             "#fb9f3a"
            ],
            [
             0.8888888888888888,
             "#fdca26"
            ],
            [
             1,
             "#f0f921"
            ]
           ]
          },
          "colorway": [
           "#636efa",
           "#EF553B",
           "#00cc96",
           "#ab63fa",
           "#FFA15A",
           "#19d3f3",
           "#FF6692",
           "#B6E880",
           "#FF97FF",
           "#FECB52"
          ],
          "font": {
           "color": "#2a3f5f"
          },
          "geo": {
           "bgcolor": "white",
           "lakecolor": "white",
           "landcolor": "#E5ECF6",
           "showlakes": true,
           "showland": true,
           "subunitcolor": "white"
          },
          "hoverlabel": {
           "align": "left"
          },
          "hovermode": "closest",
          "mapbox": {
           "style": "light"
          },
          "paper_bgcolor": "white",
          "plot_bgcolor": "#E5ECF6",
          "polar": {
           "angularaxis": {
            "gridcolor": "white",
            "linecolor": "white",
            "ticks": ""
           },
           "bgcolor": "#E5ECF6",
           "radialaxis": {
            "gridcolor": "white",
            "linecolor": "white",
            "ticks": ""
           }
          },
          "scene": {
           "xaxis": {
            "backgroundcolor": "#E5ECF6",
            "gridcolor": "white",
            "gridwidth": 2,
            "linecolor": "white",
            "showbackground": true,
            "ticks": "",
            "zerolinecolor": "white"
           },
           "yaxis": {
            "backgroundcolor": "#E5ECF6",
            "gridcolor": "white",
            "gridwidth": 2,
            "linecolor": "white",
            "showbackground": true,
            "ticks": "",
            "zerolinecolor": "white"
           },
           "zaxis": {
            "backgroundcolor": "#E5ECF6",
            "gridcolor": "white",
            "gridwidth": 2,
            "linecolor": "white",
            "showbackground": true,
            "ticks": "",
            "zerolinecolor": "white"
           }
          },
          "shapedefaults": {
           "line": {
            "color": "#2a3f5f"
           }
          },
          "ternary": {
           "aaxis": {
            "gridcolor": "white",
            "linecolor": "white",
            "ticks": ""
           },
           "baxis": {
            "gridcolor": "white",
            "linecolor": "white",
            "ticks": ""
           },
           "bgcolor": "#E5ECF6",
           "caxis": {
            "gridcolor": "white",
            "linecolor": "white",
            "ticks": ""
           }
          },
          "title": {
           "x": 0.05
          },
          "xaxis": {
           "automargin": true,
           "gridcolor": "white",
           "linecolor": "white",
           "ticks": "",
           "title": {
            "standoff": 15
           },
           "zerolinecolor": "white",
           "zerolinewidth": 2
          },
          "yaxis": {
           "automargin": true,
           "gridcolor": "white",
           "linecolor": "white",
           "ticks": "",
           "title": {
            "standoff": 15
           },
           "zerolinecolor": "white",
           "zerolinewidth": 2
          }
         }
        },
        "title": {
         "font": {
          "color": "#4D5663"
         }
        },
        "xaxis": {
         "gridcolor": "#E1E5ED",
         "showgrid": true,
         "tickfont": {
          "color": "#4D5663"
         },
         "title": {
          "font": {
           "color": "#4D5663"
          },
          "text": ""
         },
         "zerolinecolor": "#E1E5ED"
        },
        "yaxis": {
         "gridcolor": "#E1E5ED",
         "showgrid": true,
         "tickfont": {
          "color": "#4D5663"
         },
         "title": {
          "font": {
           "color": "#4D5663"
          },
          "text": ""
         },
         "zerolinecolor": "#E1E5ED"
        }
       }
      },
      "text/html": [
       "<div>                            <div id=\"6849faec-387d-4a37-a6e1-86a91911ce8c\" class=\"plotly-graph-div\" style=\"height:525px; width:100%;\"></div>            <script type=\"text/javascript\">                require([\"plotly\"], function(Plotly) {                    window.PLOTLYENV=window.PLOTLYENV || {};\n",
       "                    window.PLOTLYENV.BASE_URL='https://plot.ly';                                    if (document.getElementById(\"6849faec-387d-4a37-a6e1-86a91911ce8c\")) {                    Plotly.newPlot(                        \"6849faec-387d-4a37-a6e1-86a91911ce8c\",                        [{\"colorscale\": [[0.0, \"rgb(165,0,38)\"], [0.1, \"rgb(215,48,39)\"], [0.2, \"rgb(244,109,67)\"], [0.3, \"rgb(253,174,97)\"], [0.4, \"rgb(254,224,144)\"], [0.5, \"rgb(255,255,191)\"], [0.6, \"rgb(224,243,248)\"], [0.7, \"rgb(171,217,233)\"], [0.8, \"rgb(116,173,209)\"], [0.9, \"rgb(69,117,180)\"], [1.0, \"rgb(49,54,149)\"]], \"type\": \"surface\", \"x\": [0, 1, 2, 3, 4], \"y\": [\"x\", \"y\", \"z\"], \"z\": [[1, 2, 3, 4, 5], [10, 20, 30, 20, 10], [5, 4, 3, 2, 1]]}],                        {\"legend\": {\"bgcolor\": \"#F5F6F9\", \"font\": {\"color\": \"#4D5663\"}}, \"paper_bgcolor\": \"#F5F6F9\", \"plot_bgcolor\": \"#F5F6F9\", \"template\": {\"data\": {\"bar\": [{\"error_x\": {\"color\": \"#2a3f5f\"}, \"error_y\": {\"color\": \"#2a3f5f\"}, \"marker\": {\"line\": {\"color\": \"#E5ECF6\", \"width\": 0.5}}, \"type\": \"bar\"}], \"barpolar\": [{\"marker\": {\"line\": {\"color\": \"#E5ECF6\", \"width\": 0.5}}, \"type\": \"barpolar\"}], \"carpet\": [{\"aaxis\": {\"endlinecolor\": \"#2a3f5f\", \"gridcolor\": \"white\", \"linecolor\": \"white\", \"minorgridcolor\": \"white\", \"startlinecolor\": \"#2a3f5f\"}, \"baxis\": {\"endlinecolor\": \"#2a3f5f\", \"gridcolor\": \"white\", \"linecolor\": \"white\", \"minorgridcolor\": \"white\", \"startlinecolor\": \"#2a3f5f\"}, \"type\": \"carpet\"}], \"choropleth\": [{\"colorbar\": {\"outlinewidth\": 0, \"ticks\": \"\"}, \"type\": \"choropleth\"}], \"contour\": [{\"colorbar\": {\"outlinewidth\": 0, \"ticks\": \"\"}, \"colorscale\": [[0.0, \"#0d0887\"], [0.1111111111111111, \"#46039f\"], [0.2222222222222222, \"#7201a8\"], [0.3333333333333333, \"#9c179e\"], [0.4444444444444444, \"#bd3786\"], [0.5555555555555556, \"#d8576b\"], [0.6666666666666666, \"#ed7953\"], [0.7777777777777778, \"#fb9f3a\"], [0.8888888888888888, \"#fdca26\"], [1.0, \"#f0f921\"]], \"type\": \"contour\"}], \"contourcarpet\": [{\"colorbar\": {\"outlinewidth\": 0, \"ticks\": \"\"}, \"type\": \"contourcarpet\"}], \"heatmap\": [{\"colorbar\": {\"outlinewidth\": 0, \"ticks\": \"\"}, \"colorscale\": [[0.0, \"#0d0887\"], [0.1111111111111111, \"#46039f\"], [0.2222222222222222, \"#7201a8\"], [0.3333333333333333, \"#9c179e\"], [0.4444444444444444, \"#bd3786\"], [0.5555555555555556, \"#d8576b\"], [0.6666666666666666, \"#ed7953\"], [0.7777777777777778, \"#fb9f3a\"], [0.8888888888888888, \"#fdca26\"], [1.0, \"#f0f921\"]], \"type\": \"heatmap\"}], \"heatmapgl\": [{\"colorbar\": {\"outlinewidth\": 0, \"ticks\": \"\"}, \"colorscale\": [[0.0, \"#0d0887\"], [0.1111111111111111, \"#46039f\"], [0.2222222222222222, \"#7201a8\"], [0.3333333333333333, \"#9c179e\"], [0.4444444444444444, \"#bd3786\"], [0.5555555555555556, \"#d8576b\"], [0.6666666666666666, \"#ed7953\"], [0.7777777777777778, \"#fb9f3a\"], [0.8888888888888888, \"#fdca26\"], [1.0, \"#f0f921\"]], \"type\": \"heatmapgl\"}], \"histogram\": [{\"marker\": {\"colorbar\": {\"outlinewidth\": 0, \"ticks\": \"\"}}, \"type\": \"histogram\"}], \"histogram2d\": [{\"colorbar\": {\"outlinewidth\": 0, \"ticks\": \"\"}, \"colorscale\": [[0.0, \"#0d0887\"], [0.1111111111111111, \"#46039f\"], [0.2222222222222222, \"#7201a8\"], [0.3333333333333333, \"#9c179e\"], [0.4444444444444444, \"#bd3786\"], [0.5555555555555556, \"#d8576b\"], [0.6666666666666666, \"#ed7953\"], [0.7777777777777778, \"#fb9f3a\"], [0.8888888888888888, \"#fdca26\"], [1.0, \"#f0f921\"]], \"type\": \"histogram2d\"}], \"histogram2dcontour\": [{\"colorbar\": {\"outlinewidth\": 0, \"ticks\": \"\"}, \"colorscale\": [[0.0, \"#0d0887\"], [0.1111111111111111, \"#46039f\"], [0.2222222222222222, \"#7201a8\"], [0.3333333333333333, \"#9c179e\"], [0.4444444444444444, \"#bd3786\"], [0.5555555555555556, \"#d8576b\"], [0.6666666666666666, \"#ed7953\"], [0.7777777777777778, \"#fb9f3a\"], [0.8888888888888888, \"#fdca26\"], [1.0, \"#f0f921\"]], \"type\": \"histogram2dcontour\"}], \"mesh3d\": [{\"colorbar\": {\"outlinewidth\": 0, \"ticks\": \"\"}, \"type\": \"mesh3d\"}], \"parcoords\": [{\"line\": {\"colorbar\": {\"outlinewidth\": 0, \"ticks\": \"\"}}, \"type\": \"parcoords\"}], \"pie\": [{\"automargin\": true, \"type\": \"pie\"}], \"scatter\": [{\"marker\": {\"colorbar\": {\"outlinewidth\": 0, \"ticks\": \"\"}}, \"type\": \"scatter\"}], \"scatter3d\": [{\"line\": {\"colorbar\": {\"outlinewidth\": 0, \"ticks\": \"\"}}, \"marker\": {\"colorbar\": {\"outlinewidth\": 0, \"ticks\": \"\"}}, \"type\": \"scatter3d\"}], \"scattercarpet\": [{\"marker\": {\"colorbar\": {\"outlinewidth\": 0, \"ticks\": \"\"}}, \"type\": \"scattercarpet\"}], \"scattergeo\": [{\"marker\": {\"colorbar\": {\"outlinewidth\": 0, \"ticks\": \"\"}}, \"type\": \"scattergeo\"}], \"scattergl\": [{\"marker\": {\"colorbar\": {\"outlinewidth\": 0, \"ticks\": \"\"}}, \"type\": \"scattergl\"}], \"scattermapbox\": [{\"marker\": {\"colorbar\": {\"outlinewidth\": 0, \"ticks\": \"\"}}, \"type\": \"scattermapbox\"}], \"scatterpolar\": [{\"marker\": {\"colorbar\": {\"outlinewidth\": 0, \"ticks\": \"\"}}, \"type\": \"scatterpolar\"}], \"scatterpolargl\": [{\"marker\": {\"colorbar\": {\"outlinewidth\": 0, \"ticks\": \"\"}}, \"type\": \"scatterpolargl\"}], \"scatterternary\": [{\"marker\": {\"colorbar\": {\"outlinewidth\": 0, \"ticks\": \"\"}}, \"type\": \"scatterternary\"}], \"surface\": [{\"colorbar\": {\"outlinewidth\": 0, \"ticks\": \"\"}, \"colorscale\": [[0.0, \"#0d0887\"], [0.1111111111111111, \"#46039f\"], [0.2222222222222222, \"#7201a8\"], [0.3333333333333333, \"#9c179e\"], [0.4444444444444444, \"#bd3786\"], [0.5555555555555556, \"#d8576b\"], [0.6666666666666666, \"#ed7953\"], [0.7777777777777778, \"#fb9f3a\"], [0.8888888888888888, \"#fdca26\"], [1.0, \"#f0f921\"]], \"type\": \"surface\"}], \"table\": [{\"cells\": {\"fill\": {\"color\": \"#EBF0F8\"}, \"line\": {\"color\": \"white\"}}, \"header\": {\"fill\": {\"color\": \"#C8D4E3\"}, \"line\": {\"color\": \"white\"}}, \"type\": \"table\"}]}, \"layout\": {\"annotationdefaults\": {\"arrowcolor\": \"#2a3f5f\", \"arrowhead\": 0, \"arrowwidth\": 1}, \"coloraxis\": {\"colorbar\": {\"outlinewidth\": 0, \"ticks\": \"\"}}, \"colorscale\": {\"diverging\": [[0, \"#8e0152\"], [0.1, \"#c51b7d\"], [0.2, \"#de77ae\"], [0.3, \"#f1b6da\"], [0.4, \"#fde0ef\"], [0.5, \"#f7f7f7\"], [0.6, \"#e6f5d0\"], [0.7, \"#b8e186\"], [0.8, \"#7fbc41\"], [0.9, \"#4d9221\"], [1, \"#276419\"]], \"sequential\": [[0.0, \"#0d0887\"], [0.1111111111111111, \"#46039f\"], [0.2222222222222222, \"#7201a8\"], [0.3333333333333333, \"#9c179e\"], [0.4444444444444444, \"#bd3786\"], [0.5555555555555556, \"#d8576b\"], [0.6666666666666666, \"#ed7953\"], [0.7777777777777778, \"#fb9f3a\"], [0.8888888888888888, \"#fdca26\"], [1.0, \"#f0f921\"]], \"sequentialminus\": [[0.0, \"#0d0887\"], [0.1111111111111111, \"#46039f\"], [0.2222222222222222, \"#7201a8\"], [0.3333333333333333, \"#9c179e\"], [0.4444444444444444, \"#bd3786\"], [0.5555555555555556, \"#d8576b\"], [0.6666666666666666, \"#ed7953\"], [0.7777777777777778, \"#fb9f3a\"], [0.8888888888888888, \"#fdca26\"], [1.0, \"#f0f921\"]]}, \"colorway\": [\"#636efa\", \"#EF553B\", \"#00cc96\", \"#ab63fa\", \"#FFA15A\", \"#19d3f3\", \"#FF6692\", \"#B6E880\", \"#FF97FF\", \"#FECB52\"], \"font\": {\"color\": \"#2a3f5f\"}, \"geo\": {\"bgcolor\": \"white\", \"lakecolor\": \"white\", \"landcolor\": \"#E5ECF6\", \"showlakes\": true, \"showland\": true, \"subunitcolor\": \"white\"}, \"hoverlabel\": {\"align\": \"left\"}, \"hovermode\": \"closest\", \"mapbox\": {\"style\": \"light\"}, \"paper_bgcolor\": \"white\", \"plot_bgcolor\": \"#E5ECF6\", \"polar\": {\"angularaxis\": {\"gridcolor\": \"white\", \"linecolor\": \"white\", \"ticks\": \"\"}, \"bgcolor\": \"#E5ECF6\", \"radialaxis\": {\"gridcolor\": \"white\", \"linecolor\": \"white\", \"ticks\": \"\"}}, \"scene\": {\"xaxis\": {\"backgroundcolor\": \"#E5ECF6\", \"gridcolor\": \"white\", \"gridwidth\": 2, \"linecolor\": \"white\", \"showbackground\": true, \"ticks\": \"\", \"zerolinecolor\": \"white\"}, \"yaxis\": {\"backgroundcolor\": \"#E5ECF6\", \"gridcolor\": \"white\", \"gridwidth\": 2, \"linecolor\": \"white\", \"showbackground\": true, \"ticks\": \"\", \"zerolinecolor\": \"white\"}, \"zaxis\": {\"backgroundcolor\": \"#E5ECF6\", \"gridcolor\": \"white\", \"gridwidth\": 2, \"linecolor\": \"white\", \"showbackground\": true, \"ticks\": \"\", \"zerolinecolor\": \"white\"}}, \"shapedefaults\": {\"line\": {\"color\": \"#2a3f5f\"}}, \"ternary\": {\"aaxis\": {\"gridcolor\": \"white\", \"linecolor\": \"white\", \"ticks\": \"\"}, \"baxis\": {\"gridcolor\": \"white\", \"linecolor\": \"white\", \"ticks\": \"\"}, \"bgcolor\": \"#E5ECF6\", \"caxis\": {\"gridcolor\": \"white\", \"linecolor\": \"white\", \"ticks\": \"\"}}, \"title\": {\"x\": 0.05}, \"xaxis\": {\"automargin\": true, \"gridcolor\": \"white\", \"linecolor\": \"white\", \"ticks\": \"\", \"title\": {\"standoff\": 15}, \"zerolinecolor\": \"white\", \"zerolinewidth\": 2}, \"yaxis\": {\"automargin\": true, \"gridcolor\": \"white\", \"linecolor\": \"white\", \"ticks\": \"\", \"title\": {\"standoff\": 15}, \"zerolinecolor\": \"white\", \"zerolinewidth\": 2}}}, \"title\": {\"font\": {\"color\": \"#4D5663\"}}, \"xaxis\": {\"gridcolor\": \"#E1E5ED\", \"showgrid\": true, \"tickfont\": {\"color\": \"#4D5663\"}, \"title\": {\"font\": {\"color\": \"#4D5663\"}, \"text\": \"\"}, \"zerolinecolor\": \"#E1E5ED\"}, \"yaxis\": {\"gridcolor\": \"#E1E5ED\", \"showgrid\": true, \"tickfont\": {\"color\": \"#4D5663\"}, \"title\": {\"font\": {\"color\": \"#4D5663\"}, \"text\": \"\"}, \"zerolinecolor\": \"#E1E5ED\"}},                        {\"showLink\": true, \"linkText\": \"Export to plot.ly\", \"plotlyServerURL\": \"https://plot.ly\", \"responsive\": true}                    ).then(function(){\n",
       "                            \n",
       "var gd = document.getElementById('6849faec-387d-4a37-a6e1-86a91911ce8c');\n",
       "var x = new MutationObserver(function (mutations, observer) {{\n",
       "        var display = window.getComputedStyle(gd).display;\n",
       "        if (!display || display === 'none') {{\n",
       "            console.log([gd, 'removed!']);\n",
       "            Plotly.purge(gd);\n",
       "            observer.disconnect();\n",
       "        }}\n",
       "}});\n",
       "\n",
       "// Listen for the removal of the full notebook cells\n",
       "var notebookContainer = gd.closest('#notebook-container');\n",
       "if (notebookContainer) {{\n",
       "    x.observe(notebookContainer, {childList: true});\n",
       "}}\n",
       "\n",
       "// Listen for the clearing of the current output cell\n",
       "var outputEl = gd.closest('.output');\n",
       "if (outputEl) {{\n",
       "    x.observe(outputEl, {childList: true});\n",
       "}}\n",
       "\n",
       "                        })                };                });            </script>        </div>"
      ]
     },
     "metadata": {},
     "output_type": "display_data"
    }
   ],
   "source": [
    "df3 = pd.DataFrame({'x':[1,2,3,4,5],'y':[10,20,30,20,10],'z':[5,4,3,2,1]})\n",
    "df3.iplot(kind='surface',colorscale='rdylbu')"
   ]
  },
  {
   "cell_type": "markdown",
   "metadata": {},
   "source": [
    "## Spread"
   ]
  },
  {
   "cell_type": "code",
   "execution_count": 15,
   "metadata": {},
   "outputs": [
    {
     "name": "stderr",
     "output_type": "stream",
     "text": [
      "C:\\Users\\josep\\anaconda3\\envs\\learn-env\\lib\\site-packages\\cufflinks\\plotlytools.py:849: FutureWarning:\n",
      "\n",
      "The pandas.np module is deprecated and will be removed from pandas in a future version. Import numpy directly instead\n",
      "\n",
      "C:\\Users\\josep\\anaconda3\\envs\\learn-env\\lib\\site-packages\\cufflinks\\plotlytools.py:850: FutureWarning:\n",
      "\n",
      "The pandas.np module is deprecated and will be removed from pandas in a future version. Import numpy directly instead\n",
      "\n"
     ]
    },
    {
     "data": {
      "application/vnd.plotly.v1+json": {
       "config": {
        "linkText": "Export to plot.ly",
        "plotlyServerURL": "https://plot.ly",
        "showLink": true
       },
       "data": [
        {
         "line": {
          "color": "rgba(255, 153, 51, 1.0)",
          "dash": "solid",
          "shape": "linear",
          "width": 1.3
         },
         "mode": "lines",
         "name": "A",
         "text": "",
         "type": "scatter",
         "x": [
          0,
          1,
          2,
          3,
          4,
          5,
          6,
          7,
          8,
          9,
          10,
          11,
          12,
          13,
          14,
          15,
          16,
          17,
          18,
          19,
          20,
          21,
          22,
          23,
          24,
          25,
          26,
          27,
          28,
          29,
          30,
          31,
          32,
          33,
          34,
          35,
          36,
          37,
          38,
          39,
          40,
          41,
          42,
          43,
          44,
          45,
          46,
          47,
          48,
          49,
          50,
          51,
          52,
          53,
          54,
          55,
          56,
          57,
          58,
          59,
          60,
          61,
          62,
          63,
          64,
          65,
          66,
          67,
          68,
          69,
          70,
          71,
          72,
          73,
          74,
          75,
          76,
          77,
          78,
          79,
          80,
          81,
          82,
          83,
          84,
          85,
          86,
          87,
          88,
          89,
          90,
          91,
          92,
          93,
          94,
          95,
          96,
          97,
          98,
          99
         ],
         "y": [
          0.40612300580052474,
          -0.4787833960912556,
          -0.5447183158159912,
          -0.20484654382912085,
          -0.7772111801679075,
          0.7717397677804158,
          1.223436162464635,
          0.06772192697459302,
          0.25456332871080894,
          0.4048565702822834,
          -1.8148879337440906,
          -0.4388441296971543,
          -1.3924436354070289,
          0.6956369095551673,
          -0.8667450625264915,
          -0.6310161646563152,
          1.3003534836796835,
          0.2083137339127651,
          -0.8988700584540924,
          -0.7232670196258586,
          0.31903378409831123,
          -0.20316081187997037,
          1.5874187069817816,
          0.1923467175146929,
          1.1187010598163798,
          -0.7252616193055038,
          0.1801496551521485,
          -1.5140514229709021,
          -1.288260457541485,
          -1.3610877459759907,
          1.7869981630955272,
          0.05692588153120884,
          0.07490690988116719,
          1.3928879350198191,
          -0.09806224795777757,
          1.3917376836181254,
          0.3685419969405524,
          -0.49312306302326253,
          1.4974261447856545,
          -0.3689397108877411,
          -0.9540378493340411,
          0.059716412783843244,
          -0.772836360066239,
          -0.5305614528169932,
          -0.17876090805211597,
          0.263152168058798,
          0.215210090246341,
          1.4589104195751386,
          -0.8539813979762173,
          -0.520159892769052,
          -0.20281248626718093,
          -0.8255111198294761,
          -0.2448982097759442,
          0.1411939476815836,
          0.2020771740684055,
          -1.0559833258091613,
          -1.379739410950068,
          -0.5006662209682377,
          -0.9316129498404765,
          -2.5090916216195764,
          -1.6150447193491557,
          0.21338471972146297,
          0.059999029120805035,
          -0.5109257729777709,
          -0.2268722852054298,
          0.9983442362068591,
          1.1897280575947924,
          0.08124989687103532,
          1.5414292850954545,
          2.25475973576895,
          -1.111730112114252,
          -1.1144069288786815,
          1.114299604592313,
          -0.8158645068290735,
          0.10198790485908782,
          -1.7754246108252718,
          -1.3188149745985318,
          1.4249768136759138,
          0.5502074996929022,
          -0.2767388889975246,
          0.27891988080565244,
          -1.2686878066632947,
          -0.7842613084336968,
          0.6238673940138396,
          1.9328429554944817,
          -0.17767907887367818,
          -2.127060962381966,
          -2.433293326123087,
          -1.304045908210188,
          -0.21858974062276904,
          -1.562354340089511,
          -1.1897706253336464,
          -0.03282994484540824,
          -0.1315262283778394,
          0.8219686893831281,
          -0.6900875321833959,
          0.9314720974852225,
          -0.12183184191563845,
          2.2719105496178975,
          0.5242306179214224
         ]
        },
        {
         "line": {
          "color": "rgba(55, 128, 191, 1.0)",
          "dash": "solid",
          "shape": "linear",
          "width": 1.3
         },
         "mode": "lines",
         "name": "B",
         "text": "",
         "type": "scatter",
         "x": [
          0,
          1,
          2,
          3,
          4,
          5,
          6,
          7,
          8,
          9,
          10,
          11,
          12,
          13,
          14,
          15,
          16,
          17,
          18,
          19,
          20,
          21,
          22,
          23,
          24,
          25,
          26,
          27,
          28,
          29,
          30,
          31,
          32,
          33,
          34,
          35,
          36,
          37,
          38,
          39,
          40,
          41,
          42,
          43,
          44,
          45,
          46,
          47,
          48,
          49,
          50,
          51,
          52,
          53,
          54,
          55,
          56,
          57,
          58,
          59,
          60,
          61,
          62,
          63,
          64,
          65,
          66,
          67,
          68,
          69,
          70,
          71,
          72,
          73,
          74,
          75,
          76,
          77,
          78,
          79,
          80,
          81,
          82,
          83,
          84,
          85,
          86,
          87,
          88,
          89,
          90,
          91,
          92,
          93,
          94,
          95,
          96,
          97,
          98,
          99
         ],
         "y": [
          -0.36259548072853875,
          -1.267870868137753,
          -1.0091462104932183,
          -1.0110585705993747,
          2.0762507530042895,
          1.4881995414855038,
          -0.26646024128323953,
          0.11686341059463608,
          2.21425720893623,
          -0.5021126738974973,
          -0.5257142342177114,
          -0.8571176187528038,
          -0.6092482759913191,
          -0.08686320715520057,
          0.36105712954854563,
          0.857438327524079,
          0.21106363592610627,
          0.11927464514128387,
          1.9107081723052977,
          0.11726142499280247,
          0.15562165513999635,
          0.17984294181999808,
          0.42853832330408864,
          1.4815379150422912,
          0.9806138358460342,
          -0.8138989560324716,
          0.45988968024795274,
          0.40153056231663187,
          0.3858907016348598,
          0.29131595025742535,
          0.0995816061413352,
          -0.44331204085049064,
          -2.001837597279621,
          -0.26869125348082745,
          -1.2968267576274637,
          0.23345037240733127,
          -0.4671918976965135,
          -1.3841503189198816,
          -0.44954618641312155,
          2.1093747200978687,
          0.7018818255134294,
          -0.6782062082975912,
          0.28486767051026746,
          -0.4252864697271743,
          -0.04075062367543577,
          -0.12190918216816145,
          0.40667369197181796,
          1.3213925954510657,
          -0.2122494509573179,
          0.5281694741678093,
          2.229210068526433,
          1.9412193570376737,
          2.036390856146347,
          -0.6758525191223714,
          1.3283170028978404,
          0.230437983084068,
          0.6291741142455162,
          -1.0178739201970899,
          -0.8511990469438749,
          -0.1136179868905994,
          -0.44956504785723433,
          -1.4236153338809452,
          -2.5579823199668876,
          -0.313401670583427,
          0.23394667100442418,
          -0.6917842239920057,
          1.1369538575013078,
          0.741038314372609,
          0.3626852950666634,
          0.9124505835466721,
          -1.2065960914879164,
          -0.5605693444006637,
          1.32927682001344,
          1.1453456267611448,
          -0.5839163862401376,
          1.0888454997300678,
          0.34451912392908945,
          -2.0268651130316186,
          -1.8916866438700928,
          0.45964397046328515,
          2.1584681393854055,
          -0.074148304304722,
          -0.6384037506621307,
          -0.17356245521649813,
          -1.0843504488078473,
          0.6019912533839158,
          -0.0864499869337545,
          -0.6426495556702666,
          -0.9469150759863427,
          1.1266066812979123,
          -1.0874503292056883,
          0.6224487504191203,
          -0.21084575656209098,
          2.1368173265227526,
          0.4709018271403978,
          -2.1699468729069555,
          -0.9401270264259753,
          -0.3052356128961729,
          1.006669632826666,
          0.5873935540844651
         ]
        },
        {
         "connectgaps": false,
         "fill": "tozeroy",
         "line": {
          "color": "green",
          "dash": "solid",
          "shape": "linear",
          "width": 0.5
         },
         "mode": "lines",
         "name": "Spread",
         "showlegend": false,
         "type": "scatter",
         "x": [
          0,
          1,
          2,
          3,
          4,
          5,
          6,
          7,
          8,
          9,
          10,
          11,
          12,
          13,
          14,
          15,
          16,
          17,
          18,
          19,
          20,
          21,
          22,
          23,
          24,
          25,
          26,
          27,
          28,
          29,
          30,
          31,
          32,
          33,
          34,
          35,
          36,
          37,
          38,
          39,
          40,
          41,
          42,
          43,
          44,
          45,
          46,
          47,
          48,
          49,
          50,
          51,
          52,
          53,
          54,
          55,
          56,
          57,
          58,
          59,
          60,
          61,
          62,
          63,
          64,
          65,
          66,
          67,
          68,
          69,
          70,
          71,
          72,
          73,
          74,
          75,
          76,
          77,
          78,
          79,
          80,
          81,
          82,
          83,
          84,
          85,
          86,
          87,
          88,
          89,
          90,
          91,
          92,
          93,
          94,
          95,
          96,
          97,
          98,
          99
         ],
         "xaxis": "x2",
         "y": [
          0.7687184865290635,
          0.7890874720464975,
          0.4644278946772271,
          0.8062120267702538,
          "",
          "",
          1.4898964037478746,
          "",
          "",
          0.9069692441797806,
          "",
          0.4182734890556495,
          "",
          0.7825001167103679,
          "",
          "",
          1.0892898477535773,
          0.08903908877148121,
          "",
          "",
          0.1634121289583149,
          "",
          1.1588803836776929,
          "",
          0.13808722397034556,
          0.08863733672696783,
          "",
          "",
          "",
          "",
          1.687416556954192,
          0.5002379223816995,
          2.076744507160788,
          1.6615791885006466,
          1.1987645096696862,
          1.158287311210794,
          0.8357338946370658,
          0.891027255896619,
          1.946972331198776,
          "",
          "",
          0.7379226210814344,
          "",
          "",
          "",
          0.3850613502269594,
          "",
          0.13751782412407287,
          "",
          "",
          "",
          "",
          "",
          0.817046466803955,
          "",
          "",
          "",
          0.5172076992288522,
          "",
          "",
          "",
          1.637000053602408,
          2.617981349087693,
          "",
          "",
          1.6901284601988649,
          0.05277420009348455,
          "",
          1.178743990028791,
          1.342309152222278,
          0.09486597937366437,
          "",
          "",
          "",
          0.6859042910992255,
          "",
          "",
          3.4518419267075324,
          2.441894143562995,
          "",
          "",
          "",
          "",
          0.7974298492303378,
          3.017193404302329,
          "",
          "",
          "",
          "",
          "",
          "",
          "",
          0.17801581171668274,
          "",
          0.35106686224273026,
          1.4798593407235596,
          1.871599123911198,
          0.18340377098053445,
          1.2652409167912315,
          ""
         ],
         "yaxis": "y2"
        },
        {
         "connectgaps": false,
         "fill": "tozeroy",
         "line": {
          "color": "red",
          "dash": "solid",
          "shape": "linear",
          "width": 0.5
         },
         "mode": "lines",
         "name": "Spread",
         "showlegend": false,
         "type": "scatter",
         "x": [
          0,
          1,
          2,
          3,
          4,
          5,
          6,
          7,
          8,
          9,
          10,
          11,
          12,
          13,
          14,
          15,
          16,
          17,
          18,
          19,
          20,
          21,
          22,
          23,
          24,
          25,
          26,
          27,
          28,
          29,
          30,
          31,
          32,
          33,
          34,
          35,
          36,
          37,
          38,
          39,
          40,
          41,
          42,
          43,
          44,
          45,
          46,
          47,
          48,
          49,
          50,
          51,
          52,
          53,
          54,
          55,
          56,
          57,
          58,
          59,
          60,
          61,
          62,
          63,
          64,
          65,
          66,
          67,
          68,
          69,
          70,
          71,
          72,
          73,
          74,
          75,
          76,
          77,
          78,
          79,
          80,
          81,
          82,
          83,
          84,
          85,
          86,
          87,
          88,
          89,
          90,
          91,
          92,
          93,
          94,
          95,
          96,
          97,
          98,
          99
         ],
         "xaxis": "x2",
         "y": [
          "",
          "",
          "",
          "",
          -2.853461933172197,
          -0.7164597737050881,
          "",
          -0.04914148362004306,
          -1.9596938802254211,
          "",
          -1.2891736995263794,
          "",
          -0.7831953594157097,
          "",
          -1.2278021920750373,
          -1.4884544921803942,
          "",
          "",
          -2.80957823075939,
          -0.840528444618661,
          "",
          -0.3830037536999684,
          "",
          -1.2891911975275983,
          "",
          "",
          -0.2797400250958042,
          -1.915581985287534,
          -1.674151159176345,
          -1.652403696233416,
          "",
          "",
          "",
          "",
          "",
          "",
          "",
          "",
          "",
          -2.47831443098561,
          -1.6559196748474705,
          "",
          -1.0577040305765064,
          -0.10527498308981886,
          -0.1380102843766802,
          "",
          -0.19146360172547697,
          "",
          -0.6417319470188994,
          -1.0483293669368612,
          -2.432022554793614,
          -2.7667304768671497,
          -2.2812890659222913,
          "",
          -1.1262398288294349,
          -1.2864213088932293,
          -2.008913525195584,
          "",
          -0.08041390289660155,
          -2.395473634728977,
          -1.1654796714919213,
          "",
          "",
          -0.19752410239434387,
          -0.46081895620985397,
          "",
          "",
          -0.6597884175015737,
          "",
          "",
          "",
          -0.5538375844780178,
          -0.2149772154211269,
          -1.9612101335902183,
          "",
          -2.8642701105553394,
          -1.6633340985276213,
          "",
          "",
          -0.7363828594608097,
          -1.879548258579753,
          -1.1945395023585728,
          -0.14585755777156606,
          "",
          "",
          -0.779670332257594,
          -2.040610975448211,
          -1.7906437704528204,
          -0.35713083222384534,
          -1.3451964219206813,
          -0.4749040108838227,
          -1.8122193757527667,
          "",
          -2.268343554900592,
          "",
          "",
          "",
          "",
          "",
          -0.0631629361630427
         ],
         "yaxis": "y2"
        }
       ],
       "layout": {
        "hovermode": "x",
        "legend": {
         "bgcolor": "#F5F6F9",
         "font": {
          "color": "#4D5663"
         }
        },
        "paper_bgcolor": "#F5F6F9",
        "plot_bgcolor": "#F5F6F9",
        "template": {
         "data": {
          "bar": [
           {
            "error_x": {
             "color": "#2a3f5f"
            },
            "error_y": {
             "color": "#2a3f5f"
            },
            "marker": {
             "line": {
              "color": "#E5ECF6",
              "width": 0.5
             }
            },
            "type": "bar"
           }
          ],
          "barpolar": [
           {
            "marker": {
             "line": {
              "color": "#E5ECF6",
              "width": 0.5
             }
            },
            "type": "barpolar"
           }
          ],
          "carpet": [
           {
            "aaxis": {
             "endlinecolor": "#2a3f5f",
             "gridcolor": "white",
             "linecolor": "white",
             "minorgridcolor": "white",
             "startlinecolor": "#2a3f5f"
            },
            "baxis": {
             "endlinecolor": "#2a3f5f",
             "gridcolor": "white",
             "linecolor": "white",
             "minorgridcolor": "white",
             "startlinecolor": "#2a3f5f"
            },
            "type": "carpet"
           }
          ],
          "choropleth": [
           {
            "colorbar": {
             "outlinewidth": 0,
             "ticks": ""
            },
            "type": "choropleth"
           }
          ],
          "contour": [
           {
            "colorbar": {
             "outlinewidth": 0,
             "ticks": ""
            },
            "colorscale": [
             [
              0,
              "#0d0887"
             ],
             [
              0.1111111111111111,
              "#46039f"
             ],
             [
              0.2222222222222222,
              "#7201a8"
             ],
             [
              0.3333333333333333,
              "#9c179e"
             ],
             [
              0.4444444444444444,
              "#bd3786"
             ],
             [
              0.5555555555555556,
              "#d8576b"
             ],
             [
              0.6666666666666666,
              "#ed7953"
             ],
             [
              0.7777777777777778,
              "#fb9f3a"
             ],
             [
              0.8888888888888888,
              "#fdca26"
             ],
             [
              1,
              "#f0f921"
             ]
            ],
            "type": "contour"
           }
          ],
          "contourcarpet": [
           {
            "colorbar": {
             "outlinewidth": 0,
             "ticks": ""
            },
            "type": "contourcarpet"
           }
          ],
          "heatmap": [
           {
            "colorbar": {
             "outlinewidth": 0,
             "ticks": ""
            },
            "colorscale": [
             [
              0,
              "#0d0887"
             ],
             [
              0.1111111111111111,
              "#46039f"
             ],
             [
              0.2222222222222222,
              "#7201a8"
             ],
             [
              0.3333333333333333,
              "#9c179e"
             ],
             [
              0.4444444444444444,
              "#bd3786"
             ],
             [
              0.5555555555555556,
              "#d8576b"
             ],
             [
              0.6666666666666666,
              "#ed7953"
             ],
             [
              0.7777777777777778,
              "#fb9f3a"
             ],
             [
              0.8888888888888888,
              "#fdca26"
             ],
             [
              1,
              "#f0f921"
             ]
            ],
            "type": "heatmap"
           }
          ],
          "heatmapgl": [
           {
            "colorbar": {
             "outlinewidth": 0,
             "ticks": ""
            },
            "colorscale": [
             [
              0,
              "#0d0887"
             ],
             [
              0.1111111111111111,
              "#46039f"
             ],
             [
              0.2222222222222222,
              "#7201a8"
             ],
             [
              0.3333333333333333,
              "#9c179e"
             ],
             [
              0.4444444444444444,
              "#bd3786"
             ],
             [
              0.5555555555555556,
              "#d8576b"
             ],
             [
              0.6666666666666666,
              "#ed7953"
             ],
             [
              0.7777777777777778,
              "#fb9f3a"
             ],
             [
              0.8888888888888888,
              "#fdca26"
             ],
             [
              1,
              "#f0f921"
             ]
            ],
            "type": "heatmapgl"
           }
          ],
          "histogram": [
           {
            "marker": {
             "colorbar": {
              "outlinewidth": 0,
              "ticks": ""
             }
            },
            "type": "histogram"
           }
          ],
          "histogram2d": [
           {
            "colorbar": {
             "outlinewidth": 0,
             "ticks": ""
            },
            "colorscale": [
             [
              0,
              "#0d0887"
             ],
             [
              0.1111111111111111,
              "#46039f"
             ],
             [
              0.2222222222222222,
              "#7201a8"
             ],
             [
              0.3333333333333333,
              "#9c179e"
             ],
             [
              0.4444444444444444,
              "#bd3786"
             ],
             [
              0.5555555555555556,
              "#d8576b"
             ],
             [
              0.6666666666666666,
              "#ed7953"
             ],
             [
              0.7777777777777778,
              "#fb9f3a"
             ],
             [
              0.8888888888888888,
              "#fdca26"
             ],
             [
              1,
              "#f0f921"
             ]
            ],
            "type": "histogram2d"
           }
          ],
          "histogram2dcontour": [
           {
            "colorbar": {
             "outlinewidth": 0,
             "ticks": ""
            },
            "colorscale": [
             [
              0,
              "#0d0887"
             ],
             [
              0.1111111111111111,
              "#46039f"
             ],
             [
              0.2222222222222222,
              "#7201a8"
             ],
             [
              0.3333333333333333,
              "#9c179e"
             ],
             [
              0.4444444444444444,
              "#bd3786"
             ],
             [
              0.5555555555555556,
              "#d8576b"
             ],
             [
              0.6666666666666666,
              "#ed7953"
             ],
             [
              0.7777777777777778,
              "#fb9f3a"
             ],
             [
              0.8888888888888888,
              "#fdca26"
             ],
             [
              1,
              "#f0f921"
             ]
            ],
            "type": "histogram2dcontour"
           }
          ],
          "mesh3d": [
           {
            "colorbar": {
             "outlinewidth": 0,
             "ticks": ""
            },
            "type": "mesh3d"
           }
          ],
          "parcoords": [
           {
            "line": {
             "colorbar": {
              "outlinewidth": 0,
              "ticks": ""
             }
            },
            "type": "parcoords"
           }
          ],
          "pie": [
           {
            "automargin": true,
            "type": "pie"
           }
          ],
          "scatter": [
           {
            "marker": {
             "colorbar": {
              "outlinewidth": 0,
              "ticks": ""
             }
            },
            "type": "scatter"
           }
          ],
          "scatter3d": [
           {
            "line": {
             "colorbar": {
              "outlinewidth": 0,
              "ticks": ""
             }
            },
            "marker": {
             "colorbar": {
              "outlinewidth": 0,
              "ticks": ""
             }
            },
            "type": "scatter3d"
           }
          ],
          "scattercarpet": [
           {
            "marker": {
             "colorbar": {
              "outlinewidth": 0,
              "ticks": ""
             }
            },
            "type": "scattercarpet"
           }
          ],
          "scattergeo": [
           {
            "marker": {
             "colorbar": {
              "outlinewidth": 0,
              "ticks": ""
             }
            },
            "type": "scattergeo"
           }
          ],
          "scattergl": [
           {
            "marker": {
             "colorbar": {
              "outlinewidth": 0,
              "ticks": ""
             }
            },
            "type": "scattergl"
           }
          ],
          "scattermapbox": [
           {
            "marker": {
             "colorbar": {
              "outlinewidth": 0,
              "ticks": ""
             }
            },
            "type": "scattermapbox"
           }
          ],
          "scatterpolar": [
           {
            "marker": {
             "colorbar": {
              "outlinewidth": 0,
              "ticks": ""
             }
            },
            "type": "scatterpolar"
           }
          ],
          "scatterpolargl": [
           {
            "marker": {
             "colorbar": {
              "outlinewidth": 0,
              "ticks": ""
             }
            },
            "type": "scatterpolargl"
           }
          ],
          "scatterternary": [
           {
            "marker": {
             "colorbar": {
              "outlinewidth": 0,
              "ticks": ""
             }
            },
            "type": "scatterternary"
           }
          ],
          "surface": [
           {
            "colorbar": {
             "outlinewidth": 0,
             "ticks": ""
            },
            "colorscale": [
             [
              0,
              "#0d0887"
             ],
             [
              0.1111111111111111,
              "#46039f"
             ],
             [
              0.2222222222222222,
              "#7201a8"
             ],
             [
              0.3333333333333333,
              "#9c179e"
             ],
             [
              0.4444444444444444,
              "#bd3786"
             ],
             [
              0.5555555555555556,
              "#d8576b"
             ],
             [
              0.6666666666666666,
              "#ed7953"
             ],
             [
              0.7777777777777778,
              "#fb9f3a"
             ],
             [
              0.8888888888888888,
              "#fdca26"
             ],
             [
              1,
              "#f0f921"
             ]
            ],
            "type": "surface"
           }
          ],
          "table": [
           {
            "cells": {
             "fill": {
              "color": "#EBF0F8"
             },
             "line": {
              "color": "white"
             }
            },
            "header": {
             "fill": {
              "color": "#C8D4E3"
             },
             "line": {
              "color": "white"
             }
            },
            "type": "table"
           }
          ]
         },
         "layout": {
          "annotationdefaults": {
           "arrowcolor": "#2a3f5f",
           "arrowhead": 0,
           "arrowwidth": 1
          },
          "coloraxis": {
           "colorbar": {
            "outlinewidth": 0,
            "ticks": ""
           }
          },
          "colorscale": {
           "diverging": [
            [
             0,
             "#8e0152"
            ],
            [
             0.1,
             "#c51b7d"
            ],
            [
             0.2,
             "#de77ae"
            ],
            [
             0.3,
             "#f1b6da"
            ],
            [
             0.4,
             "#fde0ef"
            ],
            [
             0.5,
             "#f7f7f7"
            ],
            [
             0.6,
             "#e6f5d0"
            ],
            [
             0.7,
             "#b8e186"
            ],
            [
             0.8,
             "#7fbc41"
            ],
            [
             0.9,
             "#4d9221"
            ],
            [
             1,
             "#276419"
            ]
           ],
           "sequential": [
            [
             0,
             "#0d0887"
            ],
            [
             0.1111111111111111,
             "#46039f"
            ],
            [
             0.2222222222222222,
             "#7201a8"
            ],
            [
             0.3333333333333333,
             "#9c179e"
            ],
            [
             0.4444444444444444,
             "#bd3786"
            ],
            [
             0.5555555555555556,
             "#d8576b"
            ],
            [
             0.6666666666666666,
             "#ed7953"
            ],
            [
             0.7777777777777778,
             "#fb9f3a"
            ],
            [
             0.8888888888888888,
             "#fdca26"
            ],
            [
             1,
             "#f0f921"
            ]
           ],
           "sequentialminus": [
            [
             0,
             "#0d0887"
            ],
            [
             0.1111111111111111,
             "#46039f"
            ],
            [
             0.2222222222222222,
             "#7201a8"
            ],
            [
             0.3333333333333333,
             "#9c179e"
            ],
            [
             0.4444444444444444,
             "#bd3786"
            ],
            [
             0.5555555555555556,
             "#d8576b"
            ],
            [
             0.6666666666666666,
             "#ed7953"
            ],
            [
             0.7777777777777778,
             "#fb9f3a"
            ],
            [
             0.8888888888888888,
             "#fdca26"
            ],
            [
             1,
             "#f0f921"
            ]
           ]
          },
          "colorway": [
           "#636efa",
           "#EF553B",
           "#00cc96",
           "#ab63fa",
           "#FFA15A",
           "#19d3f3",
           "#FF6692",
           "#B6E880",
           "#FF97FF",
           "#FECB52"
          ],
          "font": {
           "color": "#2a3f5f"
          },
          "geo": {
           "bgcolor": "white",
           "lakecolor": "white",
           "landcolor": "#E5ECF6",
           "showlakes": true,
           "showland": true,
           "subunitcolor": "white"
          },
          "hoverlabel": {
           "align": "left"
          },
          "hovermode": "closest",
          "mapbox": {
           "style": "light"
          },
          "paper_bgcolor": "white",
          "plot_bgcolor": "#E5ECF6",
          "polar": {
           "angularaxis": {
            "gridcolor": "white",
            "linecolor": "white",
            "ticks": ""
           },
           "bgcolor": "#E5ECF6",
           "radialaxis": {
            "gridcolor": "white",
            "linecolor": "white",
            "ticks": ""
           }
          },
          "scene": {
           "xaxis": {
            "backgroundcolor": "#E5ECF6",
            "gridcolor": "white",
            "gridwidth": 2,
            "linecolor": "white",
            "showbackground": true,
            "ticks": "",
            "zerolinecolor": "white"
           },
           "yaxis": {
            "backgroundcolor": "#E5ECF6",
            "gridcolor": "white",
            "gridwidth": 2,
            "linecolor": "white",
            "showbackground": true,
            "ticks": "",
            "zerolinecolor": "white"
           },
           "zaxis": {
            "backgroundcolor": "#E5ECF6",
            "gridcolor": "white",
            "gridwidth": 2,
            "linecolor": "white",
            "showbackground": true,
            "ticks": "",
            "zerolinecolor": "white"
           }
          },
          "shapedefaults": {
           "line": {
            "color": "#2a3f5f"
           }
          },
          "ternary": {
           "aaxis": {
            "gridcolor": "white",
            "linecolor": "white",
            "ticks": ""
           },
           "baxis": {
            "gridcolor": "white",
            "linecolor": "white",
            "ticks": ""
           },
           "bgcolor": "#E5ECF6",
           "caxis": {
            "gridcolor": "white",
            "linecolor": "white",
            "ticks": ""
           }
          },
          "title": {
           "x": 0.05
          },
          "xaxis": {
           "automargin": true,
           "gridcolor": "white",
           "linecolor": "white",
           "ticks": "",
           "title": {
            "standoff": 15
           },
           "zerolinecolor": "white",
           "zerolinewidth": 2
          },
          "yaxis": {
           "automargin": true,
           "gridcolor": "white",
           "linecolor": "white",
           "ticks": "",
           "title": {
            "standoff": 15
           },
           "zerolinecolor": "white",
           "zerolinewidth": 2
          }
         }
        },
        "title": {
         "font": {
          "color": "#4D5663"
         }
        },
        "xaxis": {
         "gridcolor": "#E1E5ED",
         "showgrid": true,
         "tickfont": {
          "color": "#4D5663"
         },
         "title": {
          "font": {
           "color": "#4D5663"
          },
          "text": ""
         },
         "zerolinecolor": "#E1E5ED"
        },
        "xaxis2": {
         "anchor": "y2",
         "gridcolor": "#E1E5ED",
         "showgrid": true,
         "showticklabels": false,
         "tickfont": {
          "color": "#4D5663"
         },
         "title": {
          "font": {
           "color": "#4D5663"
          },
          "text": ""
         },
         "zerolinecolor": "#E1E5ED"
        },
        "yaxis": {
         "domain": [
          0.3,
          1
         ],
         "gridcolor": "#E1E5ED",
         "showgrid": true,
         "tickfont": {
          "color": "#4D5663"
         },
         "title": {
          "font": {
           "color": "#4D5663"
          },
          "text": ""
         },
         "zerolinecolor": "#E1E5ED"
        },
        "yaxis2": {
         "domain": [
          0,
          0.25
         ],
         "gridcolor": "#E1E5ED",
         "showgrid": true,
         "tickfont": {
          "color": "#4D5663"
         },
         "title": {
          "font": {
           "color": "#4D5663"
          },
          "text": "Spread"
         },
         "zerolinecolor": "#E1E5ED"
        }
       }
      },
      "text/html": [
       "<div>                            <div id=\"5d0d1e0c-a783-4022-93a2-a9e8fa6380bc\" class=\"plotly-graph-div\" style=\"height:525px; width:100%;\"></div>            <script type=\"text/javascript\">                require([\"plotly\"], function(Plotly) {                    window.PLOTLYENV=window.PLOTLYENV || {};\n",
       "                    window.PLOTLYENV.BASE_URL='https://plot.ly';                                    if (document.getElementById(\"5d0d1e0c-a783-4022-93a2-a9e8fa6380bc\")) {                    Plotly.newPlot(                        \"5d0d1e0c-a783-4022-93a2-a9e8fa6380bc\",                        [{\"line\": {\"color\": \"rgba(255, 153, 51, 1.0)\", \"dash\": \"solid\", \"shape\": \"linear\", \"width\": 1.3}, \"mode\": \"lines\", \"name\": \"A\", \"text\": \"\", \"type\": \"scatter\", \"x\": [0, 1, 2, 3, 4, 5, 6, 7, 8, 9, 10, 11, 12, 13, 14, 15, 16, 17, 18, 19, 20, 21, 22, 23, 24, 25, 26, 27, 28, 29, 30, 31, 32, 33, 34, 35, 36, 37, 38, 39, 40, 41, 42, 43, 44, 45, 46, 47, 48, 49, 50, 51, 52, 53, 54, 55, 56, 57, 58, 59, 60, 61, 62, 63, 64, 65, 66, 67, 68, 69, 70, 71, 72, 73, 74, 75, 76, 77, 78, 79, 80, 81, 82, 83, 84, 85, 86, 87, 88, 89, 90, 91, 92, 93, 94, 95, 96, 97, 98, 99], \"y\": [0.40612300580052474, -0.4787833960912556, -0.5447183158159912, -0.20484654382912085, -0.7772111801679075, 0.7717397677804158, 1.223436162464635, 0.06772192697459302, 0.25456332871080894, 0.4048565702822834, -1.8148879337440906, -0.4388441296971543, -1.3924436354070289, 0.6956369095551673, -0.8667450625264915, -0.6310161646563152, 1.3003534836796835, 0.2083137339127651, -0.8988700584540924, -0.7232670196258586, 0.31903378409831123, -0.20316081187997037, 1.5874187069817816, 0.1923467175146929, 1.1187010598163798, -0.7252616193055038, 0.1801496551521485, -1.5140514229709021, -1.288260457541485, -1.3610877459759907, 1.7869981630955272, 0.05692588153120884, 0.07490690988116719, 1.3928879350198191, -0.09806224795777757, 1.3917376836181254, 0.3685419969405524, -0.49312306302326253, 1.4974261447856545, -0.3689397108877411, -0.9540378493340411, 0.059716412783843244, -0.772836360066239, -0.5305614528169932, -0.17876090805211597, 0.263152168058798, 0.215210090246341, 1.4589104195751386, -0.8539813979762173, -0.520159892769052, -0.20281248626718093, -0.8255111198294761, -0.2448982097759442, 0.1411939476815836, 0.2020771740684055, -1.0559833258091613, -1.379739410950068, -0.5006662209682377, -0.9316129498404765, -2.5090916216195764, -1.6150447193491557, 0.21338471972146297, 0.059999029120805035, -0.5109257729777709, -0.2268722852054298, 0.9983442362068591, 1.1897280575947924, 0.08124989687103532, 1.5414292850954545, 2.25475973576895, -1.111730112114252, -1.1144069288786815, 1.114299604592313, -0.8158645068290735, 0.10198790485908782, -1.7754246108252718, -1.3188149745985318, 1.4249768136759138, 0.5502074996929022, -0.2767388889975246, 0.27891988080565244, -1.2686878066632947, -0.7842613084336968, 0.6238673940138396, 1.9328429554944817, -0.17767907887367818, -2.127060962381966, -2.433293326123087, -1.304045908210188, -0.21858974062276904, -1.562354340089511, -1.1897706253336464, -0.03282994484540824, -0.1315262283778394, 0.8219686893831281, -0.6900875321833959, 0.9314720974852225, -0.12183184191563845, 2.2719105496178975, 0.5242306179214224]}, {\"line\": {\"color\": \"rgba(55, 128, 191, 1.0)\", \"dash\": \"solid\", \"shape\": \"linear\", \"width\": 1.3}, \"mode\": \"lines\", \"name\": \"B\", \"text\": \"\", \"type\": \"scatter\", \"x\": [0, 1, 2, 3, 4, 5, 6, 7, 8, 9, 10, 11, 12, 13, 14, 15, 16, 17, 18, 19, 20, 21, 22, 23, 24, 25, 26, 27, 28, 29, 30, 31, 32, 33, 34, 35, 36, 37, 38, 39, 40, 41, 42, 43, 44, 45, 46, 47, 48, 49, 50, 51, 52, 53, 54, 55, 56, 57, 58, 59, 60, 61, 62, 63, 64, 65, 66, 67, 68, 69, 70, 71, 72, 73, 74, 75, 76, 77, 78, 79, 80, 81, 82, 83, 84, 85, 86, 87, 88, 89, 90, 91, 92, 93, 94, 95, 96, 97, 98, 99], \"y\": [-0.36259548072853875, -1.267870868137753, -1.0091462104932183, -1.0110585705993747, 2.0762507530042895, 1.4881995414855038, -0.26646024128323953, 0.11686341059463608, 2.21425720893623, -0.5021126738974973, -0.5257142342177114, -0.8571176187528038, -0.6092482759913191, -0.08686320715520057, 0.36105712954854563, 0.857438327524079, 0.21106363592610627, 0.11927464514128387, 1.9107081723052977, 0.11726142499280247, 0.15562165513999635, 0.17984294181999808, 0.42853832330408864, 1.4815379150422912, 0.9806138358460342, -0.8138989560324716, 0.45988968024795274, 0.40153056231663187, 0.3858907016348598, 0.29131595025742535, 0.0995816061413352, -0.44331204085049064, -2.001837597279621, -0.26869125348082745, -1.2968267576274637, 0.23345037240733127, -0.4671918976965135, -1.3841503189198816, -0.44954618641312155, 2.1093747200978687, 0.7018818255134294, -0.6782062082975912, 0.28486767051026746, -0.4252864697271743, -0.04075062367543577, -0.12190918216816145, 0.40667369197181796, 1.3213925954510657, -0.2122494509573179, 0.5281694741678093, 2.229210068526433, 1.9412193570376737, 2.036390856146347, -0.6758525191223714, 1.3283170028978404, 0.230437983084068, 0.6291741142455162, -1.0178739201970899, -0.8511990469438749, -0.1136179868905994, -0.44956504785723433, -1.4236153338809452, -2.5579823199668876, -0.313401670583427, 0.23394667100442418, -0.6917842239920057, 1.1369538575013078, 0.741038314372609, 0.3626852950666634, 0.9124505835466721, -1.2065960914879164, -0.5605693444006637, 1.32927682001344, 1.1453456267611448, -0.5839163862401376, 1.0888454997300678, 0.34451912392908945, -2.0268651130316186, -1.8916866438700928, 0.45964397046328515, 2.1584681393854055, -0.074148304304722, -0.6384037506621307, -0.17356245521649813, -1.0843504488078473, 0.6019912533839158, -0.0864499869337545, -0.6426495556702666, -0.9469150759863427, 1.1266066812979123, -1.0874503292056883, 0.6224487504191203, -0.21084575656209098, 2.1368173265227526, 0.4709018271403978, -2.1699468729069555, -0.9401270264259753, -0.3052356128961729, 1.006669632826666, 0.5873935540844651]}, {\"connectgaps\": false, \"fill\": \"tozeroy\", \"line\": {\"color\": \"green\", \"dash\": \"solid\", \"shape\": \"linear\", \"width\": 0.5}, \"mode\": \"lines\", \"name\": \"Spread\", \"showlegend\": false, \"type\": \"scatter\", \"x\": [0, 1, 2, 3, 4, 5, 6, 7, 8, 9, 10, 11, 12, 13, 14, 15, 16, 17, 18, 19, 20, 21, 22, 23, 24, 25, 26, 27, 28, 29, 30, 31, 32, 33, 34, 35, 36, 37, 38, 39, 40, 41, 42, 43, 44, 45, 46, 47, 48, 49, 50, 51, 52, 53, 54, 55, 56, 57, 58, 59, 60, 61, 62, 63, 64, 65, 66, 67, 68, 69, 70, 71, 72, 73, 74, 75, 76, 77, 78, 79, 80, 81, 82, 83, 84, 85, 86, 87, 88, 89, 90, 91, 92, 93, 94, 95, 96, 97, 98, 99], \"xaxis\": \"x2\", \"y\": [0.7687184865290635, 0.7890874720464975, 0.4644278946772271, 0.8062120267702538, \"\", \"\", 1.4898964037478746, \"\", \"\", 0.9069692441797806, \"\", 0.4182734890556495, \"\", 0.7825001167103679, \"\", \"\", 1.0892898477535773, 0.08903908877148121, \"\", \"\", 0.1634121289583149, \"\", 1.1588803836776929, \"\", 0.13808722397034556, 0.08863733672696783, \"\", \"\", \"\", \"\", 1.687416556954192, 0.5002379223816995, 2.076744507160788, 1.6615791885006466, 1.1987645096696862, 1.158287311210794, 0.8357338946370658, 0.891027255896619, 1.946972331198776, \"\", \"\", 0.7379226210814344, \"\", \"\", \"\", 0.3850613502269594, \"\", 0.13751782412407287, \"\", \"\", \"\", \"\", \"\", 0.817046466803955, \"\", \"\", \"\", 0.5172076992288522, \"\", \"\", \"\", 1.637000053602408, 2.617981349087693, \"\", \"\", 1.6901284601988649, 0.05277420009348455, \"\", 1.178743990028791, 1.342309152222278, 0.09486597937366437, \"\", \"\", \"\", 0.6859042910992255, \"\", \"\", 3.4518419267075324, 2.441894143562995, \"\", \"\", \"\", \"\", 0.7974298492303378, 3.017193404302329, \"\", \"\", \"\", \"\", \"\", \"\", \"\", 0.17801581171668274, \"\", 0.35106686224273026, 1.4798593407235596, 1.871599123911198, 0.18340377098053445, 1.2652409167912315, \"\"], \"yaxis\": \"y2\"}, {\"connectgaps\": false, \"fill\": \"tozeroy\", \"line\": {\"color\": \"red\", \"dash\": \"solid\", \"shape\": \"linear\", \"width\": 0.5}, \"mode\": \"lines\", \"name\": \"Spread\", \"showlegend\": false, \"type\": \"scatter\", \"x\": [0, 1, 2, 3, 4, 5, 6, 7, 8, 9, 10, 11, 12, 13, 14, 15, 16, 17, 18, 19, 20, 21, 22, 23, 24, 25, 26, 27, 28, 29, 30, 31, 32, 33, 34, 35, 36, 37, 38, 39, 40, 41, 42, 43, 44, 45, 46, 47, 48, 49, 50, 51, 52, 53, 54, 55, 56, 57, 58, 59, 60, 61, 62, 63, 64, 65, 66, 67, 68, 69, 70, 71, 72, 73, 74, 75, 76, 77, 78, 79, 80, 81, 82, 83, 84, 85, 86, 87, 88, 89, 90, 91, 92, 93, 94, 95, 96, 97, 98, 99], \"xaxis\": \"x2\", \"y\": [\"\", \"\", \"\", \"\", -2.853461933172197, -0.7164597737050881, \"\", -0.04914148362004306, -1.9596938802254211, \"\", -1.2891736995263794, \"\", -0.7831953594157097, \"\", -1.2278021920750373, -1.4884544921803942, \"\", \"\", -2.80957823075939, -0.840528444618661, \"\", -0.3830037536999684, \"\", -1.2891911975275983, \"\", \"\", -0.2797400250958042, -1.915581985287534, -1.674151159176345, -1.652403696233416, \"\", \"\", \"\", \"\", \"\", \"\", \"\", \"\", \"\", -2.47831443098561, -1.6559196748474705, \"\", -1.0577040305765064, -0.10527498308981886, -0.1380102843766802, \"\", -0.19146360172547697, \"\", -0.6417319470188994, -1.0483293669368612, -2.432022554793614, -2.7667304768671497, -2.2812890659222913, \"\", -1.1262398288294349, -1.2864213088932293, -2.008913525195584, \"\", -0.08041390289660155, -2.395473634728977, -1.1654796714919213, \"\", \"\", -0.19752410239434387, -0.46081895620985397, \"\", \"\", -0.6597884175015737, \"\", \"\", \"\", -0.5538375844780178, -0.2149772154211269, -1.9612101335902183, \"\", -2.8642701105553394, -1.6633340985276213, \"\", \"\", -0.7363828594608097, -1.879548258579753, -1.1945395023585728, -0.14585755777156606, \"\", \"\", -0.779670332257594, -2.040610975448211, -1.7906437704528204, -0.35713083222384534, -1.3451964219206813, -0.4749040108838227, -1.8122193757527667, \"\", -2.268343554900592, \"\", \"\", \"\", \"\", \"\", -0.0631629361630427], \"yaxis\": \"y2\"}],                        {\"hovermode\": \"x\", \"legend\": {\"bgcolor\": \"#F5F6F9\", \"font\": {\"color\": \"#4D5663\"}}, \"paper_bgcolor\": \"#F5F6F9\", \"plot_bgcolor\": \"#F5F6F9\", \"template\": {\"data\": {\"bar\": [{\"error_x\": {\"color\": \"#2a3f5f\"}, \"error_y\": {\"color\": \"#2a3f5f\"}, \"marker\": {\"line\": {\"color\": \"#E5ECF6\", \"width\": 0.5}}, \"type\": \"bar\"}], \"barpolar\": [{\"marker\": {\"line\": {\"color\": \"#E5ECF6\", \"width\": 0.5}}, \"type\": \"barpolar\"}], \"carpet\": [{\"aaxis\": {\"endlinecolor\": \"#2a3f5f\", \"gridcolor\": \"white\", \"linecolor\": \"white\", \"minorgridcolor\": \"white\", \"startlinecolor\": \"#2a3f5f\"}, \"baxis\": {\"endlinecolor\": \"#2a3f5f\", \"gridcolor\": \"white\", \"linecolor\": \"white\", \"minorgridcolor\": \"white\", \"startlinecolor\": \"#2a3f5f\"}, \"type\": \"carpet\"}], \"choropleth\": [{\"colorbar\": {\"outlinewidth\": 0, \"ticks\": \"\"}, \"type\": \"choropleth\"}], \"contour\": [{\"colorbar\": {\"outlinewidth\": 0, \"ticks\": \"\"}, \"colorscale\": [[0.0, \"#0d0887\"], [0.1111111111111111, \"#46039f\"], [0.2222222222222222, \"#7201a8\"], [0.3333333333333333, \"#9c179e\"], [0.4444444444444444, \"#bd3786\"], [0.5555555555555556, \"#d8576b\"], [0.6666666666666666, \"#ed7953\"], [0.7777777777777778, \"#fb9f3a\"], [0.8888888888888888, \"#fdca26\"], [1.0, \"#f0f921\"]], \"type\": \"contour\"}], \"contourcarpet\": [{\"colorbar\": {\"outlinewidth\": 0, \"ticks\": \"\"}, \"type\": \"contourcarpet\"}], \"heatmap\": [{\"colorbar\": {\"outlinewidth\": 0, \"ticks\": \"\"}, \"colorscale\": [[0.0, \"#0d0887\"], [0.1111111111111111, \"#46039f\"], [0.2222222222222222, \"#7201a8\"], [0.3333333333333333, \"#9c179e\"], [0.4444444444444444, \"#bd3786\"], [0.5555555555555556, \"#d8576b\"], [0.6666666666666666, \"#ed7953\"], [0.7777777777777778, \"#fb9f3a\"], [0.8888888888888888, \"#fdca26\"], [1.0, \"#f0f921\"]], \"type\": \"heatmap\"}], \"heatmapgl\": [{\"colorbar\": {\"outlinewidth\": 0, \"ticks\": \"\"}, \"colorscale\": [[0.0, \"#0d0887\"], [0.1111111111111111, \"#46039f\"], [0.2222222222222222, \"#7201a8\"], [0.3333333333333333, \"#9c179e\"], [0.4444444444444444, \"#bd3786\"], [0.5555555555555556, \"#d8576b\"], [0.6666666666666666, \"#ed7953\"], [0.7777777777777778, \"#fb9f3a\"], [0.8888888888888888, \"#fdca26\"], [1.0, \"#f0f921\"]], \"type\": \"heatmapgl\"}], \"histogram\": [{\"marker\": {\"colorbar\": {\"outlinewidth\": 0, \"ticks\": \"\"}}, \"type\": \"histogram\"}], \"histogram2d\": [{\"colorbar\": {\"outlinewidth\": 0, \"ticks\": \"\"}, \"colorscale\": [[0.0, \"#0d0887\"], [0.1111111111111111, \"#46039f\"], [0.2222222222222222, \"#7201a8\"], [0.3333333333333333, \"#9c179e\"], [0.4444444444444444, \"#bd3786\"], [0.5555555555555556, \"#d8576b\"], [0.6666666666666666, \"#ed7953\"], [0.7777777777777778, \"#fb9f3a\"], [0.8888888888888888, \"#fdca26\"], [1.0, \"#f0f921\"]], \"type\": \"histogram2d\"}], \"histogram2dcontour\": [{\"colorbar\": {\"outlinewidth\": 0, \"ticks\": \"\"}, \"colorscale\": [[0.0, \"#0d0887\"], [0.1111111111111111, \"#46039f\"], [0.2222222222222222, \"#7201a8\"], [0.3333333333333333, \"#9c179e\"], [0.4444444444444444, \"#bd3786\"], [0.5555555555555556, \"#d8576b\"], [0.6666666666666666, \"#ed7953\"], [0.7777777777777778, \"#fb9f3a\"], [0.8888888888888888, \"#fdca26\"], [1.0, \"#f0f921\"]], \"type\": \"histogram2dcontour\"}], \"mesh3d\": [{\"colorbar\": {\"outlinewidth\": 0, \"ticks\": \"\"}, \"type\": \"mesh3d\"}], \"parcoords\": [{\"line\": {\"colorbar\": {\"outlinewidth\": 0, \"ticks\": \"\"}}, \"type\": \"parcoords\"}], \"pie\": [{\"automargin\": true, \"type\": \"pie\"}], \"scatter\": [{\"marker\": {\"colorbar\": {\"outlinewidth\": 0, \"ticks\": \"\"}}, \"type\": \"scatter\"}], \"scatter3d\": [{\"line\": {\"colorbar\": {\"outlinewidth\": 0, \"ticks\": \"\"}}, \"marker\": {\"colorbar\": {\"outlinewidth\": 0, \"ticks\": \"\"}}, \"type\": \"scatter3d\"}], \"scattercarpet\": [{\"marker\": {\"colorbar\": {\"outlinewidth\": 0, \"ticks\": \"\"}}, \"type\": \"scattercarpet\"}], \"scattergeo\": [{\"marker\": {\"colorbar\": {\"outlinewidth\": 0, \"ticks\": \"\"}}, \"type\": \"scattergeo\"}], \"scattergl\": [{\"marker\": {\"colorbar\": {\"outlinewidth\": 0, \"ticks\": \"\"}}, \"type\": \"scattergl\"}], \"scattermapbox\": [{\"marker\": {\"colorbar\": {\"outlinewidth\": 0, \"ticks\": \"\"}}, \"type\": \"scattermapbox\"}], \"scatterpolar\": [{\"marker\": {\"colorbar\": {\"outlinewidth\": 0, \"ticks\": \"\"}}, \"type\": \"scatterpolar\"}], \"scatterpolargl\": [{\"marker\": {\"colorbar\": {\"outlinewidth\": 0, \"ticks\": \"\"}}, \"type\": \"scatterpolargl\"}], \"scatterternary\": [{\"marker\": {\"colorbar\": {\"outlinewidth\": 0, \"ticks\": \"\"}}, \"type\": \"scatterternary\"}], \"surface\": [{\"colorbar\": {\"outlinewidth\": 0, \"ticks\": \"\"}, \"colorscale\": [[0.0, \"#0d0887\"], [0.1111111111111111, \"#46039f\"], [0.2222222222222222, \"#7201a8\"], [0.3333333333333333, \"#9c179e\"], [0.4444444444444444, \"#bd3786\"], [0.5555555555555556, \"#d8576b\"], [0.6666666666666666, \"#ed7953\"], [0.7777777777777778, \"#fb9f3a\"], [0.8888888888888888, \"#fdca26\"], [1.0, \"#f0f921\"]], \"type\": \"surface\"}], \"table\": [{\"cells\": {\"fill\": {\"color\": \"#EBF0F8\"}, \"line\": {\"color\": \"white\"}}, \"header\": {\"fill\": {\"color\": \"#C8D4E3\"}, \"line\": {\"color\": \"white\"}}, \"type\": \"table\"}]}, \"layout\": {\"annotationdefaults\": {\"arrowcolor\": \"#2a3f5f\", \"arrowhead\": 0, \"arrowwidth\": 1}, \"coloraxis\": {\"colorbar\": {\"outlinewidth\": 0, \"ticks\": \"\"}}, \"colorscale\": {\"diverging\": [[0, \"#8e0152\"], [0.1, \"#c51b7d\"], [0.2, \"#de77ae\"], [0.3, \"#f1b6da\"], [0.4, \"#fde0ef\"], [0.5, \"#f7f7f7\"], [0.6, \"#e6f5d0\"], [0.7, \"#b8e186\"], [0.8, \"#7fbc41\"], [0.9, \"#4d9221\"], [1, \"#276419\"]], \"sequential\": [[0.0, \"#0d0887\"], [0.1111111111111111, \"#46039f\"], [0.2222222222222222, \"#7201a8\"], [0.3333333333333333, \"#9c179e\"], [0.4444444444444444, \"#bd3786\"], [0.5555555555555556, \"#d8576b\"], [0.6666666666666666, \"#ed7953\"], [0.7777777777777778, \"#fb9f3a\"], [0.8888888888888888, \"#fdca26\"], [1.0, \"#f0f921\"]], \"sequentialminus\": [[0.0, \"#0d0887\"], [0.1111111111111111, \"#46039f\"], [0.2222222222222222, \"#7201a8\"], [0.3333333333333333, \"#9c179e\"], [0.4444444444444444, \"#bd3786\"], [0.5555555555555556, \"#d8576b\"], [0.6666666666666666, \"#ed7953\"], [0.7777777777777778, \"#fb9f3a\"], [0.8888888888888888, \"#fdca26\"], [1.0, \"#f0f921\"]]}, \"colorway\": [\"#636efa\", \"#EF553B\", \"#00cc96\", \"#ab63fa\", \"#FFA15A\", \"#19d3f3\", \"#FF6692\", \"#B6E880\", \"#FF97FF\", \"#FECB52\"], \"font\": {\"color\": \"#2a3f5f\"}, \"geo\": {\"bgcolor\": \"white\", \"lakecolor\": \"white\", \"landcolor\": \"#E5ECF6\", \"showlakes\": true, \"showland\": true, \"subunitcolor\": \"white\"}, \"hoverlabel\": {\"align\": \"left\"}, \"hovermode\": \"closest\", \"mapbox\": {\"style\": \"light\"}, \"paper_bgcolor\": \"white\", \"plot_bgcolor\": \"#E5ECF6\", \"polar\": {\"angularaxis\": {\"gridcolor\": \"white\", \"linecolor\": \"white\", \"ticks\": \"\"}, \"bgcolor\": \"#E5ECF6\", \"radialaxis\": {\"gridcolor\": \"white\", \"linecolor\": \"white\", \"ticks\": \"\"}}, \"scene\": {\"xaxis\": {\"backgroundcolor\": \"#E5ECF6\", \"gridcolor\": \"white\", \"gridwidth\": 2, \"linecolor\": \"white\", \"showbackground\": true, \"ticks\": \"\", \"zerolinecolor\": \"white\"}, \"yaxis\": {\"backgroundcolor\": \"#E5ECF6\", \"gridcolor\": \"white\", \"gridwidth\": 2, \"linecolor\": \"white\", \"showbackground\": true, \"ticks\": \"\", \"zerolinecolor\": \"white\"}, \"zaxis\": {\"backgroundcolor\": \"#E5ECF6\", \"gridcolor\": \"white\", \"gridwidth\": 2, \"linecolor\": \"white\", \"showbackground\": true, \"ticks\": \"\", \"zerolinecolor\": \"white\"}}, \"shapedefaults\": {\"line\": {\"color\": \"#2a3f5f\"}}, \"ternary\": {\"aaxis\": {\"gridcolor\": \"white\", \"linecolor\": \"white\", \"ticks\": \"\"}, \"baxis\": {\"gridcolor\": \"white\", \"linecolor\": \"white\", \"ticks\": \"\"}, \"bgcolor\": \"#E5ECF6\", \"caxis\": {\"gridcolor\": \"white\", \"linecolor\": \"white\", \"ticks\": \"\"}}, \"title\": {\"x\": 0.05}, \"xaxis\": {\"automargin\": true, \"gridcolor\": \"white\", \"linecolor\": \"white\", \"ticks\": \"\", \"title\": {\"standoff\": 15}, \"zerolinecolor\": \"white\", \"zerolinewidth\": 2}, \"yaxis\": {\"automargin\": true, \"gridcolor\": \"white\", \"linecolor\": \"white\", \"ticks\": \"\", \"title\": {\"standoff\": 15}, \"zerolinecolor\": \"white\", \"zerolinewidth\": 2}}}, \"title\": {\"font\": {\"color\": \"#4D5663\"}}, \"xaxis\": {\"gridcolor\": \"#E1E5ED\", \"showgrid\": true, \"tickfont\": {\"color\": \"#4D5663\"}, \"title\": {\"font\": {\"color\": \"#4D5663\"}, \"text\": \"\"}, \"zerolinecolor\": \"#E1E5ED\"}, \"xaxis2\": {\"anchor\": \"y2\", \"gridcolor\": \"#E1E5ED\", \"showgrid\": true, \"showticklabels\": false, \"tickfont\": {\"color\": \"#4D5663\"}, \"title\": {\"font\": {\"color\": \"#4D5663\"}, \"text\": \"\"}, \"zerolinecolor\": \"#E1E5ED\"}, \"yaxis\": {\"domain\": [0.3, 1], \"gridcolor\": \"#E1E5ED\", \"showgrid\": true, \"tickfont\": {\"color\": \"#4D5663\"}, \"title\": {\"font\": {\"color\": \"#4D5663\"}, \"text\": \"\"}, \"zerolinecolor\": \"#E1E5ED\"}, \"yaxis2\": {\"domain\": [0, 0.25], \"gridcolor\": \"#E1E5ED\", \"showgrid\": true, \"tickfont\": {\"color\": \"#4D5663\"}, \"title\": {\"font\": {\"color\": \"#4D5663\"}, \"text\": \"Spread\"}, \"zerolinecolor\": \"#E1E5ED\"}},                        {\"showLink\": true, \"linkText\": \"Export to plot.ly\", \"plotlyServerURL\": \"https://plot.ly\", \"responsive\": true}                    ).then(function(){\n",
       "                            \n",
       "var gd = document.getElementById('5d0d1e0c-a783-4022-93a2-a9e8fa6380bc');\n",
       "var x = new MutationObserver(function (mutations, observer) {{\n",
       "        var display = window.getComputedStyle(gd).display;\n",
       "        if (!display || display === 'none') {{\n",
       "            console.log([gd, 'removed!']);\n",
       "            Plotly.purge(gd);\n",
       "            observer.disconnect();\n",
       "        }}\n",
       "}});\n",
       "\n",
       "// Listen for the removal of the full notebook cells\n",
       "var notebookContainer = gd.closest('#notebook-container');\n",
       "if (notebookContainer) {{\n",
       "    x.observe(notebookContainer, {childList: true});\n",
       "}}\n",
       "\n",
       "// Listen for the clearing of the current output cell\n",
       "var outputEl = gd.closest('.output');\n",
       "if (outputEl) {{\n",
       "    x.observe(outputEl, {childList: true});\n",
       "}}\n",
       "\n",
       "                        })                };                });            </script>        </div>"
      ]
     },
     "metadata": {},
     "output_type": "display_data"
    }
   ],
   "source": [
    "df[['A','B']].iplot(kind='spread')"
   ]
  },
  {
   "cell_type": "markdown",
   "metadata": {},
   "source": [
    "## histogram"
   ]
  },
  {
   "cell_type": "code",
   "execution_count": 16,
   "metadata": {},
   "outputs": [
    {
     "data": {
      "application/vnd.plotly.v1+json": {
       "config": {
        "linkText": "Export to plot.ly",
        "plotlyServerURL": "https://plot.ly",
        "showLink": true
       },
       "data": [
        {
         "histfunc": "count",
         "histnorm": "",
         "marker": {
          "color": "rgba(255, 153, 51, 1.0)",
          "line": {
           "color": "#4D5663",
           "width": 1.3
          }
         },
         "name": "A",
         "nbinsx": 25,
         "opacity": 0.8,
         "orientation": "v",
         "type": "histogram",
         "x": [
          0.40612300580052474,
          -0.4787833960912556,
          -0.5447183158159912,
          -0.20484654382912085,
          -0.7772111801679075,
          0.7717397677804158,
          1.223436162464635,
          0.06772192697459302,
          0.25456332871080894,
          0.4048565702822834,
          -1.8148879337440906,
          -0.4388441296971543,
          -1.3924436354070289,
          0.6956369095551673,
          -0.8667450625264915,
          -0.6310161646563152,
          1.3003534836796835,
          0.2083137339127651,
          -0.8988700584540924,
          -0.7232670196258586,
          0.31903378409831123,
          -0.20316081187997037,
          1.5874187069817816,
          0.1923467175146929,
          1.1187010598163798,
          -0.7252616193055038,
          0.1801496551521485,
          -1.5140514229709021,
          -1.288260457541485,
          -1.3610877459759907,
          1.7869981630955272,
          0.05692588153120884,
          0.07490690988116719,
          1.3928879350198191,
          -0.09806224795777757,
          1.3917376836181254,
          0.3685419969405524,
          -0.49312306302326253,
          1.4974261447856545,
          -0.3689397108877411,
          -0.9540378493340411,
          0.059716412783843244,
          -0.772836360066239,
          -0.5305614528169932,
          -0.17876090805211597,
          0.263152168058798,
          0.215210090246341,
          1.4589104195751386,
          -0.8539813979762173,
          -0.520159892769052,
          -0.20281248626718093,
          -0.8255111198294761,
          -0.2448982097759442,
          0.1411939476815836,
          0.2020771740684055,
          -1.0559833258091613,
          -1.379739410950068,
          -0.5006662209682377,
          -0.9316129498404765,
          -2.5090916216195764,
          -1.6150447193491557,
          0.21338471972146297,
          0.059999029120805035,
          -0.5109257729777709,
          -0.2268722852054298,
          0.9983442362068591,
          1.1897280575947924,
          0.08124989687103532,
          1.5414292850954545,
          2.25475973576895,
          -1.111730112114252,
          -1.1144069288786815,
          1.114299604592313,
          -0.8158645068290735,
          0.10198790485908782,
          -1.7754246108252718,
          -1.3188149745985318,
          1.4249768136759138,
          0.5502074996929022,
          -0.2767388889975246,
          0.27891988080565244,
          -1.2686878066632947,
          -0.7842613084336968,
          0.6238673940138396,
          1.9328429554944817,
          -0.17767907887367818,
          -2.127060962381966,
          -2.433293326123087,
          -1.304045908210188,
          -0.21858974062276904,
          -1.562354340089511,
          -1.1897706253336464,
          -0.03282994484540824,
          -0.1315262283778394,
          0.8219686893831281,
          -0.6900875321833959,
          0.9314720974852225,
          -0.12183184191563845,
          2.2719105496178975,
          0.5242306179214224
         ]
        }
       ],
       "layout": {
        "barmode": "overlay",
        "legend": {
         "bgcolor": "#F5F6F9",
         "font": {
          "color": "#4D5663"
         }
        },
        "paper_bgcolor": "#F5F6F9",
        "plot_bgcolor": "#F5F6F9",
        "template": {
         "data": {
          "bar": [
           {
            "error_x": {
             "color": "#2a3f5f"
            },
            "error_y": {
             "color": "#2a3f5f"
            },
            "marker": {
             "line": {
              "color": "#E5ECF6",
              "width": 0.5
             }
            },
            "type": "bar"
           }
          ],
          "barpolar": [
           {
            "marker": {
             "line": {
              "color": "#E5ECF6",
              "width": 0.5
             }
            },
            "type": "barpolar"
           }
          ],
          "carpet": [
           {
            "aaxis": {
             "endlinecolor": "#2a3f5f",
             "gridcolor": "white",
             "linecolor": "white",
             "minorgridcolor": "white",
             "startlinecolor": "#2a3f5f"
            },
            "baxis": {
             "endlinecolor": "#2a3f5f",
             "gridcolor": "white",
             "linecolor": "white",
             "minorgridcolor": "white",
             "startlinecolor": "#2a3f5f"
            },
            "type": "carpet"
           }
          ],
          "choropleth": [
           {
            "colorbar": {
             "outlinewidth": 0,
             "ticks": ""
            },
            "type": "choropleth"
           }
          ],
          "contour": [
           {
            "colorbar": {
             "outlinewidth": 0,
             "ticks": ""
            },
            "colorscale": [
             [
              0,
              "#0d0887"
             ],
             [
              0.1111111111111111,
              "#46039f"
             ],
             [
              0.2222222222222222,
              "#7201a8"
             ],
             [
              0.3333333333333333,
              "#9c179e"
             ],
             [
              0.4444444444444444,
              "#bd3786"
             ],
             [
              0.5555555555555556,
              "#d8576b"
             ],
             [
              0.6666666666666666,
              "#ed7953"
             ],
             [
              0.7777777777777778,
              "#fb9f3a"
             ],
             [
              0.8888888888888888,
              "#fdca26"
             ],
             [
              1,
              "#f0f921"
             ]
            ],
            "type": "contour"
           }
          ],
          "contourcarpet": [
           {
            "colorbar": {
             "outlinewidth": 0,
             "ticks": ""
            },
            "type": "contourcarpet"
           }
          ],
          "heatmap": [
           {
            "colorbar": {
             "outlinewidth": 0,
             "ticks": ""
            },
            "colorscale": [
             [
              0,
              "#0d0887"
             ],
             [
              0.1111111111111111,
              "#46039f"
             ],
             [
              0.2222222222222222,
              "#7201a8"
             ],
             [
              0.3333333333333333,
              "#9c179e"
             ],
             [
              0.4444444444444444,
              "#bd3786"
             ],
             [
              0.5555555555555556,
              "#d8576b"
             ],
             [
              0.6666666666666666,
              "#ed7953"
             ],
             [
              0.7777777777777778,
              "#fb9f3a"
             ],
             [
              0.8888888888888888,
              "#fdca26"
             ],
             [
              1,
              "#f0f921"
             ]
            ],
            "type": "heatmap"
           }
          ],
          "heatmapgl": [
           {
            "colorbar": {
             "outlinewidth": 0,
             "ticks": ""
            },
            "colorscale": [
             [
              0,
              "#0d0887"
             ],
             [
              0.1111111111111111,
              "#46039f"
             ],
             [
              0.2222222222222222,
              "#7201a8"
             ],
             [
              0.3333333333333333,
              "#9c179e"
             ],
             [
              0.4444444444444444,
              "#bd3786"
             ],
             [
              0.5555555555555556,
              "#d8576b"
             ],
             [
              0.6666666666666666,
              "#ed7953"
             ],
             [
              0.7777777777777778,
              "#fb9f3a"
             ],
             [
              0.8888888888888888,
              "#fdca26"
             ],
             [
              1,
              "#f0f921"
             ]
            ],
            "type": "heatmapgl"
           }
          ],
          "histogram": [
           {
            "marker": {
             "colorbar": {
              "outlinewidth": 0,
              "ticks": ""
             }
            },
            "type": "histogram"
           }
          ],
          "histogram2d": [
           {
            "colorbar": {
             "outlinewidth": 0,
             "ticks": ""
            },
            "colorscale": [
             [
              0,
              "#0d0887"
             ],
             [
              0.1111111111111111,
              "#46039f"
             ],
             [
              0.2222222222222222,
              "#7201a8"
             ],
             [
              0.3333333333333333,
              "#9c179e"
             ],
             [
              0.4444444444444444,
              "#bd3786"
             ],
             [
              0.5555555555555556,
              "#d8576b"
             ],
             [
              0.6666666666666666,
              "#ed7953"
             ],
             [
              0.7777777777777778,
              "#fb9f3a"
             ],
             [
              0.8888888888888888,
              "#fdca26"
             ],
             [
              1,
              "#f0f921"
             ]
            ],
            "type": "histogram2d"
           }
          ],
          "histogram2dcontour": [
           {
            "colorbar": {
             "outlinewidth": 0,
             "ticks": ""
            },
            "colorscale": [
             [
              0,
              "#0d0887"
             ],
             [
              0.1111111111111111,
              "#46039f"
             ],
             [
              0.2222222222222222,
              "#7201a8"
             ],
             [
              0.3333333333333333,
              "#9c179e"
             ],
             [
              0.4444444444444444,
              "#bd3786"
             ],
             [
              0.5555555555555556,
              "#d8576b"
             ],
             [
              0.6666666666666666,
              "#ed7953"
             ],
             [
              0.7777777777777778,
              "#fb9f3a"
             ],
             [
              0.8888888888888888,
              "#fdca26"
             ],
             [
              1,
              "#f0f921"
             ]
            ],
            "type": "histogram2dcontour"
           }
          ],
          "mesh3d": [
           {
            "colorbar": {
             "outlinewidth": 0,
             "ticks": ""
            },
            "type": "mesh3d"
           }
          ],
          "parcoords": [
           {
            "line": {
             "colorbar": {
              "outlinewidth": 0,
              "ticks": ""
             }
            },
            "type": "parcoords"
           }
          ],
          "pie": [
           {
            "automargin": true,
            "type": "pie"
           }
          ],
          "scatter": [
           {
            "marker": {
             "colorbar": {
              "outlinewidth": 0,
              "ticks": ""
             }
            },
            "type": "scatter"
           }
          ],
          "scatter3d": [
           {
            "line": {
             "colorbar": {
              "outlinewidth": 0,
              "ticks": ""
             }
            },
            "marker": {
             "colorbar": {
              "outlinewidth": 0,
              "ticks": ""
             }
            },
            "type": "scatter3d"
           }
          ],
          "scattercarpet": [
           {
            "marker": {
             "colorbar": {
              "outlinewidth": 0,
              "ticks": ""
             }
            },
            "type": "scattercarpet"
           }
          ],
          "scattergeo": [
           {
            "marker": {
             "colorbar": {
              "outlinewidth": 0,
              "ticks": ""
             }
            },
            "type": "scattergeo"
           }
          ],
          "scattergl": [
           {
            "marker": {
             "colorbar": {
              "outlinewidth": 0,
              "ticks": ""
             }
            },
            "type": "scattergl"
           }
          ],
          "scattermapbox": [
           {
            "marker": {
             "colorbar": {
              "outlinewidth": 0,
              "ticks": ""
             }
            },
            "type": "scattermapbox"
           }
          ],
          "scatterpolar": [
           {
            "marker": {
             "colorbar": {
              "outlinewidth": 0,
              "ticks": ""
             }
            },
            "type": "scatterpolar"
           }
          ],
          "scatterpolargl": [
           {
            "marker": {
             "colorbar": {
              "outlinewidth": 0,
              "ticks": ""
             }
            },
            "type": "scatterpolargl"
           }
          ],
          "scatterternary": [
           {
            "marker": {
             "colorbar": {
              "outlinewidth": 0,
              "ticks": ""
             }
            },
            "type": "scatterternary"
           }
          ],
          "surface": [
           {
            "colorbar": {
             "outlinewidth": 0,
             "ticks": ""
            },
            "colorscale": [
             [
              0,
              "#0d0887"
             ],
             [
              0.1111111111111111,
              "#46039f"
             ],
             [
              0.2222222222222222,
              "#7201a8"
             ],
             [
              0.3333333333333333,
              "#9c179e"
             ],
             [
              0.4444444444444444,
              "#bd3786"
             ],
             [
              0.5555555555555556,
              "#d8576b"
             ],
             [
              0.6666666666666666,
              "#ed7953"
             ],
             [
              0.7777777777777778,
              "#fb9f3a"
             ],
             [
              0.8888888888888888,
              "#fdca26"
             ],
             [
              1,
              "#f0f921"
             ]
            ],
            "type": "surface"
           }
          ],
          "table": [
           {
            "cells": {
             "fill": {
              "color": "#EBF0F8"
             },
             "line": {
              "color": "white"
             }
            },
            "header": {
             "fill": {
              "color": "#C8D4E3"
             },
             "line": {
              "color": "white"
             }
            },
            "type": "table"
           }
          ]
         },
         "layout": {
          "annotationdefaults": {
           "arrowcolor": "#2a3f5f",
           "arrowhead": 0,
           "arrowwidth": 1
          },
          "coloraxis": {
           "colorbar": {
            "outlinewidth": 0,
            "ticks": ""
           }
          },
          "colorscale": {
           "diverging": [
            [
             0,
             "#8e0152"
            ],
            [
             0.1,
             "#c51b7d"
            ],
            [
             0.2,
             "#de77ae"
            ],
            [
             0.3,
             "#f1b6da"
            ],
            [
             0.4,
             "#fde0ef"
            ],
            [
             0.5,
             "#f7f7f7"
            ],
            [
             0.6,
             "#e6f5d0"
            ],
            [
             0.7,
             "#b8e186"
            ],
            [
             0.8,
             "#7fbc41"
            ],
            [
             0.9,
             "#4d9221"
            ],
            [
             1,
             "#276419"
            ]
           ],
           "sequential": [
            [
             0,
             "#0d0887"
            ],
            [
             0.1111111111111111,
             "#46039f"
            ],
            [
             0.2222222222222222,
             "#7201a8"
            ],
            [
             0.3333333333333333,
             "#9c179e"
            ],
            [
             0.4444444444444444,
             "#bd3786"
            ],
            [
             0.5555555555555556,
             "#d8576b"
            ],
            [
             0.6666666666666666,
             "#ed7953"
            ],
            [
             0.7777777777777778,
             "#fb9f3a"
            ],
            [
             0.8888888888888888,
             "#fdca26"
            ],
            [
             1,
             "#f0f921"
            ]
           ],
           "sequentialminus": [
            [
             0,
             "#0d0887"
            ],
            [
             0.1111111111111111,
             "#46039f"
            ],
            [
             0.2222222222222222,
             "#7201a8"
            ],
            [
             0.3333333333333333,
             "#9c179e"
            ],
            [
             0.4444444444444444,
             "#bd3786"
            ],
            [
             0.5555555555555556,
             "#d8576b"
            ],
            [
             0.6666666666666666,
             "#ed7953"
            ],
            [
             0.7777777777777778,
             "#fb9f3a"
            ],
            [
             0.8888888888888888,
             "#fdca26"
            ],
            [
             1,
             "#f0f921"
            ]
           ]
          },
          "colorway": [
           "#636efa",
           "#EF553B",
           "#00cc96",
           "#ab63fa",
           "#FFA15A",
           "#19d3f3",
           "#FF6692",
           "#B6E880",
           "#FF97FF",
           "#FECB52"
          ],
          "font": {
           "color": "#2a3f5f"
          },
          "geo": {
           "bgcolor": "white",
           "lakecolor": "white",
           "landcolor": "#E5ECF6",
           "showlakes": true,
           "showland": true,
           "subunitcolor": "white"
          },
          "hoverlabel": {
           "align": "left"
          },
          "hovermode": "closest",
          "mapbox": {
           "style": "light"
          },
          "paper_bgcolor": "white",
          "plot_bgcolor": "#E5ECF6",
          "polar": {
           "angularaxis": {
            "gridcolor": "white",
            "linecolor": "white",
            "ticks": ""
           },
           "bgcolor": "#E5ECF6",
           "radialaxis": {
            "gridcolor": "white",
            "linecolor": "white",
            "ticks": ""
           }
          },
          "scene": {
           "xaxis": {
            "backgroundcolor": "#E5ECF6",
            "gridcolor": "white",
            "gridwidth": 2,
            "linecolor": "white",
            "showbackground": true,
            "ticks": "",
            "zerolinecolor": "white"
           },
           "yaxis": {
            "backgroundcolor": "#E5ECF6",
            "gridcolor": "white",
            "gridwidth": 2,
            "linecolor": "white",
            "showbackground": true,
            "ticks": "",
            "zerolinecolor": "white"
           },
           "zaxis": {
            "backgroundcolor": "#E5ECF6",
            "gridcolor": "white",
            "gridwidth": 2,
            "linecolor": "white",
            "showbackground": true,
            "ticks": "",
            "zerolinecolor": "white"
           }
          },
          "shapedefaults": {
           "line": {
            "color": "#2a3f5f"
           }
          },
          "ternary": {
           "aaxis": {
            "gridcolor": "white",
            "linecolor": "white",
            "ticks": ""
           },
           "baxis": {
            "gridcolor": "white",
            "linecolor": "white",
            "ticks": ""
           },
           "bgcolor": "#E5ECF6",
           "caxis": {
            "gridcolor": "white",
            "linecolor": "white",
            "ticks": ""
           }
          },
          "title": {
           "x": 0.05
          },
          "xaxis": {
           "automargin": true,
           "gridcolor": "white",
           "linecolor": "white",
           "ticks": "",
           "title": {
            "standoff": 15
           },
           "zerolinecolor": "white",
           "zerolinewidth": 2
          },
          "yaxis": {
           "automargin": true,
           "gridcolor": "white",
           "linecolor": "white",
           "ticks": "",
           "title": {
            "standoff": 15
           },
           "zerolinecolor": "white",
           "zerolinewidth": 2
          }
         }
        },
        "title": {
         "font": {
          "color": "#4D5663"
         }
        },
        "xaxis": {
         "gridcolor": "#E1E5ED",
         "showgrid": true,
         "tickfont": {
          "color": "#4D5663"
         },
         "title": {
          "font": {
           "color": "#4D5663"
          },
          "text": ""
         },
         "zerolinecolor": "#E1E5ED"
        },
        "yaxis": {
         "gridcolor": "#E1E5ED",
         "showgrid": true,
         "tickfont": {
          "color": "#4D5663"
         },
         "title": {
          "font": {
           "color": "#4D5663"
          },
          "text": ""
         },
         "zerolinecolor": "#E1E5ED"
        }
       }
      },
      "text/html": [
       "<div>                            <div id=\"96be3d2f-bdef-4185-a4a9-61687a4d21eb\" class=\"plotly-graph-div\" style=\"height:525px; width:100%;\"></div>            <script type=\"text/javascript\">                require([\"plotly\"], function(Plotly) {                    window.PLOTLYENV=window.PLOTLYENV || {};\n",
       "                    window.PLOTLYENV.BASE_URL='https://plot.ly';                                    if (document.getElementById(\"96be3d2f-bdef-4185-a4a9-61687a4d21eb\")) {                    Plotly.newPlot(                        \"96be3d2f-bdef-4185-a4a9-61687a4d21eb\",                        [{\"histfunc\": \"count\", \"histnorm\": \"\", \"marker\": {\"color\": \"rgba(255, 153, 51, 1.0)\", \"line\": {\"color\": \"#4D5663\", \"width\": 1.3}}, \"name\": \"A\", \"nbinsx\": 25, \"opacity\": 0.8, \"orientation\": \"v\", \"type\": \"histogram\", \"x\": [0.40612300580052474, -0.4787833960912556, -0.5447183158159912, -0.20484654382912085, -0.7772111801679075, 0.7717397677804158, 1.223436162464635, 0.06772192697459302, 0.25456332871080894, 0.4048565702822834, -1.8148879337440906, -0.4388441296971543, -1.3924436354070289, 0.6956369095551673, -0.8667450625264915, -0.6310161646563152, 1.3003534836796835, 0.2083137339127651, -0.8988700584540924, -0.7232670196258586, 0.31903378409831123, -0.20316081187997037, 1.5874187069817816, 0.1923467175146929, 1.1187010598163798, -0.7252616193055038, 0.1801496551521485, -1.5140514229709021, -1.288260457541485, -1.3610877459759907, 1.7869981630955272, 0.05692588153120884, 0.07490690988116719, 1.3928879350198191, -0.09806224795777757, 1.3917376836181254, 0.3685419969405524, -0.49312306302326253, 1.4974261447856545, -0.3689397108877411, -0.9540378493340411, 0.059716412783843244, -0.772836360066239, -0.5305614528169932, -0.17876090805211597, 0.263152168058798, 0.215210090246341, 1.4589104195751386, -0.8539813979762173, -0.520159892769052, -0.20281248626718093, -0.8255111198294761, -0.2448982097759442, 0.1411939476815836, 0.2020771740684055, -1.0559833258091613, -1.379739410950068, -0.5006662209682377, -0.9316129498404765, -2.5090916216195764, -1.6150447193491557, 0.21338471972146297, 0.059999029120805035, -0.5109257729777709, -0.2268722852054298, 0.9983442362068591, 1.1897280575947924, 0.08124989687103532, 1.5414292850954545, 2.25475973576895, -1.111730112114252, -1.1144069288786815, 1.114299604592313, -0.8158645068290735, 0.10198790485908782, -1.7754246108252718, -1.3188149745985318, 1.4249768136759138, 0.5502074996929022, -0.2767388889975246, 0.27891988080565244, -1.2686878066632947, -0.7842613084336968, 0.6238673940138396, 1.9328429554944817, -0.17767907887367818, -2.127060962381966, -2.433293326123087, -1.304045908210188, -0.21858974062276904, -1.562354340089511, -1.1897706253336464, -0.03282994484540824, -0.1315262283778394, 0.8219686893831281, -0.6900875321833959, 0.9314720974852225, -0.12183184191563845, 2.2719105496178975, 0.5242306179214224]}],                        {\"barmode\": \"overlay\", \"legend\": {\"bgcolor\": \"#F5F6F9\", \"font\": {\"color\": \"#4D5663\"}}, \"paper_bgcolor\": \"#F5F6F9\", \"plot_bgcolor\": \"#F5F6F9\", \"template\": {\"data\": {\"bar\": [{\"error_x\": {\"color\": \"#2a3f5f\"}, \"error_y\": {\"color\": \"#2a3f5f\"}, \"marker\": {\"line\": {\"color\": \"#E5ECF6\", \"width\": 0.5}}, \"type\": \"bar\"}], \"barpolar\": [{\"marker\": {\"line\": {\"color\": \"#E5ECF6\", \"width\": 0.5}}, \"type\": \"barpolar\"}], \"carpet\": [{\"aaxis\": {\"endlinecolor\": \"#2a3f5f\", \"gridcolor\": \"white\", \"linecolor\": \"white\", \"minorgridcolor\": \"white\", \"startlinecolor\": \"#2a3f5f\"}, \"baxis\": {\"endlinecolor\": \"#2a3f5f\", \"gridcolor\": \"white\", \"linecolor\": \"white\", \"minorgridcolor\": \"white\", \"startlinecolor\": \"#2a3f5f\"}, \"type\": \"carpet\"}], \"choropleth\": [{\"colorbar\": {\"outlinewidth\": 0, \"ticks\": \"\"}, \"type\": \"choropleth\"}], \"contour\": [{\"colorbar\": {\"outlinewidth\": 0, \"ticks\": \"\"}, \"colorscale\": [[0.0, \"#0d0887\"], [0.1111111111111111, \"#46039f\"], [0.2222222222222222, \"#7201a8\"], [0.3333333333333333, \"#9c179e\"], [0.4444444444444444, \"#bd3786\"], [0.5555555555555556, \"#d8576b\"], [0.6666666666666666, \"#ed7953\"], [0.7777777777777778, \"#fb9f3a\"], [0.8888888888888888, \"#fdca26\"], [1.0, \"#f0f921\"]], \"type\": \"contour\"}], \"contourcarpet\": [{\"colorbar\": {\"outlinewidth\": 0, \"ticks\": \"\"}, \"type\": \"contourcarpet\"}], \"heatmap\": [{\"colorbar\": {\"outlinewidth\": 0, \"ticks\": \"\"}, \"colorscale\": [[0.0, \"#0d0887\"], [0.1111111111111111, \"#46039f\"], [0.2222222222222222, \"#7201a8\"], [0.3333333333333333, \"#9c179e\"], [0.4444444444444444, \"#bd3786\"], [0.5555555555555556, \"#d8576b\"], [0.6666666666666666, \"#ed7953\"], [0.7777777777777778, \"#fb9f3a\"], [0.8888888888888888, \"#fdca26\"], [1.0, \"#f0f921\"]], \"type\": \"heatmap\"}], \"heatmapgl\": [{\"colorbar\": {\"outlinewidth\": 0, \"ticks\": \"\"}, \"colorscale\": [[0.0, \"#0d0887\"], [0.1111111111111111, \"#46039f\"], [0.2222222222222222, \"#7201a8\"], [0.3333333333333333, \"#9c179e\"], [0.4444444444444444, \"#bd3786\"], [0.5555555555555556, \"#d8576b\"], [0.6666666666666666, \"#ed7953\"], [0.7777777777777778, \"#fb9f3a\"], [0.8888888888888888, \"#fdca26\"], [1.0, \"#f0f921\"]], \"type\": \"heatmapgl\"}], \"histogram\": [{\"marker\": {\"colorbar\": {\"outlinewidth\": 0, \"ticks\": \"\"}}, \"type\": \"histogram\"}], \"histogram2d\": [{\"colorbar\": {\"outlinewidth\": 0, \"ticks\": \"\"}, \"colorscale\": [[0.0, \"#0d0887\"], [0.1111111111111111, \"#46039f\"], [0.2222222222222222, \"#7201a8\"], [0.3333333333333333, \"#9c179e\"], [0.4444444444444444, \"#bd3786\"], [0.5555555555555556, \"#d8576b\"], [0.6666666666666666, \"#ed7953\"], [0.7777777777777778, \"#fb9f3a\"], [0.8888888888888888, \"#fdca26\"], [1.0, \"#f0f921\"]], \"type\": \"histogram2d\"}], \"histogram2dcontour\": [{\"colorbar\": {\"outlinewidth\": 0, \"ticks\": \"\"}, \"colorscale\": [[0.0, \"#0d0887\"], [0.1111111111111111, \"#46039f\"], [0.2222222222222222, \"#7201a8\"], [0.3333333333333333, \"#9c179e\"], [0.4444444444444444, \"#bd3786\"], [0.5555555555555556, \"#d8576b\"], [0.6666666666666666, \"#ed7953\"], [0.7777777777777778, \"#fb9f3a\"], [0.8888888888888888, \"#fdca26\"], [1.0, \"#f0f921\"]], \"type\": \"histogram2dcontour\"}], \"mesh3d\": [{\"colorbar\": {\"outlinewidth\": 0, \"ticks\": \"\"}, \"type\": \"mesh3d\"}], \"parcoords\": [{\"line\": {\"colorbar\": {\"outlinewidth\": 0, \"ticks\": \"\"}}, \"type\": \"parcoords\"}], \"pie\": [{\"automargin\": true, \"type\": \"pie\"}], \"scatter\": [{\"marker\": {\"colorbar\": {\"outlinewidth\": 0, \"ticks\": \"\"}}, \"type\": \"scatter\"}], \"scatter3d\": [{\"line\": {\"colorbar\": {\"outlinewidth\": 0, \"ticks\": \"\"}}, \"marker\": {\"colorbar\": {\"outlinewidth\": 0, \"ticks\": \"\"}}, \"type\": \"scatter3d\"}], \"scattercarpet\": [{\"marker\": {\"colorbar\": {\"outlinewidth\": 0, \"ticks\": \"\"}}, \"type\": \"scattercarpet\"}], \"scattergeo\": [{\"marker\": {\"colorbar\": {\"outlinewidth\": 0, \"ticks\": \"\"}}, \"type\": \"scattergeo\"}], \"scattergl\": [{\"marker\": {\"colorbar\": {\"outlinewidth\": 0, \"ticks\": \"\"}}, \"type\": \"scattergl\"}], \"scattermapbox\": [{\"marker\": {\"colorbar\": {\"outlinewidth\": 0, \"ticks\": \"\"}}, \"type\": \"scattermapbox\"}], \"scatterpolar\": [{\"marker\": {\"colorbar\": {\"outlinewidth\": 0, \"ticks\": \"\"}}, \"type\": \"scatterpolar\"}], \"scatterpolargl\": [{\"marker\": {\"colorbar\": {\"outlinewidth\": 0, \"ticks\": \"\"}}, \"type\": \"scatterpolargl\"}], \"scatterternary\": [{\"marker\": {\"colorbar\": {\"outlinewidth\": 0, \"ticks\": \"\"}}, \"type\": \"scatterternary\"}], \"surface\": [{\"colorbar\": {\"outlinewidth\": 0, \"ticks\": \"\"}, \"colorscale\": [[0.0, \"#0d0887\"], [0.1111111111111111, \"#46039f\"], [0.2222222222222222, \"#7201a8\"], [0.3333333333333333, \"#9c179e\"], [0.4444444444444444, \"#bd3786\"], [0.5555555555555556, \"#d8576b\"], [0.6666666666666666, \"#ed7953\"], [0.7777777777777778, \"#fb9f3a\"], [0.8888888888888888, \"#fdca26\"], [1.0, \"#f0f921\"]], \"type\": \"surface\"}], \"table\": [{\"cells\": {\"fill\": {\"color\": \"#EBF0F8\"}, \"line\": {\"color\": \"white\"}}, \"header\": {\"fill\": {\"color\": \"#C8D4E3\"}, \"line\": {\"color\": \"white\"}}, \"type\": \"table\"}]}, \"layout\": {\"annotationdefaults\": {\"arrowcolor\": \"#2a3f5f\", \"arrowhead\": 0, \"arrowwidth\": 1}, \"coloraxis\": {\"colorbar\": {\"outlinewidth\": 0, \"ticks\": \"\"}}, \"colorscale\": {\"diverging\": [[0, \"#8e0152\"], [0.1, \"#c51b7d\"], [0.2, \"#de77ae\"], [0.3, \"#f1b6da\"], [0.4, \"#fde0ef\"], [0.5, \"#f7f7f7\"], [0.6, \"#e6f5d0\"], [0.7, \"#b8e186\"], [0.8, \"#7fbc41\"], [0.9, \"#4d9221\"], [1, \"#276419\"]], \"sequential\": [[0.0, \"#0d0887\"], [0.1111111111111111, \"#46039f\"], [0.2222222222222222, \"#7201a8\"], [0.3333333333333333, \"#9c179e\"], [0.4444444444444444, \"#bd3786\"], [0.5555555555555556, \"#d8576b\"], [0.6666666666666666, \"#ed7953\"], [0.7777777777777778, \"#fb9f3a\"], [0.8888888888888888, \"#fdca26\"], [1.0, \"#f0f921\"]], \"sequentialminus\": [[0.0, \"#0d0887\"], [0.1111111111111111, \"#46039f\"], [0.2222222222222222, \"#7201a8\"], [0.3333333333333333, \"#9c179e\"], [0.4444444444444444, \"#bd3786\"], [0.5555555555555556, \"#d8576b\"], [0.6666666666666666, \"#ed7953\"], [0.7777777777777778, \"#fb9f3a\"], [0.8888888888888888, \"#fdca26\"], [1.0, \"#f0f921\"]]}, \"colorway\": [\"#636efa\", \"#EF553B\", \"#00cc96\", \"#ab63fa\", \"#FFA15A\", \"#19d3f3\", \"#FF6692\", \"#B6E880\", \"#FF97FF\", \"#FECB52\"], \"font\": {\"color\": \"#2a3f5f\"}, \"geo\": {\"bgcolor\": \"white\", \"lakecolor\": \"white\", \"landcolor\": \"#E5ECF6\", \"showlakes\": true, \"showland\": true, \"subunitcolor\": \"white\"}, \"hoverlabel\": {\"align\": \"left\"}, \"hovermode\": \"closest\", \"mapbox\": {\"style\": \"light\"}, \"paper_bgcolor\": \"white\", \"plot_bgcolor\": \"#E5ECF6\", \"polar\": {\"angularaxis\": {\"gridcolor\": \"white\", \"linecolor\": \"white\", \"ticks\": \"\"}, \"bgcolor\": \"#E5ECF6\", \"radialaxis\": {\"gridcolor\": \"white\", \"linecolor\": \"white\", \"ticks\": \"\"}}, \"scene\": {\"xaxis\": {\"backgroundcolor\": \"#E5ECF6\", \"gridcolor\": \"white\", \"gridwidth\": 2, \"linecolor\": \"white\", \"showbackground\": true, \"ticks\": \"\", \"zerolinecolor\": \"white\"}, \"yaxis\": {\"backgroundcolor\": \"#E5ECF6\", \"gridcolor\": \"white\", \"gridwidth\": 2, \"linecolor\": \"white\", \"showbackground\": true, \"ticks\": \"\", \"zerolinecolor\": \"white\"}, \"zaxis\": {\"backgroundcolor\": \"#E5ECF6\", \"gridcolor\": \"white\", \"gridwidth\": 2, \"linecolor\": \"white\", \"showbackground\": true, \"ticks\": \"\", \"zerolinecolor\": \"white\"}}, \"shapedefaults\": {\"line\": {\"color\": \"#2a3f5f\"}}, \"ternary\": {\"aaxis\": {\"gridcolor\": \"white\", \"linecolor\": \"white\", \"ticks\": \"\"}, \"baxis\": {\"gridcolor\": \"white\", \"linecolor\": \"white\", \"ticks\": \"\"}, \"bgcolor\": \"#E5ECF6\", \"caxis\": {\"gridcolor\": \"white\", \"linecolor\": \"white\", \"ticks\": \"\"}}, \"title\": {\"x\": 0.05}, \"xaxis\": {\"automargin\": true, \"gridcolor\": \"white\", \"linecolor\": \"white\", \"ticks\": \"\", \"title\": {\"standoff\": 15}, \"zerolinecolor\": \"white\", \"zerolinewidth\": 2}, \"yaxis\": {\"automargin\": true, \"gridcolor\": \"white\", \"linecolor\": \"white\", \"ticks\": \"\", \"title\": {\"standoff\": 15}, \"zerolinecolor\": \"white\", \"zerolinewidth\": 2}}}, \"title\": {\"font\": {\"color\": \"#4D5663\"}}, \"xaxis\": {\"gridcolor\": \"#E1E5ED\", \"showgrid\": true, \"tickfont\": {\"color\": \"#4D5663\"}, \"title\": {\"font\": {\"color\": \"#4D5663\"}, \"text\": \"\"}, \"zerolinecolor\": \"#E1E5ED\"}, \"yaxis\": {\"gridcolor\": \"#E1E5ED\", \"showgrid\": true, \"tickfont\": {\"color\": \"#4D5663\"}, \"title\": {\"font\": {\"color\": \"#4D5663\"}, \"text\": \"\"}, \"zerolinecolor\": \"#E1E5ED\"}},                        {\"showLink\": true, \"linkText\": \"Export to plot.ly\", \"plotlyServerURL\": \"https://plot.ly\", \"responsive\": true}                    ).then(function(){\n",
       "                            \n",
       "var gd = document.getElementById('96be3d2f-bdef-4185-a4a9-61687a4d21eb');\n",
       "var x = new MutationObserver(function (mutations, observer) {{\n",
       "        var display = window.getComputedStyle(gd).display;\n",
       "        if (!display || display === 'none') {{\n",
       "            console.log([gd, 'removed!']);\n",
       "            Plotly.purge(gd);\n",
       "            observer.disconnect();\n",
       "        }}\n",
       "}});\n",
       "\n",
       "// Listen for the removal of the full notebook cells\n",
       "var notebookContainer = gd.closest('#notebook-container');\n",
       "if (notebookContainer) {{\n",
       "    x.observe(notebookContainer, {childList: true});\n",
       "}}\n",
       "\n",
       "// Listen for the clearing of the current output cell\n",
       "var outputEl = gd.closest('.output');\n",
       "if (outputEl) {{\n",
       "    x.observe(outputEl, {childList: true});\n",
       "}}\n",
       "\n",
       "                        })                };                });            </script>        </div>"
      ]
     },
     "metadata": {},
     "output_type": "display_data"
    }
   ],
   "source": [
    "df['A'].iplot(kind='hist',bins=25)"
   ]
  },
  {
   "cell_type": "code",
   "execution_count": 17,
   "metadata": {},
   "outputs": [
    {
     "data": {
      "application/vnd.plotly.v1+json": {
       "config": {
        "linkText": "Export to plot.ly",
        "plotlyServerURL": "https://plot.ly",
        "showLink": true
       },
       "data": [
        {
         "marker": {
          "color": [
           "rgb(255, 153, 51)",
           "rgb(55, 128, 191)",
           "rgb(50, 171, 96)",
           "rgb(128, 0, 128)",
           "rgb(219, 64, 82)",
           "rgb(0, 128, 128)",
           "rgb(255, 255, 51)",
           "rgb(128, 128, 0)",
           "rgb(251, 128, 114)",
           "rgb(128, 177, 211)"
          ],
          "line": {
           "width": 1.3
          },
          "size": [
           67,
           71,
           45,
           57,
           72,
           42,
           45,
           100,
           75,
           46,
           73,
           42,
           80,
           60,
           32,
           47,
           53,
           75,
           56,
           57,
           42,
           57,
           80,
           50,
           70,
           21,
           44,
           74,
           58,
           55,
           88,
           60,
           39,
           63,
           47,
           52,
           72,
           80,
           48,
           24,
           45,
           66,
           62,
           36,
           80,
           74,
           58,
           65,
           69,
           31,
           59,
           77,
           36,
           65,
           34,
           112,
           46,
           63,
           58,
           33,
           48,
           52,
           50,
           60,
           49,
           57,
           16,
           88,
           43,
           62,
           62,
           86,
           63,
           75,
           42,
           42,
           45,
           35,
           22,
           42,
           80,
           12,
           57,
           91,
           42,
           57,
           42,
           46,
           67,
           40,
           76,
           57,
           58,
           64,
           39,
           30,
           76,
           55,
           50,
           50
          ],
          "symbol": "circle"
         },
         "mode": "markers",
         "text": "",
         "type": "scatter",
         "x": [
          0.40612300580052474,
          -0.4787833960912556,
          -0.5447183158159912,
          -0.20484654382912085,
          -0.7772111801679075,
          0.7717397677804158,
          1.223436162464635,
          0.06772192697459302,
          0.25456332871080894,
          0.4048565702822834,
          -1.8148879337440906,
          -0.4388441296971543,
          -1.3924436354070289,
          0.6956369095551673,
          -0.8667450625264915,
          -0.6310161646563152,
          1.3003534836796835,
          0.2083137339127651,
          -0.8988700584540924,
          -0.7232670196258586,
          0.31903378409831123,
          -0.20316081187997037,
          1.5874187069817816,
          0.1923467175146929,
          1.1187010598163798,
          -0.7252616193055038,
          0.1801496551521485,
          -1.5140514229709021,
          -1.288260457541485,
          -1.3610877459759907,
          1.7869981630955272,
          0.05692588153120884,
          0.07490690988116719,
          1.3928879350198191,
          -0.09806224795777757,
          1.3917376836181254,
          0.3685419969405524,
          -0.49312306302326253,
          1.4974261447856545,
          -0.3689397108877411,
          -0.9540378493340411,
          0.059716412783843244,
          -0.772836360066239,
          -0.5305614528169932,
          -0.17876090805211597,
          0.263152168058798,
          0.215210090246341,
          1.4589104195751386,
          -0.8539813979762173,
          -0.520159892769052,
          -0.20281248626718093,
          -0.8255111198294761,
          -0.2448982097759442,
          0.1411939476815836,
          0.2020771740684055,
          -1.0559833258091613,
          -1.379739410950068,
          -0.5006662209682377,
          -0.9316129498404765,
          -2.5090916216195764,
          -1.6150447193491557,
          0.21338471972146297,
          0.059999029120805035,
          -0.5109257729777709,
          -0.2268722852054298,
          0.9983442362068591,
          1.1897280575947924,
          0.08124989687103532,
          1.5414292850954545,
          2.25475973576895,
          -1.111730112114252,
          -1.1144069288786815,
          1.114299604592313,
          -0.8158645068290735,
          0.10198790485908782,
          -1.7754246108252718,
          -1.3188149745985318,
          1.4249768136759138,
          0.5502074996929022,
          -0.2767388889975246,
          0.27891988080565244,
          -1.2686878066632947,
          -0.7842613084336968,
          0.6238673940138396,
          1.9328429554944817,
          -0.17767907887367818,
          -2.127060962381966,
          -2.433293326123087,
          -1.304045908210188,
          -0.21858974062276904,
          -1.562354340089511,
          -1.1897706253336464,
          -0.03282994484540824,
          -0.1315262283778394,
          0.8219686893831281,
          -0.6900875321833959,
          0.9314720974852225,
          -0.12183184191563845,
          2.2719105496178975,
          0.5242306179214224
         ],
         "y": [
          -0.36259548072853875,
          -1.267870868137753,
          -1.0091462104932183,
          -1.0110585705993747,
          2.0762507530042895,
          1.4881995414855038,
          -0.26646024128323953,
          0.11686341059463608,
          2.21425720893623,
          -0.5021126738974973,
          -0.5257142342177114,
          -0.8571176187528038,
          -0.6092482759913191,
          -0.08686320715520057,
          0.36105712954854563,
          0.857438327524079,
          0.21106363592610627,
          0.11927464514128387,
          1.9107081723052977,
          0.11726142499280247,
          0.15562165513999635,
          0.17984294181999808,
          0.42853832330408864,
          1.4815379150422912,
          0.9806138358460342,
          -0.8138989560324716,
          0.45988968024795274,
          0.40153056231663187,
          0.3858907016348598,
          0.29131595025742535,
          0.0995816061413352,
          -0.44331204085049064,
          -2.001837597279621,
          -0.26869125348082745,
          -1.2968267576274637,
          0.23345037240733127,
          -0.4671918976965135,
          -1.3841503189198816,
          -0.44954618641312155,
          2.1093747200978687,
          0.7018818255134294,
          -0.6782062082975912,
          0.28486767051026746,
          -0.4252864697271743,
          -0.04075062367543577,
          -0.12190918216816145,
          0.40667369197181796,
          1.3213925954510657,
          -0.2122494509573179,
          0.5281694741678093,
          2.229210068526433,
          1.9412193570376737,
          2.036390856146347,
          -0.6758525191223714,
          1.3283170028978404,
          0.230437983084068,
          0.6291741142455162,
          -1.0178739201970899,
          -0.8511990469438749,
          -0.1136179868905994,
          -0.44956504785723433,
          -1.4236153338809452,
          -2.5579823199668876,
          -0.313401670583427,
          0.23394667100442418,
          -0.6917842239920057,
          1.1369538575013078,
          0.741038314372609,
          0.3626852950666634,
          0.9124505835466721,
          -1.2065960914879164,
          -0.5605693444006637,
          1.32927682001344,
          1.1453456267611448,
          -0.5839163862401376,
          1.0888454997300678,
          0.34451912392908945,
          -2.0268651130316186,
          -1.8916866438700928,
          0.45964397046328515,
          2.1584681393854055,
          -0.074148304304722,
          -0.6384037506621307,
          -0.17356245521649813,
          -1.0843504488078473,
          0.6019912533839158,
          -0.0864499869337545,
          -0.6426495556702666,
          -0.9469150759863427,
          1.1266066812979123,
          -1.0874503292056883,
          0.6224487504191203,
          -0.21084575656209098,
          2.1368173265227526,
          0.4709018271403978,
          -2.1699468729069555,
          -0.9401270264259753,
          -0.3052356128961729,
          1.006669632826666,
          0.5873935540844651
         ]
        }
       ],
       "layout": {
        "legend": {
         "bgcolor": "#F5F6F9",
         "font": {
          "color": "#4D5663"
         }
        },
        "paper_bgcolor": "#F5F6F9",
        "plot_bgcolor": "#F5F6F9",
        "template": {
         "data": {
          "bar": [
           {
            "error_x": {
             "color": "#2a3f5f"
            },
            "error_y": {
             "color": "#2a3f5f"
            },
            "marker": {
             "line": {
              "color": "#E5ECF6",
              "width": 0.5
             }
            },
            "type": "bar"
           }
          ],
          "barpolar": [
           {
            "marker": {
             "line": {
              "color": "#E5ECF6",
              "width": 0.5
             }
            },
            "type": "barpolar"
           }
          ],
          "carpet": [
           {
            "aaxis": {
             "endlinecolor": "#2a3f5f",
             "gridcolor": "white",
             "linecolor": "white",
             "minorgridcolor": "white",
             "startlinecolor": "#2a3f5f"
            },
            "baxis": {
             "endlinecolor": "#2a3f5f",
             "gridcolor": "white",
             "linecolor": "white",
             "minorgridcolor": "white",
             "startlinecolor": "#2a3f5f"
            },
            "type": "carpet"
           }
          ],
          "choropleth": [
           {
            "colorbar": {
             "outlinewidth": 0,
             "ticks": ""
            },
            "type": "choropleth"
           }
          ],
          "contour": [
           {
            "colorbar": {
             "outlinewidth": 0,
             "ticks": ""
            },
            "colorscale": [
             [
              0,
              "#0d0887"
             ],
             [
              0.1111111111111111,
              "#46039f"
             ],
             [
              0.2222222222222222,
              "#7201a8"
             ],
             [
              0.3333333333333333,
              "#9c179e"
             ],
             [
              0.4444444444444444,
              "#bd3786"
             ],
             [
              0.5555555555555556,
              "#d8576b"
             ],
             [
              0.6666666666666666,
              "#ed7953"
             ],
             [
              0.7777777777777778,
              "#fb9f3a"
             ],
             [
              0.8888888888888888,
              "#fdca26"
             ],
             [
              1,
              "#f0f921"
             ]
            ],
            "type": "contour"
           }
          ],
          "contourcarpet": [
           {
            "colorbar": {
             "outlinewidth": 0,
             "ticks": ""
            },
            "type": "contourcarpet"
           }
          ],
          "heatmap": [
           {
            "colorbar": {
             "outlinewidth": 0,
             "ticks": ""
            },
            "colorscale": [
             [
              0,
              "#0d0887"
             ],
             [
              0.1111111111111111,
              "#46039f"
             ],
             [
              0.2222222222222222,
              "#7201a8"
             ],
             [
              0.3333333333333333,
              "#9c179e"
             ],
             [
              0.4444444444444444,
              "#bd3786"
             ],
             [
              0.5555555555555556,
              "#d8576b"
             ],
             [
              0.6666666666666666,
              "#ed7953"
             ],
             [
              0.7777777777777778,
              "#fb9f3a"
             ],
             [
              0.8888888888888888,
              "#fdca26"
             ],
             [
              1,
              "#f0f921"
             ]
            ],
            "type": "heatmap"
           }
          ],
          "heatmapgl": [
           {
            "colorbar": {
             "outlinewidth": 0,
             "ticks": ""
            },
            "colorscale": [
             [
              0,
              "#0d0887"
             ],
             [
              0.1111111111111111,
              "#46039f"
             ],
             [
              0.2222222222222222,
              "#7201a8"
             ],
             [
              0.3333333333333333,
              "#9c179e"
             ],
             [
              0.4444444444444444,
              "#bd3786"
             ],
             [
              0.5555555555555556,
              "#d8576b"
             ],
             [
              0.6666666666666666,
              "#ed7953"
             ],
             [
              0.7777777777777778,
              "#fb9f3a"
             ],
             [
              0.8888888888888888,
              "#fdca26"
             ],
             [
              1,
              "#f0f921"
             ]
            ],
            "type": "heatmapgl"
           }
          ],
          "histogram": [
           {
            "marker": {
             "colorbar": {
              "outlinewidth": 0,
              "ticks": ""
             }
            },
            "type": "histogram"
           }
          ],
          "histogram2d": [
           {
            "colorbar": {
             "outlinewidth": 0,
             "ticks": ""
            },
            "colorscale": [
             [
              0,
              "#0d0887"
             ],
             [
              0.1111111111111111,
              "#46039f"
             ],
             [
              0.2222222222222222,
              "#7201a8"
             ],
             [
              0.3333333333333333,
              "#9c179e"
             ],
             [
              0.4444444444444444,
              "#bd3786"
             ],
             [
              0.5555555555555556,
              "#d8576b"
             ],
             [
              0.6666666666666666,
              "#ed7953"
             ],
             [
              0.7777777777777778,
              "#fb9f3a"
             ],
             [
              0.8888888888888888,
              "#fdca26"
             ],
             [
              1,
              "#f0f921"
             ]
            ],
            "type": "histogram2d"
           }
          ],
          "histogram2dcontour": [
           {
            "colorbar": {
             "outlinewidth": 0,
             "ticks": ""
            },
            "colorscale": [
             [
              0,
              "#0d0887"
             ],
             [
              0.1111111111111111,
              "#46039f"
             ],
             [
              0.2222222222222222,
              "#7201a8"
             ],
             [
              0.3333333333333333,
              "#9c179e"
             ],
             [
              0.4444444444444444,
              "#bd3786"
             ],
             [
              0.5555555555555556,
              "#d8576b"
             ],
             [
              0.6666666666666666,
              "#ed7953"
             ],
             [
              0.7777777777777778,
              "#fb9f3a"
             ],
             [
              0.8888888888888888,
              "#fdca26"
             ],
             [
              1,
              "#f0f921"
             ]
            ],
            "type": "histogram2dcontour"
           }
          ],
          "mesh3d": [
           {
            "colorbar": {
             "outlinewidth": 0,
             "ticks": ""
            },
            "type": "mesh3d"
           }
          ],
          "parcoords": [
           {
            "line": {
             "colorbar": {
              "outlinewidth": 0,
              "ticks": ""
             }
            },
            "type": "parcoords"
           }
          ],
          "pie": [
           {
            "automargin": true,
            "type": "pie"
           }
          ],
          "scatter": [
           {
            "marker": {
             "colorbar": {
              "outlinewidth": 0,
              "ticks": ""
             }
            },
            "type": "scatter"
           }
          ],
          "scatter3d": [
           {
            "line": {
             "colorbar": {
              "outlinewidth": 0,
              "ticks": ""
             }
            },
            "marker": {
             "colorbar": {
              "outlinewidth": 0,
              "ticks": ""
             }
            },
            "type": "scatter3d"
           }
          ],
          "scattercarpet": [
           {
            "marker": {
             "colorbar": {
              "outlinewidth": 0,
              "ticks": ""
             }
            },
            "type": "scattercarpet"
           }
          ],
          "scattergeo": [
           {
            "marker": {
             "colorbar": {
              "outlinewidth": 0,
              "ticks": ""
             }
            },
            "type": "scattergeo"
           }
          ],
          "scattergl": [
           {
            "marker": {
             "colorbar": {
              "outlinewidth": 0,
              "ticks": ""
             }
            },
            "type": "scattergl"
           }
          ],
          "scattermapbox": [
           {
            "marker": {
             "colorbar": {
              "outlinewidth": 0,
              "ticks": ""
             }
            },
            "type": "scattermapbox"
           }
          ],
          "scatterpolar": [
           {
            "marker": {
             "colorbar": {
              "outlinewidth": 0,
              "ticks": ""
             }
            },
            "type": "scatterpolar"
           }
          ],
          "scatterpolargl": [
           {
            "marker": {
             "colorbar": {
              "outlinewidth": 0,
              "ticks": ""
             }
            },
            "type": "scatterpolargl"
           }
          ],
          "scatterternary": [
           {
            "marker": {
             "colorbar": {
              "outlinewidth": 0,
              "ticks": ""
             }
            },
            "type": "scatterternary"
           }
          ],
          "surface": [
           {
            "colorbar": {
             "outlinewidth": 0,
             "ticks": ""
            },
            "colorscale": [
             [
              0,
              "#0d0887"
             ],
             [
              0.1111111111111111,
              "#46039f"
             ],
             [
              0.2222222222222222,
              "#7201a8"
             ],
             [
              0.3333333333333333,
              "#9c179e"
             ],
             [
              0.4444444444444444,
              "#bd3786"
             ],
             [
              0.5555555555555556,
              "#d8576b"
             ],
             [
              0.6666666666666666,
              "#ed7953"
             ],
             [
              0.7777777777777778,
              "#fb9f3a"
             ],
             [
              0.8888888888888888,
              "#fdca26"
             ],
             [
              1,
              "#f0f921"
             ]
            ],
            "type": "surface"
           }
          ],
          "table": [
           {
            "cells": {
             "fill": {
              "color": "#EBF0F8"
             },
             "line": {
              "color": "white"
             }
            },
            "header": {
             "fill": {
              "color": "#C8D4E3"
             },
             "line": {
              "color": "white"
             }
            },
            "type": "table"
           }
          ]
         },
         "layout": {
          "annotationdefaults": {
           "arrowcolor": "#2a3f5f",
           "arrowhead": 0,
           "arrowwidth": 1
          },
          "coloraxis": {
           "colorbar": {
            "outlinewidth": 0,
            "ticks": ""
           }
          },
          "colorscale": {
           "diverging": [
            [
             0,
             "#8e0152"
            ],
            [
             0.1,
             "#c51b7d"
            ],
            [
             0.2,
             "#de77ae"
            ],
            [
             0.3,
             "#f1b6da"
            ],
            [
             0.4,
             "#fde0ef"
            ],
            [
             0.5,
             "#f7f7f7"
            ],
            [
             0.6,
             "#e6f5d0"
            ],
            [
             0.7,
             "#b8e186"
            ],
            [
             0.8,
             "#7fbc41"
            ],
            [
             0.9,
             "#4d9221"
            ],
            [
             1,
             "#276419"
            ]
           ],
           "sequential": [
            [
             0,
             "#0d0887"
            ],
            [
             0.1111111111111111,
             "#46039f"
            ],
            [
             0.2222222222222222,
             "#7201a8"
            ],
            [
             0.3333333333333333,
             "#9c179e"
            ],
            [
             0.4444444444444444,
             "#bd3786"
            ],
            [
             0.5555555555555556,
             "#d8576b"
            ],
            [
             0.6666666666666666,
             "#ed7953"
            ],
            [
             0.7777777777777778,
             "#fb9f3a"
            ],
            [
             0.8888888888888888,
             "#fdca26"
            ],
            [
             1,
             "#f0f921"
            ]
           ],
           "sequentialminus": [
            [
             0,
             "#0d0887"
            ],
            [
             0.1111111111111111,
             "#46039f"
            ],
            [
             0.2222222222222222,
             "#7201a8"
            ],
            [
             0.3333333333333333,
             "#9c179e"
            ],
            [
             0.4444444444444444,
             "#bd3786"
            ],
            [
             0.5555555555555556,
             "#d8576b"
            ],
            [
             0.6666666666666666,
             "#ed7953"
            ],
            [
             0.7777777777777778,
             "#fb9f3a"
            ],
            [
             0.8888888888888888,
             "#fdca26"
            ],
            [
             1,
             "#f0f921"
            ]
           ]
          },
          "colorway": [
           "#636efa",
           "#EF553B",
           "#00cc96",
           "#ab63fa",
           "#FFA15A",
           "#19d3f3",
           "#FF6692",
           "#B6E880",
           "#FF97FF",
           "#FECB52"
          ],
          "font": {
           "color": "#2a3f5f"
          },
          "geo": {
           "bgcolor": "white",
           "lakecolor": "white",
           "landcolor": "#E5ECF6",
           "showlakes": true,
           "showland": true,
           "subunitcolor": "white"
          },
          "hoverlabel": {
           "align": "left"
          },
          "hovermode": "closest",
          "mapbox": {
           "style": "light"
          },
          "paper_bgcolor": "white",
          "plot_bgcolor": "#E5ECF6",
          "polar": {
           "angularaxis": {
            "gridcolor": "white",
            "linecolor": "white",
            "ticks": ""
           },
           "bgcolor": "#E5ECF6",
           "radialaxis": {
            "gridcolor": "white",
            "linecolor": "white",
            "ticks": ""
           }
          },
          "scene": {
           "xaxis": {
            "backgroundcolor": "#E5ECF6",
            "gridcolor": "white",
            "gridwidth": 2,
            "linecolor": "white",
            "showbackground": true,
            "ticks": "",
            "zerolinecolor": "white"
           },
           "yaxis": {
            "backgroundcolor": "#E5ECF6",
            "gridcolor": "white",
            "gridwidth": 2,
            "linecolor": "white",
            "showbackground": true,
            "ticks": "",
            "zerolinecolor": "white"
           },
           "zaxis": {
            "backgroundcolor": "#E5ECF6",
            "gridcolor": "white",
            "gridwidth": 2,
            "linecolor": "white",
            "showbackground": true,
            "ticks": "",
            "zerolinecolor": "white"
           }
          },
          "shapedefaults": {
           "line": {
            "color": "#2a3f5f"
           }
          },
          "ternary": {
           "aaxis": {
            "gridcolor": "white",
            "linecolor": "white",
            "ticks": ""
           },
           "baxis": {
            "gridcolor": "white",
            "linecolor": "white",
            "ticks": ""
           },
           "bgcolor": "#E5ECF6",
           "caxis": {
            "gridcolor": "white",
            "linecolor": "white",
            "ticks": ""
           }
          },
          "title": {
           "x": 0.05
          },
          "xaxis": {
           "automargin": true,
           "gridcolor": "white",
           "linecolor": "white",
           "ticks": "",
           "title": {
            "standoff": 15
           },
           "zerolinecolor": "white",
           "zerolinewidth": 2
          },
          "yaxis": {
           "automargin": true,
           "gridcolor": "white",
           "linecolor": "white",
           "ticks": "",
           "title": {
            "standoff": 15
           },
           "zerolinecolor": "white",
           "zerolinewidth": 2
          }
         }
        },
        "title": {
         "font": {
          "color": "#4D5663"
         }
        },
        "xaxis": {
         "gridcolor": "#E1E5ED",
         "showgrid": true,
         "tickfont": {
          "color": "#4D5663"
         },
         "title": {
          "font": {
           "color": "#4D5663"
          },
          "text": ""
         },
         "zerolinecolor": "#E1E5ED"
        },
        "yaxis": {
         "gridcolor": "#E1E5ED",
         "showgrid": true,
         "tickfont": {
          "color": "#4D5663"
         },
         "title": {
          "font": {
           "color": "#4D5663"
          },
          "text": ""
         },
         "zerolinecolor": "#E1E5ED"
        }
       }
      },
      "text/html": [
       "<div>                            <div id=\"4ea2571a-5afd-4069-9917-e7db637b7658\" class=\"plotly-graph-div\" style=\"height:525px; width:100%;\"></div>            <script type=\"text/javascript\">                require([\"plotly\"], function(Plotly) {                    window.PLOTLYENV=window.PLOTLYENV || {};\n",
       "                    window.PLOTLYENV.BASE_URL='https://plot.ly';                                    if (document.getElementById(\"4ea2571a-5afd-4069-9917-e7db637b7658\")) {                    Plotly.newPlot(                        \"4ea2571a-5afd-4069-9917-e7db637b7658\",                        [{\"marker\": {\"color\": [\"rgb(255, 153, 51)\", \"rgb(55, 128, 191)\", \"rgb(50, 171, 96)\", \"rgb(128, 0, 128)\", \"rgb(219, 64, 82)\", \"rgb(0, 128, 128)\", \"rgb(255, 255, 51)\", \"rgb(128, 128, 0)\", \"rgb(251, 128, 114)\", \"rgb(128, 177, 211)\"], \"line\": {\"width\": 1.3}, \"size\": [67, 71, 45, 57, 72, 42, 45, 100, 75, 46, 73, 42, 80, 60, 32, 47, 53, 75, 56, 57, 42, 57, 80, 50, 70, 21, 44, 74, 58, 55, 88, 60, 39, 63, 47, 52, 72, 80, 48, 24, 45, 66, 62, 36, 80, 74, 58, 65, 69, 31, 59, 77, 36, 65, 34, 112, 46, 63, 58, 33, 48, 52, 50, 60, 49, 57, 16, 88, 43, 62, 62, 86, 63, 75, 42, 42, 45, 35, 22, 42, 80, 12, 57, 91, 42, 57, 42, 46, 67, 40, 76, 57, 58, 64, 39, 30, 76, 55, 50, 50], \"symbol\": \"circle\"}, \"mode\": \"markers\", \"text\": \"\", \"type\": \"scatter\", \"x\": [0.40612300580052474, -0.4787833960912556, -0.5447183158159912, -0.20484654382912085, -0.7772111801679075, 0.7717397677804158, 1.223436162464635, 0.06772192697459302, 0.25456332871080894, 0.4048565702822834, -1.8148879337440906, -0.4388441296971543, -1.3924436354070289, 0.6956369095551673, -0.8667450625264915, -0.6310161646563152, 1.3003534836796835, 0.2083137339127651, -0.8988700584540924, -0.7232670196258586, 0.31903378409831123, -0.20316081187997037, 1.5874187069817816, 0.1923467175146929, 1.1187010598163798, -0.7252616193055038, 0.1801496551521485, -1.5140514229709021, -1.288260457541485, -1.3610877459759907, 1.7869981630955272, 0.05692588153120884, 0.07490690988116719, 1.3928879350198191, -0.09806224795777757, 1.3917376836181254, 0.3685419969405524, -0.49312306302326253, 1.4974261447856545, -0.3689397108877411, -0.9540378493340411, 0.059716412783843244, -0.772836360066239, -0.5305614528169932, -0.17876090805211597, 0.263152168058798, 0.215210090246341, 1.4589104195751386, -0.8539813979762173, -0.520159892769052, -0.20281248626718093, -0.8255111198294761, -0.2448982097759442, 0.1411939476815836, 0.2020771740684055, -1.0559833258091613, -1.379739410950068, -0.5006662209682377, -0.9316129498404765, -2.5090916216195764, -1.6150447193491557, 0.21338471972146297, 0.059999029120805035, -0.5109257729777709, -0.2268722852054298, 0.9983442362068591, 1.1897280575947924, 0.08124989687103532, 1.5414292850954545, 2.25475973576895, -1.111730112114252, -1.1144069288786815, 1.114299604592313, -0.8158645068290735, 0.10198790485908782, -1.7754246108252718, -1.3188149745985318, 1.4249768136759138, 0.5502074996929022, -0.2767388889975246, 0.27891988080565244, -1.2686878066632947, -0.7842613084336968, 0.6238673940138396, 1.9328429554944817, -0.17767907887367818, -2.127060962381966, -2.433293326123087, -1.304045908210188, -0.21858974062276904, -1.562354340089511, -1.1897706253336464, -0.03282994484540824, -0.1315262283778394, 0.8219686893831281, -0.6900875321833959, 0.9314720974852225, -0.12183184191563845, 2.2719105496178975, 0.5242306179214224], \"y\": [-0.36259548072853875, -1.267870868137753, -1.0091462104932183, -1.0110585705993747, 2.0762507530042895, 1.4881995414855038, -0.26646024128323953, 0.11686341059463608, 2.21425720893623, -0.5021126738974973, -0.5257142342177114, -0.8571176187528038, -0.6092482759913191, -0.08686320715520057, 0.36105712954854563, 0.857438327524079, 0.21106363592610627, 0.11927464514128387, 1.9107081723052977, 0.11726142499280247, 0.15562165513999635, 0.17984294181999808, 0.42853832330408864, 1.4815379150422912, 0.9806138358460342, -0.8138989560324716, 0.45988968024795274, 0.40153056231663187, 0.3858907016348598, 0.29131595025742535, 0.0995816061413352, -0.44331204085049064, -2.001837597279621, -0.26869125348082745, -1.2968267576274637, 0.23345037240733127, -0.4671918976965135, -1.3841503189198816, -0.44954618641312155, 2.1093747200978687, 0.7018818255134294, -0.6782062082975912, 0.28486767051026746, -0.4252864697271743, -0.04075062367543577, -0.12190918216816145, 0.40667369197181796, 1.3213925954510657, -0.2122494509573179, 0.5281694741678093, 2.229210068526433, 1.9412193570376737, 2.036390856146347, -0.6758525191223714, 1.3283170028978404, 0.230437983084068, 0.6291741142455162, -1.0178739201970899, -0.8511990469438749, -0.1136179868905994, -0.44956504785723433, -1.4236153338809452, -2.5579823199668876, -0.313401670583427, 0.23394667100442418, -0.6917842239920057, 1.1369538575013078, 0.741038314372609, 0.3626852950666634, 0.9124505835466721, -1.2065960914879164, -0.5605693444006637, 1.32927682001344, 1.1453456267611448, -0.5839163862401376, 1.0888454997300678, 0.34451912392908945, -2.0268651130316186, -1.8916866438700928, 0.45964397046328515, 2.1584681393854055, -0.074148304304722, -0.6384037506621307, -0.17356245521649813, -1.0843504488078473, 0.6019912533839158, -0.0864499869337545, -0.6426495556702666, -0.9469150759863427, 1.1266066812979123, -1.0874503292056883, 0.6224487504191203, -0.21084575656209098, 2.1368173265227526, 0.4709018271403978, -2.1699468729069555, -0.9401270264259753, -0.3052356128961729, 1.006669632826666, 0.5873935540844651]}],                        {\"legend\": {\"bgcolor\": \"#F5F6F9\", \"font\": {\"color\": \"#4D5663\"}}, \"paper_bgcolor\": \"#F5F6F9\", \"plot_bgcolor\": \"#F5F6F9\", \"template\": {\"data\": {\"bar\": [{\"error_x\": {\"color\": \"#2a3f5f\"}, \"error_y\": {\"color\": \"#2a3f5f\"}, \"marker\": {\"line\": {\"color\": \"#E5ECF6\", \"width\": 0.5}}, \"type\": \"bar\"}], \"barpolar\": [{\"marker\": {\"line\": {\"color\": \"#E5ECF6\", \"width\": 0.5}}, \"type\": \"barpolar\"}], \"carpet\": [{\"aaxis\": {\"endlinecolor\": \"#2a3f5f\", \"gridcolor\": \"white\", \"linecolor\": \"white\", \"minorgridcolor\": \"white\", \"startlinecolor\": \"#2a3f5f\"}, \"baxis\": {\"endlinecolor\": \"#2a3f5f\", \"gridcolor\": \"white\", \"linecolor\": \"white\", \"minorgridcolor\": \"white\", \"startlinecolor\": \"#2a3f5f\"}, \"type\": \"carpet\"}], \"choropleth\": [{\"colorbar\": {\"outlinewidth\": 0, \"ticks\": \"\"}, \"type\": \"choropleth\"}], \"contour\": [{\"colorbar\": {\"outlinewidth\": 0, \"ticks\": \"\"}, \"colorscale\": [[0.0, \"#0d0887\"], [0.1111111111111111, \"#46039f\"], [0.2222222222222222, \"#7201a8\"], [0.3333333333333333, \"#9c179e\"], [0.4444444444444444, \"#bd3786\"], [0.5555555555555556, \"#d8576b\"], [0.6666666666666666, \"#ed7953\"], [0.7777777777777778, \"#fb9f3a\"], [0.8888888888888888, \"#fdca26\"], [1.0, \"#f0f921\"]], \"type\": \"contour\"}], \"contourcarpet\": [{\"colorbar\": {\"outlinewidth\": 0, \"ticks\": \"\"}, \"type\": \"contourcarpet\"}], \"heatmap\": [{\"colorbar\": {\"outlinewidth\": 0, \"ticks\": \"\"}, \"colorscale\": [[0.0, \"#0d0887\"], [0.1111111111111111, \"#46039f\"], [0.2222222222222222, \"#7201a8\"], [0.3333333333333333, \"#9c179e\"], [0.4444444444444444, \"#bd3786\"], [0.5555555555555556, \"#d8576b\"], [0.6666666666666666, \"#ed7953\"], [0.7777777777777778, \"#fb9f3a\"], [0.8888888888888888, \"#fdca26\"], [1.0, \"#f0f921\"]], \"type\": \"heatmap\"}], \"heatmapgl\": [{\"colorbar\": {\"outlinewidth\": 0, \"ticks\": \"\"}, \"colorscale\": [[0.0, \"#0d0887\"], [0.1111111111111111, \"#46039f\"], [0.2222222222222222, \"#7201a8\"], [0.3333333333333333, \"#9c179e\"], [0.4444444444444444, \"#bd3786\"], [0.5555555555555556, \"#d8576b\"], [0.6666666666666666, \"#ed7953\"], [0.7777777777777778, \"#fb9f3a\"], [0.8888888888888888, \"#fdca26\"], [1.0, \"#f0f921\"]], \"type\": \"heatmapgl\"}], \"histogram\": [{\"marker\": {\"colorbar\": {\"outlinewidth\": 0, \"ticks\": \"\"}}, \"type\": \"histogram\"}], \"histogram2d\": [{\"colorbar\": {\"outlinewidth\": 0, \"ticks\": \"\"}, \"colorscale\": [[0.0, \"#0d0887\"], [0.1111111111111111, \"#46039f\"], [0.2222222222222222, \"#7201a8\"], [0.3333333333333333, \"#9c179e\"], [0.4444444444444444, \"#bd3786\"], [0.5555555555555556, \"#d8576b\"], [0.6666666666666666, \"#ed7953\"], [0.7777777777777778, \"#fb9f3a\"], [0.8888888888888888, \"#fdca26\"], [1.0, \"#f0f921\"]], \"type\": \"histogram2d\"}], \"histogram2dcontour\": [{\"colorbar\": {\"outlinewidth\": 0, \"ticks\": \"\"}, \"colorscale\": [[0.0, \"#0d0887\"], [0.1111111111111111, \"#46039f\"], [0.2222222222222222, \"#7201a8\"], [0.3333333333333333, \"#9c179e\"], [0.4444444444444444, \"#bd3786\"], [0.5555555555555556, \"#d8576b\"], [0.6666666666666666, \"#ed7953\"], [0.7777777777777778, \"#fb9f3a\"], [0.8888888888888888, \"#fdca26\"], [1.0, \"#f0f921\"]], \"type\": \"histogram2dcontour\"}], \"mesh3d\": [{\"colorbar\": {\"outlinewidth\": 0, \"ticks\": \"\"}, \"type\": \"mesh3d\"}], \"parcoords\": [{\"line\": {\"colorbar\": {\"outlinewidth\": 0, \"ticks\": \"\"}}, \"type\": \"parcoords\"}], \"pie\": [{\"automargin\": true, \"type\": \"pie\"}], \"scatter\": [{\"marker\": {\"colorbar\": {\"outlinewidth\": 0, \"ticks\": \"\"}}, \"type\": \"scatter\"}], \"scatter3d\": [{\"line\": {\"colorbar\": {\"outlinewidth\": 0, \"ticks\": \"\"}}, \"marker\": {\"colorbar\": {\"outlinewidth\": 0, \"ticks\": \"\"}}, \"type\": \"scatter3d\"}], \"scattercarpet\": [{\"marker\": {\"colorbar\": {\"outlinewidth\": 0, \"ticks\": \"\"}}, \"type\": \"scattercarpet\"}], \"scattergeo\": [{\"marker\": {\"colorbar\": {\"outlinewidth\": 0, \"ticks\": \"\"}}, \"type\": \"scattergeo\"}], \"scattergl\": [{\"marker\": {\"colorbar\": {\"outlinewidth\": 0, \"ticks\": \"\"}}, \"type\": \"scattergl\"}], \"scattermapbox\": [{\"marker\": {\"colorbar\": {\"outlinewidth\": 0, \"ticks\": \"\"}}, \"type\": \"scattermapbox\"}], \"scatterpolar\": [{\"marker\": {\"colorbar\": {\"outlinewidth\": 0, \"ticks\": \"\"}}, \"type\": \"scatterpolar\"}], \"scatterpolargl\": [{\"marker\": {\"colorbar\": {\"outlinewidth\": 0, \"ticks\": \"\"}}, \"type\": \"scatterpolargl\"}], \"scatterternary\": [{\"marker\": {\"colorbar\": {\"outlinewidth\": 0, \"ticks\": \"\"}}, \"type\": \"scatterternary\"}], \"surface\": [{\"colorbar\": {\"outlinewidth\": 0, \"ticks\": \"\"}, \"colorscale\": [[0.0, \"#0d0887\"], [0.1111111111111111, \"#46039f\"], [0.2222222222222222, \"#7201a8\"], [0.3333333333333333, \"#9c179e\"], [0.4444444444444444, \"#bd3786\"], [0.5555555555555556, \"#d8576b\"], [0.6666666666666666, \"#ed7953\"], [0.7777777777777778, \"#fb9f3a\"], [0.8888888888888888, \"#fdca26\"], [1.0, \"#f0f921\"]], \"type\": \"surface\"}], \"table\": [{\"cells\": {\"fill\": {\"color\": \"#EBF0F8\"}, \"line\": {\"color\": \"white\"}}, \"header\": {\"fill\": {\"color\": \"#C8D4E3\"}, \"line\": {\"color\": \"white\"}}, \"type\": \"table\"}]}, \"layout\": {\"annotationdefaults\": {\"arrowcolor\": \"#2a3f5f\", \"arrowhead\": 0, \"arrowwidth\": 1}, \"coloraxis\": {\"colorbar\": {\"outlinewidth\": 0, \"ticks\": \"\"}}, \"colorscale\": {\"diverging\": [[0, \"#8e0152\"], [0.1, \"#c51b7d\"], [0.2, \"#de77ae\"], [0.3, \"#f1b6da\"], [0.4, \"#fde0ef\"], [0.5, \"#f7f7f7\"], [0.6, \"#e6f5d0\"], [0.7, \"#b8e186\"], [0.8, \"#7fbc41\"], [0.9, \"#4d9221\"], [1, \"#276419\"]], \"sequential\": [[0.0, \"#0d0887\"], [0.1111111111111111, \"#46039f\"], [0.2222222222222222, \"#7201a8\"], [0.3333333333333333, \"#9c179e\"], [0.4444444444444444, \"#bd3786\"], [0.5555555555555556, \"#d8576b\"], [0.6666666666666666, \"#ed7953\"], [0.7777777777777778, \"#fb9f3a\"], [0.8888888888888888, \"#fdca26\"], [1.0, \"#f0f921\"]], \"sequentialminus\": [[0.0, \"#0d0887\"], [0.1111111111111111, \"#46039f\"], [0.2222222222222222, \"#7201a8\"], [0.3333333333333333, \"#9c179e\"], [0.4444444444444444, \"#bd3786\"], [0.5555555555555556, \"#d8576b\"], [0.6666666666666666, \"#ed7953\"], [0.7777777777777778, \"#fb9f3a\"], [0.8888888888888888, \"#fdca26\"], [1.0, \"#f0f921\"]]}, \"colorway\": [\"#636efa\", \"#EF553B\", \"#00cc96\", \"#ab63fa\", \"#FFA15A\", \"#19d3f3\", \"#FF6692\", \"#B6E880\", \"#FF97FF\", \"#FECB52\"], \"font\": {\"color\": \"#2a3f5f\"}, \"geo\": {\"bgcolor\": \"white\", \"lakecolor\": \"white\", \"landcolor\": \"#E5ECF6\", \"showlakes\": true, \"showland\": true, \"subunitcolor\": \"white\"}, \"hoverlabel\": {\"align\": \"left\"}, \"hovermode\": \"closest\", \"mapbox\": {\"style\": \"light\"}, \"paper_bgcolor\": \"white\", \"plot_bgcolor\": \"#E5ECF6\", \"polar\": {\"angularaxis\": {\"gridcolor\": \"white\", \"linecolor\": \"white\", \"ticks\": \"\"}, \"bgcolor\": \"#E5ECF6\", \"radialaxis\": {\"gridcolor\": \"white\", \"linecolor\": \"white\", \"ticks\": \"\"}}, \"scene\": {\"xaxis\": {\"backgroundcolor\": \"#E5ECF6\", \"gridcolor\": \"white\", \"gridwidth\": 2, \"linecolor\": \"white\", \"showbackground\": true, \"ticks\": \"\", \"zerolinecolor\": \"white\"}, \"yaxis\": {\"backgroundcolor\": \"#E5ECF6\", \"gridcolor\": \"white\", \"gridwidth\": 2, \"linecolor\": \"white\", \"showbackground\": true, \"ticks\": \"\", \"zerolinecolor\": \"white\"}, \"zaxis\": {\"backgroundcolor\": \"#E5ECF6\", \"gridcolor\": \"white\", \"gridwidth\": 2, \"linecolor\": \"white\", \"showbackground\": true, \"ticks\": \"\", \"zerolinecolor\": \"white\"}}, \"shapedefaults\": {\"line\": {\"color\": \"#2a3f5f\"}}, \"ternary\": {\"aaxis\": {\"gridcolor\": \"white\", \"linecolor\": \"white\", \"ticks\": \"\"}, \"baxis\": {\"gridcolor\": \"white\", \"linecolor\": \"white\", \"ticks\": \"\"}, \"bgcolor\": \"#E5ECF6\", \"caxis\": {\"gridcolor\": \"white\", \"linecolor\": \"white\", \"ticks\": \"\"}}, \"title\": {\"x\": 0.05}, \"xaxis\": {\"automargin\": true, \"gridcolor\": \"white\", \"linecolor\": \"white\", \"ticks\": \"\", \"title\": {\"standoff\": 15}, \"zerolinecolor\": \"white\", \"zerolinewidth\": 2}, \"yaxis\": {\"automargin\": true, \"gridcolor\": \"white\", \"linecolor\": \"white\", \"ticks\": \"\", \"title\": {\"standoff\": 15}, \"zerolinecolor\": \"white\", \"zerolinewidth\": 2}}}, \"title\": {\"font\": {\"color\": \"#4D5663\"}}, \"xaxis\": {\"gridcolor\": \"#E1E5ED\", \"showgrid\": true, \"tickfont\": {\"color\": \"#4D5663\"}, \"title\": {\"font\": {\"color\": \"#4D5663\"}, \"text\": \"\"}, \"zerolinecolor\": \"#E1E5ED\"}, \"yaxis\": {\"gridcolor\": \"#E1E5ED\", \"showgrid\": true, \"tickfont\": {\"color\": \"#4D5663\"}, \"title\": {\"font\": {\"color\": \"#4D5663\"}, \"text\": \"\"}, \"zerolinecolor\": \"#E1E5ED\"}},                        {\"showLink\": true, \"linkText\": \"Export to plot.ly\", \"plotlyServerURL\": \"https://plot.ly\", \"responsive\": true}                    ).then(function(){\n",
       "                            \n",
       "var gd = document.getElementById('4ea2571a-5afd-4069-9917-e7db637b7658');\n",
       "var x = new MutationObserver(function (mutations, observer) {{\n",
       "        var display = window.getComputedStyle(gd).display;\n",
       "        if (!display || display === 'none') {{\n",
       "            console.log([gd, 'removed!']);\n",
       "            Plotly.purge(gd);\n",
       "            observer.disconnect();\n",
       "        }}\n",
       "}});\n",
       "\n",
       "// Listen for the removal of the full notebook cells\n",
       "var notebookContainer = gd.closest('#notebook-container');\n",
       "if (notebookContainer) {{\n",
       "    x.observe(notebookContainer, {childList: true});\n",
       "}}\n",
       "\n",
       "// Listen for the clearing of the current output cell\n",
       "var outputEl = gd.closest('.output');\n",
       "if (outputEl) {{\n",
       "    x.observe(outputEl, {childList: true});\n",
       "}}\n",
       "\n",
       "                        })                };                });            </script>        </div>"
      ]
     },
     "metadata": {},
     "output_type": "display_data"
    }
   ],
   "source": [
    "df.iplot(kind='bubble',x='A',y='B',size='C')"
   ]
  },
  {
   "cell_type": "markdown",
   "metadata": {},
   "source": [
    "## scatter_matrix()\n",
    "\n",
    "Similar to sns.pairplot()"
   ]
  },
  {
   "cell_type": "code",
   "execution_count": 18,
   "metadata": {},
   "outputs": [
    {
     "data": {
      "application/vnd.plotly.v1+json": {
       "config": {
        "linkText": "Export to plot.ly",
        "plotlyServerURL": "https://plot.ly",
        "showLink": true
       },
       "data": [
        {
         "histfunc": "count",
         "histnorm": "",
         "marker": {
          "color": "rgba(255, 153, 51, 1.0)",
          "line": {
           "color": "#4D5663",
           "width": 1.3
          }
         },
         "name": "A",
         "nbinsx": 10,
         "opacity": 0.8,
         "orientation": "v",
         "type": "histogram",
         "x": [
          0.40612300580052474,
          -0.4787833960912556,
          -0.5447183158159912,
          -0.20484654382912085,
          -0.7772111801679075,
          0.7717397677804158,
          1.223436162464635,
          0.06772192697459302,
          0.25456332871080894,
          0.4048565702822834,
          -1.8148879337440906,
          -0.4388441296971543,
          -1.3924436354070289,
          0.6956369095551673,
          -0.8667450625264915,
          -0.6310161646563152,
          1.3003534836796835,
          0.2083137339127651,
          -0.8988700584540924,
          -0.7232670196258586,
          0.31903378409831123,
          -0.20316081187997037,
          1.5874187069817816,
          0.1923467175146929,
          1.1187010598163798,
          -0.7252616193055038,
          0.1801496551521485,
          -1.5140514229709021,
          -1.288260457541485,
          -1.3610877459759907,
          1.7869981630955272,
          0.05692588153120884,
          0.07490690988116719,
          1.3928879350198191,
          -0.09806224795777757,
          1.3917376836181254,
          0.3685419969405524,
          -0.49312306302326253,
          1.4974261447856545,
          -0.3689397108877411,
          -0.9540378493340411,
          0.059716412783843244,
          -0.772836360066239,
          -0.5305614528169932,
          -0.17876090805211597,
          0.263152168058798,
          0.215210090246341,
          1.4589104195751386,
          -0.8539813979762173,
          -0.520159892769052,
          -0.20281248626718093,
          -0.8255111198294761,
          -0.2448982097759442,
          0.1411939476815836,
          0.2020771740684055,
          -1.0559833258091613,
          -1.379739410950068,
          -0.5006662209682377,
          -0.9316129498404765,
          -2.5090916216195764,
          -1.6150447193491557,
          0.21338471972146297,
          0.059999029120805035,
          -0.5109257729777709,
          -0.2268722852054298,
          0.9983442362068591,
          1.1897280575947924,
          0.08124989687103532,
          1.5414292850954545,
          2.25475973576895,
          -1.111730112114252,
          -1.1144069288786815,
          1.114299604592313,
          -0.8158645068290735,
          0.10198790485908782,
          -1.7754246108252718,
          -1.3188149745985318,
          1.4249768136759138,
          0.5502074996929022,
          -0.2767388889975246,
          0.27891988080565244,
          -1.2686878066632947,
          -0.7842613084336968,
          0.6238673940138396,
          1.9328429554944817,
          -0.17767907887367818,
          -2.127060962381966,
          -2.433293326123087,
          -1.304045908210188,
          -0.21858974062276904,
          -1.562354340089511,
          -1.1897706253336464,
          -0.03282994484540824,
          -0.1315262283778394,
          0.8219686893831281,
          -0.6900875321833959,
          0.9314720974852225,
          -0.12183184191563845,
          2.2719105496178975,
          0.5242306179214224
         ],
         "xaxis": "x",
         "yaxis": "y"
        },
        {
         "line": {
          "color": "rgba(128, 128, 128, 1.0)",
          "dash": "solid",
          "shape": "linear",
          "width": 1.3
         },
         "marker": {
          "size": 2,
          "symbol": "circle"
         },
         "mode": "markers",
         "name": "A",
         "text": "",
         "type": "scatter",
         "x": [
          -0.36259548072853875,
          -1.267870868137753,
          -1.0091462104932183,
          -1.0110585705993747,
          2.0762507530042895,
          1.4881995414855038,
          -0.26646024128323953,
          0.11686341059463608,
          2.21425720893623,
          -0.5021126738974973,
          -0.5257142342177114,
          -0.8571176187528038,
          -0.6092482759913191,
          -0.08686320715520057,
          0.36105712954854563,
          0.857438327524079,
          0.21106363592610627,
          0.11927464514128387,
          1.9107081723052977,
          0.11726142499280247,
          0.15562165513999635,
          0.17984294181999808,
          0.42853832330408864,
          1.4815379150422912,
          0.9806138358460342,
          -0.8138989560324716,
          0.45988968024795274,
          0.40153056231663187,
          0.3858907016348598,
          0.29131595025742535,
          0.0995816061413352,
          -0.44331204085049064,
          -2.001837597279621,
          -0.26869125348082745,
          -1.2968267576274637,
          0.23345037240733127,
          -0.4671918976965135,
          -1.3841503189198816,
          -0.44954618641312155,
          2.1093747200978687,
          0.7018818255134294,
          -0.6782062082975912,
          0.28486767051026746,
          -0.4252864697271743,
          -0.04075062367543577,
          -0.12190918216816145,
          0.40667369197181796,
          1.3213925954510657,
          -0.2122494509573179,
          0.5281694741678093,
          2.229210068526433,
          1.9412193570376737,
          2.036390856146347,
          -0.6758525191223714,
          1.3283170028978404,
          0.230437983084068,
          0.6291741142455162,
          -1.0178739201970899,
          -0.8511990469438749,
          -0.1136179868905994,
          -0.44956504785723433,
          -1.4236153338809452,
          -2.5579823199668876,
          -0.313401670583427,
          0.23394667100442418,
          -0.6917842239920057,
          1.1369538575013078,
          0.741038314372609,
          0.3626852950666634,
          0.9124505835466721,
          -1.2065960914879164,
          -0.5605693444006637,
          1.32927682001344,
          1.1453456267611448,
          -0.5839163862401376,
          1.0888454997300678,
          0.34451912392908945,
          -2.0268651130316186,
          -1.8916866438700928,
          0.45964397046328515,
          2.1584681393854055,
          -0.074148304304722,
          -0.6384037506621307,
          -0.17356245521649813,
          -1.0843504488078473,
          0.6019912533839158,
          -0.0864499869337545,
          -0.6426495556702666,
          -0.9469150759863427,
          1.1266066812979123,
          -1.0874503292056883,
          0.6224487504191203,
          -0.21084575656209098,
          2.1368173265227526,
          0.4709018271403978,
          -2.1699468729069555,
          -0.9401270264259753,
          -0.3052356128961729,
          1.006669632826666,
          0.5873935540844651
         ],
         "xaxis": "x2",
         "y": [
          0.40612300580052474,
          -0.4787833960912556,
          -0.5447183158159912,
          -0.20484654382912085,
          -0.7772111801679075,
          0.7717397677804158,
          1.223436162464635,
          0.06772192697459302,
          0.25456332871080894,
          0.4048565702822834,
          -1.8148879337440906,
          -0.4388441296971543,
          -1.3924436354070289,
          0.6956369095551673,
          -0.8667450625264915,
          -0.6310161646563152,
          1.3003534836796835,
          0.2083137339127651,
          -0.8988700584540924,
          -0.7232670196258586,
          0.31903378409831123,
          -0.20316081187997037,
          1.5874187069817816,
          0.1923467175146929,
          1.1187010598163798,
          -0.7252616193055038,
          0.1801496551521485,
          -1.5140514229709021,
          -1.288260457541485,
          -1.3610877459759907,
          1.7869981630955272,
          0.05692588153120884,
          0.07490690988116719,
          1.3928879350198191,
          -0.09806224795777757,
          1.3917376836181254,
          0.3685419969405524,
          -0.49312306302326253,
          1.4974261447856545,
          -0.3689397108877411,
          -0.9540378493340411,
          0.059716412783843244,
          -0.772836360066239,
          -0.5305614528169932,
          -0.17876090805211597,
          0.263152168058798,
          0.215210090246341,
          1.4589104195751386,
          -0.8539813979762173,
          -0.520159892769052,
          -0.20281248626718093,
          -0.8255111198294761,
          -0.2448982097759442,
          0.1411939476815836,
          0.2020771740684055,
          -1.0559833258091613,
          -1.379739410950068,
          -0.5006662209682377,
          -0.9316129498404765,
          -2.5090916216195764,
          -1.6150447193491557,
          0.21338471972146297,
          0.059999029120805035,
          -0.5109257729777709,
          -0.2268722852054298,
          0.9983442362068591,
          1.1897280575947924,
          0.08124989687103532,
          1.5414292850954545,
          2.25475973576895,
          -1.111730112114252,
          -1.1144069288786815,
          1.114299604592313,
          -0.8158645068290735,
          0.10198790485908782,
          -1.7754246108252718,
          -1.3188149745985318,
          1.4249768136759138,
          0.5502074996929022,
          -0.2767388889975246,
          0.27891988080565244,
          -1.2686878066632947,
          -0.7842613084336968,
          0.6238673940138396,
          1.9328429554944817,
          -0.17767907887367818,
          -2.127060962381966,
          -2.433293326123087,
          -1.304045908210188,
          -0.21858974062276904,
          -1.562354340089511,
          -1.1897706253336464,
          -0.03282994484540824,
          -0.1315262283778394,
          0.8219686893831281,
          -0.6900875321833959,
          0.9314720974852225,
          -0.12183184191563845,
          2.2719105496178975,
          0.5242306179214224
         ],
         "yaxis": "y2"
        },
        {
         "line": {
          "color": "rgba(128, 128, 128, 1.0)",
          "dash": "solid",
          "shape": "linear",
          "width": 1.3
         },
         "marker": {
          "size": 2,
          "symbol": "circle"
         },
         "mode": "markers",
         "name": "A",
         "text": "",
         "type": "scatter",
         "x": [
          0.7300999175680266,
          0.9359512920652354,
          -0.46772878327023787,
          0.1656215541316715,
          0.9749059887235069,
          -0.6489966317203343,
          -0.4529938481673228,
          2.457862691403099,
          1.1500951419328709,
          -0.3961888626713159,
          1.0320959236004006,
          -0.64804598418807,
          1.4199355897959525,
          0.31001717805344414,
          -1.1563896696168525,
          -0.37681566605169214,
          -0.041437465530773314,
          1.1557619578669158,
          0.12571611878884073,
          0.1652122595506704,
          -0.636218601062783,
          0.1500785174473584,
          1.4145088404802788,
          -0.1925130409596141,
          0.8778952612402464,
          -1.7415330965465772,
          -0.520524509281832,
          1.0656521689412484,
          0.21090134998581206,
          0.06042914559657147,
          1.8045345020877315,
          0.3516215045020242,
          -0.7955694173030421,
          0.5017330286337357,
          -0.3744622282424553,
          -0.08793779877707011,
          0.9768924208169164,
          1.3903896999832768,
          -0.2896771281573561,
          -1.570775817214485,
          -0.47071662220943644,
          0.652294892191082,
          0.45877268717023156,
          -0.9588887995588409,
          1.3841487332315288,
          1.0909082999527209,
          0.21879189531072746,
          0.6133897809744157,
          0.8341847537277423,
          -1.2140180709886772,
          0.2599685724388422,
          1.2211687242528722,
          -0.9632472350552475,
          0.5786800057745015,
          -1.0333760135002024,
          3.0749027191828917,
          -0.4369437620171544,
          0.4892783343764829,
          0.19851273240257877,
          -1.0883959321328498,
          -0.2901029419889698,
          -0.11280797172915796,
          -0.21230189742014346,
          0.34923059083591856,
          -0.2652379250139706,
          0.1642795863151399,
          -2.034270442332297,
          1.838864888237644,
          -0.5522879528266724,
          0.45421264729395944,
          0.4604265026794926,
          1.7073774379388704,
          0.4690264488716998,
          1.117451602046788,
          -0.6019251619409158,
          -0.6074946211011368,
          -0.4877452061110409,
          -1.010759073987423,
          -1.6882387751844077,
          -0.6192199912377896,
          1.397768042732685,
          -2.252389072675059,
          0.1456954440636028,
          1.9630312799831615,
          -0.645599318436487,
          0.1514309872762784,
          -0.6091694402556801,
          -0.43940515041138384,
          0.7084113578944723,
          -0.7558410910128958,
          1.2050351786504445,
          0.1648852821669212,
          0.23931400278991122,
          0.5404755161546214,
          -0.7616204026896706,
          -1.2712321463523877,
          1.1921933964056537,
          0.08286316086141651,
          -0.21122252044048428,
          -0.2228272088441778
         ],
         "xaxis": "x3",
         "y": [
          0.40612300580052474,
          -0.4787833960912556,
          -0.5447183158159912,
          -0.20484654382912085,
          -0.7772111801679075,
          0.7717397677804158,
          1.223436162464635,
          0.06772192697459302,
          0.25456332871080894,
          0.4048565702822834,
          -1.8148879337440906,
          -0.4388441296971543,
          -1.3924436354070289,
          0.6956369095551673,
          -0.8667450625264915,
          -0.6310161646563152,
          1.3003534836796835,
          0.2083137339127651,
          -0.8988700584540924,
          -0.7232670196258586,
          0.31903378409831123,
          -0.20316081187997037,
          1.5874187069817816,
          0.1923467175146929,
          1.1187010598163798,
          -0.7252616193055038,
          0.1801496551521485,
          -1.5140514229709021,
          -1.288260457541485,
          -1.3610877459759907,
          1.7869981630955272,
          0.05692588153120884,
          0.07490690988116719,
          1.3928879350198191,
          -0.09806224795777757,
          1.3917376836181254,
          0.3685419969405524,
          -0.49312306302326253,
          1.4974261447856545,
          -0.3689397108877411,
          -0.9540378493340411,
          0.059716412783843244,
          -0.772836360066239,
          -0.5305614528169932,
          -0.17876090805211597,
          0.263152168058798,
          0.215210090246341,
          1.4589104195751386,
          -0.8539813979762173,
          -0.520159892769052,
          -0.20281248626718093,
          -0.8255111198294761,
          -0.2448982097759442,
          0.1411939476815836,
          0.2020771740684055,
          -1.0559833258091613,
          -1.379739410950068,
          -0.5006662209682377,
          -0.9316129498404765,
          -2.5090916216195764,
          -1.6150447193491557,
          0.21338471972146297,
          0.059999029120805035,
          -0.5109257729777709,
          -0.2268722852054298,
          0.9983442362068591,
          1.1897280575947924,
          0.08124989687103532,
          1.5414292850954545,
          2.25475973576895,
          -1.111730112114252,
          -1.1144069288786815,
          1.114299604592313,
          -0.8158645068290735,
          0.10198790485908782,
          -1.7754246108252718,
          -1.3188149745985318,
          1.4249768136759138,
          0.5502074996929022,
          -0.2767388889975246,
          0.27891988080565244,
          -1.2686878066632947,
          -0.7842613084336968,
          0.6238673940138396,
          1.9328429554944817,
          -0.17767907887367818,
          -2.127060962381966,
          -2.433293326123087,
          -1.304045908210188,
          -0.21858974062276904,
          -1.562354340089511,
          -1.1897706253336464,
          -0.03282994484540824,
          -0.1315262283778394,
          0.8219686893831281,
          -0.6900875321833959,
          0.9314720974852225,
          -0.12183184191563845,
          2.2719105496178975,
          0.5242306179214224
         ],
         "yaxis": "y3"
        },
        {
         "line": {
          "color": "rgba(128, 128, 128, 1.0)",
          "dash": "solid",
          "shape": "linear",
          "width": 1.3
         },
         "marker": {
          "size": 2,
          "symbol": "circle"
         },
         "mode": "markers",
         "name": "A",
         "text": "",
         "type": "scatter",
         "x": [
          -1.391714870652499,
          -1.3213972657278188,
          -1.0271811952353889,
          0.9962234991310107,
          1.2226397567161182,
          -0.8575377773299411,
          -0.30816228166520865,
          0.1689329310912175,
          0.015619846900224655,
          -0.6079788226247328,
          0.2267230348814204,
          0.37738756189305434,
          0.5422727281889766,
          -0.4581361110535218,
          -0.9912642222559744,
          -0.39382604797004483,
          -0.7772906585003634,
          0.04360371765437144,
          -0.9366631305697488,
          1.215160883960563,
          0.2805175133715498,
          -0.10352642616390643,
          -0.8370185658573583,
          -0.9776969405446144,
          0.37902925007926175,
          0.9520178386551742,
          -1.1174258856771637,
          -0.23437327734446223,
          0.6256778491573876,
          0.702691000579248,
          -1.35175457704018,
          -0.24970282560289528,
          0.5099588492730112,
          0.20292825131545483,
          -1.0545718162153166,
          -0.4451161798596223,
          -0.7240781254060488,
          1.1018313795303531,
          1.286538140555478,
          -1.7964720822677995,
          0.06999744508310896,
          -0.09399988117214235,
          -1.324986856556876,
          -0.6011689610233697,
          -0.2178263922127269,
          -0.369357529356511,
          -2.09361973829419,
          -1.8556562850361287,
          0.9673376235807268,
          0.9324350813607561,
          1.1789174080712659,
          -0.9053472149956552,
          -1.7561822398843974,
          -0.5819439646822652,
          -0.7242174506600142,
          0.06950853321165076,
          0.1164100011339079,
          0.9918425731024703,
          -3.194015438643409,
          0.5661954446322105,
          -1.73866974183632,
          -1.1557899433927266,
          0.5891302018733651,
          2.0273163252737847,
          -1.1282958500612157,
          0.6336793733624113,
          -0.8568664555674879,
          -0.18339916081354923,
          -0.32372658311166286,
          0.15659676849251153,
          0.5313764768383269,
          -1.7645581551702592,
          -0.1943429703255851,
          -0.09112992548499607,
          -0.5225241201325945,
          -0.6525910552681894,
          -0.6221431146860016,
          -1.3648065781438927,
          0.9079587489874479,
          0.6069304589878313,
          -0.4183165445387682,
          -0.5732128542919855,
          -0.5406009293093037,
          -0.8972224037382185,
          0.7715751366997439,
          0.4502496948551281,
          -1.9035987691691223,
          -0.07378497247938647,
          -0.5700156135647453,
          -0.8601354011299753,
          -0.9649325204165909,
          -0.20467917818589496,
          1.0405949629047302,
          0.6528409838036306,
          -1.3357279796330868,
          -1.5045825200601821,
          -1.3508377921496526,
          0.38427399183063565,
          0.6155110792018796,
          0.392099316732869
         ],
         "xaxis": "x4",
         "y": [
          0.40612300580052474,
          -0.4787833960912556,
          -0.5447183158159912,
          -0.20484654382912085,
          -0.7772111801679075,
          0.7717397677804158,
          1.223436162464635,
          0.06772192697459302,
          0.25456332871080894,
          0.4048565702822834,
          -1.8148879337440906,
          -0.4388441296971543,
          -1.3924436354070289,
          0.6956369095551673,
          -0.8667450625264915,
          -0.6310161646563152,
          1.3003534836796835,
          0.2083137339127651,
          -0.8988700584540924,
          -0.7232670196258586,
          0.31903378409831123,
          -0.20316081187997037,
          1.5874187069817816,
          0.1923467175146929,
          1.1187010598163798,
          -0.7252616193055038,
          0.1801496551521485,
          -1.5140514229709021,
          -1.288260457541485,
          -1.3610877459759907,
          1.7869981630955272,
          0.05692588153120884,
          0.07490690988116719,
          1.3928879350198191,
          -0.09806224795777757,
          1.3917376836181254,
          0.3685419969405524,
          -0.49312306302326253,
          1.4974261447856545,
          -0.3689397108877411,
          -0.9540378493340411,
          0.059716412783843244,
          -0.772836360066239,
          -0.5305614528169932,
          -0.17876090805211597,
          0.263152168058798,
          0.215210090246341,
          1.4589104195751386,
          -0.8539813979762173,
          -0.520159892769052,
          -0.20281248626718093,
          -0.8255111198294761,
          -0.2448982097759442,
          0.1411939476815836,
          0.2020771740684055,
          -1.0559833258091613,
          -1.379739410950068,
          -0.5006662209682377,
          -0.9316129498404765,
          -2.5090916216195764,
          -1.6150447193491557,
          0.21338471972146297,
          0.059999029120805035,
          -0.5109257729777709,
          -0.2268722852054298,
          0.9983442362068591,
          1.1897280575947924,
          0.08124989687103532,
          1.5414292850954545,
          2.25475973576895,
          -1.111730112114252,
          -1.1144069288786815,
          1.114299604592313,
          -0.8158645068290735,
          0.10198790485908782,
          -1.7754246108252718,
          -1.3188149745985318,
          1.4249768136759138,
          0.5502074996929022,
          -0.2767388889975246,
          0.27891988080565244,
          -1.2686878066632947,
          -0.7842613084336968,
          0.6238673940138396,
          1.9328429554944817,
          -0.17767907887367818,
          -2.127060962381966,
          -2.433293326123087,
          -1.304045908210188,
          -0.21858974062276904,
          -1.562354340089511,
          -1.1897706253336464,
          -0.03282994484540824,
          -0.1315262283778394,
          0.8219686893831281,
          -0.6900875321833959,
          0.9314720974852225,
          -0.12183184191563845,
          2.2719105496178975,
          0.5242306179214224
         ],
         "yaxis": "y4"
        },
        {
         "line": {
          "color": "rgba(128, 128, 128, 1.0)",
          "dash": "solid",
          "shape": "linear",
          "width": 1.3
         },
         "marker": {
          "size": 2,
          "symbol": "circle"
         },
         "mode": "markers",
         "name": "B",
         "text": "",
         "type": "scatter",
         "x": [
          0.40612300580052474,
          -0.4787833960912556,
          -0.5447183158159912,
          -0.20484654382912085,
          -0.7772111801679075,
          0.7717397677804158,
          1.223436162464635,
          0.06772192697459302,
          0.25456332871080894,
          0.4048565702822834,
          -1.8148879337440906,
          -0.4388441296971543,
          -1.3924436354070289,
          0.6956369095551673,
          -0.8667450625264915,
          -0.6310161646563152,
          1.3003534836796835,
          0.2083137339127651,
          -0.8988700584540924,
          -0.7232670196258586,
          0.31903378409831123,
          -0.20316081187997037,
          1.5874187069817816,
          0.1923467175146929,
          1.1187010598163798,
          -0.7252616193055038,
          0.1801496551521485,
          -1.5140514229709021,
          -1.288260457541485,
          -1.3610877459759907,
          1.7869981630955272,
          0.05692588153120884,
          0.07490690988116719,
          1.3928879350198191,
          -0.09806224795777757,
          1.3917376836181254,
          0.3685419969405524,
          -0.49312306302326253,
          1.4974261447856545,
          -0.3689397108877411,
          -0.9540378493340411,
          0.059716412783843244,
          -0.772836360066239,
          -0.5305614528169932,
          -0.17876090805211597,
          0.263152168058798,
          0.215210090246341,
          1.4589104195751386,
          -0.8539813979762173,
          -0.520159892769052,
          -0.20281248626718093,
          -0.8255111198294761,
          -0.2448982097759442,
          0.1411939476815836,
          0.2020771740684055,
          -1.0559833258091613,
          -1.379739410950068,
          -0.5006662209682377,
          -0.9316129498404765,
          -2.5090916216195764,
          -1.6150447193491557,
          0.21338471972146297,
          0.059999029120805035,
          -0.5109257729777709,
          -0.2268722852054298,
          0.9983442362068591,
          1.1897280575947924,
          0.08124989687103532,
          1.5414292850954545,
          2.25475973576895,
          -1.111730112114252,
          -1.1144069288786815,
          1.114299604592313,
          -0.8158645068290735,
          0.10198790485908782,
          -1.7754246108252718,
          -1.3188149745985318,
          1.4249768136759138,
          0.5502074996929022,
          -0.2767388889975246,
          0.27891988080565244,
          -1.2686878066632947,
          -0.7842613084336968,
          0.6238673940138396,
          1.9328429554944817,
          -0.17767907887367818,
          -2.127060962381966,
          -2.433293326123087,
          -1.304045908210188,
          -0.21858974062276904,
          -1.562354340089511,
          -1.1897706253336464,
          -0.03282994484540824,
          -0.1315262283778394,
          0.8219686893831281,
          -0.6900875321833959,
          0.9314720974852225,
          -0.12183184191563845,
          2.2719105496178975,
          0.5242306179214224
         ],
         "xaxis": "x5",
         "y": [
          -0.36259548072853875,
          -1.267870868137753,
          -1.0091462104932183,
          -1.0110585705993747,
          2.0762507530042895,
          1.4881995414855038,
          -0.26646024128323953,
          0.11686341059463608,
          2.21425720893623,
          -0.5021126738974973,
          -0.5257142342177114,
          -0.8571176187528038,
          -0.6092482759913191,
          -0.08686320715520057,
          0.36105712954854563,
          0.857438327524079,
          0.21106363592610627,
          0.11927464514128387,
          1.9107081723052977,
          0.11726142499280247,
          0.15562165513999635,
          0.17984294181999808,
          0.42853832330408864,
          1.4815379150422912,
          0.9806138358460342,
          -0.8138989560324716,
          0.45988968024795274,
          0.40153056231663187,
          0.3858907016348598,
          0.29131595025742535,
          0.0995816061413352,
          -0.44331204085049064,
          -2.001837597279621,
          -0.26869125348082745,
          -1.2968267576274637,
          0.23345037240733127,
          -0.4671918976965135,
          -1.3841503189198816,
          -0.44954618641312155,
          2.1093747200978687,
          0.7018818255134294,
          -0.6782062082975912,
          0.28486767051026746,
          -0.4252864697271743,
          -0.04075062367543577,
          -0.12190918216816145,
          0.40667369197181796,
          1.3213925954510657,
          -0.2122494509573179,
          0.5281694741678093,
          2.229210068526433,
          1.9412193570376737,
          2.036390856146347,
          -0.6758525191223714,
          1.3283170028978404,
          0.230437983084068,
          0.6291741142455162,
          -1.0178739201970899,
          -0.8511990469438749,
          -0.1136179868905994,
          -0.44956504785723433,
          -1.4236153338809452,
          -2.5579823199668876,
          -0.313401670583427,
          0.23394667100442418,
          -0.6917842239920057,
          1.1369538575013078,
          0.741038314372609,
          0.3626852950666634,
          0.9124505835466721,
          -1.2065960914879164,
          -0.5605693444006637,
          1.32927682001344,
          1.1453456267611448,
          -0.5839163862401376,
          1.0888454997300678,
          0.34451912392908945,
          -2.0268651130316186,
          -1.8916866438700928,
          0.45964397046328515,
          2.1584681393854055,
          -0.074148304304722,
          -0.6384037506621307,
          -0.17356245521649813,
          -1.0843504488078473,
          0.6019912533839158,
          -0.0864499869337545,
          -0.6426495556702666,
          -0.9469150759863427,
          1.1266066812979123,
          -1.0874503292056883,
          0.6224487504191203,
          -0.21084575656209098,
          2.1368173265227526,
          0.4709018271403978,
          -2.1699468729069555,
          -0.9401270264259753,
          -0.3052356128961729,
          1.006669632826666,
          0.5873935540844651
         ],
         "yaxis": "y5"
        },
        {
         "histfunc": "count",
         "histnorm": "",
         "marker": {
          "color": "rgba(55, 128, 191, 1.0)",
          "line": {
           "color": "#4D5663",
           "width": 1.3
          }
         },
         "name": "B",
         "nbinsx": 10,
         "opacity": 0.8,
         "orientation": "v",
         "type": "histogram",
         "x": [
          -0.36259548072853875,
          -1.267870868137753,
          -1.0091462104932183,
          -1.0110585705993747,
          2.0762507530042895,
          1.4881995414855038,
          -0.26646024128323953,
          0.11686341059463608,
          2.21425720893623,
          -0.5021126738974973,
          -0.5257142342177114,
          -0.8571176187528038,
          -0.6092482759913191,
          -0.08686320715520057,
          0.36105712954854563,
          0.857438327524079,
          0.21106363592610627,
          0.11927464514128387,
          1.9107081723052977,
          0.11726142499280247,
          0.15562165513999635,
          0.17984294181999808,
          0.42853832330408864,
          1.4815379150422912,
          0.9806138358460342,
          -0.8138989560324716,
          0.45988968024795274,
          0.40153056231663187,
          0.3858907016348598,
          0.29131595025742535,
          0.0995816061413352,
          -0.44331204085049064,
          -2.001837597279621,
          -0.26869125348082745,
          -1.2968267576274637,
          0.23345037240733127,
          -0.4671918976965135,
          -1.3841503189198816,
          -0.44954618641312155,
          2.1093747200978687,
          0.7018818255134294,
          -0.6782062082975912,
          0.28486767051026746,
          -0.4252864697271743,
          -0.04075062367543577,
          -0.12190918216816145,
          0.40667369197181796,
          1.3213925954510657,
          -0.2122494509573179,
          0.5281694741678093,
          2.229210068526433,
          1.9412193570376737,
          2.036390856146347,
          -0.6758525191223714,
          1.3283170028978404,
          0.230437983084068,
          0.6291741142455162,
          -1.0178739201970899,
          -0.8511990469438749,
          -0.1136179868905994,
          -0.44956504785723433,
          -1.4236153338809452,
          -2.5579823199668876,
          -0.313401670583427,
          0.23394667100442418,
          -0.6917842239920057,
          1.1369538575013078,
          0.741038314372609,
          0.3626852950666634,
          0.9124505835466721,
          -1.2065960914879164,
          -0.5605693444006637,
          1.32927682001344,
          1.1453456267611448,
          -0.5839163862401376,
          1.0888454997300678,
          0.34451912392908945,
          -2.0268651130316186,
          -1.8916866438700928,
          0.45964397046328515,
          2.1584681393854055,
          -0.074148304304722,
          -0.6384037506621307,
          -0.17356245521649813,
          -1.0843504488078473,
          0.6019912533839158,
          -0.0864499869337545,
          -0.6426495556702666,
          -0.9469150759863427,
          1.1266066812979123,
          -1.0874503292056883,
          0.6224487504191203,
          -0.21084575656209098,
          2.1368173265227526,
          0.4709018271403978,
          -2.1699468729069555,
          -0.9401270264259753,
          -0.3052356128961729,
          1.006669632826666,
          0.5873935540844651
         ],
         "xaxis": "x6",
         "yaxis": "y6"
        },
        {
         "line": {
          "color": "rgba(128, 128, 128, 1.0)",
          "dash": "solid",
          "shape": "linear",
          "width": 1.3
         },
         "marker": {
          "size": 2,
          "symbol": "circle"
         },
         "mode": "markers",
         "name": "B",
         "text": "",
         "type": "scatter",
         "x": [
          0.7300999175680266,
          0.9359512920652354,
          -0.46772878327023787,
          0.1656215541316715,
          0.9749059887235069,
          -0.6489966317203343,
          -0.4529938481673228,
          2.457862691403099,
          1.1500951419328709,
          -0.3961888626713159,
          1.0320959236004006,
          -0.64804598418807,
          1.4199355897959525,
          0.31001717805344414,
          -1.1563896696168525,
          -0.37681566605169214,
          -0.041437465530773314,
          1.1557619578669158,
          0.12571611878884073,
          0.1652122595506704,
          -0.636218601062783,
          0.1500785174473584,
          1.4145088404802788,
          -0.1925130409596141,
          0.8778952612402464,
          -1.7415330965465772,
          -0.520524509281832,
          1.0656521689412484,
          0.21090134998581206,
          0.06042914559657147,
          1.8045345020877315,
          0.3516215045020242,
          -0.7955694173030421,
          0.5017330286337357,
          -0.3744622282424553,
          -0.08793779877707011,
          0.9768924208169164,
          1.3903896999832768,
          -0.2896771281573561,
          -1.570775817214485,
          -0.47071662220943644,
          0.652294892191082,
          0.45877268717023156,
          -0.9588887995588409,
          1.3841487332315288,
          1.0909082999527209,
          0.21879189531072746,
          0.6133897809744157,
          0.8341847537277423,
          -1.2140180709886772,
          0.2599685724388422,
          1.2211687242528722,
          -0.9632472350552475,
          0.5786800057745015,
          -1.0333760135002024,
          3.0749027191828917,
          -0.4369437620171544,
          0.4892783343764829,
          0.19851273240257877,
          -1.0883959321328498,
          -0.2901029419889698,
          -0.11280797172915796,
          -0.21230189742014346,
          0.34923059083591856,
          -0.2652379250139706,
          0.1642795863151399,
          -2.034270442332297,
          1.838864888237644,
          -0.5522879528266724,
          0.45421264729395944,
          0.4604265026794926,
          1.7073774379388704,
          0.4690264488716998,
          1.117451602046788,
          -0.6019251619409158,
          -0.6074946211011368,
          -0.4877452061110409,
          -1.010759073987423,
          -1.6882387751844077,
          -0.6192199912377896,
          1.397768042732685,
          -2.252389072675059,
          0.1456954440636028,
          1.9630312799831615,
          -0.645599318436487,
          0.1514309872762784,
          -0.6091694402556801,
          -0.43940515041138384,
          0.7084113578944723,
          -0.7558410910128958,
          1.2050351786504445,
          0.1648852821669212,
          0.23931400278991122,
          0.5404755161546214,
          -0.7616204026896706,
          -1.2712321463523877,
          1.1921933964056537,
          0.08286316086141651,
          -0.21122252044048428,
          -0.2228272088441778
         ],
         "xaxis": "x7",
         "y": [
          -0.36259548072853875,
          -1.267870868137753,
          -1.0091462104932183,
          -1.0110585705993747,
          2.0762507530042895,
          1.4881995414855038,
          -0.26646024128323953,
          0.11686341059463608,
          2.21425720893623,
          -0.5021126738974973,
          -0.5257142342177114,
          -0.8571176187528038,
          -0.6092482759913191,
          -0.08686320715520057,
          0.36105712954854563,
          0.857438327524079,
          0.21106363592610627,
          0.11927464514128387,
          1.9107081723052977,
          0.11726142499280247,
          0.15562165513999635,
          0.17984294181999808,
          0.42853832330408864,
          1.4815379150422912,
          0.9806138358460342,
          -0.8138989560324716,
          0.45988968024795274,
          0.40153056231663187,
          0.3858907016348598,
          0.29131595025742535,
          0.0995816061413352,
          -0.44331204085049064,
          -2.001837597279621,
          -0.26869125348082745,
          -1.2968267576274637,
          0.23345037240733127,
          -0.4671918976965135,
          -1.3841503189198816,
          -0.44954618641312155,
          2.1093747200978687,
          0.7018818255134294,
          -0.6782062082975912,
          0.28486767051026746,
          -0.4252864697271743,
          -0.04075062367543577,
          -0.12190918216816145,
          0.40667369197181796,
          1.3213925954510657,
          -0.2122494509573179,
          0.5281694741678093,
          2.229210068526433,
          1.9412193570376737,
          2.036390856146347,
          -0.6758525191223714,
          1.3283170028978404,
          0.230437983084068,
          0.6291741142455162,
          -1.0178739201970899,
          -0.8511990469438749,
          -0.1136179868905994,
          -0.44956504785723433,
          -1.4236153338809452,
          -2.5579823199668876,
          -0.313401670583427,
          0.23394667100442418,
          -0.6917842239920057,
          1.1369538575013078,
          0.741038314372609,
          0.3626852950666634,
          0.9124505835466721,
          -1.2065960914879164,
          -0.5605693444006637,
          1.32927682001344,
          1.1453456267611448,
          -0.5839163862401376,
          1.0888454997300678,
          0.34451912392908945,
          -2.0268651130316186,
          -1.8916866438700928,
          0.45964397046328515,
          2.1584681393854055,
          -0.074148304304722,
          -0.6384037506621307,
          -0.17356245521649813,
          -1.0843504488078473,
          0.6019912533839158,
          -0.0864499869337545,
          -0.6426495556702666,
          -0.9469150759863427,
          1.1266066812979123,
          -1.0874503292056883,
          0.6224487504191203,
          -0.21084575656209098,
          2.1368173265227526,
          0.4709018271403978,
          -2.1699468729069555,
          -0.9401270264259753,
          -0.3052356128961729,
          1.006669632826666,
          0.5873935540844651
         ],
         "yaxis": "y7"
        },
        {
         "line": {
          "color": "rgba(128, 128, 128, 1.0)",
          "dash": "solid",
          "shape": "linear",
          "width": 1.3
         },
         "marker": {
          "size": 2,
          "symbol": "circle"
         },
         "mode": "markers",
         "name": "B",
         "text": "",
         "type": "scatter",
         "x": [
          -1.391714870652499,
          -1.3213972657278188,
          -1.0271811952353889,
          0.9962234991310107,
          1.2226397567161182,
          -0.8575377773299411,
          -0.30816228166520865,
          0.1689329310912175,
          0.015619846900224655,
          -0.6079788226247328,
          0.2267230348814204,
          0.37738756189305434,
          0.5422727281889766,
          -0.4581361110535218,
          -0.9912642222559744,
          -0.39382604797004483,
          -0.7772906585003634,
          0.04360371765437144,
          -0.9366631305697488,
          1.215160883960563,
          0.2805175133715498,
          -0.10352642616390643,
          -0.8370185658573583,
          -0.9776969405446144,
          0.37902925007926175,
          0.9520178386551742,
          -1.1174258856771637,
          -0.23437327734446223,
          0.6256778491573876,
          0.702691000579248,
          -1.35175457704018,
          -0.24970282560289528,
          0.5099588492730112,
          0.20292825131545483,
          -1.0545718162153166,
          -0.4451161798596223,
          -0.7240781254060488,
          1.1018313795303531,
          1.286538140555478,
          -1.7964720822677995,
          0.06999744508310896,
          -0.09399988117214235,
          -1.324986856556876,
          -0.6011689610233697,
          -0.2178263922127269,
          -0.369357529356511,
          -2.09361973829419,
          -1.8556562850361287,
          0.9673376235807268,
          0.9324350813607561,
          1.1789174080712659,
          -0.9053472149956552,
          -1.7561822398843974,
          -0.5819439646822652,
          -0.7242174506600142,
          0.06950853321165076,
          0.1164100011339079,
          0.9918425731024703,
          -3.194015438643409,
          0.5661954446322105,
          -1.73866974183632,
          -1.1557899433927266,
          0.5891302018733651,
          2.0273163252737847,
          -1.1282958500612157,
          0.6336793733624113,
          -0.8568664555674879,
          -0.18339916081354923,
          -0.32372658311166286,
          0.15659676849251153,
          0.5313764768383269,
          -1.7645581551702592,
          -0.1943429703255851,
          -0.09112992548499607,
          -0.5225241201325945,
          -0.6525910552681894,
          -0.6221431146860016,
          -1.3648065781438927,
          0.9079587489874479,
          0.6069304589878313,
          -0.4183165445387682,
          -0.5732128542919855,
          -0.5406009293093037,
          -0.8972224037382185,
          0.7715751366997439,
          0.4502496948551281,
          -1.9035987691691223,
          -0.07378497247938647,
          -0.5700156135647453,
          -0.8601354011299753,
          -0.9649325204165909,
          -0.20467917818589496,
          1.0405949629047302,
          0.6528409838036306,
          -1.3357279796330868,
          -1.5045825200601821,
          -1.3508377921496526,
          0.38427399183063565,
          0.6155110792018796,
          0.392099316732869
         ],
         "xaxis": "x8",
         "y": [
          -0.36259548072853875,
          -1.267870868137753,
          -1.0091462104932183,
          -1.0110585705993747,
          2.0762507530042895,
          1.4881995414855038,
          -0.26646024128323953,
          0.11686341059463608,
          2.21425720893623,
          -0.5021126738974973,
          -0.5257142342177114,
          -0.8571176187528038,
          -0.6092482759913191,
          -0.08686320715520057,
          0.36105712954854563,
          0.857438327524079,
          0.21106363592610627,
          0.11927464514128387,
          1.9107081723052977,
          0.11726142499280247,
          0.15562165513999635,
          0.17984294181999808,
          0.42853832330408864,
          1.4815379150422912,
          0.9806138358460342,
          -0.8138989560324716,
          0.45988968024795274,
          0.40153056231663187,
          0.3858907016348598,
          0.29131595025742535,
          0.0995816061413352,
          -0.44331204085049064,
          -2.001837597279621,
          -0.26869125348082745,
          -1.2968267576274637,
          0.23345037240733127,
          -0.4671918976965135,
          -1.3841503189198816,
          -0.44954618641312155,
          2.1093747200978687,
          0.7018818255134294,
          -0.6782062082975912,
          0.28486767051026746,
          -0.4252864697271743,
          -0.04075062367543577,
          -0.12190918216816145,
          0.40667369197181796,
          1.3213925954510657,
          -0.2122494509573179,
          0.5281694741678093,
          2.229210068526433,
          1.9412193570376737,
          2.036390856146347,
          -0.6758525191223714,
          1.3283170028978404,
          0.230437983084068,
          0.6291741142455162,
          -1.0178739201970899,
          -0.8511990469438749,
          -0.1136179868905994,
          -0.44956504785723433,
          -1.4236153338809452,
          -2.5579823199668876,
          -0.313401670583427,
          0.23394667100442418,
          -0.6917842239920057,
          1.1369538575013078,
          0.741038314372609,
          0.3626852950666634,
          0.9124505835466721,
          -1.2065960914879164,
          -0.5605693444006637,
          1.32927682001344,
          1.1453456267611448,
          -0.5839163862401376,
          1.0888454997300678,
          0.34451912392908945,
          -2.0268651130316186,
          -1.8916866438700928,
          0.45964397046328515,
          2.1584681393854055,
          -0.074148304304722,
          -0.6384037506621307,
          -0.17356245521649813,
          -1.0843504488078473,
          0.6019912533839158,
          -0.0864499869337545,
          -0.6426495556702666,
          -0.9469150759863427,
          1.1266066812979123,
          -1.0874503292056883,
          0.6224487504191203,
          -0.21084575656209098,
          2.1368173265227526,
          0.4709018271403978,
          -2.1699468729069555,
          -0.9401270264259753,
          -0.3052356128961729,
          1.006669632826666,
          0.5873935540844651
         ],
         "yaxis": "y8"
        },
        {
         "line": {
          "color": "rgba(128, 128, 128, 1.0)",
          "dash": "solid",
          "shape": "linear",
          "width": 1.3
         },
         "marker": {
          "size": 2,
          "symbol": "circle"
         },
         "mode": "markers",
         "name": "C",
         "text": "",
         "type": "scatter",
         "x": [
          0.40612300580052474,
          -0.4787833960912556,
          -0.5447183158159912,
          -0.20484654382912085,
          -0.7772111801679075,
          0.7717397677804158,
          1.223436162464635,
          0.06772192697459302,
          0.25456332871080894,
          0.4048565702822834,
          -1.8148879337440906,
          -0.4388441296971543,
          -1.3924436354070289,
          0.6956369095551673,
          -0.8667450625264915,
          -0.6310161646563152,
          1.3003534836796835,
          0.2083137339127651,
          -0.8988700584540924,
          -0.7232670196258586,
          0.31903378409831123,
          -0.20316081187997037,
          1.5874187069817816,
          0.1923467175146929,
          1.1187010598163798,
          -0.7252616193055038,
          0.1801496551521485,
          -1.5140514229709021,
          -1.288260457541485,
          -1.3610877459759907,
          1.7869981630955272,
          0.05692588153120884,
          0.07490690988116719,
          1.3928879350198191,
          -0.09806224795777757,
          1.3917376836181254,
          0.3685419969405524,
          -0.49312306302326253,
          1.4974261447856545,
          -0.3689397108877411,
          -0.9540378493340411,
          0.059716412783843244,
          -0.772836360066239,
          -0.5305614528169932,
          -0.17876090805211597,
          0.263152168058798,
          0.215210090246341,
          1.4589104195751386,
          -0.8539813979762173,
          -0.520159892769052,
          -0.20281248626718093,
          -0.8255111198294761,
          -0.2448982097759442,
          0.1411939476815836,
          0.2020771740684055,
          -1.0559833258091613,
          -1.379739410950068,
          -0.5006662209682377,
          -0.9316129498404765,
          -2.5090916216195764,
          -1.6150447193491557,
          0.21338471972146297,
          0.059999029120805035,
          -0.5109257729777709,
          -0.2268722852054298,
          0.9983442362068591,
          1.1897280575947924,
          0.08124989687103532,
          1.5414292850954545,
          2.25475973576895,
          -1.111730112114252,
          -1.1144069288786815,
          1.114299604592313,
          -0.8158645068290735,
          0.10198790485908782,
          -1.7754246108252718,
          -1.3188149745985318,
          1.4249768136759138,
          0.5502074996929022,
          -0.2767388889975246,
          0.27891988080565244,
          -1.2686878066632947,
          -0.7842613084336968,
          0.6238673940138396,
          1.9328429554944817,
          -0.17767907887367818,
          -2.127060962381966,
          -2.433293326123087,
          -1.304045908210188,
          -0.21858974062276904,
          -1.562354340089511,
          -1.1897706253336464,
          -0.03282994484540824,
          -0.1315262283778394,
          0.8219686893831281,
          -0.6900875321833959,
          0.9314720974852225,
          -0.12183184191563845,
          2.2719105496178975,
          0.5242306179214224
         ],
         "xaxis": "x9",
         "y": [
          0.7300999175680266,
          0.9359512920652354,
          -0.46772878327023787,
          0.1656215541316715,
          0.9749059887235069,
          -0.6489966317203343,
          -0.4529938481673228,
          2.457862691403099,
          1.1500951419328709,
          -0.3961888626713159,
          1.0320959236004006,
          -0.64804598418807,
          1.4199355897959525,
          0.31001717805344414,
          -1.1563896696168525,
          -0.37681566605169214,
          -0.041437465530773314,
          1.1557619578669158,
          0.12571611878884073,
          0.1652122595506704,
          -0.636218601062783,
          0.1500785174473584,
          1.4145088404802788,
          -0.1925130409596141,
          0.8778952612402464,
          -1.7415330965465772,
          -0.520524509281832,
          1.0656521689412484,
          0.21090134998581206,
          0.06042914559657147,
          1.8045345020877315,
          0.3516215045020242,
          -0.7955694173030421,
          0.5017330286337357,
          -0.3744622282424553,
          -0.08793779877707011,
          0.9768924208169164,
          1.3903896999832768,
          -0.2896771281573561,
          -1.570775817214485,
          -0.47071662220943644,
          0.652294892191082,
          0.45877268717023156,
          -0.9588887995588409,
          1.3841487332315288,
          1.0909082999527209,
          0.21879189531072746,
          0.6133897809744157,
          0.8341847537277423,
          -1.2140180709886772,
          0.2599685724388422,
          1.2211687242528722,
          -0.9632472350552475,
          0.5786800057745015,
          -1.0333760135002024,
          3.0749027191828917,
          -0.4369437620171544,
          0.4892783343764829,
          0.19851273240257877,
          -1.0883959321328498,
          -0.2901029419889698,
          -0.11280797172915796,
          -0.21230189742014346,
          0.34923059083591856,
          -0.2652379250139706,
          0.1642795863151399,
          -2.034270442332297,
          1.838864888237644,
          -0.5522879528266724,
          0.45421264729395944,
          0.4604265026794926,
          1.7073774379388704,
          0.4690264488716998,
          1.117451602046788,
          -0.6019251619409158,
          -0.6074946211011368,
          -0.4877452061110409,
          -1.010759073987423,
          -1.6882387751844077,
          -0.6192199912377896,
          1.397768042732685,
          -2.252389072675059,
          0.1456954440636028,
          1.9630312799831615,
          -0.645599318436487,
          0.1514309872762784,
          -0.6091694402556801,
          -0.43940515041138384,
          0.7084113578944723,
          -0.7558410910128958,
          1.2050351786504445,
          0.1648852821669212,
          0.23931400278991122,
          0.5404755161546214,
          -0.7616204026896706,
          -1.2712321463523877,
          1.1921933964056537,
          0.08286316086141651,
          -0.21122252044048428,
          -0.2228272088441778
         ],
         "yaxis": "y9"
        },
        {
         "line": {
          "color": "rgba(128, 128, 128, 1.0)",
          "dash": "solid",
          "shape": "linear",
          "width": 1.3
         },
         "marker": {
          "size": 2,
          "symbol": "circle"
         },
         "mode": "markers",
         "name": "C",
         "text": "",
         "type": "scatter",
         "x": [
          -0.36259548072853875,
          -1.267870868137753,
          -1.0091462104932183,
          -1.0110585705993747,
          2.0762507530042895,
          1.4881995414855038,
          -0.26646024128323953,
          0.11686341059463608,
          2.21425720893623,
          -0.5021126738974973,
          -0.5257142342177114,
          -0.8571176187528038,
          -0.6092482759913191,
          -0.08686320715520057,
          0.36105712954854563,
          0.857438327524079,
          0.21106363592610627,
          0.11927464514128387,
          1.9107081723052977,
          0.11726142499280247,
          0.15562165513999635,
          0.17984294181999808,
          0.42853832330408864,
          1.4815379150422912,
          0.9806138358460342,
          -0.8138989560324716,
          0.45988968024795274,
          0.40153056231663187,
          0.3858907016348598,
          0.29131595025742535,
          0.0995816061413352,
          -0.44331204085049064,
          -2.001837597279621,
          -0.26869125348082745,
          -1.2968267576274637,
          0.23345037240733127,
          -0.4671918976965135,
          -1.3841503189198816,
          -0.44954618641312155,
          2.1093747200978687,
          0.7018818255134294,
          -0.6782062082975912,
          0.28486767051026746,
          -0.4252864697271743,
          -0.04075062367543577,
          -0.12190918216816145,
          0.40667369197181796,
          1.3213925954510657,
          -0.2122494509573179,
          0.5281694741678093,
          2.229210068526433,
          1.9412193570376737,
          2.036390856146347,
          -0.6758525191223714,
          1.3283170028978404,
          0.230437983084068,
          0.6291741142455162,
          -1.0178739201970899,
          -0.8511990469438749,
          -0.1136179868905994,
          -0.44956504785723433,
          -1.4236153338809452,
          -2.5579823199668876,
          -0.313401670583427,
          0.23394667100442418,
          -0.6917842239920057,
          1.1369538575013078,
          0.741038314372609,
          0.3626852950666634,
          0.9124505835466721,
          -1.2065960914879164,
          -0.5605693444006637,
          1.32927682001344,
          1.1453456267611448,
          -0.5839163862401376,
          1.0888454997300678,
          0.34451912392908945,
          -2.0268651130316186,
          -1.8916866438700928,
          0.45964397046328515,
          2.1584681393854055,
          -0.074148304304722,
          -0.6384037506621307,
          -0.17356245521649813,
          -1.0843504488078473,
          0.6019912533839158,
          -0.0864499869337545,
          -0.6426495556702666,
          -0.9469150759863427,
          1.1266066812979123,
          -1.0874503292056883,
          0.6224487504191203,
          -0.21084575656209098,
          2.1368173265227526,
          0.4709018271403978,
          -2.1699468729069555,
          -0.9401270264259753,
          -0.3052356128961729,
          1.006669632826666,
          0.5873935540844651
         ],
         "xaxis": "x10",
         "y": [
          0.7300999175680266,
          0.9359512920652354,
          -0.46772878327023787,
          0.1656215541316715,
          0.9749059887235069,
          -0.6489966317203343,
          -0.4529938481673228,
          2.457862691403099,
          1.1500951419328709,
          -0.3961888626713159,
          1.0320959236004006,
          -0.64804598418807,
          1.4199355897959525,
          0.31001717805344414,
          -1.1563896696168525,
          -0.37681566605169214,
          -0.041437465530773314,
          1.1557619578669158,
          0.12571611878884073,
          0.1652122595506704,
          -0.636218601062783,
          0.1500785174473584,
          1.4145088404802788,
          -0.1925130409596141,
          0.8778952612402464,
          -1.7415330965465772,
          -0.520524509281832,
          1.0656521689412484,
          0.21090134998581206,
          0.06042914559657147,
          1.8045345020877315,
          0.3516215045020242,
          -0.7955694173030421,
          0.5017330286337357,
          -0.3744622282424553,
          -0.08793779877707011,
          0.9768924208169164,
          1.3903896999832768,
          -0.2896771281573561,
          -1.570775817214485,
          -0.47071662220943644,
          0.652294892191082,
          0.45877268717023156,
          -0.9588887995588409,
          1.3841487332315288,
          1.0909082999527209,
          0.21879189531072746,
          0.6133897809744157,
          0.8341847537277423,
          -1.2140180709886772,
          0.2599685724388422,
          1.2211687242528722,
          -0.9632472350552475,
          0.5786800057745015,
          -1.0333760135002024,
          3.0749027191828917,
          -0.4369437620171544,
          0.4892783343764829,
          0.19851273240257877,
          -1.0883959321328498,
          -0.2901029419889698,
          -0.11280797172915796,
          -0.21230189742014346,
          0.34923059083591856,
          -0.2652379250139706,
          0.1642795863151399,
          -2.034270442332297,
          1.838864888237644,
          -0.5522879528266724,
          0.45421264729395944,
          0.4604265026794926,
          1.7073774379388704,
          0.4690264488716998,
          1.117451602046788,
          -0.6019251619409158,
          -0.6074946211011368,
          -0.4877452061110409,
          -1.010759073987423,
          -1.6882387751844077,
          -0.6192199912377896,
          1.397768042732685,
          -2.252389072675059,
          0.1456954440636028,
          1.9630312799831615,
          -0.645599318436487,
          0.1514309872762784,
          -0.6091694402556801,
          -0.43940515041138384,
          0.7084113578944723,
          -0.7558410910128958,
          1.2050351786504445,
          0.1648852821669212,
          0.23931400278991122,
          0.5404755161546214,
          -0.7616204026896706,
          -1.2712321463523877,
          1.1921933964056537,
          0.08286316086141651,
          -0.21122252044048428,
          -0.2228272088441778
         ],
         "yaxis": "y10"
        },
        {
         "histfunc": "count",
         "histnorm": "",
         "marker": {
          "color": "rgba(50, 171, 96, 1.0)",
          "line": {
           "color": "#4D5663",
           "width": 1.3
          }
         },
         "name": "C",
         "nbinsx": 10,
         "opacity": 0.8,
         "orientation": "v",
         "type": "histogram",
         "x": [
          0.7300999175680266,
          0.9359512920652354,
          -0.46772878327023787,
          0.1656215541316715,
          0.9749059887235069,
          -0.6489966317203343,
          -0.4529938481673228,
          2.457862691403099,
          1.1500951419328709,
          -0.3961888626713159,
          1.0320959236004006,
          -0.64804598418807,
          1.4199355897959525,
          0.31001717805344414,
          -1.1563896696168525,
          -0.37681566605169214,
          -0.041437465530773314,
          1.1557619578669158,
          0.12571611878884073,
          0.1652122595506704,
          -0.636218601062783,
          0.1500785174473584,
          1.4145088404802788,
          -0.1925130409596141,
          0.8778952612402464,
          -1.7415330965465772,
          -0.520524509281832,
          1.0656521689412484,
          0.21090134998581206,
          0.06042914559657147,
          1.8045345020877315,
          0.3516215045020242,
          -0.7955694173030421,
          0.5017330286337357,
          -0.3744622282424553,
          -0.08793779877707011,
          0.9768924208169164,
          1.3903896999832768,
          -0.2896771281573561,
          -1.570775817214485,
          -0.47071662220943644,
          0.652294892191082,
          0.45877268717023156,
          -0.9588887995588409,
          1.3841487332315288,
          1.0909082999527209,
          0.21879189531072746,
          0.6133897809744157,
          0.8341847537277423,
          -1.2140180709886772,
          0.2599685724388422,
          1.2211687242528722,
          -0.9632472350552475,
          0.5786800057745015,
          -1.0333760135002024,
          3.0749027191828917,
          -0.4369437620171544,
          0.4892783343764829,
          0.19851273240257877,
          -1.0883959321328498,
          -0.2901029419889698,
          -0.11280797172915796,
          -0.21230189742014346,
          0.34923059083591856,
          -0.2652379250139706,
          0.1642795863151399,
          -2.034270442332297,
          1.838864888237644,
          -0.5522879528266724,
          0.45421264729395944,
          0.4604265026794926,
          1.7073774379388704,
          0.4690264488716998,
          1.117451602046788,
          -0.6019251619409158,
          -0.6074946211011368,
          -0.4877452061110409,
          -1.010759073987423,
          -1.6882387751844077,
          -0.6192199912377896,
          1.397768042732685,
          -2.252389072675059,
          0.1456954440636028,
          1.9630312799831615,
          -0.645599318436487,
          0.1514309872762784,
          -0.6091694402556801,
          -0.43940515041138384,
          0.7084113578944723,
          -0.7558410910128958,
          1.2050351786504445,
          0.1648852821669212,
          0.23931400278991122,
          0.5404755161546214,
          -0.7616204026896706,
          -1.2712321463523877,
          1.1921933964056537,
          0.08286316086141651,
          -0.21122252044048428,
          -0.2228272088441778
         ],
         "xaxis": "x11",
         "yaxis": "y11"
        },
        {
         "line": {
          "color": "rgba(128, 128, 128, 1.0)",
          "dash": "solid",
          "shape": "linear",
          "width": 1.3
         },
         "marker": {
          "size": 2,
          "symbol": "circle"
         },
         "mode": "markers",
         "name": "C",
         "text": "",
         "type": "scatter",
         "x": [
          -1.391714870652499,
          -1.3213972657278188,
          -1.0271811952353889,
          0.9962234991310107,
          1.2226397567161182,
          -0.8575377773299411,
          -0.30816228166520865,
          0.1689329310912175,
          0.015619846900224655,
          -0.6079788226247328,
          0.2267230348814204,
          0.37738756189305434,
          0.5422727281889766,
          -0.4581361110535218,
          -0.9912642222559744,
          -0.39382604797004483,
          -0.7772906585003634,
          0.04360371765437144,
          -0.9366631305697488,
          1.215160883960563,
          0.2805175133715498,
          -0.10352642616390643,
          -0.8370185658573583,
          -0.9776969405446144,
          0.37902925007926175,
          0.9520178386551742,
          -1.1174258856771637,
          -0.23437327734446223,
          0.6256778491573876,
          0.702691000579248,
          -1.35175457704018,
          -0.24970282560289528,
          0.5099588492730112,
          0.20292825131545483,
          -1.0545718162153166,
          -0.4451161798596223,
          -0.7240781254060488,
          1.1018313795303531,
          1.286538140555478,
          -1.7964720822677995,
          0.06999744508310896,
          -0.09399988117214235,
          -1.324986856556876,
          -0.6011689610233697,
          -0.2178263922127269,
          -0.369357529356511,
          -2.09361973829419,
          -1.8556562850361287,
          0.9673376235807268,
          0.9324350813607561,
          1.1789174080712659,
          -0.9053472149956552,
          -1.7561822398843974,
          -0.5819439646822652,
          -0.7242174506600142,
          0.06950853321165076,
          0.1164100011339079,
          0.9918425731024703,
          -3.194015438643409,
          0.5661954446322105,
          -1.73866974183632,
          -1.1557899433927266,
          0.5891302018733651,
          2.0273163252737847,
          -1.1282958500612157,
          0.6336793733624113,
          -0.8568664555674879,
          -0.18339916081354923,
          -0.32372658311166286,
          0.15659676849251153,
          0.5313764768383269,
          -1.7645581551702592,
          -0.1943429703255851,
          -0.09112992548499607,
          -0.5225241201325945,
          -0.6525910552681894,
          -0.6221431146860016,
          -1.3648065781438927,
          0.9079587489874479,
          0.6069304589878313,
          -0.4183165445387682,
          -0.5732128542919855,
          -0.5406009293093037,
          -0.8972224037382185,
          0.7715751366997439,
          0.4502496948551281,
          -1.9035987691691223,
          -0.07378497247938647,
          -0.5700156135647453,
          -0.8601354011299753,
          -0.9649325204165909,
          -0.20467917818589496,
          1.0405949629047302,
          0.6528409838036306,
          -1.3357279796330868,
          -1.5045825200601821,
          -1.3508377921496526,
          0.38427399183063565,
          0.6155110792018796,
          0.392099316732869
         ],
         "xaxis": "x12",
         "y": [
          0.7300999175680266,
          0.9359512920652354,
          -0.46772878327023787,
          0.1656215541316715,
          0.9749059887235069,
          -0.6489966317203343,
          -0.4529938481673228,
          2.457862691403099,
          1.1500951419328709,
          -0.3961888626713159,
          1.0320959236004006,
          -0.64804598418807,
          1.4199355897959525,
          0.31001717805344414,
          -1.1563896696168525,
          -0.37681566605169214,
          -0.041437465530773314,
          1.1557619578669158,
          0.12571611878884073,
          0.1652122595506704,
          -0.636218601062783,
          0.1500785174473584,
          1.4145088404802788,
          -0.1925130409596141,
          0.8778952612402464,
          -1.7415330965465772,
          -0.520524509281832,
          1.0656521689412484,
          0.21090134998581206,
          0.06042914559657147,
          1.8045345020877315,
          0.3516215045020242,
          -0.7955694173030421,
          0.5017330286337357,
          -0.3744622282424553,
          -0.08793779877707011,
          0.9768924208169164,
          1.3903896999832768,
          -0.2896771281573561,
          -1.570775817214485,
          -0.47071662220943644,
          0.652294892191082,
          0.45877268717023156,
          -0.9588887995588409,
          1.3841487332315288,
          1.0909082999527209,
          0.21879189531072746,
          0.6133897809744157,
          0.8341847537277423,
          -1.2140180709886772,
          0.2599685724388422,
          1.2211687242528722,
          -0.9632472350552475,
          0.5786800057745015,
          -1.0333760135002024,
          3.0749027191828917,
          -0.4369437620171544,
          0.4892783343764829,
          0.19851273240257877,
          -1.0883959321328498,
          -0.2901029419889698,
          -0.11280797172915796,
          -0.21230189742014346,
          0.34923059083591856,
          -0.2652379250139706,
          0.1642795863151399,
          -2.034270442332297,
          1.838864888237644,
          -0.5522879528266724,
          0.45421264729395944,
          0.4604265026794926,
          1.7073774379388704,
          0.4690264488716998,
          1.117451602046788,
          -0.6019251619409158,
          -0.6074946211011368,
          -0.4877452061110409,
          -1.010759073987423,
          -1.6882387751844077,
          -0.6192199912377896,
          1.397768042732685,
          -2.252389072675059,
          0.1456954440636028,
          1.9630312799831615,
          -0.645599318436487,
          0.1514309872762784,
          -0.6091694402556801,
          -0.43940515041138384,
          0.7084113578944723,
          -0.7558410910128958,
          1.2050351786504445,
          0.1648852821669212,
          0.23931400278991122,
          0.5404755161546214,
          -0.7616204026896706,
          -1.2712321463523877,
          1.1921933964056537,
          0.08286316086141651,
          -0.21122252044048428,
          -0.2228272088441778
         ],
         "yaxis": "y12"
        },
        {
         "line": {
          "color": "rgba(128, 128, 128, 1.0)",
          "dash": "solid",
          "shape": "linear",
          "width": 1.3
         },
         "marker": {
          "size": 2,
          "symbol": "circle"
         },
         "mode": "markers",
         "name": "D",
         "text": "",
         "type": "scatter",
         "x": [
          0.40612300580052474,
          -0.4787833960912556,
          -0.5447183158159912,
          -0.20484654382912085,
          -0.7772111801679075,
          0.7717397677804158,
          1.223436162464635,
          0.06772192697459302,
          0.25456332871080894,
          0.4048565702822834,
          -1.8148879337440906,
          -0.4388441296971543,
          -1.3924436354070289,
          0.6956369095551673,
          -0.8667450625264915,
          -0.6310161646563152,
          1.3003534836796835,
          0.2083137339127651,
          -0.8988700584540924,
          -0.7232670196258586,
          0.31903378409831123,
          -0.20316081187997037,
          1.5874187069817816,
          0.1923467175146929,
          1.1187010598163798,
          -0.7252616193055038,
          0.1801496551521485,
          -1.5140514229709021,
          -1.288260457541485,
          -1.3610877459759907,
          1.7869981630955272,
          0.05692588153120884,
          0.07490690988116719,
          1.3928879350198191,
          -0.09806224795777757,
          1.3917376836181254,
          0.3685419969405524,
          -0.49312306302326253,
          1.4974261447856545,
          -0.3689397108877411,
          -0.9540378493340411,
          0.059716412783843244,
          -0.772836360066239,
          -0.5305614528169932,
          -0.17876090805211597,
          0.263152168058798,
          0.215210090246341,
          1.4589104195751386,
          -0.8539813979762173,
          -0.520159892769052,
          -0.20281248626718093,
          -0.8255111198294761,
          -0.2448982097759442,
          0.1411939476815836,
          0.2020771740684055,
          -1.0559833258091613,
          -1.379739410950068,
          -0.5006662209682377,
          -0.9316129498404765,
          -2.5090916216195764,
          -1.6150447193491557,
          0.21338471972146297,
          0.059999029120805035,
          -0.5109257729777709,
          -0.2268722852054298,
          0.9983442362068591,
          1.1897280575947924,
          0.08124989687103532,
          1.5414292850954545,
          2.25475973576895,
          -1.111730112114252,
          -1.1144069288786815,
          1.114299604592313,
          -0.8158645068290735,
          0.10198790485908782,
          -1.7754246108252718,
          -1.3188149745985318,
          1.4249768136759138,
          0.5502074996929022,
          -0.2767388889975246,
          0.27891988080565244,
          -1.2686878066632947,
          -0.7842613084336968,
          0.6238673940138396,
          1.9328429554944817,
          -0.17767907887367818,
          -2.127060962381966,
          -2.433293326123087,
          -1.304045908210188,
          -0.21858974062276904,
          -1.562354340089511,
          -1.1897706253336464,
          -0.03282994484540824,
          -0.1315262283778394,
          0.8219686893831281,
          -0.6900875321833959,
          0.9314720974852225,
          -0.12183184191563845,
          2.2719105496178975,
          0.5242306179214224
         ],
         "xaxis": "x13",
         "y": [
          -1.391714870652499,
          -1.3213972657278188,
          -1.0271811952353889,
          0.9962234991310107,
          1.2226397567161182,
          -0.8575377773299411,
          -0.30816228166520865,
          0.1689329310912175,
          0.015619846900224655,
          -0.6079788226247328,
          0.2267230348814204,
          0.37738756189305434,
          0.5422727281889766,
          -0.4581361110535218,
          -0.9912642222559744,
          -0.39382604797004483,
          -0.7772906585003634,
          0.04360371765437144,
          -0.9366631305697488,
          1.215160883960563,
          0.2805175133715498,
          -0.10352642616390643,
          -0.8370185658573583,
          -0.9776969405446144,
          0.37902925007926175,
          0.9520178386551742,
          -1.1174258856771637,
          -0.23437327734446223,
          0.6256778491573876,
          0.702691000579248,
          -1.35175457704018,
          -0.24970282560289528,
          0.5099588492730112,
          0.20292825131545483,
          -1.0545718162153166,
          -0.4451161798596223,
          -0.7240781254060488,
          1.1018313795303531,
          1.286538140555478,
          -1.7964720822677995,
          0.06999744508310896,
          -0.09399988117214235,
          -1.324986856556876,
          -0.6011689610233697,
          -0.2178263922127269,
          -0.369357529356511,
          -2.09361973829419,
          -1.8556562850361287,
          0.9673376235807268,
          0.9324350813607561,
          1.1789174080712659,
          -0.9053472149956552,
          -1.7561822398843974,
          -0.5819439646822652,
          -0.7242174506600142,
          0.06950853321165076,
          0.1164100011339079,
          0.9918425731024703,
          -3.194015438643409,
          0.5661954446322105,
          -1.73866974183632,
          -1.1557899433927266,
          0.5891302018733651,
          2.0273163252737847,
          -1.1282958500612157,
          0.6336793733624113,
          -0.8568664555674879,
          -0.18339916081354923,
          -0.32372658311166286,
          0.15659676849251153,
          0.5313764768383269,
          -1.7645581551702592,
          -0.1943429703255851,
          -0.09112992548499607,
          -0.5225241201325945,
          -0.6525910552681894,
          -0.6221431146860016,
          -1.3648065781438927,
          0.9079587489874479,
          0.6069304589878313,
          -0.4183165445387682,
          -0.5732128542919855,
          -0.5406009293093037,
          -0.8972224037382185,
          0.7715751366997439,
          0.4502496948551281,
          -1.9035987691691223,
          -0.07378497247938647,
          -0.5700156135647453,
          -0.8601354011299753,
          -0.9649325204165909,
          -0.20467917818589496,
          1.0405949629047302,
          0.6528409838036306,
          -1.3357279796330868,
          -1.5045825200601821,
          -1.3508377921496526,
          0.38427399183063565,
          0.6155110792018796,
          0.392099316732869
         ],
         "yaxis": "y13"
        },
        {
         "line": {
          "color": "rgba(128, 128, 128, 1.0)",
          "dash": "solid",
          "shape": "linear",
          "width": 1.3
         },
         "marker": {
          "size": 2,
          "symbol": "circle"
         },
         "mode": "markers",
         "name": "D",
         "text": "",
         "type": "scatter",
         "x": [
          -0.36259548072853875,
          -1.267870868137753,
          -1.0091462104932183,
          -1.0110585705993747,
          2.0762507530042895,
          1.4881995414855038,
          -0.26646024128323953,
          0.11686341059463608,
          2.21425720893623,
          -0.5021126738974973,
          -0.5257142342177114,
          -0.8571176187528038,
          -0.6092482759913191,
          -0.08686320715520057,
          0.36105712954854563,
          0.857438327524079,
          0.21106363592610627,
          0.11927464514128387,
          1.9107081723052977,
          0.11726142499280247,
          0.15562165513999635,
          0.17984294181999808,
          0.42853832330408864,
          1.4815379150422912,
          0.9806138358460342,
          -0.8138989560324716,
          0.45988968024795274,
          0.40153056231663187,
          0.3858907016348598,
          0.29131595025742535,
          0.0995816061413352,
          -0.44331204085049064,
          -2.001837597279621,
          -0.26869125348082745,
          -1.2968267576274637,
          0.23345037240733127,
          -0.4671918976965135,
          -1.3841503189198816,
          -0.44954618641312155,
          2.1093747200978687,
          0.7018818255134294,
          -0.6782062082975912,
          0.28486767051026746,
          -0.4252864697271743,
          -0.04075062367543577,
          -0.12190918216816145,
          0.40667369197181796,
          1.3213925954510657,
          -0.2122494509573179,
          0.5281694741678093,
          2.229210068526433,
          1.9412193570376737,
          2.036390856146347,
          -0.6758525191223714,
          1.3283170028978404,
          0.230437983084068,
          0.6291741142455162,
          -1.0178739201970899,
          -0.8511990469438749,
          -0.1136179868905994,
          -0.44956504785723433,
          -1.4236153338809452,
          -2.5579823199668876,
          -0.313401670583427,
          0.23394667100442418,
          -0.6917842239920057,
          1.1369538575013078,
          0.741038314372609,
          0.3626852950666634,
          0.9124505835466721,
          -1.2065960914879164,
          -0.5605693444006637,
          1.32927682001344,
          1.1453456267611448,
          -0.5839163862401376,
          1.0888454997300678,
          0.34451912392908945,
          -2.0268651130316186,
          -1.8916866438700928,
          0.45964397046328515,
          2.1584681393854055,
          -0.074148304304722,
          -0.6384037506621307,
          -0.17356245521649813,
          -1.0843504488078473,
          0.6019912533839158,
          -0.0864499869337545,
          -0.6426495556702666,
          -0.9469150759863427,
          1.1266066812979123,
          -1.0874503292056883,
          0.6224487504191203,
          -0.21084575656209098,
          2.1368173265227526,
          0.4709018271403978,
          -2.1699468729069555,
          -0.9401270264259753,
          -0.3052356128961729,
          1.006669632826666,
          0.5873935540844651
         ],
         "xaxis": "x14",
         "y": [
          -1.391714870652499,
          -1.3213972657278188,
          -1.0271811952353889,
          0.9962234991310107,
          1.2226397567161182,
          -0.8575377773299411,
          -0.30816228166520865,
          0.1689329310912175,
          0.015619846900224655,
          -0.6079788226247328,
          0.2267230348814204,
          0.37738756189305434,
          0.5422727281889766,
          -0.4581361110535218,
          -0.9912642222559744,
          -0.39382604797004483,
          -0.7772906585003634,
          0.04360371765437144,
          -0.9366631305697488,
          1.215160883960563,
          0.2805175133715498,
          -0.10352642616390643,
          -0.8370185658573583,
          -0.9776969405446144,
          0.37902925007926175,
          0.9520178386551742,
          -1.1174258856771637,
          -0.23437327734446223,
          0.6256778491573876,
          0.702691000579248,
          -1.35175457704018,
          -0.24970282560289528,
          0.5099588492730112,
          0.20292825131545483,
          -1.0545718162153166,
          -0.4451161798596223,
          -0.7240781254060488,
          1.1018313795303531,
          1.286538140555478,
          -1.7964720822677995,
          0.06999744508310896,
          -0.09399988117214235,
          -1.324986856556876,
          -0.6011689610233697,
          -0.2178263922127269,
          -0.369357529356511,
          -2.09361973829419,
          -1.8556562850361287,
          0.9673376235807268,
          0.9324350813607561,
          1.1789174080712659,
          -0.9053472149956552,
          -1.7561822398843974,
          -0.5819439646822652,
          -0.7242174506600142,
          0.06950853321165076,
          0.1164100011339079,
          0.9918425731024703,
          -3.194015438643409,
          0.5661954446322105,
          -1.73866974183632,
          -1.1557899433927266,
          0.5891302018733651,
          2.0273163252737847,
          -1.1282958500612157,
          0.6336793733624113,
          -0.8568664555674879,
          -0.18339916081354923,
          -0.32372658311166286,
          0.15659676849251153,
          0.5313764768383269,
          -1.7645581551702592,
          -0.1943429703255851,
          -0.09112992548499607,
          -0.5225241201325945,
          -0.6525910552681894,
          -0.6221431146860016,
          -1.3648065781438927,
          0.9079587489874479,
          0.6069304589878313,
          -0.4183165445387682,
          -0.5732128542919855,
          -0.5406009293093037,
          -0.8972224037382185,
          0.7715751366997439,
          0.4502496948551281,
          -1.9035987691691223,
          -0.07378497247938647,
          -0.5700156135647453,
          -0.8601354011299753,
          -0.9649325204165909,
          -0.20467917818589496,
          1.0405949629047302,
          0.6528409838036306,
          -1.3357279796330868,
          -1.5045825200601821,
          -1.3508377921496526,
          0.38427399183063565,
          0.6155110792018796,
          0.392099316732869
         ],
         "yaxis": "y14"
        },
        {
         "line": {
          "color": "rgba(128, 128, 128, 1.0)",
          "dash": "solid",
          "shape": "linear",
          "width": 1.3
         },
         "marker": {
          "size": 2,
          "symbol": "circle"
         },
         "mode": "markers",
         "name": "D",
         "text": "",
         "type": "scatter",
         "x": [
          0.7300999175680266,
          0.9359512920652354,
          -0.46772878327023787,
          0.1656215541316715,
          0.9749059887235069,
          -0.6489966317203343,
          -0.4529938481673228,
          2.457862691403099,
          1.1500951419328709,
          -0.3961888626713159,
          1.0320959236004006,
          -0.64804598418807,
          1.4199355897959525,
          0.31001717805344414,
          -1.1563896696168525,
          -0.37681566605169214,
          -0.041437465530773314,
          1.1557619578669158,
          0.12571611878884073,
          0.1652122595506704,
          -0.636218601062783,
          0.1500785174473584,
          1.4145088404802788,
          -0.1925130409596141,
          0.8778952612402464,
          -1.7415330965465772,
          -0.520524509281832,
          1.0656521689412484,
          0.21090134998581206,
          0.06042914559657147,
          1.8045345020877315,
          0.3516215045020242,
          -0.7955694173030421,
          0.5017330286337357,
          -0.3744622282424553,
          -0.08793779877707011,
          0.9768924208169164,
          1.3903896999832768,
          -0.2896771281573561,
          -1.570775817214485,
          -0.47071662220943644,
          0.652294892191082,
          0.45877268717023156,
          -0.9588887995588409,
          1.3841487332315288,
          1.0909082999527209,
          0.21879189531072746,
          0.6133897809744157,
          0.8341847537277423,
          -1.2140180709886772,
          0.2599685724388422,
          1.2211687242528722,
          -0.9632472350552475,
          0.5786800057745015,
          -1.0333760135002024,
          3.0749027191828917,
          -0.4369437620171544,
          0.4892783343764829,
          0.19851273240257877,
          -1.0883959321328498,
          -0.2901029419889698,
          -0.11280797172915796,
          -0.21230189742014346,
          0.34923059083591856,
          -0.2652379250139706,
          0.1642795863151399,
          -2.034270442332297,
          1.838864888237644,
          -0.5522879528266724,
          0.45421264729395944,
          0.4604265026794926,
          1.7073774379388704,
          0.4690264488716998,
          1.117451602046788,
          -0.6019251619409158,
          -0.6074946211011368,
          -0.4877452061110409,
          -1.010759073987423,
          -1.6882387751844077,
          -0.6192199912377896,
          1.397768042732685,
          -2.252389072675059,
          0.1456954440636028,
          1.9630312799831615,
          -0.645599318436487,
          0.1514309872762784,
          -0.6091694402556801,
          -0.43940515041138384,
          0.7084113578944723,
          -0.7558410910128958,
          1.2050351786504445,
          0.1648852821669212,
          0.23931400278991122,
          0.5404755161546214,
          -0.7616204026896706,
          -1.2712321463523877,
          1.1921933964056537,
          0.08286316086141651,
          -0.21122252044048428,
          -0.2228272088441778
         ],
         "xaxis": "x15",
         "y": [
          -1.391714870652499,
          -1.3213972657278188,
          -1.0271811952353889,
          0.9962234991310107,
          1.2226397567161182,
          -0.8575377773299411,
          -0.30816228166520865,
          0.1689329310912175,
          0.015619846900224655,
          -0.6079788226247328,
          0.2267230348814204,
          0.37738756189305434,
          0.5422727281889766,
          -0.4581361110535218,
          -0.9912642222559744,
          -0.39382604797004483,
          -0.7772906585003634,
          0.04360371765437144,
          -0.9366631305697488,
          1.215160883960563,
          0.2805175133715498,
          -0.10352642616390643,
          -0.8370185658573583,
          -0.9776969405446144,
          0.37902925007926175,
          0.9520178386551742,
          -1.1174258856771637,
          -0.23437327734446223,
          0.6256778491573876,
          0.702691000579248,
          -1.35175457704018,
          -0.24970282560289528,
          0.5099588492730112,
          0.20292825131545483,
          -1.0545718162153166,
          -0.4451161798596223,
          -0.7240781254060488,
          1.1018313795303531,
          1.286538140555478,
          -1.7964720822677995,
          0.06999744508310896,
          -0.09399988117214235,
          -1.324986856556876,
          -0.6011689610233697,
          -0.2178263922127269,
          -0.369357529356511,
          -2.09361973829419,
          -1.8556562850361287,
          0.9673376235807268,
          0.9324350813607561,
          1.1789174080712659,
          -0.9053472149956552,
          -1.7561822398843974,
          -0.5819439646822652,
          -0.7242174506600142,
          0.06950853321165076,
          0.1164100011339079,
          0.9918425731024703,
          -3.194015438643409,
          0.5661954446322105,
          -1.73866974183632,
          -1.1557899433927266,
          0.5891302018733651,
          2.0273163252737847,
          -1.1282958500612157,
          0.6336793733624113,
          -0.8568664555674879,
          -0.18339916081354923,
          -0.32372658311166286,
          0.15659676849251153,
          0.5313764768383269,
          -1.7645581551702592,
          -0.1943429703255851,
          -0.09112992548499607,
          -0.5225241201325945,
          -0.6525910552681894,
          -0.6221431146860016,
          -1.3648065781438927,
          0.9079587489874479,
          0.6069304589878313,
          -0.4183165445387682,
          -0.5732128542919855,
          -0.5406009293093037,
          -0.8972224037382185,
          0.7715751366997439,
          0.4502496948551281,
          -1.9035987691691223,
          -0.07378497247938647,
          -0.5700156135647453,
          -0.8601354011299753,
          -0.9649325204165909,
          -0.20467917818589496,
          1.0405949629047302,
          0.6528409838036306,
          -1.3357279796330868,
          -1.5045825200601821,
          -1.3508377921496526,
          0.38427399183063565,
          0.6155110792018796,
          0.392099316732869
         ],
         "yaxis": "y15"
        },
        {
         "histfunc": "count",
         "histnorm": "",
         "marker": {
          "color": "rgba(128, 0, 128, 1.0)",
          "line": {
           "color": "#4D5663",
           "width": 1.3
          }
         },
         "name": "D",
         "nbinsx": 10,
         "opacity": 0.8,
         "orientation": "v",
         "type": "histogram",
         "x": [
          -1.391714870652499,
          -1.3213972657278188,
          -1.0271811952353889,
          0.9962234991310107,
          1.2226397567161182,
          -0.8575377773299411,
          -0.30816228166520865,
          0.1689329310912175,
          0.015619846900224655,
          -0.6079788226247328,
          0.2267230348814204,
          0.37738756189305434,
          0.5422727281889766,
          -0.4581361110535218,
          -0.9912642222559744,
          -0.39382604797004483,
          -0.7772906585003634,
          0.04360371765437144,
          -0.9366631305697488,
          1.215160883960563,
          0.2805175133715498,
          -0.10352642616390643,
          -0.8370185658573583,
          -0.9776969405446144,
          0.37902925007926175,
          0.9520178386551742,
          -1.1174258856771637,
          -0.23437327734446223,
          0.6256778491573876,
          0.702691000579248,
          -1.35175457704018,
          -0.24970282560289528,
          0.5099588492730112,
          0.20292825131545483,
          -1.0545718162153166,
          -0.4451161798596223,
          -0.7240781254060488,
          1.1018313795303531,
          1.286538140555478,
          -1.7964720822677995,
          0.06999744508310896,
          -0.09399988117214235,
          -1.324986856556876,
          -0.6011689610233697,
          -0.2178263922127269,
          -0.369357529356511,
          -2.09361973829419,
          -1.8556562850361287,
          0.9673376235807268,
          0.9324350813607561,
          1.1789174080712659,
          -0.9053472149956552,
          -1.7561822398843974,
          -0.5819439646822652,
          -0.7242174506600142,
          0.06950853321165076,
          0.1164100011339079,
          0.9918425731024703,
          -3.194015438643409,
          0.5661954446322105,
          -1.73866974183632,
          -1.1557899433927266,
          0.5891302018733651,
          2.0273163252737847,
          -1.1282958500612157,
          0.6336793733624113,
          -0.8568664555674879,
          -0.18339916081354923,
          -0.32372658311166286,
          0.15659676849251153,
          0.5313764768383269,
          -1.7645581551702592,
          -0.1943429703255851,
          -0.09112992548499607,
          -0.5225241201325945,
          -0.6525910552681894,
          -0.6221431146860016,
          -1.3648065781438927,
          0.9079587489874479,
          0.6069304589878313,
          -0.4183165445387682,
          -0.5732128542919855,
          -0.5406009293093037,
          -0.8972224037382185,
          0.7715751366997439,
          0.4502496948551281,
          -1.9035987691691223,
          -0.07378497247938647,
          -0.5700156135647453,
          -0.8601354011299753,
          -0.9649325204165909,
          -0.20467917818589496,
          1.0405949629047302,
          0.6528409838036306,
          -1.3357279796330868,
          -1.5045825200601821,
          -1.3508377921496526,
          0.38427399183063565,
          0.6155110792018796,
          0.392099316732869
         ],
         "xaxis": "x16",
         "yaxis": "y16"
        }
       ],
       "layout": {
        "bargap": 0.02,
        "legend": {
         "bgcolor": "#F5F6F9",
         "font": {
          "color": "#4D5663"
         }
        },
        "paper_bgcolor": "#F5F6F9",
        "plot_bgcolor": "#F5F6F9",
        "showlegend": false,
        "template": {
         "data": {
          "bar": [
           {
            "error_x": {
             "color": "#2a3f5f"
            },
            "error_y": {
             "color": "#2a3f5f"
            },
            "marker": {
             "line": {
              "color": "#E5ECF6",
              "width": 0.5
             }
            },
            "type": "bar"
           }
          ],
          "barpolar": [
           {
            "marker": {
             "line": {
              "color": "#E5ECF6",
              "width": 0.5
             }
            },
            "type": "barpolar"
           }
          ],
          "carpet": [
           {
            "aaxis": {
             "endlinecolor": "#2a3f5f",
             "gridcolor": "white",
             "linecolor": "white",
             "minorgridcolor": "white",
             "startlinecolor": "#2a3f5f"
            },
            "baxis": {
             "endlinecolor": "#2a3f5f",
             "gridcolor": "white",
             "linecolor": "white",
             "minorgridcolor": "white",
             "startlinecolor": "#2a3f5f"
            },
            "type": "carpet"
           }
          ],
          "choropleth": [
           {
            "colorbar": {
             "outlinewidth": 0,
             "ticks": ""
            },
            "type": "choropleth"
           }
          ],
          "contour": [
           {
            "colorbar": {
             "outlinewidth": 0,
             "ticks": ""
            },
            "colorscale": [
             [
              0,
              "#0d0887"
             ],
             [
              0.1111111111111111,
              "#46039f"
             ],
             [
              0.2222222222222222,
              "#7201a8"
             ],
             [
              0.3333333333333333,
              "#9c179e"
             ],
             [
              0.4444444444444444,
              "#bd3786"
             ],
             [
              0.5555555555555556,
              "#d8576b"
             ],
             [
              0.6666666666666666,
              "#ed7953"
             ],
             [
              0.7777777777777778,
              "#fb9f3a"
             ],
             [
              0.8888888888888888,
              "#fdca26"
             ],
             [
              1,
              "#f0f921"
             ]
            ],
            "type": "contour"
           }
          ],
          "contourcarpet": [
           {
            "colorbar": {
             "outlinewidth": 0,
             "ticks": ""
            },
            "type": "contourcarpet"
           }
          ],
          "heatmap": [
           {
            "colorbar": {
             "outlinewidth": 0,
             "ticks": ""
            },
            "colorscale": [
             [
              0,
              "#0d0887"
             ],
             [
              0.1111111111111111,
              "#46039f"
             ],
             [
              0.2222222222222222,
              "#7201a8"
             ],
             [
              0.3333333333333333,
              "#9c179e"
             ],
             [
              0.4444444444444444,
              "#bd3786"
             ],
             [
              0.5555555555555556,
              "#d8576b"
             ],
             [
              0.6666666666666666,
              "#ed7953"
             ],
             [
              0.7777777777777778,
              "#fb9f3a"
             ],
             [
              0.8888888888888888,
              "#fdca26"
             ],
             [
              1,
              "#f0f921"
             ]
            ],
            "type": "heatmap"
           }
          ],
          "heatmapgl": [
           {
            "colorbar": {
             "outlinewidth": 0,
             "ticks": ""
            },
            "colorscale": [
             [
              0,
              "#0d0887"
             ],
             [
              0.1111111111111111,
              "#46039f"
             ],
             [
              0.2222222222222222,
              "#7201a8"
             ],
             [
              0.3333333333333333,
              "#9c179e"
             ],
             [
              0.4444444444444444,
              "#bd3786"
             ],
             [
              0.5555555555555556,
              "#d8576b"
             ],
             [
              0.6666666666666666,
              "#ed7953"
             ],
             [
              0.7777777777777778,
              "#fb9f3a"
             ],
             [
              0.8888888888888888,
              "#fdca26"
             ],
             [
              1,
              "#f0f921"
             ]
            ],
            "type": "heatmapgl"
           }
          ],
          "histogram": [
           {
            "marker": {
             "colorbar": {
              "outlinewidth": 0,
              "ticks": ""
             }
            },
            "type": "histogram"
           }
          ],
          "histogram2d": [
           {
            "colorbar": {
             "outlinewidth": 0,
             "ticks": ""
            },
            "colorscale": [
             [
              0,
              "#0d0887"
             ],
             [
              0.1111111111111111,
              "#46039f"
             ],
             [
              0.2222222222222222,
              "#7201a8"
             ],
             [
              0.3333333333333333,
              "#9c179e"
             ],
             [
              0.4444444444444444,
              "#bd3786"
             ],
             [
              0.5555555555555556,
              "#d8576b"
             ],
             [
              0.6666666666666666,
              "#ed7953"
             ],
             [
              0.7777777777777778,
              "#fb9f3a"
             ],
             [
              0.8888888888888888,
              "#fdca26"
             ],
             [
              1,
              "#f0f921"
             ]
            ],
            "type": "histogram2d"
           }
          ],
          "histogram2dcontour": [
           {
            "colorbar": {
             "outlinewidth": 0,
             "ticks": ""
            },
            "colorscale": [
             [
              0,
              "#0d0887"
             ],
             [
              0.1111111111111111,
              "#46039f"
             ],
             [
              0.2222222222222222,
              "#7201a8"
             ],
             [
              0.3333333333333333,
              "#9c179e"
             ],
             [
              0.4444444444444444,
              "#bd3786"
             ],
             [
              0.5555555555555556,
              "#d8576b"
             ],
             [
              0.6666666666666666,
              "#ed7953"
             ],
             [
              0.7777777777777778,
              "#fb9f3a"
             ],
             [
              0.8888888888888888,
              "#fdca26"
             ],
             [
              1,
              "#f0f921"
             ]
            ],
            "type": "histogram2dcontour"
           }
          ],
          "mesh3d": [
           {
            "colorbar": {
             "outlinewidth": 0,
             "ticks": ""
            },
            "type": "mesh3d"
           }
          ],
          "parcoords": [
           {
            "line": {
             "colorbar": {
              "outlinewidth": 0,
              "ticks": ""
             }
            },
            "type": "parcoords"
           }
          ],
          "pie": [
           {
            "automargin": true,
            "type": "pie"
           }
          ],
          "scatter": [
           {
            "marker": {
             "colorbar": {
              "outlinewidth": 0,
              "ticks": ""
             }
            },
            "type": "scatter"
           }
          ],
          "scatter3d": [
           {
            "line": {
             "colorbar": {
              "outlinewidth": 0,
              "ticks": ""
             }
            },
            "marker": {
             "colorbar": {
              "outlinewidth": 0,
              "ticks": ""
             }
            },
            "type": "scatter3d"
           }
          ],
          "scattercarpet": [
           {
            "marker": {
             "colorbar": {
              "outlinewidth": 0,
              "ticks": ""
             }
            },
            "type": "scattercarpet"
           }
          ],
          "scattergeo": [
           {
            "marker": {
             "colorbar": {
              "outlinewidth": 0,
              "ticks": ""
             }
            },
            "type": "scattergeo"
           }
          ],
          "scattergl": [
           {
            "marker": {
             "colorbar": {
              "outlinewidth": 0,
              "ticks": ""
             }
            },
            "type": "scattergl"
           }
          ],
          "scattermapbox": [
           {
            "marker": {
             "colorbar": {
              "outlinewidth": 0,
              "ticks": ""
             }
            },
            "type": "scattermapbox"
           }
          ],
          "scatterpolar": [
           {
            "marker": {
             "colorbar": {
              "outlinewidth": 0,
              "ticks": ""
             }
            },
            "type": "scatterpolar"
           }
          ],
          "scatterpolargl": [
           {
            "marker": {
             "colorbar": {
              "outlinewidth": 0,
              "ticks": ""
             }
            },
            "type": "scatterpolargl"
           }
          ],
          "scatterternary": [
           {
            "marker": {
             "colorbar": {
              "outlinewidth": 0,
              "ticks": ""
             }
            },
            "type": "scatterternary"
           }
          ],
          "surface": [
           {
            "colorbar": {
             "outlinewidth": 0,
             "ticks": ""
            },
            "colorscale": [
             [
              0,
              "#0d0887"
             ],
             [
              0.1111111111111111,
              "#46039f"
             ],
             [
              0.2222222222222222,
              "#7201a8"
             ],
             [
              0.3333333333333333,
              "#9c179e"
             ],
             [
              0.4444444444444444,
              "#bd3786"
             ],
             [
              0.5555555555555556,
              "#d8576b"
             ],
             [
              0.6666666666666666,
              "#ed7953"
             ],
             [
              0.7777777777777778,
              "#fb9f3a"
             ],
             [
              0.8888888888888888,
              "#fdca26"
             ],
             [
              1,
              "#f0f921"
             ]
            ],
            "type": "surface"
           }
          ],
          "table": [
           {
            "cells": {
             "fill": {
              "color": "#EBF0F8"
             },
             "line": {
              "color": "white"
             }
            },
            "header": {
             "fill": {
              "color": "#C8D4E3"
             },
             "line": {
              "color": "white"
             }
            },
            "type": "table"
           }
          ]
         },
         "layout": {
          "annotationdefaults": {
           "arrowcolor": "#2a3f5f",
           "arrowhead": 0,
           "arrowwidth": 1
          },
          "coloraxis": {
           "colorbar": {
            "outlinewidth": 0,
            "ticks": ""
           }
          },
          "colorscale": {
           "diverging": [
            [
             0,
             "#8e0152"
            ],
            [
             0.1,
             "#c51b7d"
            ],
            [
             0.2,
             "#de77ae"
            ],
            [
             0.3,
             "#f1b6da"
            ],
            [
             0.4,
             "#fde0ef"
            ],
            [
             0.5,
             "#f7f7f7"
            ],
            [
             0.6,
             "#e6f5d0"
            ],
            [
             0.7,
             "#b8e186"
            ],
            [
             0.8,
             "#7fbc41"
            ],
            [
             0.9,
             "#4d9221"
            ],
            [
             1,
             "#276419"
            ]
           ],
           "sequential": [
            [
             0,
             "#0d0887"
            ],
            [
             0.1111111111111111,
             "#46039f"
            ],
            [
             0.2222222222222222,
             "#7201a8"
            ],
            [
             0.3333333333333333,
             "#9c179e"
            ],
            [
             0.4444444444444444,
             "#bd3786"
            ],
            [
             0.5555555555555556,
             "#d8576b"
            ],
            [
             0.6666666666666666,
             "#ed7953"
            ],
            [
             0.7777777777777778,
             "#fb9f3a"
            ],
            [
             0.8888888888888888,
             "#fdca26"
            ],
            [
             1,
             "#f0f921"
            ]
           ],
           "sequentialminus": [
            [
             0,
             "#0d0887"
            ],
            [
             0.1111111111111111,
             "#46039f"
            ],
            [
             0.2222222222222222,
             "#7201a8"
            ],
            [
             0.3333333333333333,
             "#9c179e"
            ],
            [
             0.4444444444444444,
             "#bd3786"
            ],
            [
             0.5555555555555556,
             "#d8576b"
            ],
            [
             0.6666666666666666,
             "#ed7953"
            ],
            [
             0.7777777777777778,
             "#fb9f3a"
            ],
            [
             0.8888888888888888,
             "#fdca26"
            ],
            [
             1,
             "#f0f921"
            ]
           ]
          },
          "colorway": [
           "#636efa",
           "#EF553B",
           "#00cc96",
           "#ab63fa",
           "#FFA15A",
           "#19d3f3",
           "#FF6692",
           "#B6E880",
           "#FF97FF",
           "#FECB52"
          ],
          "font": {
           "color": "#2a3f5f"
          },
          "geo": {
           "bgcolor": "white",
           "lakecolor": "white",
           "landcolor": "#E5ECF6",
           "showlakes": true,
           "showland": true,
           "subunitcolor": "white"
          },
          "hoverlabel": {
           "align": "left"
          },
          "hovermode": "closest",
          "mapbox": {
           "style": "light"
          },
          "paper_bgcolor": "white",
          "plot_bgcolor": "#E5ECF6",
          "polar": {
           "angularaxis": {
            "gridcolor": "white",
            "linecolor": "white",
            "ticks": ""
           },
           "bgcolor": "#E5ECF6",
           "radialaxis": {
            "gridcolor": "white",
            "linecolor": "white",
            "ticks": ""
           }
          },
          "scene": {
           "xaxis": {
            "backgroundcolor": "#E5ECF6",
            "gridcolor": "white",
            "gridwidth": 2,
            "linecolor": "white",
            "showbackground": true,
            "ticks": "",
            "zerolinecolor": "white"
           },
           "yaxis": {
            "backgroundcolor": "#E5ECF6",
            "gridcolor": "white",
            "gridwidth": 2,
            "linecolor": "white",
            "showbackground": true,
            "ticks": "",
            "zerolinecolor": "white"
           },
           "zaxis": {
            "backgroundcolor": "#E5ECF6",
            "gridcolor": "white",
            "gridwidth": 2,
            "linecolor": "white",
            "showbackground": true,
            "ticks": "",
            "zerolinecolor": "white"
           }
          },
          "shapedefaults": {
           "line": {
            "color": "#2a3f5f"
           }
          },
          "ternary": {
           "aaxis": {
            "gridcolor": "white",
            "linecolor": "white",
            "ticks": ""
           },
           "baxis": {
            "gridcolor": "white",
            "linecolor": "white",
            "ticks": ""
           },
           "bgcolor": "#E5ECF6",
           "caxis": {
            "gridcolor": "white",
            "linecolor": "white",
            "ticks": ""
           }
          },
          "title": {
           "x": 0.05
          },
          "xaxis": {
           "automargin": true,
           "gridcolor": "white",
           "linecolor": "white",
           "ticks": "",
           "title": {
            "standoff": 15
           },
           "zerolinecolor": "white",
           "zerolinewidth": 2
          },
          "yaxis": {
           "automargin": true,
           "gridcolor": "white",
           "linecolor": "white",
           "ticks": "",
           "title": {
            "standoff": 15
           },
           "zerolinecolor": "white",
           "zerolinewidth": 2
          }
         }
        },
        "title": {
         "font": {
          "color": "#4D5663"
         }
        },
        "xaxis": {
         "anchor": "y",
         "domain": [
          0,
          0.2125
         ],
         "gridcolor": "#E1E5ED",
         "showgrid": false,
         "tickfont": {
          "color": "#4D5663"
         },
         "title": {
          "font": {
           "color": "#4D5663"
          },
          "text": ""
         },
         "zerolinecolor": "#E1E5ED"
        },
        "xaxis10": {
         "anchor": "y10",
         "domain": [
          0.2625,
          0.475
         ],
         "gridcolor": "#E1E5ED",
         "showgrid": false,
         "tickfont": {
          "color": "#4D5663"
         },
         "title": {
          "font": {
           "color": "#4D5663"
          },
          "text": ""
         },
         "zerolinecolor": "#E1E5ED"
        },
        "xaxis11": {
         "anchor": "y11",
         "domain": [
          0.525,
          0.7375
         ],
         "gridcolor": "#E1E5ED",
         "showgrid": false,
         "tickfont": {
          "color": "#4D5663"
         },
         "title": {
          "font": {
           "color": "#4D5663"
          },
          "text": ""
         },
         "zerolinecolor": "#E1E5ED"
        },
        "xaxis12": {
         "anchor": "y12",
         "domain": [
          0.7875,
          1
         ],
         "gridcolor": "#E1E5ED",
         "showgrid": false,
         "tickfont": {
          "color": "#4D5663"
         },
         "title": {
          "font": {
           "color": "#4D5663"
          },
          "text": ""
         },
         "zerolinecolor": "#E1E5ED"
        },
        "xaxis13": {
         "anchor": "y13",
         "domain": [
          0,
          0.2125
         ],
         "gridcolor": "#E1E5ED",
         "showgrid": false,
         "tickfont": {
          "color": "#4D5663"
         },
         "title": {
          "font": {
           "color": "#4D5663"
          },
          "text": ""
         },
         "zerolinecolor": "#E1E5ED"
        },
        "xaxis14": {
         "anchor": "y14",
         "domain": [
          0.2625,
          0.475
         ],
         "gridcolor": "#E1E5ED",
         "showgrid": false,
         "tickfont": {
          "color": "#4D5663"
         },
         "title": {
          "font": {
           "color": "#4D5663"
          },
          "text": ""
         },
         "zerolinecolor": "#E1E5ED"
        },
        "xaxis15": {
         "anchor": "y15",
         "domain": [
          0.525,
          0.7375
         ],
         "gridcolor": "#E1E5ED",
         "showgrid": false,
         "tickfont": {
          "color": "#4D5663"
         },
         "title": {
          "font": {
           "color": "#4D5663"
          },
          "text": ""
         },
         "zerolinecolor": "#E1E5ED"
        },
        "xaxis16": {
         "anchor": "y16",
         "domain": [
          0.7875,
          1
         ],
         "gridcolor": "#E1E5ED",
         "showgrid": false,
         "tickfont": {
          "color": "#4D5663"
         },
         "title": {
          "font": {
           "color": "#4D5663"
          },
          "text": ""
         },
         "zerolinecolor": "#E1E5ED"
        },
        "xaxis2": {
         "anchor": "y2",
         "domain": [
          0.2625,
          0.475
         ],
         "gridcolor": "#E1E5ED",
         "showgrid": false,
         "tickfont": {
          "color": "#4D5663"
         },
         "title": {
          "font": {
           "color": "#4D5663"
          },
          "text": ""
         },
         "zerolinecolor": "#E1E5ED"
        },
        "xaxis3": {
         "anchor": "y3",
         "domain": [
          0.525,
          0.7375
         ],
         "gridcolor": "#E1E5ED",
         "showgrid": false,
         "tickfont": {
          "color": "#4D5663"
         },
         "title": {
          "font": {
           "color": "#4D5663"
          },
          "text": ""
         },
         "zerolinecolor": "#E1E5ED"
        },
        "xaxis4": {
         "anchor": "y4",
         "domain": [
          0.7875,
          1
         ],
         "gridcolor": "#E1E5ED",
         "showgrid": false,
         "tickfont": {
          "color": "#4D5663"
         },
         "title": {
          "font": {
           "color": "#4D5663"
          },
          "text": ""
         },
         "zerolinecolor": "#E1E5ED"
        },
        "xaxis5": {
         "anchor": "y5",
         "domain": [
          0,
          0.2125
         ],
         "gridcolor": "#E1E5ED",
         "showgrid": false,
         "tickfont": {
          "color": "#4D5663"
         },
         "title": {
          "font": {
           "color": "#4D5663"
          },
          "text": ""
         },
         "zerolinecolor": "#E1E5ED"
        },
        "xaxis6": {
         "anchor": "y6",
         "domain": [
          0.2625,
          0.475
         ],
         "gridcolor": "#E1E5ED",
         "showgrid": false,
         "tickfont": {
          "color": "#4D5663"
         },
         "title": {
          "font": {
           "color": "#4D5663"
          },
          "text": ""
         },
         "zerolinecolor": "#E1E5ED"
        },
        "xaxis7": {
         "anchor": "y7",
         "domain": [
          0.525,
          0.7375
         ],
         "gridcolor": "#E1E5ED",
         "showgrid": false,
         "tickfont": {
          "color": "#4D5663"
         },
         "title": {
          "font": {
           "color": "#4D5663"
          },
          "text": ""
         },
         "zerolinecolor": "#E1E5ED"
        },
        "xaxis8": {
         "anchor": "y8",
         "domain": [
          0.7875,
          1
         ],
         "gridcolor": "#E1E5ED",
         "showgrid": false,
         "tickfont": {
          "color": "#4D5663"
         },
         "title": {
          "font": {
           "color": "#4D5663"
          },
          "text": ""
         },
         "zerolinecolor": "#E1E5ED"
        },
        "xaxis9": {
         "anchor": "y9",
         "domain": [
          0,
          0.2125
         ],
         "gridcolor": "#E1E5ED",
         "showgrid": false,
         "tickfont": {
          "color": "#4D5663"
         },
         "title": {
          "font": {
           "color": "#4D5663"
          },
          "text": ""
         },
         "zerolinecolor": "#E1E5ED"
        },
        "yaxis": {
         "anchor": "x",
         "domain": [
          0.8025,
          1
         ],
         "gridcolor": "#E1E5ED",
         "showgrid": false,
         "tickfont": {
          "color": "#4D5663"
         },
         "title": {
          "font": {
           "color": "#4D5663"
          },
          "text": ""
         },
         "zerolinecolor": "#E1E5ED"
        },
        "yaxis10": {
         "anchor": "x10",
         "domain": [
          0.2675,
          0.465
         ],
         "gridcolor": "#E1E5ED",
         "showgrid": false,
         "tickfont": {
          "color": "#4D5663"
         },
         "title": {
          "font": {
           "color": "#4D5663"
          },
          "text": ""
         },
         "zerolinecolor": "#E1E5ED"
        },
        "yaxis11": {
         "anchor": "x11",
         "domain": [
          0.2675,
          0.465
         ],
         "gridcolor": "#E1E5ED",
         "showgrid": false,
         "tickfont": {
          "color": "#4D5663"
         },
         "title": {
          "font": {
           "color": "#4D5663"
          },
          "text": ""
         },
         "zerolinecolor": "#E1E5ED"
        },
        "yaxis12": {
         "anchor": "x12",
         "domain": [
          0.2675,
          0.465
         ],
         "gridcolor": "#E1E5ED",
         "showgrid": false,
         "tickfont": {
          "color": "#4D5663"
         },
         "title": {
          "font": {
           "color": "#4D5663"
          },
          "text": ""
         },
         "zerolinecolor": "#E1E5ED"
        },
        "yaxis13": {
         "anchor": "x13",
         "domain": [
          0,
          0.1975
         ],
         "gridcolor": "#E1E5ED",
         "showgrid": false,
         "tickfont": {
          "color": "#4D5663"
         },
         "title": {
          "font": {
           "color": "#4D5663"
          },
          "text": ""
         },
         "zerolinecolor": "#E1E5ED"
        },
        "yaxis14": {
         "anchor": "x14",
         "domain": [
          0,
          0.1975
         ],
         "gridcolor": "#E1E5ED",
         "showgrid": false,
         "tickfont": {
          "color": "#4D5663"
         },
         "title": {
          "font": {
           "color": "#4D5663"
          },
          "text": ""
         },
         "zerolinecolor": "#E1E5ED"
        },
        "yaxis15": {
         "anchor": "x15",
         "domain": [
          0,
          0.1975
         ],
         "gridcolor": "#E1E5ED",
         "showgrid": false,
         "tickfont": {
          "color": "#4D5663"
         },
         "title": {
          "font": {
           "color": "#4D5663"
          },
          "text": ""
         },
         "zerolinecolor": "#E1E5ED"
        },
        "yaxis16": {
         "anchor": "x16",
         "domain": [
          0,
          0.1975
         ],
         "gridcolor": "#E1E5ED",
         "showgrid": false,
         "tickfont": {
          "color": "#4D5663"
         },
         "title": {
          "font": {
           "color": "#4D5663"
          },
          "text": ""
         },
         "zerolinecolor": "#E1E5ED"
        },
        "yaxis2": {
         "anchor": "x2",
         "domain": [
          0.8025,
          1
         ],
         "gridcolor": "#E1E5ED",
         "showgrid": false,
         "tickfont": {
          "color": "#4D5663"
         },
         "title": {
          "font": {
           "color": "#4D5663"
          },
          "text": ""
         },
         "zerolinecolor": "#E1E5ED"
        },
        "yaxis3": {
         "anchor": "x3",
         "domain": [
          0.8025,
          1
         ],
         "gridcolor": "#E1E5ED",
         "showgrid": false,
         "tickfont": {
          "color": "#4D5663"
         },
         "title": {
          "font": {
           "color": "#4D5663"
          },
          "text": ""
         },
         "zerolinecolor": "#E1E5ED"
        },
        "yaxis4": {
         "anchor": "x4",
         "domain": [
          0.8025,
          1
         ],
         "gridcolor": "#E1E5ED",
         "showgrid": false,
         "tickfont": {
          "color": "#4D5663"
         },
         "title": {
          "font": {
           "color": "#4D5663"
          },
          "text": ""
         },
         "zerolinecolor": "#E1E5ED"
        },
        "yaxis5": {
         "anchor": "x5",
         "domain": [
          0.535,
          0.7325
         ],
         "gridcolor": "#E1E5ED",
         "showgrid": false,
         "tickfont": {
          "color": "#4D5663"
         },
         "title": {
          "font": {
           "color": "#4D5663"
          },
          "text": ""
         },
         "zerolinecolor": "#E1E5ED"
        },
        "yaxis6": {
         "anchor": "x6",
         "domain": [
          0.535,
          0.7325
         ],
         "gridcolor": "#E1E5ED",
         "showgrid": false,
         "tickfont": {
          "color": "#4D5663"
         },
         "title": {
          "font": {
           "color": "#4D5663"
          },
          "text": ""
         },
         "zerolinecolor": "#E1E5ED"
        },
        "yaxis7": {
         "anchor": "x7",
         "domain": [
          0.535,
          0.7325
         ],
         "gridcolor": "#E1E5ED",
         "showgrid": false,
         "tickfont": {
          "color": "#4D5663"
         },
         "title": {
          "font": {
           "color": "#4D5663"
          },
          "text": ""
         },
         "zerolinecolor": "#E1E5ED"
        },
        "yaxis8": {
         "anchor": "x8",
         "domain": [
          0.535,
          0.7325
         ],
         "gridcolor": "#E1E5ED",
         "showgrid": false,
         "tickfont": {
          "color": "#4D5663"
         },
         "title": {
          "font": {
           "color": "#4D5663"
          },
          "text": ""
         },
         "zerolinecolor": "#E1E5ED"
        },
        "yaxis9": {
         "anchor": "x9",
         "domain": [
          0.2675,
          0.465
         ],
         "gridcolor": "#E1E5ED",
         "showgrid": false,
         "tickfont": {
          "color": "#4D5663"
         },
         "title": {
          "font": {
           "color": "#4D5663"
          },
          "text": ""
         },
         "zerolinecolor": "#E1E5ED"
        }
       }
      },
      "text/html": [
       "<div>                            <div id=\"cfe22154-321c-4975-b31a-770e9e85b9b6\" class=\"plotly-graph-div\" style=\"height:525px; width:100%;\"></div>            <script type=\"text/javascript\">                require([\"plotly\"], function(Plotly) {                    window.PLOTLYENV=window.PLOTLYENV || {};\n",
       "                    window.PLOTLYENV.BASE_URL='https://plot.ly';                                    if (document.getElementById(\"cfe22154-321c-4975-b31a-770e9e85b9b6\")) {                    Plotly.newPlot(                        \"cfe22154-321c-4975-b31a-770e9e85b9b6\",                        [{\"histfunc\": \"count\", \"histnorm\": \"\", \"marker\": {\"color\": \"rgba(255, 153, 51, 1.0)\", \"line\": {\"color\": \"#4D5663\", \"width\": 1.3}}, \"name\": \"A\", \"nbinsx\": 10, \"opacity\": 0.8, \"orientation\": \"v\", \"type\": \"histogram\", \"x\": [0.40612300580052474, -0.4787833960912556, -0.5447183158159912, -0.20484654382912085, -0.7772111801679075, 0.7717397677804158, 1.223436162464635, 0.06772192697459302, 0.25456332871080894, 0.4048565702822834, -1.8148879337440906, -0.4388441296971543, -1.3924436354070289, 0.6956369095551673, -0.8667450625264915, -0.6310161646563152, 1.3003534836796835, 0.2083137339127651, -0.8988700584540924, -0.7232670196258586, 0.31903378409831123, -0.20316081187997037, 1.5874187069817816, 0.1923467175146929, 1.1187010598163798, -0.7252616193055038, 0.1801496551521485, -1.5140514229709021, -1.288260457541485, -1.3610877459759907, 1.7869981630955272, 0.05692588153120884, 0.07490690988116719, 1.3928879350198191, -0.09806224795777757, 1.3917376836181254, 0.3685419969405524, -0.49312306302326253, 1.4974261447856545, -0.3689397108877411, -0.9540378493340411, 0.059716412783843244, -0.772836360066239, -0.5305614528169932, -0.17876090805211597, 0.263152168058798, 0.215210090246341, 1.4589104195751386, -0.8539813979762173, -0.520159892769052, -0.20281248626718093, -0.8255111198294761, -0.2448982097759442, 0.1411939476815836, 0.2020771740684055, -1.0559833258091613, -1.379739410950068, -0.5006662209682377, -0.9316129498404765, -2.5090916216195764, -1.6150447193491557, 0.21338471972146297, 0.059999029120805035, -0.5109257729777709, -0.2268722852054298, 0.9983442362068591, 1.1897280575947924, 0.08124989687103532, 1.5414292850954545, 2.25475973576895, -1.111730112114252, -1.1144069288786815, 1.114299604592313, -0.8158645068290735, 0.10198790485908782, -1.7754246108252718, -1.3188149745985318, 1.4249768136759138, 0.5502074996929022, -0.2767388889975246, 0.27891988080565244, -1.2686878066632947, -0.7842613084336968, 0.6238673940138396, 1.9328429554944817, -0.17767907887367818, -2.127060962381966, -2.433293326123087, -1.304045908210188, -0.21858974062276904, -1.562354340089511, -1.1897706253336464, -0.03282994484540824, -0.1315262283778394, 0.8219686893831281, -0.6900875321833959, 0.9314720974852225, -0.12183184191563845, 2.2719105496178975, 0.5242306179214224], \"xaxis\": \"x\", \"yaxis\": \"y\"}, {\"line\": {\"color\": \"rgba(128, 128, 128, 1.0)\", \"dash\": \"solid\", \"shape\": \"linear\", \"width\": 1.3}, \"marker\": {\"size\": 2, \"symbol\": \"circle\"}, \"mode\": \"markers\", \"name\": \"A\", \"text\": \"\", \"type\": \"scatter\", \"x\": [-0.36259548072853875, -1.267870868137753, -1.0091462104932183, -1.0110585705993747, 2.0762507530042895, 1.4881995414855038, -0.26646024128323953, 0.11686341059463608, 2.21425720893623, -0.5021126738974973, -0.5257142342177114, -0.8571176187528038, -0.6092482759913191, -0.08686320715520057, 0.36105712954854563, 0.857438327524079, 0.21106363592610627, 0.11927464514128387, 1.9107081723052977, 0.11726142499280247, 0.15562165513999635, 0.17984294181999808, 0.42853832330408864, 1.4815379150422912, 0.9806138358460342, -0.8138989560324716, 0.45988968024795274, 0.40153056231663187, 0.3858907016348598, 0.29131595025742535, 0.0995816061413352, -0.44331204085049064, -2.001837597279621, -0.26869125348082745, -1.2968267576274637, 0.23345037240733127, -0.4671918976965135, -1.3841503189198816, -0.44954618641312155, 2.1093747200978687, 0.7018818255134294, -0.6782062082975912, 0.28486767051026746, -0.4252864697271743, -0.04075062367543577, -0.12190918216816145, 0.40667369197181796, 1.3213925954510657, -0.2122494509573179, 0.5281694741678093, 2.229210068526433, 1.9412193570376737, 2.036390856146347, -0.6758525191223714, 1.3283170028978404, 0.230437983084068, 0.6291741142455162, -1.0178739201970899, -0.8511990469438749, -0.1136179868905994, -0.44956504785723433, -1.4236153338809452, -2.5579823199668876, -0.313401670583427, 0.23394667100442418, -0.6917842239920057, 1.1369538575013078, 0.741038314372609, 0.3626852950666634, 0.9124505835466721, -1.2065960914879164, -0.5605693444006637, 1.32927682001344, 1.1453456267611448, -0.5839163862401376, 1.0888454997300678, 0.34451912392908945, -2.0268651130316186, -1.8916866438700928, 0.45964397046328515, 2.1584681393854055, -0.074148304304722, -0.6384037506621307, -0.17356245521649813, -1.0843504488078473, 0.6019912533839158, -0.0864499869337545, -0.6426495556702666, -0.9469150759863427, 1.1266066812979123, -1.0874503292056883, 0.6224487504191203, -0.21084575656209098, 2.1368173265227526, 0.4709018271403978, -2.1699468729069555, -0.9401270264259753, -0.3052356128961729, 1.006669632826666, 0.5873935540844651], \"xaxis\": \"x2\", \"y\": [0.40612300580052474, -0.4787833960912556, -0.5447183158159912, -0.20484654382912085, -0.7772111801679075, 0.7717397677804158, 1.223436162464635, 0.06772192697459302, 0.25456332871080894, 0.4048565702822834, -1.8148879337440906, -0.4388441296971543, -1.3924436354070289, 0.6956369095551673, -0.8667450625264915, -0.6310161646563152, 1.3003534836796835, 0.2083137339127651, -0.8988700584540924, -0.7232670196258586, 0.31903378409831123, -0.20316081187997037, 1.5874187069817816, 0.1923467175146929, 1.1187010598163798, -0.7252616193055038, 0.1801496551521485, -1.5140514229709021, -1.288260457541485, -1.3610877459759907, 1.7869981630955272, 0.05692588153120884, 0.07490690988116719, 1.3928879350198191, -0.09806224795777757, 1.3917376836181254, 0.3685419969405524, -0.49312306302326253, 1.4974261447856545, -0.3689397108877411, -0.9540378493340411, 0.059716412783843244, -0.772836360066239, -0.5305614528169932, -0.17876090805211597, 0.263152168058798, 0.215210090246341, 1.4589104195751386, -0.8539813979762173, -0.520159892769052, -0.20281248626718093, -0.8255111198294761, -0.2448982097759442, 0.1411939476815836, 0.2020771740684055, -1.0559833258091613, -1.379739410950068, -0.5006662209682377, -0.9316129498404765, -2.5090916216195764, -1.6150447193491557, 0.21338471972146297, 0.059999029120805035, -0.5109257729777709, -0.2268722852054298, 0.9983442362068591, 1.1897280575947924, 0.08124989687103532, 1.5414292850954545, 2.25475973576895, -1.111730112114252, -1.1144069288786815, 1.114299604592313, -0.8158645068290735, 0.10198790485908782, -1.7754246108252718, -1.3188149745985318, 1.4249768136759138, 0.5502074996929022, -0.2767388889975246, 0.27891988080565244, -1.2686878066632947, -0.7842613084336968, 0.6238673940138396, 1.9328429554944817, -0.17767907887367818, -2.127060962381966, -2.433293326123087, -1.304045908210188, -0.21858974062276904, -1.562354340089511, -1.1897706253336464, -0.03282994484540824, -0.1315262283778394, 0.8219686893831281, -0.6900875321833959, 0.9314720974852225, -0.12183184191563845, 2.2719105496178975, 0.5242306179214224], \"yaxis\": \"y2\"}, {\"line\": {\"color\": \"rgba(128, 128, 128, 1.0)\", \"dash\": \"solid\", \"shape\": \"linear\", \"width\": 1.3}, \"marker\": {\"size\": 2, \"symbol\": \"circle\"}, \"mode\": \"markers\", \"name\": \"A\", \"text\": \"\", \"type\": \"scatter\", \"x\": [0.7300999175680266, 0.9359512920652354, -0.46772878327023787, 0.1656215541316715, 0.9749059887235069, -0.6489966317203343, -0.4529938481673228, 2.457862691403099, 1.1500951419328709, -0.3961888626713159, 1.0320959236004006, -0.64804598418807, 1.4199355897959525, 0.31001717805344414, -1.1563896696168525, -0.37681566605169214, -0.041437465530773314, 1.1557619578669158, 0.12571611878884073, 0.1652122595506704, -0.636218601062783, 0.1500785174473584, 1.4145088404802788, -0.1925130409596141, 0.8778952612402464, -1.7415330965465772, -0.520524509281832, 1.0656521689412484, 0.21090134998581206, 0.06042914559657147, 1.8045345020877315, 0.3516215045020242, -0.7955694173030421, 0.5017330286337357, -0.3744622282424553, -0.08793779877707011, 0.9768924208169164, 1.3903896999832768, -0.2896771281573561, -1.570775817214485, -0.47071662220943644, 0.652294892191082, 0.45877268717023156, -0.9588887995588409, 1.3841487332315288, 1.0909082999527209, 0.21879189531072746, 0.6133897809744157, 0.8341847537277423, -1.2140180709886772, 0.2599685724388422, 1.2211687242528722, -0.9632472350552475, 0.5786800057745015, -1.0333760135002024, 3.0749027191828917, -0.4369437620171544, 0.4892783343764829, 0.19851273240257877, -1.0883959321328498, -0.2901029419889698, -0.11280797172915796, -0.21230189742014346, 0.34923059083591856, -0.2652379250139706, 0.1642795863151399, -2.034270442332297, 1.838864888237644, -0.5522879528266724, 0.45421264729395944, 0.4604265026794926, 1.7073774379388704, 0.4690264488716998, 1.117451602046788, -0.6019251619409158, -0.6074946211011368, -0.4877452061110409, -1.010759073987423, -1.6882387751844077, -0.6192199912377896, 1.397768042732685, -2.252389072675059, 0.1456954440636028, 1.9630312799831615, -0.645599318436487, 0.1514309872762784, -0.6091694402556801, -0.43940515041138384, 0.7084113578944723, -0.7558410910128958, 1.2050351786504445, 0.1648852821669212, 0.23931400278991122, 0.5404755161546214, -0.7616204026896706, -1.2712321463523877, 1.1921933964056537, 0.08286316086141651, -0.21122252044048428, -0.2228272088441778], \"xaxis\": \"x3\", \"y\": [0.40612300580052474, -0.4787833960912556, -0.5447183158159912, -0.20484654382912085, -0.7772111801679075, 0.7717397677804158, 1.223436162464635, 0.06772192697459302, 0.25456332871080894, 0.4048565702822834, -1.8148879337440906, -0.4388441296971543, -1.3924436354070289, 0.6956369095551673, -0.8667450625264915, -0.6310161646563152, 1.3003534836796835, 0.2083137339127651, -0.8988700584540924, -0.7232670196258586, 0.31903378409831123, -0.20316081187997037, 1.5874187069817816, 0.1923467175146929, 1.1187010598163798, -0.7252616193055038, 0.1801496551521485, -1.5140514229709021, -1.288260457541485, -1.3610877459759907, 1.7869981630955272, 0.05692588153120884, 0.07490690988116719, 1.3928879350198191, -0.09806224795777757, 1.3917376836181254, 0.3685419969405524, -0.49312306302326253, 1.4974261447856545, -0.3689397108877411, -0.9540378493340411, 0.059716412783843244, -0.772836360066239, -0.5305614528169932, -0.17876090805211597, 0.263152168058798, 0.215210090246341, 1.4589104195751386, -0.8539813979762173, -0.520159892769052, -0.20281248626718093, -0.8255111198294761, -0.2448982097759442, 0.1411939476815836, 0.2020771740684055, -1.0559833258091613, -1.379739410950068, -0.5006662209682377, -0.9316129498404765, -2.5090916216195764, -1.6150447193491557, 0.21338471972146297, 0.059999029120805035, -0.5109257729777709, -0.2268722852054298, 0.9983442362068591, 1.1897280575947924, 0.08124989687103532, 1.5414292850954545, 2.25475973576895, -1.111730112114252, -1.1144069288786815, 1.114299604592313, -0.8158645068290735, 0.10198790485908782, -1.7754246108252718, -1.3188149745985318, 1.4249768136759138, 0.5502074996929022, -0.2767388889975246, 0.27891988080565244, -1.2686878066632947, -0.7842613084336968, 0.6238673940138396, 1.9328429554944817, -0.17767907887367818, -2.127060962381966, -2.433293326123087, -1.304045908210188, -0.21858974062276904, -1.562354340089511, -1.1897706253336464, -0.03282994484540824, -0.1315262283778394, 0.8219686893831281, -0.6900875321833959, 0.9314720974852225, -0.12183184191563845, 2.2719105496178975, 0.5242306179214224], \"yaxis\": \"y3\"}, {\"line\": {\"color\": \"rgba(128, 128, 128, 1.0)\", \"dash\": \"solid\", \"shape\": \"linear\", \"width\": 1.3}, \"marker\": {\"size\": 2, \"symbol\": \"circle\"}, \"mode\": \"markers\", \"name\": \"A\", \"text\": \"\", \"type\": \"scatter\", \"x\": [-1.391714870652499, -1.3213972657278188, -1.0271811952353889, 0.9962234991310107, 1.2226397567161182, -0.8575377773299411, -0.30816228166520865, 0.1689329310912175, 0.015619846900224655, -0.6079788226247328, 0.2267230348814204, 0.37738756189305434, 0.5422727281889766, -0.4581361110535218, -0.9912642222559744, -0.39382604797004483, -0.7772906585003634, 0.04360371765437144, -0.9366631305697488, 1.215160883960563, 0.2805175133715498, -0.10352642616390643, -0.8370185658573583, -0.9776969405446144, 0.37902925007926175, 0.9520178386551742, -1.1174258856771637, -0.23437327734446223, 0.6256778491573876, 0.702691000579248, -1.35175457704018, -0.24970282560289528, 0.5099588492730112, 0.20292825131545483, -1.0545718162153166, -0.4451161798596223, -0.7240781254060488, 1.1018313795303531, 1.286538140555478, -1.7964720822677995, 0.06999744508310896, -0.09399988117214235, -1.324986856556876, -0.6011689610233697, -0.2178263922127269, -0.369357529356511, -2.09361973829419, -1.8556562850361287, 0.9673376235807268, 0.9324350813607561, 1.1789174080712659, -0.9053472149956552, -1.7561822398843974, -0.5819439646822652, -0.7242174506600142, 0.06950853321165076, 0.1164100011339079, 0.9918425731024703, -3.194015438643409, 0.5661954446322105, -1.73866974183632, -1.1557899433927266, 0.5891302018733651, 2.0273163252737847, -1.1282958500612157, 0.6336793733624113, -0.8568664555674879, -0.18339916081354923, -0.32372658311166286, 0.15659676849251153, 0.5313764768383269, -1.7645581551702592, -0.1943429703255851, -0.09112992548499607, -0.5225241201325945, -0.6525910552681894, -0.6221431146860016, -1.3648065781438927, 0.9079587489874479, 0.6069304589878313, -0.4183165445387682, -0.5732128542919855, -0.5406009293093037, -0.8972224037382185, 0.7715751366997439, 0.4502496948551281, -1.9035987691691223, -0.07378497247938647, -0.5700156135647453, -0.8601354011299753, -0.9649325204165909, -0.20467917818589496, 1.0405949629047302, 0.6528409838036306, -1.3357279796330868, -1.5045825200601821, -1.3508377921496526, 0.38427399183063565, 0.6155110792018796, 0.392099316732869], \"xaxis\": \"x4\", \"y\": [0.40612300580052474, -0.4787833960912556, -0.5447183158159912, -0.20484654382912085, -0.7772111801679075, 0.7717397677804158, 1.223436162464635, 0.06772192697459302, 0.25456332871080894, 0.4048565702822834, -1.8148879337440906, -0.4388441296971543, -1.3924436354070289, 0.6956369095551673, -0.8667450625264915, -0.6310161646563152, 1.3003534836796835, 0.2083137339127651, -0.8988700584540924, -0.7232670196258586, 0.31903378409831123, -0.20316081187997037, 1.5874187069817816, 0.1923467175146929, 1.1187010598163798, -0.7252616193055038, 0.1801496551521485, -1.5140514229709021, -1.288260457541485, -1.3610877459759907, 1.7869981630955272, 0.05692588153120884, 0.07490690988116719, 1.3928879350198191, -0.09806224795777757, 1.3917376836181254, 0.3685419969405524, -0.49312306302326253, 1.4974261447856545, -0.3689397108877411, -0.9540378493340411, 0.059716412783843244, -0.772836360066239, -0.5305614528169932, -0.17876090805211597, 0.263152168058798, 0.215210090246341, 1.4589104195751386, -0.8539813979762173, -0.520159892769052, -0.20281248626718093, -0.8255111198294761, -0.2448982097759442, 0.1411939476815836, 0.2020771740684055, -1.0559833258091613, -1.379739410950068, -0.5006662209682377, -0.9316129498404765, -2.5090916216195764, -1.6150447193491557, 0.21338471972146297, 0.059999029120805035, -0.5109257729777709, -0.2268722852054298, 0.9983442362068591, 1.1897280575947924, 0.08124989687103532, 1.5414292850954545, 2.25475973576895, -1.111730112114252, -1.1144069288786815, 1.114299604592313, -0.8158645068290735, 0.10198790485908782, -1.7754246108252718, -1.3188149745985318, 1.4249768136759138, 0.5502074996929022, -0.2767388889975246, 0.27891988080565244, -1.2686878066632947, -0.7842613084336968, 0.6238673940138396, 1.9328429554944817, -0.17767907887367818, -2.127060962381966, -2.433293326123087, -1.304045908210188, -0.21858974062276904, -1.562354340089511, -1.1897706253336464, -0.03282994484540824, -0.1315262283778394, 0.8219686893831281, -0.6900875321833959, 0.9314720974852225, -0.12183184191563845, 2.2719105496178975, 0.5242306179214224], \"yaxis\": \"y4\"}, {\"line\": {\"color\": \"rgba(128, 128, 128, 1.0)\", \"dash\": \"solid\", \"shape\": \"linear\", \"width\": 1.3}, \"marker\": {\"size\": 2, \"symbol\": \"circle\"}, \"mode\": \"markers\", \"name\": \"B\", \"text\": \"\", \"type\": \"scatter\", \"x\": [0.40612300580052474, -0.4787833960912556, -0.5447183158159912, -0.20484654382912085, -0.7772111801679075, 0.7717397677804158, 1.223436162464635, 0.06772192697459302, 0.25456332871080894, 0.4048565702822834, -1.8148879337440906, -0.4388441296971543, -1.3924436354070289, 0.6956369095551673, -0.8667450625264915, -0.6310161646563152, 1.3003534836796835, 0.2083137339127651, -0.8988700584540924, -0.7232670196258586, 0.31903378409831123, -0.20316081187997037, 1.5874187069817816, 0.1923467175146929, 1.1187010598163798, -0.7252616193055038, 0.1801496551521485, -1.5140514229709021, -1.288260457541485, -1.3610877459759907, 1.7869981630955272, 0.05692588153120884, 0.07490690988116719, 1.3928879350198191, -0.09806224795777757, 1.3917376836181254, 0.3685419969405524, -0.49312306302326253, 1.4974261447856545, -0.3689397108877411, -0.9540378493340411, 0.059716412783843244, -0.772836360066239, -0.5305614528169932, -0.17876090805211597, 0.263152168058798, 0.215210090246341, 1.4589104195751386, -0.8539813979762173, -0.520159892769052, -0.20281248626718093, -0.8255111198294761, -0.2448982097759442, 0.1411939476815836, 0.2020771740684055, -1.0559833258091613, -1.379739410950068, -0.5006662209682377, -0.9316129498404765, -2.5090916216195764, -1.6150447193491557, 0.21338471972146297, 0.059999029120805035, -0.5109257729777709, -0.2268722852054298, 0.9983442362068591, 1.1897280575947924, 0.08124989687103532, 1.5414292850954545, 2.25475973576895, -1.111730112114252, -1.1144069288786815, 1.114299604592313, -0.8158645068290735, 0.10198790485908782, -1.7754246108252718, -1.3188149745985318, 1.4249768136759138, 0.5502074996929022, -0.2767388889975246, 0.27891988080565244, -1.2686878066632947, -0.7842613084336968, 0.6238673940138396, 1.9328429554944817, -0.17767907887367818, -2.127060962381966, -2.433293326123087, -1.304045908210188, -0.21858974062276904, -1.562354340089511, -1.1897706253336464, -0.03282994484540824, -0.1315262283778394, 0.8219686893831281, -0.6900875321833959, 0.9314720974852225, -0.12183184191563845, 2.2719105496178975, 0.5242306179214224], \"xaxis\": \"x5\", \"y\": [-0.36259548072853875, -1.267870868137753, -1.0091462104932183, -1.0110585705993747, 2.0762507530042895, 1.4881995414855038, -0.26646024128323953, 0.11686341059463608, 2.21425720893623, -0.5021126738974973, -0.5257142342177114, -0.8571176187528038, -0.6092482759913191, -0.08686320715520057, 0.36105712954854563, 0.857438327524079, 0.21106363592610627, 0.11927464514128387, 1.9107081723052977, 0.11726142499280247, 0.15562165513999635, 0.17984294181999808, 0.42853832330408864, 1.4815379150422912, 0.9806138358460342, -0.8138989560324716, 0.45988968024795274, 0.40153056231663187, 0.3858907016348598, 0.29131595025742535, 0.0995816061413352, -0.44331204085049064, -2.001837597279621, -0.26869125348082745, -1.2968267576274637, 0.23345037240733127, -0.4671918976965135, -1.3841503189198816, -0.44954618641312155, 2.1093747200978687, 0.7018818255134294, -0.6782062082975912, 0.28486767051026746, -0.4252864697271743, -0.04075062367543577, -0.12190918216816145, 0.40667369197181796, 1.3213925954510657, -0.2122494509573179, 0.5281694741678093, 2.229210068526433, 1.9412193570376737, 2.036390856146347, -0.6758525191223714, 1.3283170028978404, 0.230437983084068, 0.6291741142455162, -1.0178739201970899, -0.8511990469438749, -0.1136179868905994, -0.44956504785723433, -1.4236153338809452, -2.5579823199668876, -0.313401670583427, 0.23394667100442418, -0.6917842239920057, 1.1369538575013078, 0.741038314372609, 0.3626852950666634, 0.9124505835466721, -1.2065960914879164, -0.5605693444006637, 1.32927682001344, 1.1453456267611448, -0.5839163862401376, 1.0888454997300678, 0.34451912392908945, -2.0268651130316186, -1.8916866438700928, 0.45964397046328515, 2.1584681393854055, -0.074148304304722, -0.6384037506621307, -0.17356245521649813, -1.0843504488078473, 0.6019912533839158, -0.0864499869337545, -0.6426495556702666, -0.9469150759863427, 1.1266066812979123, -1.0874503292056883, 0.6224487504191203, -0.21084575656209098, 2.1368173265227526, 0.4709018271403978, -2.1699468729069555, -0.9401270264259753, -0.3052356128961729, 1.006669632826666, 0.5873935540844651], \"yaxis\": \"y5\"}, {\"histfunc\": \"count\", \"histnorm\": \"\", \"marker\": {\"color\": \"rgba(55, 128, 191, 1.0)\", \"line\": {\"color\": \"#4D5663\", \"width\": 1.3}}, \"name\": \"B\", \"nbinsx\": 10, \"opacity\": 0.8, \"orientation\": \"v\", \"type\": \"histogram\", \"x\": [-0.36259548072853875, -1.267870868137753, -1.0091462104932183, -1.0110585705993747, 2.0762507530042895, 1.4881995414855038, -0.26646024128323953, 0.11686341059463608, 2.21425720893623, -0.5021126738974973, -0.5257142342177114, -0.8571176187528038, -0.6092482759913191, -0.08686320715520057, 0.36105712954854563, 0.857438327524079, 0.21106363592610627, 0.11927464514128387, 1.9107081723052977, 0.11726142499280247, 0.15562165513999635, 0.17984294181999808, 0.42853832330408864, 1.4815379150422912, 0.9806138358460342, -0.8138989560324716, 0.45988968024795274, 0.40153056231663187, 0.3858907016348598, 0.29131595025742535, 0.0995816061413352, -0.44331204085049064, -2.001837597279621, -0.26869125348082745, -1.2968267576274637, 0.23345037240733127, -0.4671918976965135, -1.3841503189198816, -0.44954618641312155, 2.1093747200978687, 0.7018818255134294, -0.6782062082975912, 0.28486767051026746, -0.4252864697271743, -0.04075062367543577, -0.12190918216816145, 0.40667369197181796, 1.3213925954510657, -0.2122494509573179, 0.5281694741678093, 2.229210068526433, 1.9412193570376737, 2.036390856146347, -0.6758525191223714, 1.3283170028978404, 0.230437983084068, 0.6291741142455162, -1.0178739201970899, -0.8511990469438749, -0.1136179868905994, -0.44956504785723433, -1.4236153338809452, -2.5579823199668876, -0.313401670583427, 0.23394667100442418, -0.6917842239920057, 1.1369538575013078, 0.741038314372609, 0.3626852950666634, 0.9124505835466721, -1.2065960914879164, -0.5605693444006637, 1.32927682001344, 1.1453456267611448, -0.5839163862401376, 1.0888454997300678, 0.34451912392908945, -2.0268651130316186, -1.8916866438700928, 0.45964397046328515, 2.1584681393854055, -0.074148304304722, -0.6384037506621307, -0.17356245521649813, -1.0843504488078473, 0.6019912533839158, -0.0864499869337545, -0.6426495556702666, -0.9469150759863427, 1.1266066812979123, -1.0874503292056883, 0.6224487504191203, -0.21084575656209098, 2.1368173265227526, 0.4709018271403978, -2.1699468729069555, -0.9401270264259753, -0.3052356128961729, 1.006669632826666, 0.5873935540844651], \"xaxis\": \"x6\", \"yaxis\": \"y6\"}, {\"line\": {\"color\": \"rgba(128, 128, 128, 1.0)\", \"dash\": \"solid\", \"shape\": \"linear\", \"width\": 1.3}, \"marker\": {\"size\": 2, \"symbol\": \"circle\"}, \"mode\": \"markers\", \"name\": \"B\", \"text\": \"\", \"type\": \"scatter\", \"x\": [0.7300999175680266, 0.9359512920652354, -0.46772878327023787, 0.1656215541316715, 0.9749059887235069, -0.6489966317203343, -0.4529938481673228, 2.457862691403099, 1.1500951419328709, -0.3961888626713159, 1.0320959236004006, -0.64804598418807, 1.4199355897959525, 0.31001717805344414, -1.1563896696168525, -0.37681566605169214, -0.041437465530773314, 1.1557619578669158, 0.12571611878884073, 0.1652122595506704, -0.636218601062783, 0.1500785174473584, 1.4145088404802788, -0.1925130409596141, 0.8778952612402464, -1.7415330965465772, -0.520524509281832, 1.0656521689412484, 0.21090134998581206, 0.06042914559657147, 1.8045345020877315, 0.3516215045020242, -0.7955694173030421, 0.5017330286337357, -0.3744622282424553, -0.08793779877707011, 0.9768924208169164, 1.3903896999832768, -0.2896771281573561, -1.570775817214485, -0.47071662220943644, 0.652294892191082, 0.45877268717023156, -0.9588887995588409, 1.3841487332315288, 1.0909082999527209, 0.21879189531072746, 0.6133897809744157, 0.8341847537277423, -1.2140180709886772, 0.2599685724388422, 1.2211687242528722, -0.9632472350552475, 0.5786800057745015, -1.0333760135002024, 3.0749027191828917, -0.4369437620171544, 0.4892783343764829, 0.19851273240257877, -1.0883959321328498, -0.2901029419889698, -0.11280797172915796, -0.21230189742014346, 0.34923059083591856, -0.2652379250139706, 0.1642795863151399, -2.034270442332297, 1.838864888237644, -0.5522879528266724, 0.45421264729395944, 0.4604265026794926, 1.7073774379388704, 0.4690264488716998, 1.117451602046788, -0.6019251619409158, -0.6074946211011368, -0.4877452061110409, -1.010759073987423, -1.6882387751844077, -0.6192199912377896, 1.397768042732685, -2.252389072675059, 0.1456954440636028, 1.9630312799831615, -0.645599318436487, 0.1514309872762784, -0.6091694402556801, -0.43940515041138384, 0.7084113578944723, -0.7558410910128958, 1.2050351786504445, 0.1648852821669212, 0.23931400278991122, 0.5404755161546214, -0.7616204026896706, -1.2712321463523877, 1.1921933964056537, 0.08286316086141651, -0.21122252044048428, -0.2228272088441778], \"xaxis\": \"x7\", \"y\": [-0.36259548072853875, -1.267870868137753, -1.0091462104932183, -1.0110585705993747, 2.0762507530042895, 1.4881995414855038, -0.26646024128323953, 0.11686341059463608, 2.21425720893623, -0.5021126738974973, -0.5257142342177114, -0.8571176187528038, -0.6092482759913191, -0.08686320715520057, 0.36105712954854563, 0.857438327524079, 0.21106363592610627, 0.11927464514128387, 1.9107081723052977, 0.11726142499280247, 0.15562165513999635, 0.17984294181999808, 0.42853832330408864, 1.4815379150422912, 0.9806138358460342, -0.8138989560324716, 0.45988968024795274, 0.40153056231663187, 0.3858907016348598, 0.29131595025742535, 0.0995816061413352, -0.44331204085049064, -2.001837597279621, -0.26869125348082745, -1.2968267576274637, 0.23345037240733127, -0.4671918976965135, -1.3841503189198816, -0.44954618641312155, 2.1093747200978687, 0.7018818255134294, -0.6782062082975912, 0.28486767051026746, -0.4252864697271743, -0.04075062367543577, -0.12190918216816145, 0.40667369197181796, 1.3213925954510657, -0.2122494509573179, 0.5281694741678093, 2.229210068526433, 1.9412193570376737, 2.036390856146347, -0.6758525191223714, 1.3283170028978404, 0.230437983084068, 0.6291741142455162, -1.0178739201970899, -0.8511990469438749, -0.1136179868905994, -0.44956504785723433, -1.4236153338809452, -2.5579823199668876, -0.313401670583427, 0.23394667100442418, -0.6917842239920057, 1.1369538575013078, 0.741038314372609, 0.3626852950666634, 0.9124505835466721, -1.2065960914879164, -0.5605693444006637, 1.32927682001344, 1.1453456267611448, -0.5839163862401376, 1.0888454997300678, 0.34451912392908945, -2.0268651130316186, -1.8916866438700928, 0.45964397046328515, 2.1584681393854055, -0.074148304304722, -0.6384037506621307, -0.17356245521649813, -1.0843504488078473, 0.6019912533839158, -0.0864499869337545, -0.6426495556702666, -0.9469150759863427, 1.1266066812979123, -1.0874503292056883, 0.6224487504191203, -0.21084575656209098, 2.1368173265227526, 0.4709018271403978, -2.1699468729069555, -0.9401270264259753, -0.3052356128961729, 1.006669632826666, 0.5873935540844651], \"yaxis\": \"y7\"}, {\"line\": {\"color\": \"rgba(128, 128, 128, 1.0)\", \"dash\": \"solid\", \"shape\": \"linear\", \"width\": 1.3}, \"marker\": {\"size\": 2, \"symbol\": \"circle\"}, \"mode\": \"markers\", \"name\": \"B\", \"text\": \"\", \"type\": \"scatter\", \"x\": [-1.391714870652499, -1.3213972657278188, -1.0271811952353889, 0.9962234991310107, 1.2226397567161182, -0.8575377773299411, -0.30816228166520865, 0.1689329310912175, 0.015619846900224655, -0.6079788226247328, 0.2267230348814204, 0.37738756189305434, 0.5422727281889766, -0.4581361110535218, -0.9912642222559744, -0.39382604797004483, -0.7772906585003634, 0.04360371765437144, -0.9366631305697488, 1.215160883960563, 0.2805175133715498, -0.10352642616390643, -0.8370185658573583, -0.9776969405446144, 0.37902925007926175, 0.9520178386551742, -1.1174258856771637, -0.23437327734446223, 0.6256778491573876, 0.702691000579248, -1.35175457704018, -0.24970282560289528, 0.5099588492730112, 0.20292825131545483, -1.0545718162153166, -0.4451161798596223, -0.7240781254060488, 1.1018313795303531, 1.286538140555478, -1.7964720822677995, 0.06999744508310896, -0.09399988117214235, -1.324986856556876, -0.6011689610233697, -0.2178263922127269, -0.369357529356511, -2.09361973829419, -1.8556562850361287, 0.9673376235807268, 0.9324350813607561, 1.1789174080712659, -0.9053472149956552, -1.7561822398843974, -0.5819439646822652, -0.7242174506600142, 0.06950853321165076, 0.1164100011339079, 0.9918425731024703, -3.194015438643409, 0.5661954446322105, -1.73866974183632, -1.1557899433927266, 0.5891302018733651, 2.0273163252737847, -1.1282958500612157, 0.6336793733624113, -0.8568664555674879, -0.18339916081354923, -0.32372658311166286, 0.15659676849251153, 0.5313764768383269, -1.7645581551702592, -0.1943429703255851, -0.09112992548499607, -0.5225241201325945, -0.6525910552681894, -0.6221431146860016, -1.3648065781438927, 0.9079587489874479, 0.6069304589878313, -0.4183165445387682, -0.5732128542919855, -0.5406009293093037, -0.8972224037382185, 0.7715751366997439, 0.4502496948551281, -1.9035987691691223, -0.07378497247938647, -0.5700156135647453, -0.8601354011299753, -0.9649325204165909, -0.20467917818589496, 1.0405949629047302, 0.6528409838036306, -1.3357279796330868, -1.5045825200601821, -1.3508377921496526, 0.38427399183063565, 0.6155110792018796, 0.392099316732869], \"xaxis\": \"x8\", \"y\": [-0.36259548072853875, -1.267870868137753, -1.0091462104932183, -1.0110585705993747, 2.0762507530042895, 1.4881995414855038, -0.26646024128323953, 0.11686341059463608, 2.21425720893623, -0.5021126738974973, -0.5257142342177114, -0.8571176187528038, -0.6092482759913191, -0.08686320715520057, 0.36105712954854563, 0.857438327524079, 0.21106363592610627, 0.11927464514128387, 1.9107081723052977, 0.11726142499280247, 0.15562165513999635, 0.17984294181999808, 0.42853832330408864, 1.4815379150422912, 0.9806138358460342, -0.8138989560324716, 0.45988968024795274, 0.40153056231663187, 0.3858907016348598, 0.29131595025742535, 0.0995816061413352, -0.44331204085049064, -2.001837597279621, -0.26869125348082745, -1.2968267576274637, 0.23345037240733127, -0.4671918976965135, -1.3841503189198816, -0.44954618641312155, 2.1093747200978687, 0.7018818255134294, -0.6782062082975912, 0.28486767051026746, -0.4252864697271743, -0.04075062367543577, -0.12190918216816145, 0.40667369197181796, 1.3213925954510657, -0.2122494509573179, 0.5281694741678093, 2.229210068526433, 1.9412193570376737, 2.036390856146347, -0.6758525191223714, 1.3283170028978404, 0.230437983084068, 0.6291741142455162, -1.0178739201970899, -0.8511990469438749, -0.1136179868905994, -0.44956504785723433, -1.4236153338809452, -2.5579823199668876, -0.313401670583427, 0.23394667100442418, -0.6917842239920057, 1.1369538575013078, 0.741038314372609, 0.3626852950666634, 0.9124505835466721, -1.2065960914879164, -0.5605693444006637, 1.32927682001344, 1.1453456267611448, -0.5839163862401376, 1.0888454997300678, 0.34451912392908945, -2.0268651130316186, -1.8916866438700928, 0.45964397046328515, 2.1584681393854055, -0.074148304304722, -0.6384037506621307, -0.17356245521649813, -1.0843504488078473, 0.6019912533839158, -0.0864499869337545, -0.6426495556702666, -0.9469150759863427, 1.1266066812979123, -1.0874503292056883, 0.6224487504191203, -0.21084575656209098, 2.1368173265227526, 0.4709018271403978, -2.1699468729069555, -0.9401270264259753, -0.3052356128961729, 1.006669632826666, 0.5873935540844651], \"yaxis\": \"y8\"}, {\"line\": {\"color\": \"rgba(128, 128, 128, 1.0)\", \"dash\": \"solid\", \"shape\": \"linear\", \"width\": 1.3}, \"marker\": {\"size\": 2, \"symbol\": \"circle\"}, \"mode\": \"markers\", \"name\": \"C\", \"text\": \"\", \"type\": \"scatter\", \"x\": [0.40612300580052474, -0.4787833960912556, -0.5447183158159912, -0.20484654382912085, -0.7772111801679075, 0.7717397677804158, 1.223436162464635, 0.06772192697459302, 0.25456332871080894, 0.4048565702822834, -1.8148879337440906, -0.4388441296971543, -1.3924436354070289, 0.6956369095551673, -0.8667450625264915, -0.6310161646563152, 1.3003534836796835, 0.2083137339127651, -0.8988700584540924, -0.7232670196258586, 0.31903378409831123, -0.20316081187997037, 1.5874187069817816, 0.1923467175146929, 1.1187010598163798, -0.7252616193055038, 0.1801496551521485, -1.5140514229709021, -1.288260457541485, -1.3610877459759907, 1.7869981630955272, 0.05692588153120884, 0.07490690988116719, 1.3928879350198191, -0.09806224795777757, 1.3917376836181254, 0.3685419969405524, -0.49312306302326253, 1.4974261447856545, -0.3689397108877411, -0.9540378493340411, 0.059716412783843244, -0.772836360066239, -0.5305614528169932, -0.17876090805211597, 0.263152168058798, 0.215210090246341, 1.4589104195751386, -0.8539813979762173, -0.520159892769052, -0.20281248626718093, -0.8255111198294761, -0.2448982097759442, 0.1411939476815836, 0.2020771740684055, -1.0559833258091613, -1.379739410950068, -0.5006662209682377, -0.9316129498404765, -2.5090916216195764, -1.6150447193491557, 0.21338471972146297, 0.059999029120805035, -0.5109257729777709, -0.2268722852054298, 0.9983442362068591, 1.1897280575947924, 0.08124989687103532, 1.5414292850954545, 2.25475973576895, -1.111730112114252, -1.1144069288786815, 1.114299604592313, -0.8158645068290735, 0.10198790485908782, -1.7754246108252718, -1.3188149745985318, 1.4249768136759138, 0.5502074996929022, -0.2767388889975246, 0.27891988080565244, -1.2686878066632947, -0.7842613084336968, 0.6238673940138396, 1.9328429554944817, -0.17767907887367818, -2.127060962381966, -2.433293326123087, -1.304045908210188, -0.21858974062276904, -1.562354340089511, -1.1897706253336464, -0.03282994484540824, -0.1315262283778394, 0.8219686893831281, -0.6900875321833959, 0.9314720974852225, -0.12183184191563845, 2.2719105496178975, 0.5242306179214224], \"xaxis\": \"x9\", \"y\": [0.7300999175680266, 0.9359512920652354, -0.46772878327023787, 0.1656215541316715, 0.9749059887235069, -0.6489966317203343, -0.4529938481673228, 2.457862691403099, 1.1500951419328709, -0.3961888626713159, 1.0320959236004006, -0.64804598418807, 1.4199355897959525, 0.31001717805344414, -1.1563896696168525, -0.37681566605169214, -0.041437465530773314, 1.1557619578669158, 0.12571611878884073, 0.1652122595506704, -0.636218601062783, 0.1500785174473584, 1.4145088404802788, -0.1925130409596141, 0.8778952612402464, -1.7415330965465772, -0.520524509281832, 1.0656521689412484, 0.21090134998581206, 0.06042914559657147, 1.8045345020877315, 0.3516215045020242, -0.7955694173030421, 0.5017330286337357, -0.3744622282424553, -0.08793779877707011, 0.9768924208169164, 1.3903896999832768, -0.2896771281573561, -1.570775817214485, -0.47071662220943644, 0.652294892191082, 0.45877268717023156, -0.9588887995588409, 1.3841487332315288, 1.0909082999527209, 0.21879189531072746, 0.6133897809744157, 0.8341847537277423, -1.2140180709886772, 0.2599685724388422, 1.2211687242528722, -0.9632472350552475, 0.5786800057745015, -1.0333760135002024, 3.0749027191828917, -0.4369437620171544, 0.4892783343764829, 0.19851273240257877, -1.0883959321328498, -0.2901029419889698, -0.11280797172915796, -0.21230189742014346, 0.34923059083591856, -0.2652379250139706, 0.1642795863151399, -2.034270442332297, 1.838864888237644, -0.5522879528266724, 0.45421264729395944, 0.4604265026794926, 1.7073774379388704, 0.4690264488716998, 1.117451602046788, -0.6019251619409158, -0.6074946211011368, -0.4877452061110409, -1.010759073987423, -1.6882387751844077, -0.6192199912377896, 1.397768042732685, -2.252389072675059, 0.1456954440636028, 1.9630312799831615, -0.645599318436487, 0.1514309872762784, -0.6091694402556801, -0.43940515041138384, 0.7084113578944723, -0.7558410910128958, 1.2050351786504445, 0.1648852821669212, 0.23931400278991122, 0.5404755161546214, -0.7616204026896706, -1.2712321463523877, 1.1921933964056537, 0.08286316086141651, -0.21122252044048428, -0.2228272088441778], \"yaxis\": \"y9\"}, {\"line\": {\"color\": \"rgba(128, 128, 128, 1.0)\", \"dash\": \"solid\", \"shape\": \"linear\", \"width\": 1.3}, \"marker\": {\"size\": 2, \"symbol\": \"circle\"}, \"mode\": \"markers\", \"name\": \"C\", \"text\": \"\", \"type\": \"scatter\", \"x\": [-0.36259548072853875, -1.267870868137753, -1.0091462104932183, -1.0110585705993747, 2.0762507530042895, 1.4881995414855038, -0.26646024128323953, 0.11686341059463608, 2.21425720893623, -0.5021126738974973, -0.5257142342177114, -0.8571176187528038, -0.6092482759913191, -0.08686320715520057, 0.36105712954854563, 0.857438327524079, 0.21106363592610627, 0.11927464514128387, 1.9107081723052977, 0.11726142499280247, 0.15562165513999635, 0.17984294181999808, 0.42853832330408864, 1.4815379150422912, 0.9806138358460342, -0.8138989560324716, 0.45988968024795274, 0.40153056231663187, 0.3858907016348598, 0.29131595025742535, 0.0995816061413352, -0.44331204085049064, -2.001837597279621, -0.26869125348082745, -1.2968267576274637, 0.23345037240733127, -0.4671918976965135, -1.3841503189198816, -0.44954618641312155, 2.1093747200978687, 0.7018818255134294, -0.6782062082975912, 0.28486767051026746, -0.4252864697271743, -0.04075062367543577, -0.12190918216816145, 0.40667369197181796, 1.3213925954510657, -0.2122494509573179, 0.5281694741678093, 2.229210068526433, 1.9412193570376737, 2.036390856146347, -0.6758525191223714, 1.3283170028978404, 0.230437983084068, 0.6291741142455162, -1.0178739201970899, -0.8511990469438749, -0.1136179868905994, -0.44956504785723433, -1.4236153338809452, -2.5579823199668876, -0.313401670583427, 0.23394667100442418, -0.6917842239920057, 1.1369538575013078, 0.741038314372609, 0.3626852950666634, 0.9124505835466721, -1.2065960914879164, -0.5605693444006637, 1.32927682001344, 1.1453456267611448, -0.5839163862401376, 1.0888454997300678, 0.34451912392908945, -2.0268651130316186, -1.8916866438700928, 0.45964397046328515, 2.1584681393854055, -0.074148304304722, -0.6384037506621307, -0.17356245521649813, -1.0843504488078473, 0.6019912533839158, -0.0864499869337545, -0.6426495556702666, -0.9469150759863427, 1.1266066812979123, -1.0874503292056883, 0.6224487504191203, -0.21084575656209098, 2.1368173265227526, 0.4709018271403978, -2.1699468729069555, -0.9401270264259753, -0.3052356128961729, 1.006669632826666, 0.5873935540844651], \"xaxis\": \"x10\", \"y\": [0.7300999175680266, 0.9359512920652354, -0.46772878327023787, 0.1656215541316715, 0.9749059887235069, -0.6489966317203343, -0.4529938481673228, 2.457862691403099, 1.1500951419328709, -0.3961888626713159, 1.0320959236004006, -0.64804598418807, 1.4199355897959525, 0.31001717805344414, -1.1563896696168525, -0.37681566605169214, -0.041437465530773314, 1.1557619578669158, 0.12571611878884073, 0.1652122595506704, -0.636218601062783, 0.1500785174473584, 1.4145088404802788, -0.1925130409596141, 0.8778952612402464, -1.7415330965465772, -0.520524509281832, 1.0656521689412484, 0.21090134998581206, 0.06042914559657147, 1.8045345020877315, 0.3516215045020242, -0.7955694173030421, 0.5017330286337357, -0.3744622282424553, -0.08793779877707011, 0.9768924208169164, 1.3903896999832768, -0.2896771281573561, -1.570775817214485, -0.47071662220943644, 0.652294892191082, 0.45877268717023156, -0.9588887995588409, 1.3841487332315288, 1.0909082999527209, 0.21879189531072746, 0.6133897809744157, 0.8341847537277423, -1.2140180709886772, 0.2599685724388422, 1.2211687242528722, -0.9632472350552475, 0.5786800057745015, -1.0333760135002024, 3.0749027191828917, -0.4369437620171544, 0.4892783343764829, 0.19851273240257877, -1.0883959321328498, -0.2901029419889698, -0.11280797172915796, -0.21230189742014346, 0.34923059083591856, -0.2652379250139706, 0.1642795863151399, -2.034270442332297, 1.838864888237644, -0.5522879528266724, 0.45421264729395944, 0.4604265026794926, 1.7073774379388704, 0.4690264488716998, 1.117451602046788, -0.6019251619409158, -0.6074946211011368, -0.4877452061110409, -1.010759073987423, -1.6882387751844077, -0.6192199912377896, 1.397768042732685, -2.252389072675059, 0.1456954440636028, 1.9630312799831615, -0.645599318436487, 0.1514309872762784, -0.6091694402556801, -0.43940515041138384, 0.7084113578944723, -0.7558410910128958, 1.2050351786504445, 0.1648852821669212, 0.23931400278991122, 0.5404755161546214, -0.7616204026896706, -1.2712321463523877, 1.1921933964056537, 0.08286316086141651, -0.21122252044048428, -0.2228272088441778], \"yaxis\": \"y10\"}, {\"histfunc\": \"count\", \"histnorm\": \"\", \"marker\": {\"color\": \"rgba(50, 171, 96, 1.0)\", \"line\": {\"color\": \"#4D5663\", \"width\": 1.3}}, \"name\": \"C\", \"nbinsx\": 10, \"opacity\": 0.8, \"orientation\": \"v\", \"type\": \"histogram\", \"x\": [0.7300999175680266, 0.9359512920652354, -0.46772878327023787, 0.1656215541316715, 0.9749059887235069, -0.6489966317203343, -0.4529938481673228, 2.457862691403099, 1.1500951419328709, -0.3961888626713159, 1.0320959236004006, -0.64804598418807, 1.4199355897959525, 0.31001717805344414, -1.1563896696168525, -0.37681566605169214, -0.041437465530773314, 1.1557619578669158, 0.12571611878884073, 0.1652122595506704, -0.636218601062783, 0.1500785174473584, 1.4145088404802788, -0.1925130409596141, 0.8778952612402464, -1.7415330965465772, -0.520524509281832, 1.0656521689412484, 0.21090134998581206, 0.06042914559657147, 1.8045345020877315, 0.3516215045020242, -0.7955694173030421, 0.5017330286337357, -0.3744622282424553, -0.08793779877707011, 0.9768924208169164, 1.3903896999832768, -0.2896771281573561, -1.570775817214485, -0.47071662220943644, 0.652294892191082, 0.45877268717023156, -0.9588887995588409, 1.3841487332315288, 1.0909082999527209, 0.21879189531072746, 0.6133897809744157, 0.8341847537277423, -1.2140180709886772, 0.2599685724388422, 1.2211687242528722, -0.9632472350552475, 0.5786800057745015, -1.0333760135002024, 3.0749027191828917, -0.4369437620171544, 0.4892783343764829, 0.19851273240257877, -1.0883959321328498, -0.2901029419889698, -0.11280797172915796, -0.21230189742014346, 0.34923059083591856, -0.2652379250139706, 0.1642795863151399, -2.034270442332297, 1.838864888237644, -0.5522879528266724, 0.45421264729395944, 0.4604265026794926, 1.7073774379388704, 0.4690264488716998, 1.117451602046788, -0.6019251619409158, -0.6074946211011368, -0.4877452061110409, -1.010759073987423, -1.6882387751844077, -0.6192199912377896, 1.397768042732685, -2.252389072675059, 0.1456954440636028, 1.9630312799831615, -0.645599318436487, 0.1514309872762784, -0.6091694402556801, -0.43940515041138384, 0.7084113578944723, -0.7558410910128958, 1.2050351786504445, 0.1648852821669212, 0.23931400278991122, 0.5404755161546214, -0.7616204026896706, -1.2712321463523877, 1.1921933964056537, 0.08286316086141651, -0.21122252044048428, -0.2228272088441778], \"xaxis\": \"x11\", \"yaxis\": \"y11\"}, {\"line\": {\"color\": \"rgba(128, 128, 128, 1.0)\", \"dash\": \"solid\", \"shape\": \"linear\", \"width\": 1.3}, \"marker\": {\"size\": 2, \"symbol\": \"circle\"}, \"mode\": \"markers\", \"name\": \"C\", \"text\": \"\", \"type\": \"scatter\", \"x\": [-1.391714870652499, -1.3213972657278188, -1.0271811952353889, 0.9962234991310107, 1.2226397567161182, -0.8575377773299411, -0.30816228166520865, 0.1689329310912175, 0.015619846900224655, -0.6079788226247328, 0.2267230348814204, 0.37738756189305434, 0.5422727281889766, -0.4581361110535218, -0.9912642222559744, -0.39382604797004483, -0.7772906585003634, 0.04360371765437144, -0.9366631305697488, 1.215160883960563, 0.2805175133715498, -0.10352642616390643, -0.8370185658573583, -0.9776969405446144, 0.37902925007926175, 0.9520178386551742, -1.1174258856771637, -0.23437327734446223, 0.6256778491573876, 0.702691000579248, -1.35175457704018, -0.24970282560289528, 0.5099588492730112, 0.20292825131545483, -1.0545718162153166, -0.4451161798596223, -0.7240781254060488, 1.1018313795303531, 1.286538140555478, -1.7964720822677995, 0.06999744508310896, -0.09399988117214235, -1.324986856556876, -0.6011689610233697, -0.2178263922127269, -0.369357529356511, -2.09361973829419, -1.8556562850361287, 0.9673376235807268, 0.9324350813607561, 1.1789174080712659, -0.9053472149956552, -1.7561822398843974, -0.5819439646822652, -0.7242174506600142, 0.06950853321165076, 0.1164100011339079, 0.9918425731024703, -3.194015438643409, 0.5661954446322105, -1.73866974183632, -1.1557899433927266, 0.5891302018733651, 2.0273163252737847, -1.1282958500612157, 0.6336793733624113, -0.8568664555674879, -0.18339916081354923, -0.32372658311166286, 0.15659676849251153, 0.5313764768383269, -1.7645581551702592, -0.1943429703255851, -0.09112992548499607, -0.5225241201325945, -0.6525910552681894, -0.6221431146860016, -1.3648065781438927, 0.9079587489874479, 0.6069304589878313, -0.4183165445387682, -0.5732128542919855, -0.5406009293093037, -0.8972224037382185, 0.7715751366997439, 0.4502496948551281, -1.9035987691691223, -0.07378497247938647, -0.5700156135647453, -0.8601354011299753, -0.9649325204165909, -0.20467917818589496, 1.0405949629047302, 0.6528409838036306, -1.3357279796330868, -1.5045825200601821, -1.3508377921496526, 0.38427399183063565, 0.6155110792018796, 0.392099316732869], \"xaxis\": \"x12\", \"y\": [0.7300999175680266, 0.9359512920652354, -0.46772878327023787, 0.1656215541316715, 0.9749059887235069, -0.6489966317203343, -0.4529938481673228, 2.457862691403099, 1.1500951419328709, -0.3961888626713159, 1.0320959236004006, -0.64804598418807, 1.4199355897959525, 0.31001717805344414, -1.1563896696168525, -0.37681566605169214, -0.041437465530773314, 1.1557619578669158, 0.12571611878884073, 0.1652122595506704, -0.636218601062783, 0.1500785174473584, 1.4145088404802788, -0.1925130409596141, 0.8778952612402464, -1.7415330965465772, -0.520524509281832, 1.0656521689412484, 0.21090134998581206, 0.06042914559657147, 1.8045345020877315, 0.3516215045020242, -0.7955694173030421, 0.5017330286337357, -0.3744622282424553, -0.08793779877707011, 0.9768924208169164, 1.3903896999832768, -0.2896771281573561, -1.570775817214485, -0.47071662220943644, 0.652294892191082, 0.45877268717023156, -0.9588887995588409, 1.3841487332315288, 1.0909082999527209, 0.21879189531072746, 0.6133897809744157, 0.8341847537277423, -1.2140180709886772, 0.2599685724388422, 1.2211687242528722, -0.9632472350552475, 0.5786800057745015, -1.0333760135002024, 3.0749027191828917, -0.4369437620171544, 0.4892783343764829, 0.19851273240257877, -1.0883959321328498, -0.2901029419889698, -0.11280797172915796, -0.21230189742014346, 0.34923059083591856, -0.2652379250139706, 0.1642795863151399, -2.034270442332297, 1.838864888237644, -0.5522879528266724, 0.45421264729395944, 0.4604265026794926, 1.7073774379388704, 0.4690264488716998, 1.117451602046788, -0.6019251619409158, -0.6074946211011368, -0.4877452061110409, -1.010759073987423, -1.6882387751844077, -0.6192199912377896, 1.397768042732685, -2.252389072675059, 0.1456954440636028, 1.9630312799831615, -0.645599318436487, 0.1514309872762784, -0.6091694402556801, -0.43940515041138384, 0.7084113578944723, -0.7558410910128958, 1.2050351786504445, 0.1648852821669212, 0.23931400278991122, 0.5404755161546214, -0.7616204026896706, -1.2712321463523877, 1.1921933964056537, 0.08286316086141651, -0.21122252044048428, -0.2228272088441778], \"yaxis\": \"y12\"}, {\"line\": {\"color\": \"rgba(128, 128, 128, 1.0)\", \"dash\": \"solid\", \"shape\": \"linear\", \"width\": 1.3}, \"marker\": {\"size\": 2, \"symbol\": \"circle\"}, \"mode\": \"markers\", \"name\": \"D\", \"text\": \"\", \"type\": \"scatter\", \"x\": [0.40612300580052474, -0.4787833960912556, -0.5447183158159912, -0.20484654382912085, -0.7772111801679075, 0.7717397677804158, 1.223436162464635, 0.06772192697459302, 0.25456332871080894, 0.4048565702822834, -1.8148879337440906, -0.4388441296971543, -1.3924436354070289, 0.6956369095551673, -0.8667450625264915, -0.6310161646563152, 1.3003534836796835, 0.2083137339127651, -0.8988700584540924, -0.7232670196258586, 0.31903378409831123, -0.20316081187997037, 1.5874187069817816, 0.1923467175146929, 1.1187010598163798, -0.7252616193055038, 0.1801496551521485, -1.5140514229709021, -1.288260457541485, -1.3610877459759907, 1.7869981630955272, 0.05692588153120884, 0.07490690988116719, 1.3928879350198191, -0.09806224795777757, 1.3917376836181254, 0.3685419969405524, -0.49312306302326253, 1.4974261447856545, -0.3689397108877411, -0.9540378493340411, 0.059716412783843244, -0.772836360066239, -0.5305614528169932, -0.17876090805211597, 0.263152168058798, 0.215210090246341, 1.4589104195751386, -0.8539813979762173, -0.520159892769052, -0.20281248626718093, -0.8255111198294761, -0.2448982097759442, 0.1411939476815836, 0.2020771740684055, -1.0559833258091613, -1.379739410950068, -0.5006662209682377, -0.9316129498404765, -2.5090916216195764, -1.6150447193491557, 0.21338471972146297, 0.059999029120805035, -0.5109257729777709, -0.2268722852054298, 0.9983442362068591, 1.1897280575947924, 0.08124989687103532, 1.5414292850954545, 2.25475973576895, -1.111730112114252, -1.1144069288786815, 1.114299604592313, -0.8158645068290735, 0.10198790485908782, -1.7754246108252718, -1.3188149745985318, 1.4249768136759138, 0.5502074996929022, -0.2767388889975246, 0.27891988080565244, -1.2686878066632947, -0.7842613084336968, 0.6238673940138396, 1.9328429554944817, -0.17767907887367818, -2.127060962381966, -2.433293326123087, -1.304045908210188, -0.21858974062276904, -1.562354340089511, -1.1897706253336464, -0.03282994484540824, -0.1315262283778394, 0.8219686893831281, -0.6900875321833959, 0.9314720974852225, -0.12183184191563845, 2.2719105496178975, 0.5242306179214224], \"xaxis\": \"x13\", \"y\": [-1.391714870652499, -1.3213972657278188, -1.0271811952353889, 0.9962234991310107, 1.2226397567161182, -0.8575377773299411, -0.30816228166520865, 0.1689329310912175, 0.015619846900224655, -0.6079788226247328, 0.2267230348814204, 0.37738756189305434, 0.5422727281889766, -0.4581361110535218, -0.9912642222559744, -0.39382604797004483, -0.7772906585003634, 0.04360371765437144, -0.9366631305697488, 1.215160883960563, 0.2805175133715498, -0.10352642616390643, -0.8370185658573583, -0.9776969405446144, 0.37902925007926175, 0.9520178386551742, -1.1174258856771637, -0.23437327734446223, 0.6256778491573876, 0.702691000579248, -1.35175457704018, -0.24970282560289528, 0.5099588492730112, 0.20292825131545483, -1.0545718162153166, -0.4451161798596223, -0.7240781254060488, 1.1018313795303531, 1.286538140555478, -1.7964720822677995, 0.06999744508310896, -0.09399988117214235, -1.324986856556876, -0.6011689610233697, -0.2178263922127269, -0.369357529356511, -2.09361973829419, -1.8556562850361287, 0.9673376235807268, 0.9324350813607561, 1.1789174080712659, -0.9053472149956552, -1.7561822398843974, -0.5819439646822652, -0.7242174506600142, 0.06950853321165076, 0.1164100011339079, 0.9918425731024703, -3.194015438643409, 0.5661954446322105, -1.73866974183632, -1.1557899433927266, 0.5891302018733651, 2.0273163252737847, -1.1282958500612157, 0.6336793733624113, -0.8568664555674879, -0.18339916081354923, -0.32372658311166286, 0.15659676849251153, 0.5313764768383269, -1.7645581551702592, -0.1943429703255851, -0.09112992548499607, -0.5225241201325945, -0.6525910552681894, -0.6221431146860016, -1.3648065781438927, 0.9079587489874479, 0.6069304589878313, -0.4183165445387682, -0.5732128542919855, -0.5406009293093037, -0.8972224037382185, 0.7715751366997439, 0.4502496948551281, -1.9035987691691223, -0.07378497247938647, -0.5700156135647453, -0.8601354011299753, -0.9649325204165909, -0.20467917818589496, 1.0405949629047302, 0.6528409838036306, -1.3357279796330868, -1.5045825200601821, -1.3508377921496526, 0.38427399183063565, 0.6155110792018796, 0.392099316732869], \"yaxis\": \"y13\"}, {\"line\": {\"color\": \"rgba(128, 128, 128, 1.0)\", \"dash\": \"solid\", \"shape\": \"linear\", \"width\": 1.3}, \"marker\": {\"size\": 2, \"symbol\": \"circle\"}, \"mode\": \"markers\", \"name\": \"D\", \"text\": \"\", \"type\": \"scatter\", \"x\": [-0.36259548072853875, -1.267870868137753, -1.0091462104932183, -1.0110585705993747, 2.0762507530042895, 1.4881995414855038, -0.26646024128323953, 0.11686341059463608, 2.21425720893623, -0.5021126738974973, -0.5257142342177114, -0.8571176187528038, -0.6092482759913191, -0.08686320715520057, 0.36105712954854563, 0.857438327524079, 0.21106363592610627, 0.11927464514128387, 1.9107081723052977, 0.11726142499280247, 0.15562165513999635, 0.17984294181999808, 0.42853832330408864, 1.4815379150422912, 0.9806138358460342, -0.8138989560324716, 0.45988968024795274, 0.40153056231663187, 0.3858907016348598, 0.29131595025742535, 0.0995816061413352, -0.44331204085049064, -2.001837597279621, -0.26869125348082745, -1.2968267576274637, 0.23345037240733127, -0.4671918976965135, -1.3841503189198816, -0.44954618641312155, 2.1093747200978687, 0.7018818255134294, -0.6782062082975912, 0.28486767051026746, -0.4252864697271743, -0.04075062367543577, -0.12190918216816145, 0.40667369197181796, 1.3213925954510657, -0.2122494509573179, 0.5281694741678093, 2.229210068526433, 1.9412193570376737, 2.036390856146347, -0.6758525191223714, 1.3283170028978404, 0.230437983084068, 0.6291741142455162, -1.0178739201970899, -0.8511990469438749, -0.1136179868905994, -0.44956504785723433, -1.4236153338809452, -2.5579823199668876, -0.313401670583427, 0.23394667100442418, -0.6917842239920057, 1.1369538575013078, 0.741038314372609, 0.3626852950666634, 0.9124505835466721, -1.2065960914879164, -0.5605693444006637, 1.32927682001344, 1.1453456267611448, -0.5839163862401376, 1.0888454997300678, 0.34451912392908945, -2.0268651130316186, -1.8916866438700928, 0.45964397046328515, 2.1584681393854055, -0.074148304304722, -0.6384037506621307, -0.17356245521649813, -1.0843504488078473, 0.6019912533839158, -0.0864499869337545, -0.6426495556702666, -0.9469150759863427, 1.1266066812979123, -1.0874503292056883, 0.6224487504191203, -0.21084575656209098, 2.1368173265227526, 0.4709018271403978, -2.1699468729069555, -0.9401270264259753, -0.3052356128961729, 1.006669632826666, 0.5873935540844651], \"xaxis\": \"x14\", \"y\": [-1.391714870652499, -1.3213972657278188, -1.0271811952353889, 0.9962234991310107, 1.2226397567161182, -0.8575377773299411, -0.30816228166520865, 0.1689329310912175, 0.015619846900224655, -0.6079788226247328, 0.2267230348814204, 0.37738756189305434, 0.5422727281889766, -0.4581361110535218, -0.9912642222559744, -0.39382604797004483, -0.7772906585003634, 0.04360371765437144, -0.9366631305697488, 1.215160883960563, 0.2805175133715498, -0.10352642616390643, -0.8370185658573583, -0.9776969405446144, 0.37902925007926175, 0.9520178386551742, -1.1174258856771637, -0.23437327734446223, 0.6256778491573876, 0.702691000579248, -1.35175457704018, -0.24970282560289528, 0.5099588492730112, 0.20292825131545483, -1.0545718162153166, -0.4451161798596223, -0.7240781254060488, 1.1018313795303531, 1.286538140555478, -1.7964720822677995, 0.06999744508310896, -0.09399988117214235, -1.324986856556876, -0.6011689610233697, -0.2178263922127269, -0.369357529356511, -2.09361973829419, -1.8556562850361287, 0.9673376235807268, 0.9324350813607561, 1.1789174080712659, -0.9053472149956552, -1.7561822398843974, -0.5819439646822652, -0.7242174506600142, 0.06950853321165076, 0.1164100011339079, 0.9918425731024703, -3.194015438643409, 0.5661954446322105, -1.73866974183632, -1.1557899433927266, 0.5891302018733651, 2.0273163252737847, -1.1282958500612157, 0.6336793733624113, -0.8568664555674879, -0.18339916081354923, -0.32372658311166286, 0.15659676849251153, 0.5313764768383269, -1.7645581551702592, -0.1943429703255851, -0.09112992548499607, -0.5225241201325945, -0.6525910552681894, -0.6221431146860016, -1.3648065781438927, 0.9079587489874479, 0.6069304589878313, -0.4183165445387682, -0.5732128542919855, -0.5406009293093037, -0.8972224037382185, 0.7715751366997439, 0.4502496948551281, -1.9035987691691223, -0.07378497247938647, -0.5700156135647453, -0.8601354011299753, -0.9649325204165909, -0.20467917818589496, 1.0405949629047302, 0.6528409838036306, -1.3357279796330868, -1.5045825200601821, -1.3508377921496526, 0.38427399183063565, 0.6155110792018796, 0.392099316732869], \"yaxis\": \"y14\"}, {\"line\": {\"color\": \"rgba(128, 128, 128, 1.0)\", \"dash\": \"solid\", \"shape\": \"linear\", \"width\": 1.3}, \"marker\": {\"size\": 2, \"symbol\": \"circle\"}, \"mode\": \"markers\", \"name\": \"D\", \"text\": \"\", \"type\": \"scatter\", \"x\": [0.7300999175680266, 0.9359512920652354, -0.46772878327023787, 0.1656215541316715, 0.9749059887235069, -0.6489966317203343, -0.4529938481673228, 2.457862691403099, 1.1500951419328709, -0.3961888626713159, 1.0320959236004006, -0.64804598418807, 1.4199355897959525, 0.31001717805344414, -1.1563896696168525, -0.37681566605169214, -0.041437465530773314, 1.1557619578669158, 0.12571611878884073, 0.1652122595506704, -0.636218601062783, 0.1500785174473584, 1.4145088404802788, -0.1925130409596141, 0.8778952612402464, -1.7415330965465772, -0.520524509281832, 1.0656521689412484, 0.21090134998581206, 0.06042914559657147, 1.8045345020877315, 0.3516215045020242, -0.7955694173030421, 0.5017330286337357, -0.3744622282424553, -0.08793779877707011, 0.9768924208169164, 1.3903896999832768, -0.2896771281573561, -1.570775817214485, -0.47071662220943644, 0.652294892191082, 0.45877268717023156, -0.9588887995588409, 1.3841487332315288, 1.0909082999527209, 0.21879189531072746, 0.6133897809744157, 0.8341847537277423, -1.2140180709886772, 0.2599685724388422, 1.2211687242528722, -0.9632472350552475, 0.5786800057745015, -1.0333760135002024, 3.0749027191828917, -0.4369437620171544, 0.4892783343764829, 0.19851273240257877, -1.0883959321328498, -0.2901029419889698, -0.11280797172915796, -0.21230189742014346, 0.34923059083591856, -0.2652379250139706, 0.1642795863151399, -2.034270442332297, 1.838864888237644, -0.5522879528266724, 0.45421264729395944, 0.4604265026794926, 1.7073774379388704, 0.4690264488716998, 1.117451602046788, -0.6019251619409158, -0.6074946211011368, -0.4877452061110409, -1.010759073987423, -1.6882387751844077, -0.6192199912377896, 1.397768042732685, -2.252389072675059, 0.1456954440636028, 1.9630312799831615, -0.645599318436487, 0.1514309872762784, -0.6091694402556801, -0.43940515041138384, 0.7084113578944723, -0.7558410910128958, 1.2050351786504445, 0.1648852821669212, 0.23931400278991122, 0.5404755161546214, -0.7616204026896706, -1.2712321463523877, 1.1921933964056537, 0.08286316086141651, -0.21122252044048428, -0.2228272088441778], \"xaxis\": \"x15\", \"y\": [-1.391714870652499, -1.3213972657278188, -1.0271811952353889, 0.9962234991310107, 1.2226397567161182, -0.8575377773299411, -0.30816228166520865, 0.1689329310912175, 0.015619846900224655, -0.6079788226247328, 0.2267230348814204, 0.37738756189305434, 0.5422727281889766, -0.4581361110535218, -0.9912642222559744, -0.39382604797004483, -0.7772906585003634, 0.04360371765437144, -0.9366631305697488, 1.215160883960563, 0.2805175133715498, -0.10352642616390643, -0.8370185658573583, -0.9776969405446144, 0.37902925007926175, 0.9520178386551742, -1.1174258856771637, -0.23437327734446223, 0.6256778491573876, 0.702691000579248, -1.35175457704018, -0.24970282560289528, 0.5099588492730112, 0.20292825131545483, -1.0545718162153166, -0.4451161798596223, -0.7240781254060488, 1.1018313795303531, 1.286538140555478, -1.7964720822677995, 0.06999744508310896, -0.09399988117214235, -1.324986856556876, -0.6011689610233697, -0.2178263922127269, -0.369357529356511, -2.09361973829419, -1.8556562850361287, 0.9673376235807268, 0.9324350813607561, 1.1789174080712659, -0.9053472149956552, -1.7561822398843974, -0.5819439646822652, -0.7242174506600142, 0.06950853321165076, 0.1164100011339079, 0.9918425731024703, -3.194015438643409, 0.5661954446322105, -1.73866974183632, -1.1557899433927266, 0.5891302018733651, 2.0273163252737847, -1.1282958500612157, 0.6336793733624113, -0.8568664555674879, -0.18339916081354923, -0.32372658311166286, 0.15659676849251153, 0.5313764768383269, -1.7645581551702592, -0.1943429703255851, -0.09112992548499607, -0.5225241201325945, -0.6525910552681894, -0.6221431146860016, -1.3648065781438927, 0.9079587489874479, 0.6069304589878313, -0.4183165445387682, -0.5732128542919855, -0.5406009293093037, -0.8972224037382185, 0.7715751366997439, 0.4502496948551281, -1.9035987691691223, -0.07378497247938647, -0.5700156135647453, -0.8601354011299753, -0.9649325204165909, -0.20467917818589496, 1.0405949629047302, 0.6528409838036306, -1.3357279796330868, -1.5045825200601821, -1.3508377921496526, 0.38427399183063565, 0.6155110792018796, 0.392099316732869], \"yaxis\": \"y15\"}, {\"histfunc\": \"count\", \"histnorm\": \"\", \"marker\": {\"color\": \"rgba(128, 0, 128, 1.0)\", \"line\": {\"color\": \"#4D5663\", \"width\": 1.3}}, \"name\": \"D\", \"nbinsx\": 10, \"opacity\": 0.8, \"orientation\": \"v\", \"type\": \"histogram\", \"x\": [-1.391714870652499, -1.3213972657278188, -1.0271811952353889, 0.9962234991310107, 1.2226397567161182, -0.8575377773299411, -0.30816228166520865, 0.1689329310912175, 0.015619846900224655, -0.6079788226247328, 0.2267230348814204, 0.37738756189305434, 0.5422727281889766, -0.4581361110535218, -0.9912642222559744, -0.39382604797004483, -0.7772906585003634, 0.04360371765437144, -0.9366631305697488, 1.215160883960563, 0.2805175133715498, -0.10352642616390643, -0.8370185658573583, -0.9776969405446144, 0.37902925007926175, 0.9520178386551742, -1.1174258856771637, -0.23437327734446223, 0.6256778491573876, 0.702691000579248, -1.35175457704018, -0.24970282560289528, 0.5099588492730112, 0.20292825131545483, -1.0545718162153166, -0.4451161798596223, -0.7240781254060488, 1.1018313795303531, 1.286538140555478, -1.7964720822677995, 0.06999744508310896, -0.09399988117214235, -1.324986856556876, -0.6011689610233697, -0.2178263922127269, -0.369357529356511, -2.09361973829419, -1.8556562850361287, 0.9673376235807268, 0.9324350813607561, 1.1789174080712659, -0.9053472149956552, -1.7561822398843974, -0.5819439646822652, -0.7242174506600142, 0.06950853321165076, 0.1164100011339079, 0.9918425731024703, -3.194015438643409, 0.5661954446322105, -1.73866974183632, -1.1557899433927266, 0.5891302018733651, 2.0273163252737847, -1.1282958500612157, 0.6336793733624113, -0.8568664555674879, -0.18339916081354923, -0.32372658311166286, 0.15659676849251153, 0.5313764768383269, -1.7645581551702592, -0.1943429703255851, -0.09112992548499607, -0.5225241201325945, -0.6525910552681894, -0.6221431146860016, -1.3648065781438927, 0.9079587489874479, 0.6069304589878313, -0.4183165445387682, -0.5732128542919855, -0.5406009293093037, -0.8972224037382185, 0.7715751366997439, 0.4502496948551281, -1.9035987691691223, -0.07378497247938647, -0.5700156135647453, -0.8601354011299753, -0.9649325204165909, -0.20467917818589496, 1.0405949629047302, 0.6528409838036306, -1.3357279796330868, -1.5045825200601821, -1.3508377921496526, 0.38427399183063565, 0.6155110792018796, 0.392099316732869], \"xaxis\": \"x16\", \"yaxis\": \"y16\"}],                        {\"bargap\": 0.02, \"legend\": {\"bgcolor\": \"#F5F6F9\", \"font\": {\"color\": \"#4D5663\"}}, \"paper_bgcolor\": \"#F5F6F9\", \"plot_bgcolor\": \"#F5F6F9\", \"showlegend\": false, \"template\": {\"data\": {\"bar\": [{\"error_x\": {\"color\": \"#2a3f5f\"}, \"error_y\": {\"color\": \"#2a3f5f\"}, \"marker\": {\"line\": {\"color\": \"#E5ECF6\", \"width\": 0.5}}, \"type\": \"bar\"}], \"barpolar\": [{\"marker\": {\"line\": {\"color\": \"#E5ECF6\", \"width\": 0.5}}, \"type\": \"barpolar\"}], \"carpet\": [{\"aaxis\": {\"endlinecolor\": \"#2a3f5f\", \"gridcolor\": \"white\", \"linecolor\": \"white\", \"minorgridcolor\": \"white\", \"startlinecolor\": \"#2a3f5f\"}, \"baxis\": {\"endlinecolor\": \"#2a3f5f\", \"gridcolor\": \"white\", \"linecolor\": \"white\", \"minorgridcolor\": \"white\", \"startlinecolor\": \"#2a3f5f\"}, \"type\": \"carpet\"}], \"choropleth\": [{\"colorbar\": {\"outlinewidth\": 0, \"ticks\": \"\"}, \"type\": \"choropleth\"}], \"contour\": [{\"colorbar\": {\"outlinewidth\": 0, \"ticks\": \"\"}, \"colorscale\": [[0.0, \"#0d0887\"], [0.1111111111111111, \"#46039f\"], [0.2222222222222222, \"#7201a8\"], [0.3333333333333333, \"#9c179e\"], [0.4444444444444444, \"#bd3786\"], [0.5555555555555556, \"#d8576b\"], [0.6666666666666666, \"#ed7953\"], [0.7777777777777778, \"#fb9f3a\"], [0.8888888888888888, \"#fdca26\"], [1.0, \"#f0f921\"]], \"type\": \"contour\"}], \"contourcarpet\": [{\"colorbar\": {\"outlinewidth\": 0, \"ticks\": \"\"}, \"type\": \"contourcarpet\"}], \"heatmap\": [{\"colorbar\": {\"outlinewidth\": 0, \"ticks\": \"\"}, \"colorscale\": [[0.0, \"#0d0887\"], [0.1111111111111111, \"#46039f\"], [0.2222222222222222, \"#7201a8\"], [0.3333333333333333, \"#9c179e\"], [0.4444444444444444, \"#bd3786\"], [0.5555555555555556, \"#d8576b\"], [0.6666666666666666, \"#ed7953\"], [0.7777777777777778, \"#fb9f3a\"], [0.8888888888888888, \"#fdca26\"], [1.0, \"#f0f921\"]], \"type\": \"heatmap\"}], \"heatmapgl\": [{\"colorbar\": {\"outlinewidth\": 0, \"ticks\": \"\"}, \"colorscale\": [[0.0, \"#0d0887\"], [0.1111111111111111, \"#46039f\"], [0.2222222222222222, \"#7201a8\"], [0.3333333333333333, \"#9c179e\"], [0.4444444444444444, \"#bd3786\"], [0.5555555555555556, \"#d8576b\"], [0.6666666666666666, \"#ed7953\"], [0.7777777777777778, \"#fb9f3a\"], [0.8888888888888888, \"#fdca26\"], [1.0, \"#f0f921\"]], \"type\": \"heatmapgl\"}], \"histogram\": [{\"marker\": {\"colorbar\": {\"outlinewidth\": 0, \"ticks\": \"\"}}, \"type\": \"histogram\"}], \"histogram2d\": [{\"colorbar\": {\"outlinewidth\": 0, \"ticks\": \"\"}, \"colorscale\": [[0.0, \"#0d0887\"], [0.1111111111111111, \"#46039f\"], [0.2222222222222222, \"#7201a8\"], [0.3333333333333333, \"#9c179e\"], [0.4444444444444444, \"#bd3786\"], [0.5555555555555556, \"#d8576b\"], [0.6666666666666666, \"#ed7953\"], [0.7777777777777778, \"#fb9f3a\"], [0.8888888888888888, \"#fdca26\"], [1.0, \"#f0f921\"]], \"type\": \"histogram2d\"}], \"histogram2dcontour\": [{\"colorbar\": {\"outlinewidth\": 0, \"ticks\": \"\"}, \"colorscale\": [[0.0, \"#0d0887\"], [0.1111111111111111, \"#46039f\"], [0.2222222222222222, \"#7201a8\"], [0.3333333333333333, \"#9c179e\"], [0.4444444444444444, \"#bd3786\"], [0.5555555555555556, \"#d8576b\"], [0.6666666666666666, \"#ed7953\"], [0.7777777777777778, \"#fb9f3a\"], [0.8888888888888888, \"#fdca26\"], [1.0, \"#f0f921\"]], \"type\": \"histogram2dcontour\"}], \"mesh3d\": [{\"colorbar\": {\"outlinewidth\": 0, \"ticks\": \"\"}, \"type\": \"mesh3d\"}], \"parcoords\": [{\"line\": {\"colorbar\": {\"outlinewidth\": 0, \"ticks\": \"\"}}, \"type\": \"parcoords\"}], \"pie\": [{\"automargin\": true, \"type\": \"pie\"}], \"scatter\": [{\"marker\": {\"colorbar\": {\"outlinewidth\": 0, \"ticks\": \"\"}}, \"type\": \"scatter\"}], \"scatter3d\": [{\"line\": {\"colorbar\": {\"outlinewidth\": 0, \"ticks\": \"\"}}, \"marker\": {\"colorbar\": {\"outlinewidth\": 0, \"ticks\": \"\"}}, \"type\": \"scatter3d\"}], \"scattercarpet\": [{\"marker\": {\"colorbar\": {\"outlinewidth\": 0, \"ticks\": \"\"}}, \"type\": \"scattercarpet\"}], \"scattergeo\": [{\"marker\": {\"colorbar\": {\"outlinewidth\": 0, \"ticks\": \"\"}}, \"type\": \"scattergeo\"}], \"scattergl\": [{\"marker\": {\"colorbar\": {\"outlinewidth\": 0, \"ticks\": \"\"}}, \"type\": \"scattergl\"}], \"scattermapbox\": [{\"marker\": {\"colorbar\": {\"outlinewidth\": 0, \"ticks\": \"\"}}, \"type\": \"scattermapbox\"}], \"scatterpolar\": [{\"marker\": {\"colorbar\": {\"outlinewidth\": 0, \"ticks\": \"\"}}, \"type\": \"scatterpolar\"}], \"scatterpolargl\": [{\"marker\": {\"colorbar\": {\"outlinewidth\": 0, \"ticks\": \"\"}}, \"type\": \"scatterpolargl\"}], \"scatterternary\": [{\"marker\": {\"colorbar\": {\"outlinewidth\": 0, \"ticks\": \"\"}}, \"type\": \"scatterternary\"}], \"surface\": [{\"colorbar\": {\"outlinewidth\": 0, \"ticks\": \"\"}, \"colorscale\": [[0.0, \"#0d0887\"], [0.1111111111111111, \"#46039f\"], [0.2222222222222222, \"#7201a8\"], [0.3333333333333333, \"#9c179e\"], [0.4444444444444444, \"#bd3786\"], [0.5555555555555556, \"#d8576b\"], [0.6666666666666666, \"#ed7953\"], [0.7777777777777778, \"#fb9f3a\"], [0.8888888888888888, \"#fdca26\"], [1.0, \"#f0f921\"]], \"type\": \"surface\"}], \"table\": [{\"cells\": {\"fill\": {\"color\": \"#EBF0F8\"}, \"line\": {\"color\": \"white\"}}, \"header\": {\"fill\": {\"color\": \"#C8D4E3\"}, \"line\": {\"color\": \"white\"}}, \"type\": \"table\"}]}, \"layout\": {\"annotationdefaults\": {\"arrowcolor\": \"#2a3f5f\", \"arrowhead\": 0, \"arrowwidth\": 1}, \"coloraxis\": {\"colorbar\": {\"outlinewidth\": 0, \"ticks\": \"\"}}, \"colorscale\": {\"diverging\": [[0, \"#8e0152\"], [0.1, \"#c51b7d\"], [0.2, \"#de77ae\"], [0.3, \"#f1b6da\"], [0.4, \"#fde0ef\"], [0.5, \"#f7f7f7\"], [0.6, \"#e6f5d0\"], [0.7, \"#b8e186\"], [0.8, \"#7fbc41\"], [0.9, \"#4d9221\"], [1, \"#276419\"]], \"sequential\": [[0.0, \"#0d0887\"], [0.1111111111111111, \"#46039f\"], [0.2222222222222222, \"#7201a8\"], [0.3333333333333333, \"#9c179e\"], [0.4444444444444444, \"#bd3786\"], [0.5555555555555556, \"#d8576b\"], [0.6666666666666666, \"#ed7953\"], [0.7777777777777778, \"#fb9f3a\"], [0.8888888888888888, \"#fdca26\"], [1.0, \"#f0f921\"]], \"sequentialminus\": [[0.0, \"#0d0887\"], [0.1111111111111111, \"#46039f\"], [0.2222222222222222, \"#7201a8\"], [0.3333333333333333, \"#9c179e\"], [0.4444444444444444, \"#bd3786\"], [0.5555555555555556, \"#d8576b\"], [0.6666666666666666, \"#ed7953\"], [0.7777777777777778, \"#fb9f3a\"], [0.8888888888888888, \"#fdca26\"], [1.0, \"#f0f921\"]]}, \"colorway\": [\"#636efa\", \"#EF553B\", \"#00cc96\", \"#ab63fa\", \"#FFA15A\", \"#19d3f3\", \"#FF6692\", \"#B6E880\", \"#FF97FF\", \"#FECB52\"], \"font\": {\"color\": \"#2a3f5f\"}, \"geo\": {\"bgcolor\": \"white\", \"lakecolor\": \"white\", \"landcolor\": \"#E5ECF6\", \"showlakes\": true, \"showland\": true, \"subunitcolor\": \"white\"}, \"hoverlabel\": {\"align\": \"left\"}, \"hovermode\": \"closest\", \"mapbox\": {\"style\": \"light\"}, \"paper_bgcolor\": \"white\", \"plot_bgcolor\": \"#E5ECF6\", \"polar\": {\"angularaxis\": {\"gridcolor\": \"white\", \"linecolor\": \"white\", \"ticks\": \"\"}, \"bgcolor\": \"#E5ECF6\", \"radialaxis\": {\"gridcolor\": \"white\", \"linecolor\": \"white\", \"ticks\": \"\"}}, \"scene\": {\"xaxis\": {\"backgroundcolor\": \"#E5ECF6\", \"gridcolor\": \"white\", \"gridwidth\": 2, \"linecolor\": \"white\", \"showbackground\": true, \"ticks\": \"\", \"zerolinecolor\": \"white\"}, \"yaxis\": {\"backgroundcolor\": \"#E5ECF6\", \"gridcolor\": \"white\", \"gridwidth\": 2, \"linecolor\": \"white\", \"showbackground\": true, \"ticks\": \"\", \"zerolinecolor\": \"white\"}, \"zaxis\": {\"backgroundcolor\": \"#E5ECF6\", \"gridcolor\": \"white\", \"gridwidth\": 2, \"linecolor\": \"white\", \"showbackground\": true, \"ticks\": \"\", \"zerolinecolor\": \"white\"}}, \"shapedefaults\": {\"line\": {\"color\": \"#2a3f5f\"}}, \"ternary\": {\"aaxis\": {\"gridcolor\": \"white\", \"linecolor\": \"white\", \"ticks\": \"\"}, \"baxis\": {\"gridcolor\": \"white\", \"linecolor\": \"white\", \"ticks\": \"\"}, \"bgcolor\": \"#E5ECF6\", \"caxis\": {\"gridcolor\": \"white\", \"linecolor\": \"white\", \"ticks\": \"\"}}, \"title\": {\"x\": 0.05}, \"xaxis\": {\"automargin\": true, \"gridcolor\": \"white\", \"linecolor\": \"white\", \"ticks\": \"\", \"title\": {\"standoff\": 15}, \"zerolinecolor\": \"white\", \"zerolinewidth\": 2}, \"yaxis\": {\"automargin\": true, \"gridcolor\": \"white\", \"linecolor\": \"white\", \"ticks\": \"\", \"title\": {\"standoff\": 15}, \"zerolinecolor\": \"white\", \"zerolinewidth\": 2}}}, \"title\": {\"font\": {\"color\": \"#4D5663\"}}, \"xaxis\": {\"anchor\": \"y\", \"domain\": [0.0, 0.2125], \"gridcolor\": \"#E1E5ED\", \"showgrid\": false, \"tickfont\": {\"color\": \"#4D5663\"}, \"title\": {\"font\": {\"color\": \"#4D5663\"}, \"text\": \"\"}, \"zerolinecolor\": \"#E1E5ED\"}, \"xaxis10\": {\"anchor\": \"y10\", \"domain\": [0.2625, 0.475], \"gridcolor\": \"#E1E5ED\", \"showgrid\": false, \"tickfont\": {\"color\": \"#4D5663\"}, \"title\": {\"font\": {\"color\": \"#4D5663\"}, \"text\": \"\"}, \"zerolinecolor\": \"#E1E5ED\"}, \"xaxis11\": {\"anchor\": \"y11\", \"domain\": [0.525, 0.7375], \"gridcolor\": \"#E1E5ED\", \"showgrid\": false, \"tickfont\": {\"color\": \"#4D5663\"}, \"title\": {\"font\": {\"color\": \"#4D5663\"}, \"text\": \"\"}, \"zerolinecolor\": \"#E1E5ED\"}, \"xaxis12\": {\"anchor\": \"y12\", \"domain\": [0.7875, 1.0], \"gridcolor\": \"#E1E5ED\", \"showgrid\": false, \"tickfont\": {\"color\": \"#4D5663\"}, \"title\": {\"font\": {\"color\": \"#4D5663\"}, \"text\": \"\"}, \"zerolinecolor\": \"#E1E5ED\"}, \"xaxis13\": {\"anchor\": \"y13\", \"domain\": [0.0, 0.2125], \"gridcolor\": \"#E1E5ED\", \"showgrid\": false, \"tickfont\": {\"color\": \"#4D5663\"}, \"title\": {\"font\": {\"color\": \"#4D5663\"}, \"text\": \"\"}, \"zerolinecolor\": \"#E1E5ED\"}, \"xaxis14\": {\"anchor\": \"y14\", \"domain\": [0.2625, 0.475], \"gridcolor\": \"#E1E5ED\", \"showgrid\": false, \"tickfont\": {\"color\": \"#4D5663\"}, \"title\": {\"font\": {\"color\": \"#4D5663\"}, \"text\": \"\"}, \"zerolinecolor\": \"#E1E5ED\"}, \"xaxis15\": {\"anchor\": \"y15\", \"domain\": [0.525, 0.7375], \"gridcolor\": \"#E1E5ED\", \"showgrid\": false, \"tickfont\": {\"color\": \"#4D5663\"}, \"title\": {\"font\": {\"color\": \"#4D5663\"}, \"text\": \"\"}, \"zerolinecolor\": \"#E1E5ED\"}, \"xaxis16\": {\"anchor\": \"y16\", \"domain\": [0.7875, 1.0], \"gridcolor\": \"#E1E5ED\", \"showgrid\": false, \"tickfont\": {\"color\": \"#4D5663\"}, \"title\": {\"font\": {\"color\": \"#4D5663\"}, \"text\": \"\"}, \"zerolinecolor\": \"#E1E5ED\"}, \"xaxis2\": {\"anchor\": \"y2\", \"domain\": [0.2625, 0.475], \"gridcolor\": \"#E1E5ED\", \"showgrid\": false, \"tickfont\": {\"color\": \"#4D5663\"}, \"title\": {\"font\": {\"color\": \"#4D5663\"}, \"text\": \"\"}, \"zerolinecolor\": \"#E1E5ED\"}, \"xaxis3\": {\"anchor\": \"y3\", \"domain\": [0.525, 0.7375], \"gridcolor\": \"#E1E5ED\", \"showgrid\": false, \"tickfont\": {\"color\": \"#4D5663\"}, \"title\": {\"font\": {\"color\": \"#4D5663\"}, \"text\": \"\"}, \"zerolinecolor\": \"#E1E5ED\"}, \"xaxis4\": {\"anchor\": \"y4\", \"domain\": [0.7875, 1.0], \"gridcolor\": \"#E1E5ED\", \"showgrid\": false, \"tickfont\": {\"color\": \"#4D5663\"}, \"title\": {\"font\": {\"color\": \"#4D5663\"}, \"text\": \"\"}, \"zerolinecolor\": \"#E1E5ED\"}, \"xaxis5\": {\"anchor\": \"y5\", \"domain\": [0.0, 0.2125], \"gridcolor\": \"#E1E5ED\", \"showgrid\": false, \"tickfont\": {\"color\": \"#4D5663\"}, \"title\": {\"font\": {\"color\": \"#4D5663\"}, \"text\": \"\"}, \"zerolinecolor\": \"#E1E5ED\"}, \"xaxis6\": {\"anchor\": \"y6\", \"domain\": [0.2625, 0.475], \"gridcolor\": \"#E1E5ED\", \"showgrid\": false, \"tickfont\": {\"color\": \"#4D5663\"}, \"title\": {\"font\": {\"color\": \"#4D5663\"}, \"text\": \"\"}, \"zerolinecolor\": \"#E1E5ED\"}, \"xaxis7\": {\"anchor\": \"y7\", \"domain\": [0.525, 0.7375], \"gridcolor\": \"#E1E5ED\", \"showgrid\": false, \"tickfont\": {\"color\": \"#4D5663\"}, \"title\": {\"font\": {\"color\": \"#4D5663\"}, \"text\": \"\"}, \"zerolinecolor\": \"#E1E5ED\"}, \"xaxis8\": {\"anchor\": \"y8\", \"domain\": [0.7875, 1.0], \"gridcolor\": \"#E1E5ED\", \"showgrid\": false, \"tickfont\": {\"color\": \"#4D5663\"}, \"title\": {\"font\": {\"color\": \"#4D5663\"}, \"text\": \"\"}, \"zerolinecolor\": \"#E1E5ED\"}, \"xaxis9\": {\"anchor\": \"y9\", \"domain\": [0.0, 0.2125], \"gridcolor\": \"#E1E5ED\", \"showgrid\": false, \"tickfont\": {\"color\": \"#4D5663\"}, \"title\": {\"font\": {\"color\": \"#4D5663\"}, \"text\": \"\"}, \"zerolinecolor\": \"#E1E5ED\"}, \"yaxis\": {\"anchor\": \"x\", \"domain\": [0.8025, 1.0], \"gridcolor\": \"#E1E5ED\", \"showgrid\": false, \"tickfont\": {\"color\": \"#4D5663\"}, \"title\": {\"font\": {\"color\": \"#4D5663\"}, \"text\": \"\"}, \"zerolinecolor\": \"#E1E5ED\"}, \"yaxis10\": {\"anchor\": \"x10\", \"domain\": [0.2675, 0.465], \"gridcolor\": \"#E1E5ED\", \"showgrid\": false, \"tickfont\": {\"color\": \"#4D5663\"}, \"title\": {\"font\": {\"color\": \"#4D5663\"}, \"text\": \"\"}, \"zerolinecolor\": \"#E1E5ED\"}, \"yaxis11\": {\"anchor\": \"x11\", \"domain\": [0.2675, 0.465], \"gridcolor\": \"#E1E5ED\", \"showgrid\": false, \"tickfont\": {\"color\": \"#4D5663\"}, \"title\": {\"font\": {\"color\": \"#4D5663\"}, \"text\": \"\"}, \"zerolinecolor\": \"#E1E5ED\"}, \"yaxis12\": {\"anchor\": \"x12\", \"domain\": [0.2675, 0.465], \"gridcolor\": \"#E1E5ED\", \"showgrid\": false, \"tickfont\": {\"color\": \"#4D5663\"}, \"title\": {\"font\": {\"color\": \"#4D5663\"}, \"text\": \"\"}, \"zerolinecolor\": \"#E1E5ED\"}, \"yaxis13\": {\"anchor\": \"x13\", \"domain\": [0.0, 0.1975], \"gridcolor\": \"#E1E5ED\", \"showgrid\": false, \"tickfont\": {\"color\": \"#4D5663\"}, \"title\": {\"font\": {\"color\": \"#4D5663\"}, \"text\": \"\"}, \"zerolinecolor\": \"#E1E5ED\"}, \"yaxis14\": {\"anchor\": \"x14\", \"domain\": [0.0, 0.1975], \"gridcolor\": \"#E1E5ED\", \"showgrid\": false, \"tickfont\": {\"color\": \"#4D5663\"}, \"title\": {\"font\": {\"color\": \"#4D5663\"}, \"text\": \"\"}, \"zerolinecolor\": \"#E1E5ED\"}, \"yaxis15\": {\"anchor\": \"x15\", \"domain\": [0.0, 0.1975], \"gridcolor\": \"#E1E5ED\", \"showgrid\": false, \"tickfont\": {\"color\": \"#4D5663\"}, \"title\": {\"font\": {\"color\": \"#4D5663\"}, \"text\": \"\"}, \"zerolinecolor\": \"#E1E5ED\"}, \"yaxis16\": {\"anchor\": \"x16\", \"domain\": [0.0, 0.1975], \"gridcolor\": \"#E1E5ED\", \"showgrid\": false, \"tickfont\": {\"color\": \"#4D5663\"}, \"title\": {\"font\": {\"color\": \"#4D5663\"}, \"text\": \"\"}, \"zerolinecolor\": \"#E1E5ED\"}, \"yaxis2\": {\"anchor\": \"x2\", \"domain\": [0.8025, 1.0], \"gridcolor\": \"#E1E5ED\", \"showgrid\": false, \"tickfont\": {\"color\": \"#4D5663\"}, \"title\": {\"font\": {\"color\": \"#4D5663\"}, \"text\": \"\"}, \"zerolinecolor\": \"#E1E5ED\"}, \"yaxis3\": {\"anchor\": \"x3\", \"domain\": [0.8025, 1.0], \"gridcolor\": \"#E1E5ED\", \"showgrid\": false, \"tickfont\": {\"color\": \"#4D5663\"}, \"title\": {\"font\": {\"color\": \"#4D5663\"}, \"text\": \"\"}, \"zerolinecolor\": \"#E1E5ED\"}, \"yaxis4\": {\"anchor\": \"x4\", \"domain\": [0.8025, 1.0], \"gridcolor\": \"#E1E5ED\", \"showgrid\": false, \"tickfont\": {\"color\": \"#4D5663\"}, \"title\": {\"font\": {\"color\": \"#4D5663\"}, \"text\": \"\"}, \"zerolinecolor\": \"#E1E5ED\"}, \"yaxis5\": {\"anchor\": \"x5\", \"domain\": [0.535, 0.7325], \"gridcolor\": \"#E1E5ED\", \"showgrid\": false, \"tickfont\": {\"color\": \"#4D5663\"}, \"title\": {\"font\": {\"color\": \"#4D5663\"}, \"text\": \"\"}, \"zerolinecolor\": \"#E1E5ED\"}, \"yaxis6\": {\"anchor\": \"x6\", \"domain\": [0.535, 0.7325], \"gridcolor\": \"#E1E5ED\", \"showgrid\": false, \"tickfont\": {\"color\": \"#4D5663\"}, \"title\": {\"font\": {\"color\": \"#4D5663\"}, \"text\": \"\"}, \"zerolinecolor\": \"#E1E5ED\"}, \"yaxis7\": {\"anchor\": \"x7\", \"domain\": [0.535, 0.7325], \"gridcolor\": \"#E1E5ED\", \"showgrid\": false, \"tickfont\": {\"color\": \"#4D5663\"}, \"title\": {\"font\": {\"color\": \"#4D5663\"}, \"text\": \"\"}, \"zerolinecolor\": \"#E1E5ED\"}, \"yaxis8\": {\"anchor\": \"x8\", \"domain\": [0.535, 0.7325], \"gridcolor\": \"#E1E5ED\", \"showgrid\": false, \"tickfont\": {\"color\": \"#4D5663\"}, \"title\": {\"font\": {\"color\": \"#4D5663\"}, \"text\": \"\"}, \"zerolinecolor\": \"#E1E5ED\"}, \"yaxis9\": {\"anchor\": \"x9\", \"domain\": [0.2675, 0.465], \"gridcolor\": \"#E1E5ED\", \"showgrid\": false, \"tickfont\": {\"color\": \"#4D5663\"}, \"title\": {\"font\": {\"color\": \"#4D5663\"}, \"text\": \"\"}, \"zerolinecolor\": \"#E1E5ED\"}},                        {\"showLink\": true, \"linkText\": \"Export to plot.ly\", \"plotlyServerURL\": \"https://plot.ly\", \"responsive\": true}                    ).then(function(){\n",
       "                            \n",
       "var gd = document.getElementById('cfe22154-321c-4975-b31a-770e9e85b9b6');\n",
       "var x = new MutationObserver(function (mutations, observer) {{\n",
       "        var display = window.getComputedStyle(gd).display;\n",
       "        if (!display || display === 'none') {{\n",
       "            console.log([gd, 'removed!']);\n",
       "            Plotly.purge(gd);\n",
       "            observer.disconnect();\n",
       "        }}\n",
       "}});\n",
       "\n",
       "// Listen for the removal of the full notebook cells\n",
       "var notebookContainer = gd.closest('#notebook-container');\n",
       "if (notebookContainer) {{\n",
       "    x.observe(notebookContainer, {childList: true});\n",
       "}}\n",
       "\n",
       "// Listen for the clearing of the current output cell\n",
       "var outputEl = gd.closest('.output');\n",
       "if (outputEl) {{\n",
       "    x.observe(outputEl, {childList: true});\n",
       "}}\n",
       "\n",
       "                        })                };                });            </script>        </div>"
      ]
     },
     "metadata": {},
     "output_type": "display_data"
    }
   ],
   "source": [
    "df.scatter_matrix()"
   ]
  },
  {
   "cell_type": "markdown",
   "metadata": {
    "collapsed": true
   },
   "source": [
    "# Great Job!"
   ]
  }
 ],
 "metadata": {
  "kernelspec": {
   "display_name": "Python 3",
   "language": "python",
   "name": "python3"
  },
  "language_info": {
   "codemirror_mode": {
    "name": "ipython",
    "version": 3
   },
   "file_extension": ".py",
   "mimetype": "text/x-python",
   "name": "python",
   "nbconvert_exporter": "python",
   "pygments_lexer": "ipython3",
   "version": "3.8.5"
  },
  "toc": {
   "base_numbering": 1,
   "nav_menu": {},
   "number_sections": true,
   "sideBar": true,
   "skip_h1_title": false,
   "title_cell": "Table of Contents",
   "title_sidebar": "Contents",
   "toc_cell": false,
   "toc_position": {},
   "toc_section_display": true,
   "toc_window_display": true
  }
 },
 "nbformat": 4,
 "nbformat_minor": 1
}
